{
 "nbformat": 4,
 "nbformat_minor": 2,
 "metadata": {
  "language_info": {
   "name": "python",
   "codemirror_mode": {
    "name": "ipython",
    "version": 3
   },
   "version": "3.6.5-final"
  },
  "orig_nbformat": 2,
  "file_extension": ".py",
  "mimetype": "text/x-python",
  "name": "python",
  "npconvert_exporter": "python",
  "pygments_lexer": "ipython3",
  "version": 3,
  "kernelspec": {
   "name": "python3",
   "display_name": "Python 3"
  }
 },
 "cells": [
  {
   "cell_type": "code",
   "execution_count": 15,
   "metadata": {},
   "outputs": [],
   "source": [
    "import time;\n",
    "import json;\n",
    "import pandas as pd"
   ]
  },
  {
   "cell_type": "code",
   "execution_count": 20,
   "metadata": {},
   "outputs": [],
   "source": [
    "xl = pd.ExcelFile('results.xlsx')\n",
    "'''\n",
    "print(xl.sheet_names) # Imprime as planilhas disponíveis no arquivo excel\n",
    "print(type(xl)) # Imprime o tipo de arquivo\n",
    "print(xl.sheet_names) # Imprime as planilhas\n",
    "'''\n",
    "df1 = xl.parse('prep'); # Recebe a planilha Dados ; não mostra o resultado"
   ]
  },
  {
   "cell_type": "code",
   "execution_count": 27,
   "metadata": {},
   "outputs": [
    {
     "output_type": "execute_result",
     "data": {
      "text/plain": "   Unnamed: 0  ATRIB_MAX1  ATRIB_DIST1       DIFP  MGP1  MGP2  MGP3  MGP4  \\\n0          11        0.95        120.0      0.363     0     1     1     1   \n1          12        0.05       1000.0      0.350     0     1     1     1   \n2          14        0.14        238.0      0.900     0     0     0     0   \n3          19        0.95          0.0  12774.000     1     0     0     1   \n4          20        0.95         40.0      1.100     1     0     0     1   \n\n   MGP5  MGP6  MGP7  MGP8  MGP9  MGP10  MGP11  MGP12  MGP13  MGP14  \n0     0     0     0     0     1      1      1      1      0      1  \n1     0     0     0     0     1      1      1      1      0      1  \n2     0     0     0     1     0      0      0      0      0      1  \n3     1     0     0     0     1      1      1      1      1      1  \n4     1     0     0     0     1      1      1      1      1      1  ",
      "text/html": "<div>\n<style scoped>\n    .dataframe tbody tr th:only-of-type {\n        vertical-align: middle;\n    }\n\n    .dataframe tbody tr th {\n        vertical-align: top;\n    }\n\n    .dataframe thead th {\n        text-align: right;\n    }\n</style>\n<table border=\"1\" class=\"dataframe\">\n  <thead>\n    <tr style=\"text-align: right;\">\n      <th></th>\n      <th>Unnamed: 0</th>\n      <th>ATRIB_MAX1</th>\n      <th>ATRIB_DIST1</th>\n      <th>DIFP</th>\n      <th>MGP1</th>\n      <th>MGP2</th>\n      <th>MGP3</th>\n      <th>MGP4</th>\n      <th>MGP5</th>\n      <th>MGP6</th>\n      <th>MGP7</th>\n      <th>MGP8</th>\n      <th>MGP9</th>\n      <th>MGP10</th>\n      <th>MGP11</th>\n      <th>MGP12</th>\n      <th>MGP13</th>\n      <th>MGP14</th>\n    </tr>\n  </thead>\n  <tbody>\n    <tr>\n      <th>0</th>\n      <td>11</td>\n      <td>0.95</td>\n      <td>120.0</td>\n      <td>0.363</td>\n      <td>0</td>\n      <td>1</td>\n      <td>1</td>\n      <td>1</td>\n      <td>0</td>\n      <td>0</td>\n      <td>0</td>\n      <td>0</td>\n      <td>1</td>\n      <td>1</td>\n      <td>1</td>\n      <td>1</td>\n      <td>0</td>\n      <td>1</td>\n    </tr>\n    <tr>\n      <th>1</th>\n      <td>12</td>\n      <td>0.05</td>\n      <td>1000.0</td>\n      <td>0.350</td>\n      <td>0</td>\n      <td>1</td>\n      <td>1</td>\n      <td>1</td>\n      <td>0</td>\n      <td>0</td>\n      <td>0</td>\n      <td>0</td>\n      <td>1</td>\n      <td>1</td>\n      <td>1</td>\n      <td>1</td>\n      <td>0</td>\n      <td>1</td>\n    </tr>\n    <tr>\n      <th>2</th>\n      <td>14</td>\n      <td>0.14</td>\n      <td>238.0</td>\n      <td>0.900</td>\n      <td>0</td>\n      <td>0</td>\n      <td>0</td>\n      <td>0</td>\n      <td>0</td>\n      <td>0</td>\n      <td>0</td>\n      <td>1</td>\n      <td>0</td>\n      <td>0</td>\n      <td>0</td>\n      <td>0</td>\n      <td>0</td>\n      <td>1</td>\n    </tr>\n    <tr>\n      <th>3</th>\n      <td>19</td>\n      <td>0.95</td>\n      <td>0.0</td>\n      <td>12774.000</td>\n      <td>1</td>\n      <td>0</td>\n      <td>0</td>\n      <td>1</td>\n      <td>1</td>\n      <td>0</td>\n      <td>0</td>\n      <td>0</td>\n      <td>1</td>\n      <td>1</td>\n      <td>1</td>\n      <td>1</td>\n      <td>1</td>\n      <td>1</td>\n    </tr>\n    <tr>\n      <th>4</th>\n      <td>20</td>\n      <td>0.95</td>\n      <td>40.0</td>\n      <td>1.100</td>\n      <td>1</td>\n      <td>0</td>\n      <td>0</td>\n      <td>1</td>\n      <td>1</td>\n      <td>0</td>\n      <td>0</td>\n      <td>0</td>\n      <td>1</td>\n      <td>1</td>\n      <td>1</td>\n      <td>1</td>\n      <td>1</td>\n      <td>1</td>\n    </tr>\n  </tbody>\n</table>\n</div>"
     },
     "metadata": {},
     "execution_count": 27
    }
   ],
   "source": [
    "df1.head()"
   ]
  },
  {
   "cell_type": "code",
   "execution_count": 31,
   "metadata": {},
   "outputs": [
    {
     "output_type": "execute_result",
     "data": {
      "text/plain": "Index(['Unnamed: 0', 'ATRIB_MAX1', 'ATRIB_DIST1', 'DIFP', 'MGP1', 'MGP2',\n       'MGP3', 'MGP4', 'MGP5', 'MGP6', 'MGP7', 'MGP8', 'MGP9', 'MGP10',\n       'MGP11', 'MGP12', 'MGP13', 'MGP14'],\n      dtype='object')"
     },
     "metadata": {},
     "execution_count": 31
    }
   ],
   "source": [
    "df1.columns"
   ]
  },
  {
   "cell_type": "code",
   "execution_count": 34,
   "metadata": {},
   "outputs": [],
   "source": [
    "df1=df1.drop(['Unnamed: 0'], axis=1)"
   ]
  },
  {
   "cell_type": "code",
   "execution_count": 36,
   "metadata": {},
   "outputs": [
    {
     "output_type": "execute_result",
     "data": {
      "text/plain": "   ATRIB_MAX1  ATRIB_DIST1       DIFP  MGP1  MGP2  MGP3  MGP4  MGP5  MGP6  \\\n0        0.95        120.0      0.363     0     1     1     1     0     0   \n1        0.05       1000.0      0.350     0     1     1     1     0     0   \n2        0.14        238.0      0.900     0     0     0     0     0     0   \n3        0.95          0.0  12774.000     1     0     0     1     1     0   \n4        0.95         40.0      1.100     1     0     0     1     1     0   \n\n   MGP7  MGP8  MGP9  MGP10  MGP11  MGP12  MGP13  MGP14  \n0     0     0     1      1      1      1      0      1  \n1     0     0     1      1      1      1      0      1  \n2     0     1     0      0      0      0      0      1  \n3     0     0     1      1      1      1      1      1  \n4     0     0     1      1      1      1      1      1  ",
      "text/html": "<div>\n<style scoped>\n    .dataframe tbody tr th:only-of-type {\n        vertical-align: middle;\n    }\n\n    .dataframe tbody tr th {\n        vertical-align: top;\n    }\n\n    .dataframe thead th {\n        text-align: right;\n    }\n</style>\n<table border=\"1\" class=\"dataframe\">\n  <thead>\n    <tr style=\"text-align: right;\">\n      <th></th>\n      <th>ATRIB_MAX1</th>\n      <th>ATRIB_DIST1</th>\n      <th>DIFP</th>\n      <th>MGP1</th>\n      <th>MGP2</th>\n      <th>MGP3</th>\n      <th>MGP4</th>\n      <th>MGP5</th>\n      <th>MGP6</th>\n      <th>MGP7</th>\n      <th>MGP8</th>\n      <th>MGP9</th>\n      <th>MGP10</th>\n      <th>MGP11</th>\n      <th>MGP12</th>\n      <th>MGP13</th>\n      <th>MGP14</th>\n    </tr>\n  </thead>\n  <tbody>\n    <tr>\n      <th>0</th>\n      <td>0.95</td>\n      <td>120.0</td>\n      <td>0.363</td>\n      <td>0</td>\n      <td>1</td>\n      <td>1</td>\n      <td>1</td>\n      <td>0</td>\n      <td>0</td>\n      <td>0</td>\n      <td>0</td>\n      <td>1</td>\n      <td>1</td>\n      <td>1</td>\n      <td>1</td>\n      <td>0</td>\n      <td>1</td>\n    </tr>\n    <tr>\n      <th>1</th>\n      <td>0.05</td>\n      <td>1000.0</td>\n      <td>0.350</td>\n      <td>0</td>\n      <td>1</td>\n      <td>1</td>\n      <td>1</td>\n      <td>0</td>\n      <td>0</td>\n      <td>0</td>\n      <td>0</td>\n      <td>1</td>\n      <td>1</td>\n      <td>1</td>\n      <td>1</td>\n      <td>0</td>\n      <td>1</td>\n    </tr>\n    <tr>\n      <th>2</th>\n      <td>0.14</td>\n      <td>238.0</td>\n      <td>0.900</td>\n      <td>0</td>\n      <td>0</td>\n      <td>0</td>\n      <td>0</td>\n      <td>0</td>\n      <td>0</td>\n      <td>0</td>\n      <td>1</td>\n      <td>0</td>\n      <td>0</td>\n      <td>0</td>\n      <td>0</td>\n      <td>0</td>\n      <td>1</td>\n    </tr>\n    <tr>\n      <th>3</th>\n      <td>0.95</td>\n      <td>0.0</td>\n      <td>12774.000</td>\n      <td>1</td>\n      <td>0</td>\n      <td>0</td>\n      <td>1</td>\n      <td>1</td>\n      <td>0</td>\n      <td>0</td>\n      <td>0</td>\n      <td>1</td>\n      <td>1</td>\n      <td>1</td>\n      <td>1</td>\n      <td>1</td>\n      <td>1</td>\n    </tr>\n    <tr>\n      <th>4</th>\n      <td>0.95</td>\n      <td>40.0</td>\n      <td>1.100</td>\n      <td>1</td>\n      <td>0</td>\n      <td>0</td>\n      <td>1</td>\n      <td>1</td>\n      <td>0</td>\n      <td>0</td>\n      <td>0</td>\n      <td>1</td>\n      <td>1</td>\n      <td>1</td>\n      <td>1</td>\n      <td>1</td>\n      <td>1</td>\n    </tr>\n  </tbody>\n</table>\n</div>"
     },
     "metadata": {},
     "execution_count": 36
    }
   ],
   "source": [
    "df1.head()"
   ]
  },
  {
   "cell_type": "code",
   "execution_count": 41,
   "metadata": {},
   "outputs": [],
   "source": [
    "# out = df1.to_json(orient='records')[1:-1].replace('},{', '} {')\n",
    "out = df1.to_json(orient='records')[1:-1]"
   ]
  },
  {
   "cell_type": "code",
   "execution_count": 42,
   "metadata": {},
   "outputs": [
    {
     "output_type": "execute_result",
     "data": {
      "text/plain": "'{\"ATRIB_MAX1\":0.95,\"ATRIB_DIST1\":120.0,\"DIFP\":0.363,\"MGP1\":0,\"MGP2\":1,\"MGP3\":1,\"MGP4\":1,\"MGP5\":0,\"MGP6\":0,\"MGP7\":0,\"MGP8\":0,\"MGP9\":1,\"MGP10\":1,\"MGP11\":1,\"MGP12\":1,\"MGP13\":0,\"MGP14\":1},{\"ATRIB_MAX1\":0.05,\"ATRIB_DIST1\":1000.0,\"DIFP\":0.35,\"MGP1\":0,\"MGP2\":1,\"MGP3\":1,\"MGP4\":1,\"MGP5\":0,\"MGP6\":0,\"MGP7\":0,\"MGP8\":0,\"MGP9\":1,\"MGP10\":1,\"MGP11\":1,\"MGP12\":1,\"MGP13\":0,\"MGP14\":1},{\"ATRIB_MAX1\":0.14,\"ATRIB_DIST1\":238.0,\"DIFP\":0.9,\"MGP1\":0,\"MGP2\":0,\"MGP3\":0,\"MGP4\":0,\"MGP5\":0,\"MGP6\":0,\"MGP7\":0,\"MGP8\":1,\"MGP9\":0,\"MGP10\":0,\"MGP11\":0,\"MGP12\":0,\"MGP13\":0,\"MGP14\":1},{\"ATRIB_MAX1\":0.95,\"ATRIB_DIST1\":0.0,\"DIFP\":12774.0,\"MGP1\":1,\"MGP2\":0,\"MGP3\":0,\"MGP4\":1,\"MGP5\":1,\"MGP6\":0,\"MGP7\":0,\"MGP8\":0,\"MGP9\":1,\"MGP10\":1,\"MGP11\":1,\"MGP12\":1,\"MGP13\":1,\"MGP14\":1},{\"ATRIB_MAX1\":0.95,\"ATRIB_DIST1\":40.0,\"DIFP\":1.1,\"MGP1\":1,\"MGP2\":0,\"MGP3\":0,\"MGP4\":1,\"MGP5\":1,\"MGP6\":0,\"MGP7\":0,\"MGP8\":0,\"MGP9\":1,\"MGP10\":1,\"MGP11\":1,\"MGP12\":1,\"MGP13\":1,\"MGP14\":1},{\"ATRIB_MAX1\":0.23,\"ATRIB_DIST1\":35.0,\"DIFP\":0.094,\"MGP1\":1,\"MGP2\":1,\"MGP3\":0,\"MGP4\":1,\"MGP5\":1,\"MGP6\":1,\"MGP7\":1,\"MGP8\":1,\"MGP9\":1,\"MGP10\":1,\"MGP11\":1,\"MGP12\":1,\"MGP13\":1,\"MGP14\":1},{\"ATRIB_MAX1\":0.05,\"ATRIB_DIST1\":488.0,\"DIFP\":0.17,\"MGP1\":0,\"MGP2\":0,\"MGP3\":0,\"MGP4\":0,\"MGP5\":1,\"MGP6\":0,\"MGP7\":0,\"MGP8\":0,\"MGP9\":1,\"MGP10\":0,\"MGP11\":0,\"MGP12\":0,\"MGP13\":0,\"MGP14\":0},{\"ATRIB_MAX1\":0.05,\"ATRIB_DIST1\":1000.0,\"DIFP\":0.235,\"MGP1\":0,\"MGP2\":0,\"MGP3\":0,\"MGP4\":0,\"MGP5\":1,\"MGP6\":0,\"MGP7\":0,\"MGP8\":0,\"MGP9\":1,\"MGP10\":0,\"MGP11\":0,\"MGP12\":0,\"MGP13\":0,\"MGP14\":0},{\"ATRIB_MAX1\":0.05,\"ATRIB_DIST1\":1000.0,\"DIFP\":0.53,\"MGP1\":0,\"MGP2\":0,\"MGP3\":0,\"MGP4\":0,\"MGP5\":0,\"MGP6\":1,\"MGP7\":0,\"MGP8\":1,\"MGP9\":1,\"MGP10\":0,\"MGP11\":0,\"MGP12\":0,\"MGP13\":0,\"MGP14\":1},{\"ATRIB_MAX1\":0.28,\"ATRIB_DIST1\":1000.0,\"DIFP\":0.57,\"MGP1\":0,\"MGP2\":0,\"MGP3\":0,\"MGP4\":0,\"MGP5\":0,\"MGP6\":1,\"MGP7\":0,\"MGP8\":1,\"MGP9\":1,\"MGP10\":0,\"MGP11\":0,\"MGP12\":0,\"MGP13\":0,\"MGP14\":1},{\"ATRIB_MAX1\":0.26,\"ATRIB_DIST1\":205.0,\"DIFP\":0.673,\"MGP1\":0,\"MGP2\":0,\"MGP3\":0,\"MGP4\":0,\"MGP5\":0,\"MGP6\":0,\"MGP7\":0,\"MGP8\":1,\"MGP9\":1,\"MGP10\":0,\"MGP11\":1,\"MGP12\":1,\"MGP13\":0,\"MGP14\":1},{\"ATRIB_MAX1\":0.91,\"ATRIB_DIST1\":50.0,\"DIFP\":0.667,\"MGP1\":0,\"MGP2\":0,\"MGP3\":0,\"MGP4\":0,\"MGP5\":0,\"MGP6\":0,\"MGP7\":0,\"MGP8\":1,\"MGP9\":1,\"MGP10\":0,\"MGP11\":1,\"MGP12\":1,\"MGP13\":0,\"MGP14\":1},{\"ATRIB_MAX1\":0.95,\"ATRIB_DIST1\":350.0,\"DIFP\":1.77,\"MGP1\":1,\"MGP2\":1,\"MGP3\":0,\"MGP4\":0,\"MGP5\":0,\"MGP6\":0,\"MGP7\":0,\"MGP8\":1,\"MGP9\":1,\"MGP10\":1,\"MGP11\":0,\"MGP12\":1,\"MGP13\":0,\"MGP14\":1},{\"ATRIB_MAX1\":0.07,\"ATRIB_DIST1\":1000.0,\"DIFP\":1.01,\"MGP1\":0,\"MGP2\":1,\"MGP3\":0,\"MGP4\":1,\"MGP5\":0,\"MGP6\":1,\"MGP7\":1,\"MGP8\":0,\"MGP9\":1,\"MGP10\":1,\"MGP11\":1,\"MGP12\":1,\"MGP13\":0,\"MGP14\":1},{\"ATRIB_MAX1\":0.95,\"ATRIB_DIST1\":145.0,\"DIFP\":1.29,\"MGP1\":0,\"MGP2\":1,\"MGP3\":0,\"MGP4\":1,\"MGP5\":0,\"MGP6\":1,\"MGP7\":1,\"MGP8\":0,\"MGP9\":1,\"MGP10\":1,\"MGP11\":1,\"MGP12\":1,\"MGP13\":0,\"MGP14\":1},{\"ATRIB_MAX1\":0.95,\"ATRIB_DIST1\":302.0,\"DIFP\":0.62,\"MGP1\":1,\"MGP2\":1,\"MGP3\":0,\"MGP4\":1,\"MGP5\":1,\"MGP6\":1,\"MGP7\":1,\"MGP8\":1,\"MGP9\":1,\"MGP10\":1,\"MGP11\":1,\"MGP12\":1,\"MGP13\":1,\"MGP14\":1},{\"ATRIB_MAX1\":0.95,\"ATRIB_DIST1\":190.0,\"DIFP\":0.53,\"MGP1\":1,\"MGP2\":1,\"MGP3\":0,\"MGP4\":1,\"MGP5\":1,\"MGP6\":1,\"MGP7\":1,\"MGP8\":1,\"MGP9\":1,\"MGP10\":1,\"MGP11\":1,\"MGP12\":1,\"MGP13\":1,\"MGP14\":1},{\"ATRIB_MAX1\":0.92,\"ATRIB_DIST1\":150.0,\"DIFP\":0.74,\"MGP1\":1,\"MGP2\":1,\"MGP3\":0,\"MGP4\":1,\"MGP5\":1,\"MGP6\":1,\"MGP7\":1,\"MGP8\":1,\"MGP9\":1,\"MGP10\":1,\"MGP11\":1,\"MGP12\":1,\"MGP13\":1,\"MGP14\":1},{\"ATRIB_MAX1\":0.94,\"ATRIB_DIST1\":201.0,\"DIFP\":0.39,\"MGP1\":1,\"MGP2\":1,\"MGP3\":0,\"MGP4\":1,\"MGP5\":1,\"MGP6\":1,\"MGP7\":1,\"MGP8\":1,\"MGP9\":1,\"MGP10\":1,\"MGP11\":1,\"MGP12\":1,\"MGP13\":1,\"MGP14\":1},{\"ATRIB_MAX1\":0.95,\"ATRIB_DIST1\":0.0,\"DIFP\":0.55,\"MGP1\":1,\"MGP2\":1,\"MGP3\":0,\"MGP4\":1,\"MGP5\":1,\"MGP6\":1,\"MGP7\":1,\"MGP8\":1,\"MGP9\":1,\"MGP10\":1,\"MGP11\":1,\"MGP12\":1,\"MGP13\":1,\"MGP14\":1},{\"ATRIB_MAX1\":0.66,\"ATRIB_DIST1\":397.85,\"DIFP\":1.26,\"MGP1\":0,\"MGP2\":1,\"MGP3\":0,\"MGP4\":1,\"MGP5\":0,\"MGP6\":0,\"MGP7\":0,\"MGP8\":0,\"MGP9\":1,\"MGP10\":0,\"MGP11\":1,\"MGP12\":1,\"MGP13\":0,\"MGP14\":0},{\"ATRIB_MAX1\":0.05,\"ATRIB_DIST1\":566.79,\"DIFP\":0.656,\"MGP1\":0,\"MGP2\":1,\"MGP3\":0,\"MGP4\":1,\"MGP5\":0,\"MGP6\":0,\"MGP7\":0,\"MGP8\":0,\"MGP9\":1,\"MGP10\":1,\"MGP11\":1,\"MGP12\":1,\"MGP13\":0,\"MGP14\":1},{\"ATRIB_MAX1\":0.05,\"ATRIB_DIST1\":1000.0,\"DIFP\":0.794,\"MGP1\":0,\"MGP2\":1,\"MGP3\":0,\"MGP4\":0,\"MGP5\":0,\"MGP6\":0,\"MGP7\":0,\"MGP8\":0,\"MGP9\":0,\"MGP10\":0,\"MGP11\":1,\"MGP12\":0,\"MGP13\":0,\"MGP14\":1},{\"ATRIB_MAX1\":0.95,\"ATRIB_DIST1\":25.0,\"DIFP\":1147.0,\"MGP1\":0,\"MGP2\":1,\"MGP3\":0,\"MGP4\":0,\"MGP5\":0,\"MGP6\":0,\"MGP7\":0,\"MGP8\":0,\"MGP9\":0,\"MGP10\":0,\"MGP11\":1,\"MGP12\":0,\"MGP13\":0,\"MGP14\":1},{\"ATRIB_MAX1\":0.33,\"ATRIB_DIST1\":206.16,\"DIFP\":0.17,\"MGP1\":0,\"MGP2\":1,\"MGP3\":1,\"MGP4\":1,\"MGP5\":1,\"MGP6\":0,\"MGP7\":0,\"MGP8\":0,\"MGP9\":1,\"MGP10\":1,\"MGP11\":1,\"MGP12\":1,\"MGP13\":0,\"MGP14\":1},{\"ATRIB_MAX1\":0.95,\"ATRIB_DIST1\":125.0,\"DIFP\":0.92,\"MGP1\":0,\"MGP2\":1,\"MGP3\":0,\"MGP4\":0,\"MGP5\":0,\"MGP6\":1,\"MGP7\":0,\"MGP8\":0,\"MGP9\":0,\"MGP10\":1,\"MGP11\":1,\"MGP12\":0,\"MGP13\":0,\"MGP14\":1},{\"ATRIB_MAX1\":0.81,\"ATRIB_DIST1\":25.0,\"DIFP\":0.52,\"MGP1\":0,\"MGP2\":1,\"MGP3\":0,\"MGP4\":1,\"MGP5\":1,\"MGP6\":1,\"MGP7\":0,\"MGP8\":0,\"MGP9\":1,\"MGP10\":1,\"MGP11\":1,\"MGP12\":1,\"MGP13\":1,\"MGP14\":1},{\"ATRIB_MAX1\":0.27,\"ATRIB_DIST1\":262.8,\"DIFP\":1.0,\"MGP1\":0,\"MGP2\":1,\"MGP3\":0,\"MGP4\":1,\"MGP5\":1,\"MGP6\":1,\"MGP7\":1,\"MGP8\":1,\"MGP9\":1,\"MGP10\":1,\"MGP11\":1,\"MGP12\":1,\"MGP13\":0,\"MGP14\":1},{\"ATRIB_MAX1\":0.05,\"ATRIB_DIST1\":350.22,\"DIFP\":0.76,\"MGP1\":0,\"MGP2\":1,\"MGP3\":0,\"MGP4\":0,\"MGP5\":0,\"MGP6\":0,\"MGP7\":0,\"MGP8\":0,\"MGP9\":0,\"MGP10\":1,\"MGP11\":1,\"MGP12\":0,\"MGP13\":0,\"MGP14\":1},{\"ATRIB_MAX1\":0.18,\"ATRIB_DIST1\":1000.0,\"DIFP\":0.43,\"MGP1\":0,\"MGP2\":1,\"MGP3\":0,\"MGP4\":1,\"MGP5\":1,\"MGP6\":0,\"MGP7\":0,\"MGP8\":0,\"MGP9\":1,\"MGP10\":0,\"MGP11\":1,\"MGP12\":1,\"MGP13\":0,\"MGP14\":1},{\"ATRIB_MAX1\":0.05,\"ATRIB_DIST1\":1000.0,\"DIFP\":0.44,\"MGP1\":0,\"MGP2\":1,\"MGP3\":0,\"MGP4\":0,\"MGP5\":0,\"MGP6\":1,\"MGP7\":0,\"MGP8\":0,\"MGP9\":0,\"MGP10\":0,\"MGP11\":1,\"MGP12\":1,\"MGP13\":0,\"MGP14\":1},{\"ATRIB_MAX1\":0.95,\"ATRIB_DIST1\":277.55,\"DIFP\":0.47,\"MGP1\":0,\"MGP2\":1,\"MGP3\":0,\"MGP4\":1,\"MGP5\":0,\"MGP6\":0,\"MGP7\":0,\"MGP8\":0,\"MGP9\":1,\"MGP10\":0,\"MGP11\":1,\"MGP12\":0,\"MGP13\":0,\"MGP14\":0},{\"ATRIB_MAX1\":0.95,\"ATRIB_DIST1\":1000.0,\"DIFP\":0.67,\"MGP1\":0,\"MGP2\":1,\"MGP3\":0,\"MGP4\":1,\"MGP5\":0,\"MGP6\":0,\"MGP7\":0,\"MGP8\":0,\"MGP9\":1,\"MGP10\":0,\"MGP11\":1,\"MGP12\":1,\"MGP13\":0,\"MGP14\":1},{\"ATRIB_MAX1\":0.95,\"ATRIB_DIST1\":409.46,\"DIFP\":0.74,\"MGP1\":0,\"MGP2\":1,\"MGP3\":0,\"MGP4\":0,\"MGP5\":0,\"MGP6\":1,\"MGP7\":0,\"MGP8\":0,\"MGP9\":0,\"MGP10\":0,\"MGP11\":1,\"MGP12\":0,\"MGP13\":0,\"MGP14\":1},{\"ATRIB_MAX1\":0.33,\"ATRIB_DIST1\":162.98,\"DIFP\":0.68,\"MGP1\":0,\"MGP2\":1,\"MGP3\":0,\"MGP4\":0,\"MGP5\":0,\"MGP6\":1,\"MGP7\":0,\"MGP8\":0,\"MGP9\":0,\"MGP10\":0,\"MGP11\":1,\"MGP12\":0,\"MGP13\":0,\"MGP14\":1},{\"ATRIB_MAX1\":0.17,\"ATRIB_DIST1\":168.17,\"DIFP\":0.7,\"MGP1\":0,\"MGP2\":1,\"MGP3\":0,\"MGP4\":0,\"MGP5\":0,\"MGP6\":1,\"MGP7\":0,\"MGP8\":0,\"MGP9\":0,\"MGP10\":0,\"MGP11\":1,\"MGP12\":0,\"MGP13\":0,\"MGP14\":1}'"
     },
     "metadata": {},
     "execution_count": 42
    }
   ],
   "source": [
    "out"
   ]
  },
  {
   "cell_type": "code",
   "execution_count": 40,
   "metadata": {},
   "outputs": [],
   "source": [
    "with open('jsonTest.txt', 'w') as f:\n",
    "    f.write(out)"
   ]
  }
 ]
}