{
 "cells": [
  {
   "cell_type": "code",
   "execution_count": 1,
   "metadata": {
    "code_folding": [
     0
    ]
   },
   "outputs": [
    {
     "data": {
      "application/javascript": [
       "IPython.notebook.set_autosave_interval(0)"
      ]
     },
     "metadata": {},
     "output_type": "display_data"
    },
    {
     "name": "stdout",
     "output_type": "stream",
     "text": [
      "Autosave disabled\n"
     ]
    }
   ],
   "source": [
    "#from customplot import *\n",
    "\n",
    "#import sqlite3\n",
    "%autosave 0\n",
    "import itertools\n",
    "import pandas as pd\n",
    "import numpy as np\n",
    "import matplotlib.pyplot as plt\n",
    "from scipy import interp\n",
    "from scipy.stats import reciprocal, uniform\n",
    "from numpy import random\n",
    "from sklearn.cluster import KMeans\n",
    "from sklearn.ensemble import RandomForestClassifier\n",
    "from sklearn.linear_model import LogisticRegression\n",
    "from sklearn.linear_model import SGDClassifier\n",
    "from sklearn.metrics import accuracy_score\n",
    "from sklearn.metrics import classification_report\n",
    "from sklearn.metrics import confusion_matrix\n",
    "from sklearn.metrics import log_loss\n",
    "from sklearn.metrics import precision_score\n",
    "from sklearn.metrics import precision_recall_curve\n",
    "from sklearn.metrics import recall_score\n",
    "from sklearn.metrics import roc_auc_score\n",
    "from sklearn.metrics import roc_curve\n",
    "from sklearn.model_selection import KFold\n",
    "from sklearn.model_selection import LeaveOneOut\n",
    "from sklearn.model_selection import train_test_split\n",
    "from sklearn.model_selection import cross_val_score\n",
    "from sklearn.model_selection import cross_val_predict\n",
    "from sklearn.model_selection import GridSearchCV\n",
    "from sklearn.model_selection import RandomizedSearchCV\n",
    "from sklearn.model_selection import validation_curve\n",
    "from sklearn.neighbors import KNeighborsClassifier\n",
    "from sklearn.neural_network import MLPClassifier\n",
    "from sklearn.pipeline import Pipeline\n",
    "from sklearn.preprocessing import StandardScaler\n",
    "from sklearn.preprocessing import MinMaxScaler\n",
    "from sklearn.preprocessing import PolynomialFeatures\n",
    "from sklearn.svm import SVC, LinearSVC\n",
    "from sklearn.tree import DecisionTreeClassifier"
   ]
  },
  {
   "cell_type": "code",
   "execution_count": 2,
   "metadata": {
    "code_folding": [
     0
    ],
    "scrolled": true
   },
   "outputs": [],
   "source": [
    "def plot_confusion_matrix(cm, classes,\n",
    "                          normalize=False,\n",
    "                          title='Confusion matrix',\n",
    "                          cmap=plt.cm.Blues):\n",
    "    \"\"\"\n",
    "    This function prints and plots the confusion matrix.\n",
    "    Normalization can be applied by setting `normalize=True`.\n",
    "    \"\"\"\n",
    "    if normalize:\n",
    "        cm = cm.astype('float') / cm.sum(axis=1)[:, np.newaxis]\n",
    "        print(\"Normalized confusion matrix\")\n",
    "    else:\n",
    "        print('Confusion matrix, without normalization')\n",
    "\n",
    "    #print(cm)\n",
    "\n",
    "    plt.imshow(cm, interpolation='nearest', cmap=cmap)\n",
    "    plt.title(title)\n",
    "    plt.colorbar()\n",
    "    tick_marks = np.arange(len(classes))\n",
    "    plt.xticks(tick_marks, classes, rotation=45)\n",
    "    plt.yticks(tick_marks, classes)\n",
    "\n",
    "    fmt = '.2f' if normalize else 'd'\n",
    "    thresh = cm.max() / 2.\n",
    "    for i, j in itertools.product(range(cm.shape[0]), range(cm.shape[1])):\n",
    "        plt.text(j, i, format(cm[i, j], fmt),\n",
    "                 horizontalalignment=\"center\",\n",
    "                 color=\"white\" if cm[i, j] > thresh else \"black\")\n",
    "\n",
    "    plt.tight_layout()\n",
    "    plt.ylabel('True label')\n",
    "    plt.xlabel('Predicted label')\n",
    "    "
   ]
  },
  {
   "cell_type": "code",
   "execution_count": 3,
   "metadata": {
    "code_folding": [
     0
    ]
   },
   "outputs": [],
   "source": [
    "def printcfm(y_test,y_pred,title='confusion matrix'):\n",
    "    cnf_matrix = confusion_matrix(y_test, y_pred)\n",
    "    np.set_printoptions(precision=2)\n",
    "    # Plot non-normalized confusion matrix\n",
    "    plt.figure()\n",
    "    plot_confusion_matrix(cnf_matrix, classes=['Sem Perda','Perda'],\n",
    "                      title=title) "
   ]
  },
  {
   "cell_type": "code",
   "execution_count": 4,
   "metadata": {
    "code_folding": [
     0
    ]
   },
   "outputs": [],
   "source": [
    "def plotRoc(y_real, y_pred_prob):\n",
    "    # Generate ROC curve values: fpr, tpr, thresholds\n",
    "    fpr, tpr, thresholds = roc_curve(y_real, y_pred_prob)\n",
    "    \n",
    "    # Calculate AUC\n",
    "    auc = roc_auc_score(y_real, y_pred_prob)\n",
    "\n",
    "    # Plot ROC curve\n",
    "    plt.plot([0, 1], [0, 1], 'k--')\n",
    "    plt.plot(fpr, tpr)\n",
    "    plt.text(1, 0.5, \"AUC: %3.3f\" % (auc), {'color': 'C2', 'fontsize': 18}, va=\"bottom\", ha=\"right\")\n",
    "    plt.xlabel('False Positive Rate')\n",
    "    plt.ylabel('True Positive Rate')\n",
    "    plt.title('ROC Curve')\n",
    "    plt.show()\n"
   ]
  },
  {
   "cell_type": "code",
   "execution_count": 5,
   "metadata": {
    "code_folding": [
     0
    ]
   },
   "outputs": [],
   "source": [
    "def plot_precision_vs_recall(precisions, recalls):\n",
    "    plt.figure(figsize=(8, 6))\n",
    "    plt.plot(recalls, precisions, \"b-\", linewidth=2)\n",
    "    plt.xlabel(\"Recall\", fontsize=16)\n",
    "    plt.ylabel(\"Precision\", fontsize=16)\n",
    "    plt.axis([0, 1.01, 0, 1])\n",
    "    plt.show()\n",
    "    "
   ]
  },
  {
   "cell_type": "code",
   "execution_count": 6,
   "metadata": {},
   "outputs": [],
   "source": [
    "#Setando configurações de visualização\n",
    "pd.options.display.max_rows=350\n",
    "pd.options.display.max_columns=60"
   ]
  },
  {
   "cell_type": "code",
   "execution_count": 7,
   "metadata": {},
   "outputs": [],
   "source": [
    "#dfFase1=pd.read_csv('baseProjetoTrainOverFase1.csv', index_col=0)\n",
    "dfFase1=pd.read_csv('baseProjeto_entradaModelo_fase1.csv', index_col=0)\n",
    "\n",
    "X_train = dfFase1[['ATRIB_MAX1',\n",
    "        'ATRIB_DIST1', 'DIFP', 'MGP1', 'MGP2', 'MGP3', 'MGP4', 'MGP5', 'MGP6',\n",
    "        'MGP7', 'MGP8', 'MGP9', 'MGP10', 'MGP11', 'MGP12', 'MGP13', 'MGP14']]\n",
    "\n",
    "# X_test = dfFase1[['ATRIB_MAX1',\n",
    "#         'ATRIB_DIST1', 'DIFP', 'MGP1', 'MGP2', 'MGP3', 'MGP4', 'MGP5', 'MGP6',\n",
    "#         'MGP7', 'MGP8', 'MGP9', 'MGP10', 'MGP11', 'MGP12', 'MGP13', 'MGP14']]\n",
    "\n",
    "y_train = dfFase1['Perda30']\n",
    "\n",
    "# y_test = dfFase1['Perda30']"
   ]
  },
  {
   "cell_type": "code",
   "execution_count": 8,
   "metadata": {},
   "outputs": [
    {
     "data": {
      "image/png": "[encoded data removed]",
      "text/plain": [
       "<Figure size 432x288 with 1 Axes>"
      ]
     },
     "metadata": {},
     "output_type": "display_data"
    }
   ],
   "source": [
    "X_train = X_train.reset_index(drop=True)\n",
    "y_train = y_train.reset_index(drop=True)\n",
    "y_train.value_counts().plot(kind='bar', title='Count (Perda30)');"
   ]
  },
  {
   "cell_type": "code",
   "execution_count": 9,
   "metadata": {},
   "outputs": [],
   "source": [
    "scaler = StandardScaler()\n",
    "X_train_scaled = scaler.fit_transform(X_train)\n",
    "#X_test_scaled = scaler.fit_transform(X_test)"
   ]
  },
  {
   "cell_type": "code",
   "execution_count": 10,
   "metadata": {},
   "outputs": [],
   "source": [
    "X_train_scaled = pd.DataFrame(X_train_scaled, index=X_train.index)"
   ]
  },
  {
   "cell_type": "markdown",
   "metadata": {},
   "source": [
    "<br>\n",
    "## SGDClassifier"
   ]
  },
  {
   "cell_type": "code",
   "execution_count": 11,
   "metadata": {},
   "outputs": [],
   "source": [
    "C = 5\n",
    "alpha = 1 / (C * len(X_train))"
   ]
  },
  {
   "cell_type": "code",
   "execution_count": 12,
   "metadata": {},
   "outputs": [],
   "source": [
    "steps = [('scaler', StandardScaler()),(('sgd_clf',  SGDClassifier(loss=\"hinge\", learning_rate=\"constant\", eta0=0.001, alpha=alpha, max_iter=100000, random_state=42)))]\n",
    "pipeline = Pipeline(steps)\n",
    "scaler = StandardScaler()"
   ]
  },
  {
   "cell_type": "code",
   "execution_count": 13,
   "metadata": {},
   "outputs": [],
   "source": [
    "random_scaled = pipeline.fit(X_train, y_train)"
   ]
  },
  {
   "cell_type": "code",
   "execution_count": 14,
   "metadata": {},
   "outputs": [
    {
     "data": {
      "text/plain": [
       "0.8083333333333333"
      ]
     },
     "execution_count": 14,
     "metadata": {},
     "output_type": "execute_result"
    }
   ],
   "source": [
    "y_pred = pipeline.predict(X_train) \n",
    "accuracy_score(y_train, y_pred)"
   ]
  },
  {
   "cell_type": "code",
   "execution_count": 15,
   "metadata": {},
   "outputs": [
    {
     "name": "stdout",
     "output_type": "stream",
     "text": [
      "Confusion matrix, without normalization\n"
     ]
    },
    {
     "data": {
      "image/png": "[encoded data removed]",
      "text/plain": [
       "<Figure size 432x288 with 2 Axes>"
      ]
     },
     "metadata": {},
     "output_type": "display_data"
    }
   ],
   "source": [
    "printcfm(y_train,y_pred,title='confusion matrix')"
   ]
  },
  {
   "cell_type": "markdown",
   "metadata": {},
   "source": [
    "Positive Predictive Value (PPV)\n",
    "$$Precision=\\frac{TP}{TP+FP}$$\n",
    "<br>\n",
    "Sensitivity, Hit Rate, True Positive Rate\n",
    "$$Recall=\\frac{TP}{TP+FN}$$\n",
    "<br>\n",
    "Harmonic mean between Precision and Recall\n",
    "$$F1 Score=2 * \\frac{Precision * Recall}{Precision + Recall}$$"
   ]
  },
  {
   "cell_type": "code",
   "execution_count": 16,
   "metadata": {},
   "outputs": [
    {
     "name": "stdout",
     "output_type": "stream",
     "text": [
      "             precision    recall  f1-score   support\n",
      "\n",
      "          0       0.84      0.89      0.87        85\n",
      "          1       0.70      0.60      0.65        35\n",
      "\n",
      "avg / total       0.80      0.81      0.80       120\n",
      "\n"
     ]
    }
   ],
   "source": [
    "print(classification_report(y_train, y_pred))"
   ]
  },
  {
   "cell_type": "markdown",
   "metadata": {},
   "source": [
    "<br>\n",
    "## SVC"
   ]
  },
  {
   "cell_type": "code",
   "execution_count": 17,
   "metadata": {},
   "outputs": [],
   "source": [
    "svm_clf = SVC(decision_function_shape=\"ovr\")"
   ]
  },
  {
   "cell_type": "code",
   "execution_count": 18,
   "metadata": {},
   "outputs": [],
   "source": [
    "#steps = [('scaler', StandardScaler()),(('svm_clf', SVC(decision_function_shape=\"ovr\")))]\n",
    "#pipeline = Pipeline(steps)\n",
    "# X_train_scaled = scaler.fit_transform(X_train)\n",
    "# X_test_scaled = scaler.fit_transform(X_test)"
   ]
  },
  {
   "cell_type": "markdown",
   "metadata": {},
   "source": [
    "## Fine-tunning the model."
   ]
  },
  {
   "cell_type": "markdown",
   "metadata": {},
   "source": [
    "### 1 - Random Search"
   ]
  },
  {
   "cell_type": "code",
   "execution_count": 19,
   "metadata": {},
   "outputs": [
    {
     "name": "stdout",
     "output_type": "stream",
     "text": [
      "Fitting 3 folds for each of 100 candidates, totalling 300 fits\n",
      "[CV] C=9.76268347563095, gamma=0.0026630232785664716, probability=True \n",
      "[CV]  C=9.76268347563095, gamma=0.0026630232785664716, probability=True, total=   0.0s\n",
      "[CV] C=9.76268347563095, gamma=0.0026630232785664716, probability=True \n",
      "[CV]  C=9.76268347563095, gamma=0.0026630232785664716, probability=True, total=   0.0s\n",
      "[CV] C=9.76268347563095, gamma=0.0026630232785664716, probability=True \n",
      "[CV]  C=9.76268347563095, gamma=0.0026630232785664716, probability=True, total=   0.0s\n",
      "[CV] C=4.125354818841789, gamma=0.0011565918919127572, probability=True \n",
      "[CV]  C=4.125354818841789, gamma=0.0011565918919127572, probability=True, total=   0.0s\n",
      "[CV] C=4.125354818841789, gamma=0.0011565918919127572, probability=True \n",
      "[CV]  C=4.125354818841789, gamma=0.0011565918919127572, probability=True, total=   0.0s\n",
      "[CV] C=4.125354818841789, gamma=0.0011565918919127572, probability=True \n",
      "[CV]  C=4.125354818841789, gamma=0.0011565918919127572, probability=True, total=   0.0s\n",
      "[CV] C=9.369417521965737, gamma=0.01377350896925432, probability=True \n",
      "[CV]  C=9.369417521965737, gamma=0.01377350896925432, probability=True, total=   0.0s\n",
      "[CV] C=9.369417521965737, gamma=0.01377350896925432, probability=True \n",
      "[CV]  C=9.369417521965737, gamma=0.01377350896925432, probability=True, total=   0.0s\n",
      "[CV] C=9.369417521965737, gamma=0.01377350896925432, probability=True \n",
      "[CV]  C=9.369417521965737, gamma=0.01377350896925432, probability=True, total=   0.0s\n",
      "[CV] C=8.33573740136471, gamma=0.08675598465989906, probability=True .\n",
      "[CV]  C=8.33573740136471, gamma=0.08675598465989906, probability=True, total=   0.0s\n",
      "[CV] C=8.33573740136471, gamma=0.08675598465989906, probability=True .\n",
      "[CV]  C=8.33573740136471, gamma=0.08675598465989906, probability=True, total=   0.0s\n",
      "[CV] C=8.33573740136471, gamma=0.08675598465989906, probability=True .\n",
      "[CV]  C=8.33573740136471, gamma=0.08675598465989906, probability=True, total=   0.0s\n",
      "[CV] C=2.282009372949855, gamma=0.06365054888115752, probability=True \n",
      "[CV]  C=2.282009372949855, gamma=0.06365054888115752, probability=True, total=   0.0s\n",
      "[CV] C=2.282009372949855, gamma=0.06365054888115752, probability=True \n",
      "[CV]  C=2.282009372949855, gamma=0.06365054888115752, probability=True, total=   0.0s\n",
      "[CV] C=2.282009372949855, gamma=0.06365054888115752, probability=True \n",
      "[CV]  C=2.282009372949855, gamma=0.06365054888115752, probability=True, total=   0.0s\n",
      "[CV] C=5.859609595947304, gamma=0.002643540100456997, probability=True \n",
      "[CV]  C=5.859609595947304, gamma=0.002643540100456997, probability=True, total=   0.0s\n",
      "[CV] C=5.859609595947304, gamma=0.002643540100456997, probability=True \n",
      "[CV]  C=5.859609595947304, gamma=0.002643540100456997, probability=True, total=   0.0s\n",
      "[CV] C=5.859609595947304, gamma=0.002643540100456997, probability=True \n",
      "[CV]  C=5.859609595947304, gamma=0.002643540100456997, probability=True, total=   0.0s\n",
      "[CV] C=8.072618616818815, gamma=0.0011065370098269503, probability=True \n",
      "[CV]  C=8.072618616818815, gamma=0.0011065370098269503, probability=True, total=   0.0s\n",
      "[CV] C=8.072618616818815, gamma=0.0011065370098269503, probability=True \n",
      "[CV]  C=8.072618616818815, gamma=0.0011065370098269503, probability=True, total=   0.0s\n",
      "[CV] C=8.072618616818815, gamma=0.0011065370098269503, probability=True \n",
      "[CV]  C=8.072618616818815, gamma=0.0011065370098269503, probability=True, total=   0.0s\n",
      "[CV] C=4.9215956626342185, gamma=0.0012887256576297726, probability=True \n",
      "[CV]  C=4.9215956626342185, gamma=0.0012887256576297726, probability=True, total=   0.0s\n",
      "[CV] C=4.9215956626342185, gamma=0.0012887256576297726, probability=True \n",
      "[CV]  C=4.9215956626342185, gamma=0.0012887256576297726, probability=True, total=   0.0s\n",
      "[CV] C=4.9215956626342185, gamma=0.0012887256576297726, probability=True \n",
      "[CV]  C=4.9215956626342185, gamma=0.0012887256576297726, probability=True, total=   0.0s\n",
      "[CV] C=6.579290426483714, gamma=0.004753025918778413, probability=True \n",
      "[CV]  C=6.579290426483714, gamma=0.004753025918778413, probability=True, total=   0.0s\n",
      "[CV] C=6.579290426483714, gamma=0.004753025918778413, probability=True \n",
      "[CV]  C=6.579290426483714, gamma=0.004753025918778413, probability=True, total=   0.0s\n",
      "[CV] C=6.579290426483714, gamma=0.004753025918778413, probability=True \n",
      "[CV]  C=6.579290426483714, gamma=0.004753025918778413, probability=True, total=   0.0s\n",
      "[CV] C=10.310552585190388, gamma=0.013651972083087814, probability=True \n",
      "[CV]  C=10.310552585190388, gamma=0.013651972083087814, probability=True, total=   0.0s\n",
      "[CV] C=10.310552585190388, gamma=0.013651972083087814, probability=True \n",
      "[CV]  C=10.310552585190388, gamma=0.013651972083087814, probability=True, total=   0.0s\n",
      "[CV] C=10.310552585190388, gamma=0.013651972083087814, probability=True \n",
      "[CV]  C=10.310552585190388, gamma=0.013651972083087814, probability=True, total=   0.0s\n",
      "[CV] C=4.28892026557103, gamma=0.0034698471091583758, probability=True \n",
      "[CV]  C=4.28892026557103, gamma=0.0034698471091583758, probability=True, total=   0.0s\n",
      "[CV] C=4.28892026557103, gamma=0.0034698471091583758, probability=True \n",
      "[CV]  C=4.28892026557103, gamma=0.0034698471091583758, probability=True, total=   0.0s\n",
      "[CV] C=4.28892026557103, gamma=0.0034698471091583758, probability=True \n"
     ]
    },
    {
     "name": "stderr",
     "output_type": "stream",
     "text": [
      "[Parallel(n_jobs=1)]: Done   1 out of   1 | elapsed:    0.0s remaining:    0.0s\n"
     ]
    },
    {
     "name": "stdout",
     "output_type": "stream",
     "text": [
      "[CV]  C=4.28892026557103, gamma=0.0034698471091583758, probability=True, total=   0.0s\n",
      "[CV] C=4.97633482839502, gamma=0.00745338269694781, probability=True .\n",
      "[CV]  C=4.97633482839502, gamma=0.00745338269694781, probability=True, total=   0.0s\n",
      "[CV] C=4.97633482839502, gamma=0.00745338269694781, probability=True .\n",
      "[CV]  C=4.97633482839502, gamma=0.00745338269694781, probability=True, total=   0.0s\n",
      "[CV] C=4.97633482839502, gamma=0.00745338269694781, probability=True .\n",
      "[CV]  C=4.97633482839502, gamma=0.00745338269694781, probability=True, total=   0.0s\n",
      "[CV] C=6.12573945840505, gamma=0.02760795689667415, probability=True .\n",
      "[CV]  C=6.12573945840505, gamma=0.02760795689667415, probability=True, total=   0.0s\n",
      "[CV] C=6.12573945840505, gamma=0.02760795689667415, probability=True .\n",
      "[CV]  C=6.12573945840505, gamma=0.02760795689667415, probability=True, total=   0.0s\n",
      "[CV] C=6.12573945840505, gamma=0.02760795689667415, probability=True .\n",
      "[CV]  C=6.12573945840505, gamma=0.02760795689667415, probability=True, total=   0.0s\n",
      "[CV] C=8.493256012774058, gamma=0.02244665694103405, probability=True \n",
      "[CV]  C=8.493256012774058, gamma=0.02244665694103405, probability=True, total=   0.0s\n",
      "[CV] C=8.493256012774058, gamma=0.02244665694103405, probability=True \n",
      "[CV]  C=8.493256012774058, gamma=0.02244665694103405, probability=True, total=   0.0s\n",
      "[CV] C=8.493256012774058, gamma=0.02244665694103405, probability=True \n",
      "[CV]  C=8.493256012774058, gamma=0.02244665694103405, probability=True, total=   0.0s\n",
      "[CV] C=4.051997623060202, gamma=0.015156718437873511, probability=True \n",
      "[CV]  C=4.051997623060202, gamma=0.015156718437873511, probability=True, total=   0.0s\n",
      "[CV] C=4.051997623060202, gamma=0.015156718437873511, probability=True \n",
      "[CV]  C=4.051997623060202, gamma=0.015156718437873511, probability=True, total=   0.0s\n",
      "[CV] C=4.051997623060202, gamma=0.015156718437873511, probability=True \n",
      "[CV]  C=4.051997623060202, gamma=0.015156718437873511, probability=True, total=   0.0s\n",
      "[CV] C=3.2664593627412333, gamma=0.021949962857855696, probability=True \n",
      "[CV]  C=3.2664593627412333, gamma=0.021949962857855696, probability=True, total=   0.0s\n",
      "[CV] C=3.2664593627412333, gamma=0.021949962857855696, probability=True \n",
      "[CV]  C=3.2664593627412333, gamma=0.021949962857855696, probability=True, total=   0.0s\n",
      "[CV] C=3.2664593627412333, gamma=0.021949962857855696, probability=True \n",
      "[CV]  C=3.2664593627412333, gamma=0.021949962857855696, probability=True, total=   0.0s\n",
      "[CV] C=2.656265530782901, gamma=0.03662587389100708, probability=True \n",
      "[CV]  C=2.656265530782901, gamma=0.03662587389100708, probability=True, total=   0.0s\n",
      "[CV] C=2.656265530782901, gamma=0.03662587389100708, probability=True \n",
      "[CV]  C=2.656265530782901, gamma=0.03662587389100708, probability=True, total=   0.0s\n",
      "[CV] C=2.656265530782901, gamma=0.03662587389100708, probability=True \n",
      "[CV]  C=2.656265530782901, gamma=0.03662587389100708, probability=True, total=   0.0s\n",
      "[CV] C=4.940212378732905, gamma=0.026047691289814275, probability=True \n",
      "[CV]  C=4.940212378732905, gamma=0.026047691289814275, probability=True, total=   0.0s\n",
      "[CV] C=4.940212378732905, gamma=0.026047691289814275, probability=True \n",
      "[CV]  C=4.940212378732905, gamma=0.026047691289814275, probability=True, total=   0.0s\n",
      "[CV] C=4.940212378732905, gamma=0.026047691289814275, probability=True \n",
      "[CV]  C=4.940212378732905, gamma=0.026047691289814275, probability=True, total=   0.0s\n",
      "[CV] C=1.0233023232191087, gamma=0.0013292222207191512, probability=True \n",
      "[CV]  C=1.0233023232191087, gamma=0.0013292222207191512, probability=True, total=   0.0s\n",
      "[CV] C=1.0233023232191087, gamma=0.0013292222207191512, probability=True \n",
      "[CV]  C=1.0233023232191087, gamma=0.0013292222207191512, probability=True, total=   0.0s\n",
      "[CV] C=1.0233023232191087, gamma=0.0013292222207191512, probability=True \n",
      "[CV]  C=1.0233023232191087, gamma=0.0013292222207191512, probability=True, total=   0.0s\n",
      "[CV] C=10.081281015483563, gamma=0.0031705171280765948, probability=True \n",
      "[CV]  C=10.081281015483563, gamma=0.0031705171280765948, probability=True, total=   0.0s\n",
      "[CV] C=10.081281015483563, gamma=0.0031705171280765948, probability=True \n",
      "[CV]  C=10.081281015483563, gamma=0.0031705171280765948, probability=True, total=   0.0s\n",
      "[CV] C=10.081281015483563, gamma=0.0031705171280765948, probability=True \n",
      "[CV]  C=10.081281015483563, gamma=0.0031705171280765948, probability=True, total=   0.0s\n",
      "[CV] C=6.006872412832696, gamma=0.0020896510015703793, probability=True \n",
      "[CV]  C=6.006872412832696, gamma=0.0020896510015703793, probability=True, total=   0.0s\n",
      "[CV] C=6.006872412832696, gamma=0.0020896510015703793, probability=True \n",
      "[CV]  C=6.006872412832696, gamma=0.0020896510015703793, probability=True, total=   0.0s\n",
      "[CV] C=6.006872412832696, gamma=0.0020896510015703793, probability=True \n",
      "[CV]  C=6.006872412832696, gamma=0.0020896510015703793, probability=True, total=   0.0s\n",
      "[CV] C=3.3411802279239904, gamma=0.0010981514263187393, probability=True \n",
      "[CV]  C=3.3411802279239904, gamma=0.0010981514263187393, probability=True, total=   0.0s\n",
      "[CV] C=3.3411802279239904, gamma=0.0010981514263187393, probability=True \n",
      "[CV]  C=3.3411802279239904, gamma=0.0010981514263187393, probability=True, total=   0.0s\n",
      "[CV] C=3.3411802279239904, gamma=0.0010981514263187393, probability=True \n",
      "[CV]  C=3.3411802279239904, gamma=0.0010981514263187393, probability=True, total=   0.0s\n",
      "[CV] C=6.290731796786426, gamma=0.06335470218404995, probability=True \n",
      "[CV]  C=6.290731796786426, gamma=0.06335470218404995, probability=True, total=   0.0s\n",
      "[CV] C=6.290731796786426, gamma=0.06335470218404995, probability=True \n",
      "[CV]  C=6.290731796786426, gamma=0.06335470218404995, probability=True, total=   0.0s\n",
      "[CV] C=6.290731796786426, gamma=0.06335470218404995, probability=True \n",
      "[CV]  C=6.290731796786426, gamma=0.06335470218404995, probability=True, total=   0.0s\n",
      "[CV] C=7.1828249972958, gamma=0.0018751611639728372, probability=True \n",
      "[CV]  C=7.1828249972958, gamma=0.0018751611639728372, probability=True, total=   0.0s\n",
      "[CV] C=7.1828249972958, gamma=0.0018751611639728372, probability=True \n",
      "[CV]  C=7.1828249972958, gamma=0.0018751611639728372, probability=True, total=   0.0s\n",
      "[CV] C=7.1828249972958, gamma=0.0018751611639728372, probability=True \n",
      "[CV]  C=7.1828249972958, gamma=0.0018751611639728372, probability=True, total=   0.0s\n",
      "[CV] C=4.557905258161194, gamma=0.0014426520627303738, probability=True \n",
      "[CV]  C=4.557905258161194, gamma=0.0014426520627303738, probability=True, total=   0.0s\n",
      "[CV] C=4.557905258161194, gamma=0.0014426520627303738, probability=True \n",
      "[CV]  C=4.557905258161194, gamma=0.0014426520627303738, probability=True, total=   0.0s\n",
      "[CV] C=4.557905258161194, gamma=0.0014426520627303738, probability=True \n",
      "[CV]  C=4.557905258161194, gamma=0.0014426520627303738, probability=True, total=   0.0s\n",
      "[CV] C=10.871634551474706, gamma=0.003403307994711703, probability=True \n",
      "[CV]  C=10.871634551474706, gamma=0.003403307994711703, probability=True, total=   0.0s\n",
      "[CV] C=10.871634551474706, gamma=0.003403307994711703, probability=True \n",
      "[CV]  C=10.871634551474706, gamma=0.003403307994711703, probability=True, total=   0.0s\n",
      "[CV] C=10.871634551474706, gamma=0.003403307994711703, probability=True \n",
      "[CV]  C=10.871634551474706, gamma=0.003403307994711703, probability=True, total=   0.0s\n",
      "[CV] C=3.5867032307749227, gamma=0.061825112752370855, probability=True \n",
      "[CV]  C=3.5867032307749227, gamma=0.061825112752370855, probability=True, total=   0.0s\n",
      "[CV] C=3.5867032307749227, gamma=0.061825112752370855, probability=True \n",
      "[CV]  C=3.5867032307749227, gamma=0.061825112752370855, probability=True, total=   0.0s\n",
      "[CV] C=3.5867032307749227, gamma=0.061825112752370855, probability=True \n",
      "[CV]  C=3.5867032307749227, gamma=0.061825112752370855, probability=True, total=   0.0s\n",
      "[CV] C=3.622571751770739, gamma=0.003464681361340759, probability=True \n",
      "[CV]  C=3.622571751770739, gamma=0.003464681361340759, probability=True, total=   0.0s\n",
      "[CV] C=3.622571751770739, gamma=0.003464681361340759, probability=True \n",
      "[CV]  C=3.622571751770739, gamma=0.003464681361340759, probability=True, total=   0.0s\n",
      "[CV] C=3.622571751770739, gamma=0.003464681361340759, probability=True \n",
      "[CV]  C=3.622571751770739, gamma=0.003464681361340759, probability=True, total=   0.0s\n",
      "[CV] C=3.5155439077796293, gamma=0.044794731622456556, probability=True \n",
      "[CV]  C=3.5155439077796293, gamma=0.044794731622456556, probability=True, total=   0.0s\n",
      "[CV] C=3.5155439077796293, gamma=0.044794731622456556, probability=True \n",
      "[CV]  C=3.5155439077796293, gamma=0.044794731622456556, probability=True, total=   0.0s\n",
      "[CV] C=3.5155439077796293, gamma=0.044794731622456556, probability=True \n",
      "[CV]  C=3.5155439077796293, gamma=0.044794731622456556, probability=True, total=   0.0s\n",
      "[CV] C=8.842868241964828, gamma=0.011631664237089733, probability=True \n",
      "[CV]  C=8.842868241964828, gamma=0.011631664237089733, probability=True, total=   0.0s\n",
      "[CV] C=8.842868241964828, gamma=0.011631664237089733, probability=True \n",
      "[CV]  C=8.842868241964828, gamma=0.011631664237089733, probability=True, total=   0.0s\n",
      "[CV] C=8.842868241964828, gamma=0.011631664237089733, probability=True \n",
      "[CV]  C=8.842868241964828, gamma=0.011631664237089733, probability=True, total=   0.0s\n",
      "[CV] C=8.606334332549256, gamma=0.08248072576512222, probability=True \n",
      "[CV]  C=8.606334332549256, gamma=0.08248072576512222, probability=True, total=   0.0s\n",
      "[CV] C=8.606334332549256, gamma=0.08248072576512222, probability=True \n",
      "[CV]  C=8.606334332549256, gamma=0.08248072576512222, probability=True, total=   0.0s\n",
      "[CV] C=8.606334332549256, gamma=0.08248072576512222, probability=True \n",
      "[CV]  C=8.606334332549256, gamma=0.08248072576512222, probability=True, total=   0.0s\n"
     ]
    },
    {
     "name": "stdout",
     "output_type": "stream",
     "text": [
      "[CV] C=2.98876435145942, gamma=0.08731220494685593, probability=True .\n",
      "[CV]  C=2.98876435145942, gamma=0.08731220494685593, probability=True, total=   0.0s\n",
      "[CV] C=2.98876435145942, gamma=0.08731220494685593, probability=True .\n",
      "[CV]  C=2.98876435145942, gamma=0.08731220494685593, probability=True, total=   0.0s\n",
      "[CV] C=2.98876435145942, gamma=0.08731220494685593, probability=True .\n",
      "[CV]  C=2.98876435145942, gamma=0.08731220494685593, probability=True, total=   0.0s\n",
      "[CV] C=3.0468698625360684, gamma=0.06467183827804888, probability=True \n",
      "[CV]  C=3.0468698625360684, gamma=0.06467183827804888, probability=True, total=   0.0s\n",
      "[CV] C=3.0468698625360684, gamma=0.06467183827804888, probability=True \n",
      "[CV]  C=3.0468698625360684, gamma=0.06467183827804888, probability=True, total=   0.0s\n",
      "[CV] C=3.0468698625360684, gamma=0.06467183827804888, probability=True \n",
      "[CV]  C=3.0468698625360684, gamma=0.06467183827804888, probability=True, total=   0.0s\n",
      "[CV] C=5.382567590733776, gamma=0.006470600002173626, probability=True \n",
      "[CV]  C=5.382567590733776, gamma=0.006470600002173626, probability=True, total=   0.0s\n",
      "[CV] C=5.382567590733776, gamma=0.006470600002173626, probability=True \n",
      "[CV]  C=5.382567590733776, gamma=0.006470600002173626, probability=True, total=   0.0s\n",
      "[CV] C=5.382567590733776, gamma=0.006470600002173626, probability=True \n",
      "[CV]  C=5.382567590733776, gamma=0.006470600002173626, probability=True, total=   0.0s\n",
      "[CV] C=4.717297864123652, gamma=0.017049377484717985, probability=True \n",
      "[CV]  C=4.717297864123652, gamma=0.017049377484717985, probability=True, total=   0.0s\n",
      "[CV] C=4.717297864123652, gamma=0.017049377484717985, probability=True \n",
      "[CV]  C=4.717297864123652, gamma=0.017049377484717985, probability=True, total=   0.0s\n",
      "[CV] C=4.717297864123652, gamma=0.017049377484717985, probability=True \n",
      "[CV]  C=4.717297864123652, gamma=0.017049377484717985, probability=True, total=   0.0s\n",
      "[CV] C=5.229969939727503, gamma=0.003916003482725965, probability=True \n",
      "[CV]  C=5.229969939727503, gamma=0.003916003482725965, probability=True, total=   0.0s\n",
      "[CV] C=5.229969939727503, gamma=0.003916003482725965, probability=True \n",
      "[CV]  C=5.229969939727503, gamma=0.003916003482725965, probability=True, total=   0.0s\n",
      "[CV] C=5.229969939727503, gamma=0.003916003482725965, probability=True \n",
      "[CV]  C=5.229969939727503, gamma=0.003916003482725965, probability=True, total=   0.0s\n",
      "[CV] C=1.0710387069737684, gamma=0.03352377090660777, probability=True \n",
      "[CV]  C=1.0710387069737684, gamma=0.03352377090660777, probability=True, total=   0.0s\n",
      "[CV] C=1.0710387069737684, gamma=0.03352377090660777, probability=True \n",
      "[CV]  C=1.0710387069737684, gamma=0.03352377090660777, probability=True, total=   0.0s\n",
      "[CV] C=1.0710387069737684, gamma=0.03352377090660777, probability=True \n",
      "[CV]  C=1.0710387069737684, gamma=0.03352377090660777, probability=True, total=   0.0s\n",
      "[CV] C=1.7352170764889465, gamma=0.0105513020634155, probability=True \n",
      "[CV]  C=1.7352170764889465, gamma=0.0105513020634155, probability=True, total=   0.0s\n",
      "[CV] C=1.7352170764889465, gamma=0.0105513020634155, probability=True \n",
      "[CV]  C=1.7352170764889465, gamma=0.0105513020634155, probability=True, total=   0.0s\n",
      "[CV] C=1.7352170764889465, gamma=0.0105513020634155, probability=True \n",
      "[CV]  C=1.7352170764889465, gamma=0.0105513020634155, probability=True, total=   0.0s\n",
      "[CV] C=5.5394334321919985, gamma=0.012192136546629899, probability=True \n",
      "[CV]  C=5.5394334321919985, gamma=0.012192136546629899, probability=True, total=   0.0s\n",
      "[CV] C=5.5394334321919985, gamma=0.012192136546629899, probability=True \n",
      "[CV]  C=5.5394334321919985, gamma=0.012192136546629899, probability=True, total=   0.0s\n",
      "[CV] C=5.5394334321919985, gamma=0.012192136546629899, probability=True \n",
      "[CV]  C=5.5394334321919985, gamma=0.012192136546629899, probability=True, total=   0.0s\n",
      "[CV] C=9.231471969932194, gamma=0.013513930762093956, probability=True \n",
      "[CV]  C=9.231471969932194, gamma=0.013513930762093956, probability=True, total=   0.0s\n",
      "[CV] C=9.231471969932194, gamma=0.013513930762093956, probability=True \n",
      "[CV]  C=9.231471969932194, gamma=0.013513930762093956, probability=True, total=   0.0s\n",
      "[CV] C=9.231471969932194, gamma=0.013513930762093956, probability=True \n",
      "[CV]  C=9.231471969932194, gamma=0.013513930762093956, probability=True, total=   0.0s\n",
      "[CV] C=9.721726260743644, gamma=0.0077497996542171335, probability=True \n",
      "[CV]  C=9.721726260743644, gamma=0.0077497996542171335, probability=True, total=   0.0s\n",
      "[CV] C=9.721726260743644, gamma=0.0077497996542171335, probability=True \n",
      "[CV]  C=9.721726260743644, gamma=0.0077497996542171335, probability=True, total=   0.0s\n",
      "[CV] C=9.721726260743644, gamma=0.0077497996542171335, probability=True \n",
      "[CV]  C=9.721726260743644, gamma=0.0077497996542171335, probability=True, total=   0.0s\n",
      "[CV] C=10.439522819978754, gamma=0.08739349024700235, probability=True \n",
      "[CV]  C=10.439522819978754, gamma=0.08739349024700235, probability=True, total=   0.0s\n",
      "[CV] C=10.439522819978754, gamma=0.08739349024700235, probability=True \n",
      "[CV]  C=10.439522819978754, gamma=0.08739349024700235, probability=True, total=   0.0s\n",
      "[CV] C=10.439522819978754, gamma=0.08739349024700235, probability=True \n",
      "[CV]  C=10.439522819978754, gamma=0.08739349024700235, probability=True, total=   0.0s\n",
      "[CV] C=4.493725470074121, gamma=0.009014278943278175, probability=True \n",
      "[CV]  C=4.493725470074121, gamma=0.009014278943278175, probability=True, total=   0.0s\n",
      "[CV] C=4.493725470074121, gamma=0.009014278943278175, probability=True \n",
      "[CV]  C=4.493725470074121, gamma=0.009014278943278175, probability=True, total=   0.0s\n",
      "[CV] C=4.493725470074121, gamma=0.009014278943278175, probability=True \n",
      "[CV]  C=4.493725470074121, gamma=0.009014278943278175, probability=True, total=   0.0s\n",
      "[CV] C=4.194293616108201, gamma=0.002531252415059015, probability=True \n",
      "[CV]  C=4.194293616108201, gamma=0.002531252415059015, probability=True, total=   0.0s\n",
      "[CV] C=4.194293616108201, gamma=0.002531252415059015, probability=True \n",
      "[CV]  C=4.194293616108201, gamma=0.002531252415059015, probability=True, total=   0.0s\n",
      "[CV] C=4.194293616108201, gamma=0.002531252415059015, probability=True \n",
      "[CV]  C=4.194293616108201, gamma=0.002531252415059015, probability=True, total=   0.0s\n",
      "[CV] C=5.422516623383298, gamma=0.010384617669944857, probability=True \n",
      "[CV]  C=5.422516623383298, gamma=0.010384617669944857, probability=True, total=   0.0s\n",
      "[CV] C=5.422516623383298, gamma=0.010384617669944857, probability=True \n",
      "[CV]  C=5.422516623383298, gamma=0.010384617669944857, probability=True, total=   0.0s\n",
      "[CV] C=5.422516623383298, gamma=0.010384617669944857, probability=True \n",
      "[CV]  C=5.422516623383298, gamma=0.010384617669944857, probability=True, total=   0.0s\n",
      "[CV] C=10.777116859699417, gamma=0.002641806297759094, probability=True \n",
      "[CV]  C=10.777116859699417, gamma=0.002641806297759094, probability=True, total=   0.0s\n",
      "[CV] C=10.777116859699417, gamma=0.002641806297759094, probability=True \n",
      "[CV]  C=10.777116859699417, gamma=0.002641806297759094, probability=True, total=   0.0s\n",
      "[CV] C=10.777116859699417, gamma=0.002641806297759094, probability=True \n",
      "[CV]  C=10.777116859699417, gamma=0.002641806297759094, probability=True, total=   0.0s\n",
      "[CV] C=8.803116378365434, gamma=0.005998870217077114, probability=True \n",
      "[CV]  C=8.803116378365434, gamma=0.005998870217077114, probability=True, total=   0.0s\n",
      "[CV] C=8.803116378365434, gamma=0.005998870217077114, probability=True \n",
      "[CV]  C=8.803116378365434, gamma=0.005998870217077114, probability=True, total=   0.0s\n",
      "[CV] C=8.803116378365434, gamma=0.005998870217077114, probability=True \n",
      "[CV]  C=8.803116378365434, gamma=0.005998870217077114, probability=True, total=   0.0s\n",
      "[CV] C=5.532222826143338, gamma=0.006639548451688856, probability=True \n",
      "[CV]  C=5.532222826143338, gamma=0.006639548451688856, probability=True, total=   0.0s\n",
      "[CV] C=5.532222826143338, gamma=0.006639548451688856, probability=True \n",
      "[CV]  C=5.532222826143338, gamma=0.006639548451688856, probability=True, total=   0.0s\n",
      "[CV] C=5.532222826143338, gamma=0.006639548451688856, probability=True \n",
      "[CV]  C=5.532222826143338, gamma=0.006639548451688856, probability=True, total=   0.0s\n",
      "[CV] C=10.338713944466589, gamma=0.014812810722879387, probability=True \n",
      "[CV]  C=10.338713944466589, gamma=0.014812810722879387, probability=True, total=   0.0s\n",
      "[CV] C=10.338713944466589, gamma=0.014812810722879387, probability=True \n",
      "[CV]  C=10.338713944466589, gamma=0.014812810722879387, probability=True, total=   0.0s\n",
      "[CV] C=10.338713944466589, gamma=0.014812810722879387, probability=True \n",
      "[CV]  C=10.338713944466589, gamma=0.014812810722879387, probability=True, total=   0.0s\n",
      "[CV] C=4.746090913615124, gamma=0.003511375138844054, probability=True \n",
      "[CV]  C=4.746090913615124, gamma=0.003511375138844054, probability=True, total=   0.0s\n",
      "[CV] C=4.746090913615124, gamma=0.003511375138844054, probability=True \n",
      "[CV]  C=4.746090913615124, gamma=0.003511375138844054, probability=True, total=   0.0s\n",
      "[CV] C=4.746090913615124, gamma=0.003511375138844054, probability=True \n",
      "[CV]  C=4.746090913615124, gamma=0.003511375138844054, probability=True, total=   0.0s\n",
      "[CV] C=1.062332698721278, gamma=0.035174023720897514, probability=True \n",
      "[CV]  C=1.062332698721278, gamma=0.035174023720897514, probability=True, total=   0.0s\n",
      "[CV] C=1.062332698721278, gamma=0.035174023720897514, probability=True \n"
     ]
    },
    {
     "name": "stdout",
     "output_type": "stream",
     "text": [
      "[CV]  C=1.062332698721278, gamma=0.035174023720897514, probability=True, total=   0.0s\n",
      "[CV] C=1.062332698721278, gamma=0.035174023720897514, probability=True \n",
      "[CV]  C=1.062332698721278, gamma=0.035174023720897514, probability=True, total=   0.0s\n",
      "[CV] C=1.5148369533383845, gamma=0.014634565007639457, probability=True \n",
      "[CV]  C=1.5148369533383845, gamma=0.014634565007639457, probability=True, total=   0.0s\n",
      "[CV] C=1.5148369533383845, gamma=0.014634565007639457, probability=True \n",
      "[CV]  C=1.5148369533383845, gamma=0.014634565007639457, probability=True, total=   0.0s\n",
      "[CV] C=1.5148369533383845, gamma=0.014634565007639457, probability=True \n",
      "[CV]  C=1.5148369533383845, gamma=0.014634565007639457, probability=True, total=   0.0s\n",
      "[CV] C=3.534819056943396, gamma=0.01917205106827156, probability=True \n",
      "[CV]  C=3.534819056943396, gamma=0.01917205106827156, probability=True, total=   0.0s\n",
      "[CV] C=3.534819056943396, gamma=0.01917205106827156, probability=True \n",
      "[CV]  C=3.534819056943396, gamma=0.01917205106827156, probability=True, total=   0.0s\n",
      "[CV] C=3.534819056943396, gamma=0.01917205106827156, probability=True \n",
      "[CV]  C=3.534819056943396, gamma=0.01917205106827156, probability=True, total=   0.0s\n",
      "[CV] C=6.787073287245851, gamma=0.002677932275547315, probability=True \n",
      "[CV]  C=6.787073287245851, gamma=0.002677932275547315, probability=True, total=   0.0s\n",
      "[CV] C=6.787073287245851, gamma=0.002677932275547315, probability=True \n",
      "[CV]  C=6.787073287245851, gamma=0.002677932275547315, probability=True, total=   0.0s\n",
      "[CV] C=6.787073287245851, gamma=0.002677932275547315, probability=True \n",
      "[CV]  C=6.787073287245851, gamma=0.002677932275547315, probability=True, total=   0.0s\n",
      "[CV] C=4.239359874434358, gamma=0.008224071225660452, probability=True \n",
      "[CV]  C=4.239359874434358, gamma=0.008224071225660452, probability=True, total=   0.0s\n",
      "[CV] C=4.239359874434358, gamma=0.008224071225660452, probability=True \n",
      "[CV]  C=4.239359874434358, gamma=0.008224071225660452, probability=True, total=   0.0s\n",
      "[CV] C=4.239359874434358, gamma=0.008224071225660452, probability=True \n",
      "[CV]  C=4.239359874434358, gamma=0.008224071225660452, probability=True, total=   0.0s\n",
      "[CV] C=9.697822113398624, gamma=0.01648211126469822, probability=True \n",
      "[CV]  C=9.697822113398624, gamma=0.01648211126469822, probability=True, total=   0.0s\n",
      "[CV] C=9.697822113398624, gamma=0.01648211126469822, probability=True \n",
      "[CV]  C=9.697822113398624, gamma=0.01648211126469822, probability=True, total=   0.0s\n",
      "[CV] C=9.697822113398624, gamma=0.01648211126469822, probability=True \n",
      "[CV]  C=9.697822113398624, gamma=0.01648211126469822, probability=True, total=   0.0s\n",
      "[CV] C=7.492756982468886, gamma=0.0012057368794040008, probability=True \n",
      "[CV]  C=7.492756982468886, gamma=0.0012057368794040008, probability=True, total=   0.0s\n",
      "[CV] C=7.492756982468886, gamma=0.0012057368794040008, probability=True \n",
      "[CV]  C=7.492756982468886, gamma=0.0012057368794040008, probability=True, total=   0.0s\n",
      "[CV] C=7.492756982468886, gamma=0.0012057368794040008, probability=True \n",
      "[CV]  C=7.492756982468886, gamma=0.0012057368794040008, probability=True, total=   0.0s\n",
      "[CV] C=2.912812727173734, gamma=0.017725427634353474, probability=True \n",
      "[CV]  C=2.912812727173734, gamma=0.017725427634353474, probability=True, total=   0.0s\n",
      "[CV] C=2.912812727173734, gamma=0.017725427634353474, probability=True \n",
      "[CV]  C=2.912812727173734, gamma=0.017725427634353474, probability=True, total=   0.0s\n",
      "[CV] C=2.912812727173734, gamma=0.017725427634353474, probability=True \n",
      "[CV]  C=2.912812727173734, gamma=0.017725427634353474, probability=True, total=   0.0s\n",
      "[CV] C=10.695395793312388, gamma=0.07341485407305202, probability=True \n",
      "[CV]  C=10.695395793312388, gamma=0.07341485407305202, probability=True, total=   0.0s\n",
      "[CV] C=10.695395793312388, gamma=0.07341485407305202, probability=True \n",
      "[CV]  C=10.695395793312388, gamma=0.07341485407305202, probability=True, total=   0.0s\n",
      "[CV] C=10.695395793312388, gamma=0.07341485407305202, probability=True \n",
      "[CV]  C=10.695395793312388, gamma=0.07341485407305202, probability=True, total=   0.0s\n",
      "[CV] C=4.505238266350821, gamma=0.0015910926082704964, probability=True \n",
      "[CV]  C=4.505238266350821, gamma=0.0015910926082704964, probability=True, total=   0.0s\n",
      "[CV] C=4.505238266350821, gamma=0.0015910926082704964, probability=True \n",
      "[CV]  C=4.505238266350821, gamma=0.0015910926082704964, probability=True, total=   0.0s\n",
      "[CV] C=4.505238266350821, gamma=0.0015910926082704964, probability=True \n",
      "[CV]  C=4.505238266350821, gamma=0.0015910926082704964, probability=True, total=   0.0s\n",
      "[CV] C=3.6733520882794934, gamma=0.09000735130448168, probability=True \n",
      "[CV]  C=3.6733520882794934, gamma=0.09000735130448168, probability=True, total=   0.0s\n",
      "[CV] C=3.6733520882794934, gamma=0.09000735130448168, probability=True \n",
      "[CV]  C=3.6733520882794934, gamma=0.09000735130448168, probability=True, total=   0.0s\n",
      "[CV] C=3.6733520882794934, gamma=0.09000735130448168, probability=True \n",
      "[CV]  C=3.6733520882794934, gamma=0.09000735130448168, probability=True, total=   0.0s\n",
      "[CV] C=8.262263516396327, gamma=0.003928751796082469, probability=True \n",
      "[CV]  C=8.262263516396327, gamma=0.003928751796082469, probability=True, total=   0.0s\n",
      "[CV] C=8.262263516396327, gamma=0.003928751796082469, probability=True \n",
      "[CV]  C=8.262263516396327, gamma=0.003928751796082469, probability=True, total=   0.0s\n",
      "[CV] C=8.262263516396327, gamma=0.003928751796082469, probability=True \n",
      "[CV]  C=8.262263516396327, gamma=0.003928751796082469, probability=True, total=   0.0s\n",
      "[CV] C=3.967583266894044, gamma=0.01563322082508526, probability=True \n",
      "[CV]  C=3.967583266894044, gamma=0.01563322082508526, probability=True, total=   0.0s\n",
      "[CV] C=3.967583266894044, gamma=0.01563322082508526, probability=True \n",
      "[CV]  C=3.967583266894044, gamma=0.01563322082508526, probability=True, total=   0.0s\n",
      "[CV] C=3.967583266894044, gamma=0.01563322082508526, probability=True \n",
      "[CV]  C=3.967583266894044, gamma=0.01563322082508526, probability=True, total=   0.0s\n",
      "[CV] C=10.219458498770873, gamma=0.03831570838538255, probability=True \n",
      "[CV]  C=10.219458498770873, gamma=0.03831570838538255, probability=True, total=   0.0s\n",
      "[CV] C=10.219458498770873, gamma=0.03831570838538255, probability=True \n",
      "[CV]  C=10.219458498770873, gamma=0.03831570838538255, probability=True, total=   0.0s\n",
      "[CV] C=10.219458498770873, gamma=0.03831570838538255, probability=True \n",
      "[CV]  C=10.219458498770873, gamma=0.03831570838538255, probability=True, total=   0.0s\n",
      "[CV] C=10.284000317730728, gamma=0.010399695183428627, probability=True \n",
      "[CV]  C=10.284000317730728, gamma=0.010399695183428627, probability=True, total=   0.0s\n",
      "[CV] C=10.284000317730728, gamma=0.010399695183428627, probability=True \n",
      "[CV]  C=10.284000317730728, gamma=0.010399695183428627, probability=True, total=   0.0s\n",
      "[CV] C=10.284000317730728, gamma=0.010399695183428627, probability=True \n",
      "[CV]  C=10.284000317730728, gamma=0.010399695183428627, probability=True, total=   0.0s\n",
      "[CV] C=1.2500259904911695, gamma=0.001097784953477619, probability=True \n",
      "[CV]  C=1.2500259904911695, gamma=0.001097784953477619, probability=True, total=   0.0s\n",
      "[CV] C=1.2500259904911695, gamma=0.001097784953477619, probability=True \n",
      "[CV]  C=1.2500259904911695, gamma=0.001097784953477619, probability=True, total=   0.0s\n",
      "[CV] C=1.2500259904911695, gamma=0.001097784953477619, probability=True \n",
      "[CV]  C=1.2500259904911695, gamma=0.001097784953477619, probability=True, total=   0.0s\n",
      "[CV] C=5.6575196693706635, gamma=0.001680172205164072, probability=True \n",
      "[CV]  C=5.6575196693706635, gamma=0.001680172205164072, probability=True, total=   0.0s\n",
      "[CV] C=5.6575196693706635, gamma=0.001680172205164072, probability=True \n",
      "[CV]  C=5.6575196693706635, gamma=0.001680172205164072, probability=True, total=   0.0s\n",
      "[CV] C=5.6575196693706635, gamma=0.001680172205164072, probability=True \n",
      "[CV]  C=5.6575196693706635, gamma=0.001680172205164072, probability=True, total=   0.0s\n",
      "[CV] C=2.522282661931417, gamma=0.02054350785751852, probability=True \n",
      "[CV]  C=2.522282661931417, gamma=0.02054350785751852, probability=True, total=   0.0s\n",
      "[CV] C=2.522282661931417, gamma=0.02054350785751852, probability=True \n",
      "[CV]  C=2.522282661931417, gamma=0.02054350785751852, probability=True, total=   0.0s\n",
      "[CV] C=2.522282661931417, gamma=0.02054350785751852, probability=True \n",
      "[CV]  C=2.522282661931417, gamma=0.02054350785751852, probability=True, total=   0.0s\n",
      "[CV] C=5.1909296785119565, gamma=0.017727991193133622, probability=True \n",
      "[CV]  C=5.1909296785119565, gamma=0.017727991193133622, probability=True, total=   0.0s\n",
      "[CV] C=5.1909296785119565, gamma=0.017727991193133622, probability=True \n",
      "[CV]  C=5.1909296785119565, gamma=0.017727991193133622, probability=True, total=   0.0s\n",
      "[CV] C=5.1909296785119565, gamma=0.017727991193133622, probability=True \n",
      "[CV]  C=5.1909296785119565, gamma=0.017727991193133622, probability=True, total=   0.0s\n",
      "[CV] C=2.3916716381217076, gamma=0.06832552675722915, probability=True \n",
      "[CV]  C=2.3916716381217076, gamma=0.06832552675722915, probability=True, total=   0.0s\n",
      "[CV] C=2.3916716381217076, gamma=0.06832552675722915, probability=True \n",
      "[CV]  C=2.3916716381217076, gamma=0.06832552675722915, probability=True, total=   0.0s\n",
      "[CV] C=2.3916716381217076, gamma=0.06832552675722915, probability=True \n",
      "[CV]  C=2.3916716381217076, gamma=0.06832552675722915, probability=True, total=   0.0s\n",
      "[CV] C=3.1408325975740325, gamma=0.07061756684241283, probability=True \n",
      "[CV]  C=3.1408325975740325, gamma=0.07061756684241283, probability=True, total=   0.0s\n",
      "[CV] C=3.1408325975740325, gamma=0.07061756684241283, probability=True \n",
      "[CV]  C=3.1408325975740325, gamma=0.07061756684241283, probability=True, total=   0.0s\n",
      "[CV] C=3.1408325975740325, gamma=0.07061756684241283, probability=True \n",
      "[CV]  C=3.1408325975740325, gamma=0.07061756684241283, probability=True, total=   0.0s\n",
      "[CV] C=8.338883928462838, gamma=0.00491990132138216, probability=True \n",
      "[CV]  C=8.338883928462838, gamma=0.00491990132138216, probability=True, total=   0.0s\n",
      "[CV] C=8.338883928462838, gamma=0.00491990132138216, probability=True \n"
     ]
    },
    {
     "name": "stdout",
     "output_type": "stream",
     "text": [
      "[CV]  C=8.338883928462838, gamma=0.00491990132138216, probability=True, total=   0.0s\n",
      "[CV] C=8.338883928462838, gamma=0.00491990132138216, probability=True \n",
      "[CV]  C=8.338883928462838, gamma=0.00491990132138216, probability=True, total=   0.0s\n",
      "[CV] C=2.3354213318444175, gamma=0.053589518725044354, probability=True \n",
      "[CV]  C=2.3354213318444175, gamma=0.053589518725044354, probability=True, total=   0.0s\n",
      "[CV] C=2.3354213318444175, gamma=0.053589518725044354, probability=True \n",
      "[CV]  C=2.3354213318444175, gamma=0.053589518725044354, probability=True, total=   0.0s\n",
      "[CV] C=2.3354213318444175, gamma=0.053589518725044354, probability=True \n",
      "[CV]  C=2.3354213318444175, gamma=0.053589518725044354, probability=True, total=   0.0s\n",
      "[CV] C=6.918723916973439, gamma=0.012307540226346897, probability=True \n",
      "[CV]  C=6.918723916973439, gamma=0.012307540226346897, probability=True, total=   0.0s\n",
      "[CV] C=6.918723916973439, gamma=0.012307540226346897, probability=True \n",
      "[CV]  C=6.918723916973439, gamma=0.012307540226346897, probability=True, total=   0.0s\n",
      "[CV] C=6.918723916973439, gamma=0.012307540226346897, probability=True \n",
      "[CV]  C=6.918723916973439, gamma=0.012307540226346897, probability=True, total=   0.0s\n",
      "[CV] C=4.244446943074893, gamma=0.004550058930311785, probability=True \n",
      "[CV]  C=4.244446943074893, gamma=0.004550058930311785, probability=True, total=   0.0s\n",
      "[CV] C=4.244446943074893, gamma=0.004550058930311785, probability=True \n",
      "[CV]  C=4.244446943074893, gamma=0.004550058930311785, probability=True, total=   0.0s\n",
      "[CV] C=4.244446943074893, gamma=0.004550058930311785, probability=True \n",
      "[CV]  C=4.244446943074893, gamma=0.004550058930311785, probability=True, total=   0.0s\n",
      "[CV] C=8.666118115312528, gamma=0.014872869448661345, probability=True \n",
      "[CV]  C=8.666118115312528, gamma=0.014872869448661345, probability=True, total=   0.0s\n",
      "[CV] C=8.666118115312528, gamma=0.014872869448661345, probability=True \n",
      "[CV]  C=8.666118115312528, gamma=0.014872869448661345, probability=True, total=   0.0s\n",
      "[CV] C=8.666118115312528, gamma=0.014872869448661345, probability=True \n",
      "[CV]  C=8.666118115312528, gamma=0.014872869448661345, probability=True, total=   0.0s\n",
      "[CV] C=3.485613316483665, gamma=0.002547362956612699, probability=True \n",
      "[CV]  C=3.485613316483665, gamma=0.002547362956612699, probability=True, total=   0.0s\n",
      "[CV] C=3.485613316483665, gamma=0.002547362956612699, probability=True \n",
      "[CV]  C=3.485613316483665, gamma=0.002547362956612699, probability=True, total=   0.0s\n",
      "[CV] C=3.485613316483665, gamma=0.002547362956612699, probability=True \n",
      "[CV]  C=3.485613316483665, gamma=0.002547362956612699, probability=True, total=   0.0s\n",
      "[CV] C=8.472626706006798, gamma=0.004046845559035482, probability=True \n",
      "[CV]  C=8.472626706006798, gamma=0.004046845559035482, probability=True, total=   0.0s\n",
      "[CV] C=8.472626706006798, gamma=0.004046845559035482, probability=True \n",
      "[CV]  C=8.472626706006798, gamma=0.004046845559035482, probability=True, total=   0.0s\n",
      "[CV] C=8.472626706006798, gamma=0.004046845559035482, probability=True \n",
      "[CV]  C=8.472626706006798, gamma=0.004046845559035482, probability=True, total=   0.0s\n",
      "[CV] C=6.412387878495637, gamma=0.004312435622107181, probability=True \n",
      "[CV]  C=6.412387878495637, gamma=0.004312435622107181, probability=True, total=   0.0s\n",
      "[CV] C=6.412387878495637, gamma=0.004312435622107181, probability=True \n",
      "[CV]  C=6.412387878495637, gamma=0.004312435622107181, probability=True, total=   0.0s\n",
      "[CV] C=6.412387878495637, gamma=0.004312435622107181, probability=True \n",
      "[CV]  C=6.412387878495637, gamma=0.004312435622107181, probability=True, total=   0.0s\n",
      "[CV] C=4.72272788909229, gamma=0.09699095981211288, probability=True .\n",
      "[CV]  C=4.72272788909229, gamma=0.09699095981211288, probability=True, total=   0.0s\n",
      "[CV] C=4.72272788909229, gamma=0.09699095981211288, probability=True .\n",
      "[CV]  C=4.72272788909229, gamma=0.09699095981211288, probability=True, total=   0.0s\n",
      "[CV] C=4.72272788909229, gamma=0.09699095981211288, probability=True .\n",
      "[CV]  C=4.72272788909229, gamma=0.09699095981211288, probability=True, total=   0.0s\n",
      "[CV] C=10.02450902395472, gamma=0.0011785446229650336, probability=True \n",
      "[CV]  C=10.02450902395472, gamma=0.0011785446229650336, probability=True, total=   0.0s\n",
      "[CV] C=10.02450902395472, gamma=0.0011785446229650336, probability=True \n",
      "[CV]  C=10.02450902395472, gamma=0.0011785446229650336, probability=True, total=   0.0s\n",
      "[CV] C=10.02450902395472, gamma=0.0011785446229650336, probability=True \n",
      "[CV]  C=10.02450902395472, gamma=0.0011785446229650336, probability=True, total=   0.0s\n",
      "[CV] C=10.70454865599515, gamma=0.0027124478854728827, probability=True \n",
      "[CV]  C=10.70454865599515, gamma=0.0027124478854728827, probability=True, total=   0.0s\n",
      "[CV] C=10.70454865599515, gamma=0.0027124478854728827, probability=True \n",
      "[CV]  C=10.70454865599515, gamma=0.0027124478854728827, probability=True, total=   0.0s\n",
      "[CV] C=10.70454865599515, gamma=0.0027124478854728827, probability=True \n",
      "[CV]  C=10.70454865599515, gamma=0.0027124478854728827, probability=True, total=   0.0s\n",
      "[CV] C=8.110338731075476, gamma=0.020968191548644342, probability=True \n",
      "[CV]  C=8.110338731075476, gamma=0.020968191548644342, probability=True, total=   0.0s\n",
      "[CV] C=8.110338731075476, gamma=0.020968191548644342, probability=True \n",
      "[CV]  C=8.110338731075476, gamma=0.020968191548644342, probability=True, total=   0.0s\n",
      "[CV] C=8.110338731075476, gamma=0.020968191548644342, probability=True \n",
      "[CV]  C=8.110338731075476, gamma=0.020968191548644342, probability=True, total=   0.0s\n",
      "[CV] C=8.094824127642102, gamma=0.0025836024487767856, probability=True \n",
      "[CV]  C=8.094824127642102, gamma=0.0025836024487767856, probability=True, total=   0.0s\n",
      "[CV] C=8.094824127642102, gamma=0.0025836024487767856, probability=True \n",
      "[CV]  C=8.094824127642102, gamma=0.0025836024487767856, probability=True, total=   0.0s\n",
      "[CV] C=8.094824127642102, gamma=0.0025836024487767856, probability=True \n",
      "[CV]  C=8.094824127642102, gamma=0.0025836024487767856, probability=True, total=   0.0s\n",
      "[CV] C=8.318796610947388, gamma=0.002116382116357023, probability=True \n",
      "[CV]  C=8.318796610947388, gamma=0.002116382116357023, probability=True, total=   0.0s\n",
      "[CV] C=8.318796610947388, gamma=0.002116382116357023, probability=True \n",
      "[CV]  C=8.318796610947388, gamma=0.002116382116357023, probability=True, total=   0.0s\n",
      "[CV] C=8.318796610947388, gamma=0.002116382116357023, probability=True \n",
      "[CV]  C=8.318796610947388, gamma=0.002116382116357023, probability=True, total=   0.0s\n",
      "[CV] C=9.32225697642378, gamma=0.005722618987703467, probability=True \n",
      "[CV]  C=9.32225697642378, gamma=0.005722618987703467, probability=True, total=   0.0s\n",
      "[CV] C=9.32225697642378, gamma=0.005722618987703467, probability=True \n",
      "[CV]  C=9.32225697642378, gamma=0.005722618987703467, probability=True, total=   0.0s\n",
      "[CV] C=9.32225697642378, gamma=0.005722618987703467, probability=True \n",
      "[CV]  C=9.32225697642378, gamma=0.005722618987703467, probability=True, total=   0.0s\n",
      "[CV] C=5.089827298555331, gamma=0.0025990119753225662, probability=True \n",
      "[CV]  C=5.089827298555331, gamma=0.0025990119753225662, probability=True, total=   0.0s\n",
      "[CV] C=5.089827298555331, gamma=0.0025990119753225662, probability=True \n",
      "[CV]  C=5.089827298555331, gamma=0.0025990119753225662, probability=True, total=   0.0s\n",
      "[CV] C=5.089827298555331, gamma=0.0025990119753225662, probability=True \n",
      "[CV]  C=5.089827298555331, gamma=0.0025990119753225662, probability=True, total=   0.0s\n",
      "[CV] C=4.761559001547784, gamma=0.04230372388224984, probability=True \n",
      "[CV]  C=4.761559001547784, gamma=0.04230372388224984, probability=True, total=   0.0s\n",
      "[CV] C=4.761559001547784, gamma=0.04230372388224984, probability=True \n",
      "[CV]  C=4.761559001547784, gamma=0.04230372388224984, probability=True, total=   0.0s\n",
      "[CV] C=4.761559001547784, gamma=0.04230372388224984, probability=True \n",
      "[CV]  C=4.761559001547784, gamma=0.04230372388224984, probability=True, total=   0.0s\n",
      "[CV] C=6.664934248672694, gamma=0.09463118389053743, probability=True \n",
      "[CV]  C=6.664934248672694, gamma=0.09463118389053743, probability=True, total=   0.0s\n",
      "[CV] C=6.664934248672694, gamma=0.09463118389053743, probability=True \n",
      "[CV]  C=6.664934248672694, gamma=0.09463118389053743, probability=True, total=   0.0s\n",
      "[CV] C=6.664934248672694, gamma=0.09463118389053743, probability=True \n",
      "[CV]  C=6.664934248672694, gamma=0.09463118389053743, probability=True, total=   0.0s\n",
      "[CV] C=9.852021332828564, gamma=0.005606003100174827, probability=True \n",
      "[CV]  C=9.852021332828564, gamma=0.005606003100174827, probability=True, total=   0.0s\n",
      "[CV] C=9.852021332828564, gamma=0.005606003100174827, probability=True \n",
      "[CV]  C=9.852021332828564, gamma=0.005606003100174827, probability=True, total=   0.0s\n",
      "[CV] C=9.852021332828564, gamma=0.005606003100174827, probability=True \n",
      "[CV]  C=9.852021332828564, gamma=0.005606003100174827, probability=True, total=   0.0s\n",
      "[CV] C=6.11137527689667, gamma=0.004858914338001791, probability=True \n",
      "[CV]  C=6.11137527689667, gamma=0.004858914338001791, probability=True, total=   0.0s\n",
      "[CV] C=6.11137527689667, gamma=0.004858914338001791, probability=True \n",
      "[CV]  C=6.11137527689667, gamma=0.004858914338001791, probability=True, total=   0.0s\n",
      "[CV] C=6.11137527689667, gamma=0.004858914338001791, probability=True \n",
      "[CV]  C=6.11137527689667, gamma=0.004858914338001791, probability=True, total=   0.0s\n",
      "[CV] C=8.83304951632524, gamma=0.0748047177182789, probability=True ..\n",
      "[CV]  C=8.83304951632524, gamma=0.0748047177182789, probability=True, total=   0.0s\n",
      "[CV] C=8.83304951632524, gamma=0.0748047177182789, probability=True ..\n",
      "[CV]  C=8.83304951632524, gamma=0.0748047177182789, probability=True, total=   0.0s\n",
      "[CV] C=8.83304951632524, gamma=0.0748047177182789, probability=True ..\n",
      "[CV]  C=8.83304951632524, gamma=0.0748047177182789, probability=True, total=   0.0s\n",
      "[CV] C=3.3587869161179453, gamma=0.054672325753935616, probability=True \n"
     ]
    },
    {
     "name": "stdout",
     "output_type": "stream",
     "text": [
      "[CV]  C=3.3587869161179453, gamma=0.054672325753935616, probability=True, total=   0.0s\n",
      "[CV] C=3.3587869161179453, gamma=0.054672325753935616, probability=True \n",
      "[CV]  C=3.3587869161179453, gamma=0.054672325753935616, probability=True, total=   0.0s\n",
      "[CV] C=3.3587869161179453, gamma=0.054672325753935616, probability=True \n",
      "[CV]  C=3.3587869161179453, gamma=0.054672325753935616, probability=True, total=   0.0s\n",
      "[CV] C=4.122558997343107, gamma=0.006409070894728998, probability=True \n",
      "[CV]  C=4.122558997343107, gamma=0.006409070894728998, probability=True, total=   0.0s\n",
      "[CV] C=4.122558997343107, gamma=0.006409070894728998, probability=True \n",
      "[CV]  C=4.122558997343107, gamma=0.006409070894728998, probability=True, total=   0.0s\n",
      "[CV] C=4.122558997343107, gamma=0.006409070894728998, probability=True \n",
      "[CV]  C=4.122558997343107, gamma=0.006409070894728998, probability=True, total=   0.0s\n",
      "[CV] C=1.3160784093230218, gamma=0.018445812729382085, probability=True \n",
      "[CV]  C=1.3160784093230218, gamma=0.018445812729382085, probability=True, total=   0.0s\n",
      "[CV] C=1.3160784093230218, gamma=0.018445812729382085, probability=True \n",
      "[CV]  C=1.3160784093230218, gamma=0.018445812729382085, probability=True, total=   0.0s\n",
      "[CV] C=1.3160784093230218, gamma=0.018445812729382085, probability=True \n",
      "[CV]  C=1.3160784093230218, gamma=0.018445812729382085, probability=True, total=   0.0s\n",
      "[CV] C=9.157421809573819, gamma=0.07913594588284206, probability=True \n",
      "[CV]  C=9.157421809573819, gamma=0.07913594588284206, probability=True, total=   0.0s\n",
      "[CV] C=9.157421809573819, gamma=0.07913594588284206, probability=True \n",
      "[CV]  C=9.157421809573819, gamma=0.07913594588284206, probability=True, total=   0.0s\n",
      "[CV] C=9.157421809573819, gamma=0.07913594588284206, probability=True \n",
      "[CV]  C=9.157421809573819, gamma=0.07913594588284206, probability=True, total=   0.0s\n",
      "[CV] C=6.2667681032810965, gamma=0.04345224419901186, probability=True \n",
      "[CV]  C=6.2667681032810965, gamma=0.04345224419901186, probability=True, total=   0.0s\n",
      "[CV] C=6.2667681032810965, gamma=0.04345224419901186, probability=True \n",
      "[CV]  C=6.2667681032810965, gamma=0.04345224419901186, probability=True, total=   0.0s\n",
      "[CV] C=6.2667681032810965, gamma=0.04345224419901186, probability=True \n",
      "[CV]  C=6.2667681032810965, gamma=0.04345224419901186, probability=True, total=   0.0s\n",
      "[CV] C=5.8500011152589515, gamma=0.08497102799968045, probability=True \n",
      "[CV]  C=5.8500011152589515, gamma=0.08497102799968045, probability=True, total=   0.0s\n",
      "[CV] C=5.8500011152589515, gamma=0.08497102799968045, probability=True \n",
      "[CV]  C=5.8500011152589515, gamma=0.08497102799968045, probability=True, total=   0.0s\n",
      "[CV] C=5.8500011152589515, gamma=0.08497102799968045, probability=True \n",
      "[CV]  C=5.8500011152589515, gamma=0.08497102799968045, probability=True, total=   0.0s\n",
      "[CV] C=7.2616653388554075, gamma=0.03449639080219372, probability=True \n",
      "[CV]  C=7.2616653388554075, gamma=0.03449639080219372, probability=True, total=   0.0s\n",
      "[CV] C=7.2616653388554075, gamma=0.03449639080219372, probability=True \n",
      "[CV]  C=7.2616653388554075, gamma=0.03449639080219372, probability=True, total=   0.0s\n",
      "[CV] C=7.2616653388554075, gamma=0.03449639080219372, probability=True \n",
      "[CV]  C=7.2616653388554075, gamma=0.03449639080219372, probability=True, total=   0.0s\n",
      "[CV] C=7.314383545801416, gamma=0.002991898419902642, probability=True \n",
      "[CV]  C=7.314383545801416, gamma=0.002991898419902642, probability=True, total=   0.0s\n",
      "[CV] C=7.314383545801416, gamma=0.002991898419902642, probability=True \n",
      "[CV]  C=7.314383545801416, gamma=0.002991898419902642, probability=True, total=   0.0s\n",
      "[CV] C=7.314383545801416, gamma=0.002991898419902642, probability=True \n",
      "[CV]  C=7.314383545801416, gamma=0.002991898419902642, probability=True, total=   0.0s\n"
     ]
    },
    {
     "name": "stderr",
     "output_type": "stream",
     "text": [
      "[Parallel(n_jobs=1)]: Done 300 out of 300 | elapsed:    1.9s finished\n"
     ]
    },
    {
     "data": {
      "text/plain": [
       "RandomizedSearchCV(cv=None, error_score='raise',\n",
       "          estimator=SVC(C=1.0, cache_size=200, class_weight=None, coef0=0.0,\n",
       "  decision_function_shape='ovr', degree=3, gamma='auto', kernel='rbf',\n",
       "  max_iter=-1, probability=False, random_state=None, shrinking=True,\n",
       "  tol=0.001, verbose=False),\n",
       "          fit_params=None, iid=True, n_iter=100, n_jobs=1,\n",
       "          param_distributions={'gamma': <scipy.stats._distn_infrastructure.rv_frozen object at 0x0000018157125828>, 'C': <scipy.stats._distn_infrastructure.rv_frozen object at 0x0000018157125EF0>, 'probability': [True]},\n",
       "          pre_dispatch='2*n_jobs', random_state=None, refit=True,\n",
       "          return_train_score='warn', scoring=None, verbose=2)"
      ]
     },
     "execution_count": 19,
     "metadata": {},
     "output_type": "execute_result"
    }
   ],
   "source": [
    "param_distributions = {\"gamma\": reciprocal(0.001, 0.1), \"C\": uniform(1, 10), 'probability' : [True]}\n",
    "rnd_search_cv = RandomizedSearchCV(svm_clf, param_distributions, n_iter=100, verbose=2)\n",
    "rnd_search_cv.fit(X_train_scaled, y_train)"
   ]
  },
  {
   "cell_type": "code",
   "execution_count": 20,
   "metadata": {},
   "outputs": [
    {
     "data": {
      "text/plain": [
       "SVC(C=4.125354818841789, cache_size=200, class_weight=None, coef0=0.0,\n",
       "  decision_function_shape='ovr', degree=3, gamma=0.0011565918919127572,\n",
       "  kernel='rbf', max_iter=-1, probability=True, random_state=None,\n",
       "  shrinking=True, tol=0.001, verbose=False)"
      ]
     },
     "execution_count": 20,
     "metadata": {},
     "output_type": "execute_result"
    }
   ],
   "source": [
    "rnd_search_cv.best_estimator_"
   ]
  },
  {
   "cell_type": "code",
   "execution_count": 21,
   "metadata": {},
   "outputs": [
    {
     "data": {
      "text/plain": [
       "0.725"
      ]
     },
     "execution_count": 21,
     "metadata": {},
     "output_type": "execute_result"
    }
   ],
   "source": [
    "rnd_search_cv.best_score_"
   ]
  },
  {
   "cell_type": "markdown",
   "metadata": {},
   "source": [
    "### 2 - Grid Search"
   ]
  },
  {
   "cell_type": "code",
   "execution_count": 22,
   "metadata": {},
   "outputs": [
    {
     "name": "stdout",
     "output_type": "stream",
     "text": [
      "Fitting 3 folds for each of 350 candidates, totalling 1050 fits\n"
     ]
    },
    {
     "name": "stderr",
     "output_type": "stream",
     "text": [
      "[Parallel(n_jobs=-1)]: Done  24 tasks      | elapsed:    3.4s\n",
      "[Parallel(n_jobs=-1)]: Done 1050 out of 1050 | elapsed:    9.6s finished\n"
     ]
    },
    {
     "data": {
      "text/plain": [
       "GridSearchCV(cv=None, error_score='raise',\n",
       "       estimator=SVC(C=1.0, cache_size=200, class_weight=None, coef0=0.0,\n",
       "  decision_function_shape='ovr', degree=3, gamma='auto', kernel='rbf',\n",
       "  max_iter=-1, probability=False, random_state=None, shrinking=True,\n",
       "  tol=0.001, verbose=False),\n",
       "       fit_params=None, iid=True, n_jobs=-1,\n",
       "       param_grid=[{'kernel': ['poly', 'rbf'], 'C': [1.0, 3.0, 10.0, 30.0, 100.0, 300.0, 1000.0], 'degree': [2, 3, 4, 5, 6], 'gamma': [0.01, 0.03, 0.1, 0.3, 1.0], 'probability': [True]}],\n",
       "       pre_dispatch='2*n_jobs', refit=True, return_train_score='warn',\n",
       "       scoring=None, verbose=3)"
      ]
     },
     "execution_count": 22,
     "metadata": {},
     "output_type": "execute_result"
    }
   ],
   "source": [
    "param_grid = [\n",
    "        #{'kernel': ['linear'], 'C': [10., 30., 100., 300., 1000., 3000., 10000., 30000.0]},\n",
    "         {'kernel': ['poly','rbf'], 'C': [1.0, 3.0, 10., 30., 100., 300., 1000.0], \n",
    "         'degree': [2, 3, 4, 5 ,6],\n",
    "         'gamma': [0.01, 0.03, 0.1, 0.3, 1.0],\n",
    "         'probability' : [True]},\n",
    "    ]\n",
    "grid_search_cv = GridSearchCV(svm_clf, param_grid, verbose=3, n_jobs=-1)\n",
    "grid_search_cv.fit(X_train_scaled, y_train)"
   ]
  },
  {
   "cell_type": "code",
   "execution_count": 23,
   "metadata": {},
   "outputs": [
    {
     "data": {
      "text/plain": [
       "SVC(C=100.0, cache_size=200, class_weight=None, coef0=0.0,\n",
       "  decision_function_shape='ovr', degree=3, gamma=0.01, kernel='poly',\n",
       "  max_iter=-1, probability=True, random_state=None, shrinking=True,\n",
       "  tol=0.001, verbose=False)"
      ]
     },
     "execution_count": 23,
     "metadata": {},
     "output_type": "execute_result"
    }
   ],
   "source": [
    "grid_search_cv.best_estimator_"
   ]
  },
  {
   "cell_type": "code",
   "execution_count": 24,
   "metadata": {},
   "outputs": [
    {
     "data": {
      "text/plain": [
       "0.7416666666666667"
      ]
     },
     "execution_count": 24,
     "metadata": {},
     "output_type": "execute_result"
    }
   ],
   "source": [
    "grid_search_cv.best_score_"
   ]
  },
  {
   "cell_type": "code",
   "execution_count": 25,
   "metadata": {},
   "outputs": [
    {
     "name": "stdout",
     "output_type": "stream",
     "text": [
      "Grid Search\n"
     ]
    }
   ],
   "source": [
    "if grid_search_cv.best_score_ > rnd_search_cv.best_score_:\n",
    "    final_model = grid_search_cv.best_estimator_\n",
    "    print('Grid Search')\n",
    "else:\n",
    "    final_model = rnd_search_cv.best_estimator_\n",
    "    print('Random Search')"
   ]
  },
  {
   "cell_type": "code",
   "execution_count": 26,
   "metadata": {},
   "outputs": [],
   "source": [
    "#final_model = rnd_search_cv.best_estimator_"
   ]
  },
  {
   "cell_type": "code",
   "execution_count": 27,
   "metadata": {},
   "outputs": [],
   "source": [
    "final_model = SVC(C=1.0, cache_size=200, class_weight=None, coef0=0.0,\n",
    "  decision_function_shape='ovr', degree=2, gamma=1.0, kernel='rbf',\n",
    "  max_iter=-1, probability=True, random_state=None, shrinking=True,\n",
    "  tol=0.001, verbose=False)"
   ]
  },
  {
   "cell_type": "code",
   "execution_count": 28,
   "metadata": {},
   "outputs": [
    {
     "name": "stderr",
     "output_type": "stream",
     "text": [
      "[Parallel(n_jobs=-1)]: Done   2 out of   5 | elapsed:    2.7s remaining:    4.1s\n"
     ]
    },
    {
     "name": "stdout",
     "output_type": "stream",
     "text": [
      "[0.67 0.71 0.71 0.83 0.79]\n"
     ]
    },
    {
     "name": "stderr",
     "output_type": "stream",
     "text": [
      "[Parallel(n_jobs=-1)]: Done   5 out of   5 | elapsed:    3.6s finished\n"
     ]
    }
   ],
   "source": [
    "cv_scores = cross_val_score(final_model, X_train_scaled, y_train, cv=5, verbose=3, n_jobs=-1)\n",
    "print(cv_scores)"
   ]
  },
  {
   "cell_type": "markdown",
   "metadata": {},
   "source": [
    "## Predicting the Classes in Trainning Set"
   ]
  },
  {
   "cell_type": "code",
   "execution_count": 29,
   "metadata": {},
   "outputs": [],
   "source": [
    "final_model.fit(X_train_scaled, y_train)\n",
    "y_pred = final_model.predict(X_train_scaled)\n",
    "y_pred_prob = final_model.predict_proba(X_train_scaled)[:,1]"
   ]
  },
  {
   "cell_type": "code",
   "execution_count": 30,
   "metadata": {},
   "outputs": [],
   "source": [
    "y_pred_prob;"
   ]
  },
  {
   "cell_type": "code",
   "execution_count": 31,
   "metadata": {},
   "outputs": [
    {
     "data": {
      "image/png": "[encoded data removed]",
      "text/plain": [
       "<Figure size 432x288 with 1 Axes>"
      ]
     },
     "metadata": {},
     "output_type": "display_data"
    }
   ],
   "source": [
    "plotRoc(y_train, y_pred_prob)"
   ]
  },
  {
   "cell_type": "markdown",
   "metadata": {},
   "source": [
    "<font color='red'>\n",
    "Notes:<br>\n",
    "The probability model is created using cross validation, so the results can be slightly different than those obtained by predict. Also, it will produce meaningless results on very small datasets.</font>"
   ]
  },
  {
   "cell_type": "code",
   "execution_count": 32,
   "metadata": {},
   "outputs": [
    {
     "name": "stdout",
     "output_type": "stream",
     "text": [
      "Confusion matrix, without normalization\n"
     ]
    },
    {
     "data": {
      "image/png": "[encoded data removed]",
      "text/plain": [
       "<Figure size 432x288 with 2 Axes>"
      ]
     },
     "metadata": {},
     "output_type": "display_data"
    }
   ],
   "source": [
    "printcfm(y_train,y_pred,title='confusion matrix')"
   ]
  },
  {
   "cell_type": "markdown",
   "metadata": {},
   "source": [
    "## Evaluating the model with Cross-Validation"
   ]
  },
  {
   "cell_type": "code",
   "execution_count": 33,
   "metadata": {},
   "outputs": [],
   "source": [
    "y_pred_prob = final_model.predict_proba(X_train_scaled)[:,1]"
   ]
  },
  {
   "cell_type": "code",
   "execution_count": 34,
   "metadata": {},
   "outputs": [
    {
     "name": "stderr",
     "output_type": "stream",
     "text": [
      "[Parallel(n_jobs=1)]: Done   1 out of   1 | elapsed:    0.0s remaining:    0.0s\n",
      "[Parallel(n_jobs=1)]: Done   2 out of   2 | elapsed:    0.0s remaining:    0.0s\n",
      "[Parallel(n_jobs=1)]: Done   3 out of   3 | elapsed:    0.0s finished\n"
     ]
    }
   ],
   "source": [
    "y_scores = cross_val_predict(final_model, X_train_scaled, y_train, cv=3, verbose=3, method='predict_proba')"
   ]
  },
  {
   "cell_type": "code",
   "execution_count": 35,
   "metadata": {},
   "outputs": [
    {
     "name": "stderr",
     "output_type": "stream",
     "text": [
      "[Parallel(n_jobs=1)]: Done   1 out of   1 | elapsed:    0.0s remaining:    0.0s\n",
      "[Parallel(n_jobs=1)]: Done   2 out of   2 | elapsed:    0.0s remaining:    0.0s\n",
      "[Parallel(n_jobs=1)]: Done   3 out of   3 | elapsed:    0.0s finished\n"
     ]
    }
   ],
   "source": [
    "y_train_pred = cross_val_predict(final_model, X_train_scaled, y_train, cv=3, verbose=3)\n",
    "# hack to work around issue #9589 in Scikit-Learn 0.19.0\n",
    "if y_scores.ndim == 2:\n",
    "    y_scores = y_scores[:, 1]\n",
    "# print(y_scores)\n",
    "# print(np.mean(y_scores))"
   ]
  },
  {
   "cell_type": "code",
   "execution_count": 36,
   "metadata": {},
   "outputs": [
    {
     "data": {
      "image/png": "[encoded data removed]",
      "text/plain": [
       "<Figure size 432x288 with 1 Axes>"
      ]
     },
     "metadata": {},
     "output_type": "display_data"
    }
   ],
   "source": [
    "plotRoc(y_train, y_train_pred)"
   ]
  },
  {
   "cell_type": "markdown",
   "metadata": {},
   "source": [
    "<font color='red'>\n",
    "Notes:<br>\n",
    "The probability model is created using cross validation, so the results can be slightly different than those obtained by predict. Also, it will produce meaningless results on very small datasets.</font>"
   ]
  },
  {
   "cell_type": "code",
   "execution_count": 37,
   "metadata": {},
   "outputs": [
    {
     "data": {
      "text/plain": [
       "0.5"
      ]
     },
     "execution_count": 37,
     "metadata": {},
     "output_type": "execute_result"
    }
   ],
   "source": [
    "auc_train = roc_auc_score(y_train, y_train_pred)\n",
    "auc_train"
   ]
  },
  {
   "cell_type": "code",
   "execution_count": 38,
   "metadata": {},
   "outputs": [
    {
     "name": "stdout",
     "output_type": "stream",
     "text": [
      "Confusion matrix, without normalization\n"
     ]
    },
    {
     "data": {
      "image/png": "[encoded data removed]",
      "text/plain": [
       "<Figure size 432x288 with 2 Axes>"
      ]
     },
     "metadata": {},
     "output_type": "display_data"
    }
   ],
   "source": [
    "printcfm(y_train,y_train_pred,title='confusion matrix')"
   ]
  },
  {
   "cell_type": "code",
   "execution_count": 39,
   "metadata": {},
   "outputs": [
    {
     "name": "stdout",
     "output_type": "stream",
     "text": [
      "             precision    recall  f1-score   support\n",
      "\n",
      "          0       0.71      1.00      0.83        85\n",
      "          1       0.00      0.00      0.00        35\n",
      "\n",
      "avg / total       0.50      0.71      0.59       120\n",
      "\n"
     ]
    },
    {
     "name": "stderr",
     "output_type": "stream",
     "text": [
      "C:\\Users\\giova\\AppData\\Local\\Continuum\\anaconda3\\lib\\site-packages\\sklearn\\metrics\\classification.py:1135: UndefinedMetricWarning: Precision and F-score are ill-defined and being set to 0.0 in labels with no predicted samples.\n",
      "  'precision', 'predicted', average, warn_for)\n"
     ]
    }
   ],
   "source": [
    "print(classification_report(y_train, y_train_pred))"
   ]
  },
  {
   "cell_type": "markdown",
   "metadata": {},
   "source": [
    "## Precision/Recall Tradeoff"
   ]
  },
  {
   "cell_type": "code",
   "execution_count": 40,
   "metadata": {},
   "outputs": [
    {
     "data": {
      "image/png": "[encoded data removed]",
      "text/plain": [
       "<Figure size 432x288 with 1 Axes>"
      ]
     },
     "metadata": {},
     "output_type": "display_data"
    }
   ],
   "source": [
    "precisions, recalls, thresholds = precision_recall_curve(y_train, y_scores)\n",
    "def plot_precision_recall_vs_threshold(precisions, recalls, thresholds):\n",
    "    plt.plot(thresholds, precisions[:-1], \"b--\", label=\"Precision\")\n",
    "    plt.plot(thresholds, recalls[:-1], \"g-\", label=\"Recall\")\n",
    "    plt.xlabel(\"Threshold\")\n",
    "    plt.legend(loc=\"upper left\")\n",
    "    plt.ylim([0, 1])\n",
    "plot_precision_recall_vs_threshold(precisions, recalls, thresholds)\n",
    "plt.show()"
   ]
  },
  {
   "cell_type": "code",
   "execution_count": 41,
   "metadata": {},
   "outputs": [
    {
     "name": "stdout",
     "output_type": "stream",
     "text": [
      "[0.71 0.7  0.72]\n",
      "0.7084219303731499\n"
     ]
    }
   ],
   "source": [
    "cv_scores = cross_val_score(final_model, X_train_scaled, y_train, cv=3)\n",
    "print(cv_scores)\n",
    "print(np.mean(cv_scores))"
   ]
  },
  {
   "cell_type": "code",
   "execution_count": 42,
   "metadata": {},
   "outputs": [
    {
     "data": {
      "image/png": "[encoded data removed]",
      "text/plain": [
       "<Figure size 576x432 with 1 Axes>"
      ]
     },
     "metadata": {},
     "output_type": "display_data"
    }
   ],
   "source": [
    "plot_precision_vs_recall(precisions, recalls)"
   ]
  },
  {
   "cell_type": "markdown",
   "metadata": {},
   "source": [
    "# Evaluating the model with LOO"
   ]
  },
  {
   "cell_type": "code",
   "execution_count": 43,
   "metadata": {},
   "outputs": [
    {
     "data": {
      "text/plain": [
       "120"
      ]
     },
     "execution_count": 43,
     "metadata": {},
     "output_type": "execute_result"
    }
   ],
   "source": [
    "loo = LeaveOneOut()\n",
    "loo.get_n_splits(dfFase1)"
   ]
  },
  {
   "cell_type": "code",
   "execution_count": 44,
   "metadata": {},
   "outputs": [
    {
     "name": "stdout",
     "output_type": "stream",
     "text": [
      "[  1   2   3   4   5   6   7   8   9  10  11  12  13  14  15  16  17  18\n",
      "  19  20  21  22  23  24  25  26  27  28  29  30  31  32  33  34  35  36\n",
      "  37  38  39  40  41  42  43  44  45  46  47  48  49  50  51  52  53  54\n",
      "  55  56  57  58  59  60  61  62  63  64  65  66  67  68  69  70  71  72\n",
      "  73  74  75  76  77  78  79  80  81  82  83  84  85  86  87  88  89  90\n",
      "  91  92  93  94  95  96  97  98  99 100 101 102 103 104 105 106 107 108\n",
      " 109 110 111 112 113 114 115 116 117 118 119] [0]\n",
      "[  0   2   3   4   5   6   7   8   9  10  11  12  13  14  15  16  17  18\n",
      "  19  20  21  22  23  24  25  26  27  28  29  30  31  32  33  34  35  36\n",
      "  37  38  39  40  41  42  43  44  45  46  47  48  49  50  51  52  53  54\n",
      "  55  56  57  58  59  60  61  62  63  64  65  66  67  68  69  70  71  72\n",
      "  73  74  75  76  77  78  79  80  81  82  83  84  85  86  87  88  89  90\n",
      "  91  92  93  94  95  96  97  98  99 100 101 102 103 104 105 106 107 108\n",
      " 109 110 111 112 113 114 115 116 117 118 119] [1]\n",
      "[  0   1   3   4   5   6   7   8   9  10  11  12  13  14  15  16  17  18\n",
      "  19  20  21  22  23  24  25  26  27  28  29  30  31  32  33  34  35  36\n",
      "  37  38  39  40  41  42  43  44  45  46  47  48  49  50  51  52  53  54\n",
      "  55  56  57  58  59  60  61  62  63  64  65  66  67  68  69  70  71  72\n",
      "  73  74  75  76  77  78  79  80  81  82  83  84  85  86  87  88  89  90\n",
      "  91  92  93  94  95  96  97  98  99 100 101 102 103 104 105 106 107 108\n",
      " 109 110 111 112 113 114 115 116 117 118 119] [2]\n",
      "[  0   1   2   4   5   6   7   8   9  10  11  12  13  14  15  16  17  18\n",
      "  19  20  21  22  23  24  25  26  27  28  29  30  31  32  33  34  35  36\n",
      "  37  38  39  40  41  42  43  44  45  46  47  48  49  50  51  52  53  54\n",
      "  55  56  57  58  59  60  61  62  63  64  65  66  67  68  69  70  71  72\n",
      "  73  74  75  76  77  78  79  80  81  82  83  84  85  86  87  88  89  90\n",
      "  91  92  93  94  95  96  97  98  99 100 101 102 103 104 105 106 107 108\n",
      " 109 110 111 112 113 114 115 116 117 118 119] [3]\n",
      "[  0   1   2   3   5   6   7   8   9  10  11  12  13  14  15  16  17  18\n",
      "  19  20  21  22  23  24  25  26  27  28  29  30  31  32  33  34  35  36\n",
      "  37  38  39  40  41  42  43  44  45  46  47  48  49  50  51  52  53  54\n",
      "  55  56  57  58  59  60  61  62  63  64  65  66  67  68  69  70  71  72\n",
      "  73  74  75  76  77  78  79  80  81  82  83  84  85  86  87  88  89  90\n",
      "  91  92  93  94  95  96  97  98  99 100 101 102 103 104 105 106 107 108\n",
      " 109 110 111 112 113 114 115 116 117 118 119] [4]\n",
      "[  0   1   2   3   4   6   7   8   9  10  11  12  13  14  15  16  17  18\n",
      "  19  20  21  22  23  24  25  26  27  28  29  30  31  32  33  34  35  36\n",
      "  37  38  39  40  41  42  43  44  45  46  47  48  49  50  51  52  53  54\n",
      "  55  56  57  58  59  60  61  62  63  64  65  66  67  68  69  70  71  72\n",
      "  73  74  75  76  77  78  79  80  81  82  83  84  85  86  87  88  89  90\n",
      "  91  92  93  94  95  96  97  98  99 100 101 102 103 104 105 106 107 108\n",
      " 109 110 111 112 113 114 115 116 117 118 119] [5]\n",
      "[  0   1   2   3   4   5   7   8   9  10  11  12  13  14  15  16  17  18\n",
      "  19  20  21  22  23  24  25  26  27  28  29  30  31  32  33  34  35  36\n",
      "  37  38  39  40  41  42  43  44  45  46  47  48  49  50  51  52  53  54\n",
      "  55  56  57  58  59  60  61  62  63  64  65  66  67  68  69  70  71  72\n",
      "  73  74  75  76  77  78  79  80  81  82  83  84  85  86  87  88  89  90\n",
      "  91  92  93  94  95  96  97  98  99 100 101 102 103 104 105 106 107 108\n",
      " 109 110 111 112 113 114 115 116 117 118 119] [6]\n",
      "[  0   1   2   3   4   5   6   8   9  10  11  12  13  14  15  16  17  18\n",
      "  19  20  21  22  23  24  25  26  27  28  29  30  31  32  33  34  35  36\n",
      "  37  38  39  40  41  42  43  44  45  46  47  48  49  50  51  52  53  54\n",
      "  55  56  57  58  59  60  61  62  63  64  65  66  67  68  69  70  71  72\n",
      "  73  74  75  76  77  78  79  80  81  82  83  84  85  86  87  88  89  90\n",
      "  91  92  93  94  95  96  97  98  99 100 101 102 103 104 105 106 107 108\n",
      " 109 110 111 112 113 114 115 116 117 118 119] [7]\n",
      "[  0   1   2   3   4   5   6   7   9  10  11  12  13  14  15  16  17  18\n",
      "  19  20  21  22  23  24  25  26  27  28  29  30  31  32  33  34  35  36\n",
      "  37  38  39  40  41  42  43  44  45  46  47  48  49  50  51  52  53  54\n",
      "  55  56  57  58  59  60  61  62  63  64  65  66  67  68  69  70  71  72\n",
      "  73  74  75  76  77  78  79  80  81  82  83  84  85  86  87  88  89  90\n",
      "  91  92  93  94  95  96  97  98  99 100 101 102 103 104 105 106 107 108\n",
      " 109 110 111 112 113 114 115 116 117 118 119] [8]\n",
      "[  0   1   2   3   4   5   6   7   8  10  11  12  13  14  15  16  17  18\n",
      "  19  20  21  22  23  24  25  26  27  28  29  30  31  32  33  34  35  36\n",
      "  37  38  39  40  41  42  43  44  45  46  47  48  49  50  51  52  53  54\n",
      "  55  56  57  58  59  60  61  62  63  64  65  66  67  68  69  70  71  72\n",
      "  73  74  75  76  77  78  79  80  81  82  83  84  85  86  87  88  89  90\n",
      "  91  92  93  94  95  96  97  98  99 100 101 102 103 104 105 106 107 108\n",
      " 109 110 111 112 113 114 115 116 117 118 119] [9]\n",
      "[  0   1   2   3   4   5   6   7   8   9  11  12  13  14  15  16  17  18\n",
      "  19  20  21  22  23  24  25  26  27  28  29  30  31  32  33  34  35  36\n",
      "  37  38  39  40  41  42  43  44  45  46  47  48  49  50  51  52  53  54\n",
      "  55  56  57  58  59  60  61  62  63  64  65  66  67  68  69  70  71  72\n",
      "  73  74  75  76  77  78  79  80  81  82  83  84  85  86  87  88  89  90\n",
      "  91  92  93  94  95  96  97  98  99 100 101 102 103 104 105 106 107 108\n",
      " 109 110 111 112 113 114 115 116 117 118 119] [10]\n",
      "[  0   1   2   3   4   5   6   7   8   9  10  12  13  14  15  16  17  18\n",
      "  19  20  21  22  23  24  25  26  27  28  29  30  31  32  33  34  35  36\n",
      "  37  38  39  40  41  42  43  44  45  46  47  48  49  50  51  52  53  54\n",
      "  55  56  57  58  59  60  61  62  63  64  65  66  67  68  69  70  71  72\n",
      "  73  74  75  76  77  78  79  80  81  82  83  84  85  86  87  88  89  90\n",
      "  91  92  93  94  95  96  97  98  99 100 101 102 103 104 105 106 107 108\n",
      " 109 110 111 112 113 114 115 116 117 118 119] [11]\n",
      "[  0   1   2   3   4   5   6   7   8   9  10  11  13  14  15  16  17  18\n",
      "  19  20  21  22  23  24  25  26  27  28  29  30  31  32  33  34  35  36\n",
      "  37  38  39  40  41  42  43  44  45  46  47  48  49  50  51  52  53  54\n",
      "  55  56  57  58  59  60  61  62  63  64  65  66  67  68  69  70  71  72\n",
      "  73  74  75  76  77  78  79  80  81  82  83  84  85  86  87  88  89  90\n",
      "  91  92  93  94  95  96  97  98  99 100 101 102 103 104 105 106 107 108\n",
      " 109 110 111 112 113 114 115 116 117 118 119] [12]\n",
      "[  0   1   2   3   4   5   6   7   8   9  10  11  12  14  15  16  17  18\n",
      "  19  20  21  22  23  24  25  26  27  28  29  30  31  32  33  34  35  36\n",
      "  37  38  39  40  41  42  43  44  45  46  47  48  49  50  51  52  53  54\n",
      "  55  56  57  58  59  60  61  62  63  64  65  66  67  68  69  70  71  72\n",
      "  73  74  75  76  77  78  79  80  81  82  83  84  85  86  87  88  89  90\n",
      "  91  92  93  94  95  96  97  98  99 100 101 102 103 104 105 106 107 108\n",
      " 109 110 111 112 113 114 115 116 117 118 119] [13]\n",
      "[  0   1   2   3   4   5   6   7   8   9  10  11  12  13  15  16  17  18\n",
      "  19  20  21  22  23  24  25  26  27  28  29  30  31  32  33  34  35  36\n",
      "  37  38  39  40  41  42  43  44  45  46  47  48  49  50  51  52  53  54\n",
      "  55  56  57  58  59  60  61  62  63  64  65  66  67  68  69  70  71  72\n",
      "  73  74  75  76  77  78  79  80  81  82  83  84  85  86  87  88  89  90\n",
      "  91  92  93  94  95  96  97  98  99 100 101 102 103 104 105 106 107 108\n",
      " 109 110 111 112 113 114 115 116 117 118 119] [14]\n",
      "[  0   1   2   3   4   5   6   7   8   9  10  11  12  13  14  16  17  18\n",
      "  19  20  21  22  23  24  25  26  27  28  29  30  31  32  33  34  35  36\n",
      "  37  38  39  40  41  42  43  44  45  46  47  48  49  50  51  52  53  54\n",
      "  55  56  57  58  59  60  61  62  63  64  65  66  67  68  69  70  71  72\n",
      "  73  74  75  76  77  78  79  80  81  82  83  84  85  86  87  88  89  90\n",
      "  91  92  93  94  95  96  97  98  99 100 101 102 103 104 105 106 107 108\n",
      " 109 110 111 112 113 114 115 116 117 118 119] [15]\n",
      "[  0   1   2   3   4   5   6   7   8   9  10  11  12  13  14  15  17  18\n",
      "  19  20  21  22  23  24  25  26  27  28  29  30  31  32  33  34  35  36\n",
      "  37  38  39  40  41  42  43  44  45  46  47  48  49  50  51  52  53  54\n",
      "  55  56  57  58  59  60  61  62  63  64  65  66  67  68  69  70  71  72\n",
      "  73  74  75  76  77  78  79  80  81  82  83  84  85  86  87  88  89  90\n",
      "  91  92  93  94  95  96  97  98  99 100 101 102 103 104 105 106 107 108\n",
      " 109 110 111 112 113 114 115 116 117 118 119] [16]\n",
      "[  0   1   2   3   4   5   6   7   8   9  10  11  12  13  14  15  16  18\n",
      "  19  20  21  22  23  24  25  26  27  28  29  30  31  32  33  34  35  36\n",
      "  37  38  39  40  41  42  43  44  45  46  47  48  49  50  51  52  53  54\n",
      "  55  56  57  58  59  60  61  62  63  64  65  66  67  68  69  70  71  72\n",
      "  73  74  75  76  77  78  79  80  81  82  83  84  85  86  87  88  89  90\n",
      "  91  92  93  94  95  96  97  98  99 100 101 102 103 104 105 106 107 108\n",
      " 109 110 111 112 113 114 115 116 117 118 119] [17]\n",
      "[  0   1   2   3   4   5   6   7   8   9  10  11  12  13  14  15  16  17\n",
      "  19  20  21  22  23  24  25  26  27  28  29  30  31  32  33  34  35  36\n",
      "  37  38  39  40  41  42  43  44  45  46  47  48  49  50  51  52  53  54\n",
      "  55  56  57  58  59  60  61  62  63  64  65  66  67  68  69  70  71  72\n",
      "  73  74  75  76  77  78  79  80  81  82  83  84  85  86  87  88  89  90\n",
      "  91  92  93  94  95  96  97  98  99 100 101 102 103 104 105 106 107 108\n",
      " 109 110 111 112 113 114 115 116 117 118 119] [18]\n",
      "[  0   1   2   3   4   5   6   7   8   9  10  11  12  13  14  15  16  17\n",
      "  18  20  21  22  23  24  25  26  27  28  29  30  31  32  33  34  35  36\n",
      "  37  38  39  40  41  42  43  44  45  46  47  48  49  50  51  52  53  54\n",
      "  55  56  57  58  59  60  61  62  63  64  65  66  67  68  69  70  71  72\n",
      "  73  74  75  76  77  78  79  80  81  82  83  84  85  86  87  88  89  90\n",
      "  91  92  93  94  95  96  97  98  99 100 101 102 103 104 105 106 107 108\n",
      " 109 110 111 112 113 114 115 116 117 118 119] [19]\n",
      "[  0   1   2   3   4   5   6   7   8   9  10  11  12  13  14  15  16  17\n",
      "  18  19  21  22  23  24  25  26  27  28  29  30  31  32  33  34  35  36\n",
      "  37  38  39  40  41  42  43  44  45  46  47  48  49  50  51  52  53  54\n",
      "  55  56  57  58  59  60  61  62  63  64  65  66  67  68  69  70  71  72\n",
      "  73  74  75  76  77  78  79  80  81  82  83  84  85  86  87  88  89  90\n",
      "  91  92  93  94  95  96  97  98  99 100 101 102 103 104 105 106 107 108\n",
      " 109 110 111 112 113 114 115 116 117 118 119] [20]\n",
      "[  0   1   2   3   4   5   6   7   8   9  10  11  12  13  14  15  16  17\n",
      "  18  19  20  22  23  24  25  26  27  28  29  30  31  32  33  34  35  36\n",
      "  37  38  39  40  41  42  43  44  45  46  47  48  49  50  51  52  53  54\n",
      "  55  56  57  58  59  60  61  62  63  64  65  66  67  68  69  70  71  72\n",
      "  73  74  75  76  77  78  79  80  81  82  83  84  85  86  87  88  89  90\n",
      "  91  92  93  94  95  96  97  98  99 100 101 102 103 104 105 106 107 108\n",
      " 109 110 111 112 113 114 115 116 117 118 119] [21]\n",
      "[  0   1   2   3   4   5   6   7   8   9  10  11  12  13  14  15  16  17\n",
      "  18  19  20  21  23  24  25  26  27  28  29  30  31  32  33  34  35  36\n",
      "  37  38  39  40  41  42  43  44  45  46  47  48  49  50  51  52  53  54\n",
      "  55  56  57  58  59  60  61  62  63  64  65  66  67  68  69  70  71  72\n",
      "  73  74  75  76  77  78  79  80  81  82  83  84  85  86  87  88  89  90\n",
      "  91  92  93  94  95  96  97  98  99 100 101 102 103 104 105 106 107 108\n",
      " 109 110 111 112 113 114 115 116 117 118 119] [22]\n",
      "[  0   1   2   3   4   5   6   7   8   9  10  11  12  13  14  15  16  17\n",
      "  18  19  20  21  22  24  25  26  27  28  29  30  31  32  33  34  35  36\n",
      "  37  38  39  40  41  42  43  44  45  46  47  48  49  50  51  52  53  54\n",
      "  55  56  57  58  59  60  61  62  63  64  65  66  67  68  69  70  71  72\n",
      "  73  74  75  76  77  78  79  80  81  82  83  84  85  86  87  88  89  90\n",
      "  91  92  93  94  95  96  97  98  99 100 101 102 103 104 105 106 107 108\n",
      " 109 110 111 112 113 114 115 116 117 118 119] [23]\n",
      "[  0   1   2   3   4   5   6   7   8   9  10  11  12  13  14  15  16  17\n",
      "  18  19  20  21  22  23  25  26  27  28  29  30  31  32  33  34  35  36\n",
      "  37  38  39  40  41  42  43  44  45  46  47  48  49  50  51  52  53  54\n",
      "  55  56  57  58  59  60  61  62  63  64  65  66  67  68  69  70  71  72\n",
      "  73  74  75  76  77  78  79  80  81  82  83  84  85  86  87  88  89  90\n",
      "  91  92  93  94  95  96  97  98  99 100 101 102 103 104 105 106 107 108\n",
      " 109 110 111 112 113 114 115 116 117 118 119] [24]\n",
      "[  0   1   2   3   4   5   6   7   8   9  10  11  12  13  14  15  16  17\n",
      "  18  19  20  21  22  23  24  26  27  28  29  30  31  32  33  34  35  36\n",
      "  37  38  39  40  41  42  43  44  45  46  47  48  49  50  51  52  53  54\n",
      "  55  56  57  58  59  60  61  62  63  64  65  66  67  68  69  70  71  72\n",
      "  73  74  75  76  77  78  79  80  81  82  83  84  85  86  87  88  89  90\n",
      "  91  92  93  94  95  96  97  98  99 100 101 102 103 104 105 106 107 108\n",
      " 109 110 111 112 113 114 115 116 117 118 119] [25]\n",
      "[  0   1   2   3   4   5   6   7   8   9  10  11  12  13  14  15  16  17\n",
      "  18  19  20  21  22  23  24  25  27  28  29  30  31  32  33  34  35  36\n",
      "  37  38  39  40  41  42  43  44  45  46  47  48  49  50  51  52  53  54\n",
      "  55  56  57  58  59  60  61  62  63  64  65  66  67  68  69  70  71  72\n",
      "  73  74  75  76  77  78  79  80  81  82  83  84  85  86  87  88  89  90\n",
      "  91  92  93  94  95  96  97  98  99 100 101 102 103 104 105 106 107 108\n",
      " 109 110 111 112 113 114 115 116 117 118 119] [26]\n",
      "[  0   1   2   3   4   5   6   7   8   9  10  11  12  13  14  15  16  17\n",
      "  18  19  20  21  22  23  24  25  26  28  29  30  31  32  33  34  35  36\n",
      "  37  38  39  40  41  42  43  44  45  46  47  48  49  50  51  52  53  54\n",
      "  55  56  57  58  59  60  61  62  63  64  65  66  67  68  69  70  71  72\n",
      "  73  74  75  76  77  78  79  80  81  82  83  84  85  86  87  88  89  90\n",
      "  91  92  93  94  95  96  97  98  99 100 101 102 103 104 105 106 107 108\n",
      " 109 110 111 112 113 114 115 116 117 118 119] [27]\n",
      "[  0   1   2   3   4   5   6   7   8   9  10  11  12  13  14  15  16  17\n",
      "  18  19  20  21  22  23  24  25  26  27  29  30  31  32  33  34  35  36\n",
      "  37  38  39  40  41  42  43  44  45  46  47  48  49  50  51  52  53  54\n",
      "  55  56  57  58  59  60  61  62  63  64  65  66  67  68  69  70  71  72\n",
      "  73  74  75  76  77  78  79  80  81  82  83  84  85  86  87  88  89  90\n",
      "  91  92  93  94  95  96  97  98  99 100 101 102 103 104 105 106 107 108\n",
      " 109 110 111 112 113 114 115 116 117 118 119] [28]\n",
      "[  0   1   2   3   4   5   6   7   8   9  10  11  12  13  14  15  16  17\n",
      "  18  19  20  21  22  23  24  25  26  27  28  30  31  32  33  34  35  36\n",
      "  37  38  39  40  41  42  43  44  45  46  47  48  49  50  51  52  53  54\n",
      "  55  56  57  58  59  60  61  62  63  64  65  66  67  68  69  70  71  72\n",
      "  73  74  75  76  77  78  79  80  81  82  83  84  85  86  87  88  89  90\n",
      "  91  92  93  94  95  96  97  98  99 100 101 102 103 104 105 106 107 108\n",
      " 109 110 111 112 113 114 115 116 117 118 119] [29]\n",
      "[  0   1   2   3   4   5   6   7   8   9  10  11  12  13  14  15  16  17\n",
      "  18  19  20  21  22  23  24  25  26  27  28  29  31  32  33  34  35  36\n",
      "  37  38  39  40  41  42  43  44  45  46  47  48  49  50  51  52  53  54\n",
      "  55  56  57  58  59  60  61  62  63  64  65  66  67  68  69  70  71  72\n",
      "  73  74  75  76  77  78  79  80  81  82  83  84  85  86  87  88  89  90\n",
      "  91  92  93  94  95  96  97  98  99 100 101 102 103 104 105 106 107 108\n",
      " 109 110 111 112 113 114 115 116 117 118 119] [30]\n",
      "[  0   1   2   3   4   5   6   7   8   9  10  11  12  13  14  15  16  17\n",
      "  18  19  20  21  22  23  24  25  26  27  28  29  30  32  33  34  35  36\n",
      "  37  38  39  40  41  42  43  44  45  46  47  48  49  50  51  52  53  54\n",
      "  55  56  57  58  59  60  61  62  63  64  65  66  67  68  69  70  71  72\n",
      "  73  74  75  76  77  78  79  80  81  82  83  84  85  86  87  88  89  90\n",
      "  91  92  93  94  95  96  97  98  99 100 101 102 103 104 105 106 107 108\n",
      " 109 110 111 112 113 114 115 116 117 118 119] [31]\n",
      "[  0   1   2   3   4   5   6   7   8   9  10  11  12  13  14  15  16  17\n",
      "  18  19  20  21  22  23  24  25  26  27  28  29  30  31  33  34  35  36\n",
      "  37  38  39  40  41  42  43  44  45  46  47  48  49  50  51  52  53  54\n",
      "  55  56  57  58  59  60  61  62  63  64  65  66  67  68  69  70  71  72\n",
      "  73  74  75  76  77  78  79  80  81  82  83  84  85  86  87  88  89  90\n",
      "  91  92  93  94  95  96  97  98  99 100 101 102 103 104 105 106 107 108\n",
      " 109 110 111 112 113 114 115 116 117 118 119] [32]\n",
      "[  0   1   2   3   4   5   6   7   8   9  10  11  12  13  14  15  16  17\n",
      "  18  19  20  21  22  23  24  25  26  27  28  29  30  31  32  34  35  36\n",
      "  37  38  39  40  41  42  43  44  45  46  47  48  49  50  51  52  53  54\n",
      "  55  56  57  58  59  60  61  62  63  64  65  66  67  68  69  70  71  72\n",
      "  73  74  75  76  77  78  79  80  81  82  83  84  85  86  87  88  89  90\n",
      "  91  92  93  94  95  96  97  98  99 100 101 102 103 104 105 106 107 108\n",
      " 109 110 111 112 113 114 115 116 117 118 119] [33]\n",
      "[  0   1   2   3   4   5   6   7   8   9  10  11  12  13  14  15  16  17\n",
      "  18  19  20  21  22  23  24  25  26  27  28  29  30  31  32  33  35  36\n",
      "  37  38  39  40  41  42  43  44  45  46  47  48  49  50  51  52  53  54\n",
      "  55  56  57  58  59  60  61  62  63  64  65  66  67  68  69  70  71  72\n",
      "  73  74  75  76  77  78  79  80  81  82  83  84  85  86  87  88  89  90\n",
      "  91  92  93  94  95  96  97  98  99 100 101 102 103 104 105 106 107 108\n",
      " 109 110 111 112 113 114 115 116 117 118 119] [34]\n",
      "[  0   1   2   3   4   5   6   7   8   9  10  11  12  13  14  15  16  17\n",
      "  18  19  20  21  22  23  24  25  26  27  28  29  30  31  32  33  34  36\n",
      "  37  38  39  40  41  42  43  44  45  46  47  48  49  50  51  52  53  54\n",
      "  55  56  57  58  59  60  61  62  63  64  65  66  67  68  69  70  71  72\n",
      "  73  74  75  76  77  78  79  80  81  82  83  84  85  86  87  88  89  90\n",
      "  91  92  93  94  95  96  97  98  99 100 101 102 103 104 105 106 107 108\n",
      " 109 110 111 112 113 114 115 116 117 118 119] [35]\n",
      "[  0   1   2   3   4   5   6   7   8   9  10  11  12  13  14  15  16  17\n",
      "  18  19  20  21  22  23  24  25  26  27  28  29  30  31  32  33  34  35\n",
      "  37  38  39  40  41  42  43  44  45  46  47  48  49  50  51  52  53  54\n",
      "  55  56  57  58  59  60  61  62  63  64  65  66  67  68  69  70  71  72\n",
      "  73  74  75  76  77  78  79  80  81  82  83  84  85  86  87  88  89  90\n",
      "  91  92  93  94  95  96  97  98  99 100 101 102 103 104 105 106 107 108\n",
      " 109 110 111 112 113 114 115 116 117 118 119] [36]\n",
      "[  0   1   2   3   4   5   6   7   8   9  10  11  12  13  14  15  16  17\n",
      "  18  19  20  21  22  23  24  25  26  27  28  29  30  31  32  33  34  35\n",
      "  36  38  39  40  41  42  43  44  45  46  47  48  49  50  51  52  53  54\n",
      "  55  56  57  58  59  60  61  62  63  64  65  66  67  68  69  70  71  72\n",
      "  73  74  75  76  77  78  79  80  81  82  83  84  85  86  87  88  89  90\n",
      "  91  92  93  94  95  96  97  98  99 100 101 102 103 104 105 106 107 108\n",
      " 109 110 111 112 113 114 115 116 117 118 119] [37]\n",
      "[  0   1   2   3   4   5   6   7   8   9  10  11  12  13  14  15  16  17\n",
      "  18  19  20  21  22  23  24  25  26  27  28  29  30  31  32  33  34  35\n",
      "  36  37  39  40  41  42  43  44  45  46  47  48  49  50  51  52  53  54\n",
      "  55  56  57  58  59  60  61  62  63  64  65  66  67  68  69  70  71  72\n",
      "  73  74  75  76  77  78  79  80  81  82  83  84  85  86  87  88  89  90\n",
      "  91  92  93  94  95  96  97  98  99 100 101 102 103 104 105 106 107 108\n",
      " 109 110 111 112 113 114 115 116 117 118 119] [38]\n",
      "[  0   1   2   3   4   5   6   7   8   9  10  11  12  13  14  15  16  17\n",
      "  18  19  20  21  22  23  24  25  26  27  28  29  30  31  32  33  34  35\n",
      "  36  37  38  40  41  42  43  44  45  46  47  48  49  50  51  52  53  54\n",
      "  55  56  57  58  59  60  61  62  63  64  65  66  67  68  69  70  71  72\n",
      "  73  74  75  76  77  78  79  80  81  82  83  84  85  86  87  88  89  90\n",
      "  91  92  93  94  95  96  97  98  99 100 101 102 103 104 105 106 107 108\n",
      " 109 110 111 112 113 114 115 116 117 118 119] [39]\n",
      "[  0   1   2   3   4   5   6   7   8   9  10  11  12  13  14  15  16  17\n",
      "  18  19  20  21  22  23  24  25  26  27  28  29  30  31  32  33  34  35\n",
      "  36  37  38  39  41  42  43  44  45  46  47  48  49  50  51  52  53  54\n",
      "  55  56  57  58  59  60  61  62  63  64  65  66  67  68  69  70  71  72\n",
      "  73  74  75  76  77  78  79  80  81  82  83  84  85  86  87  88  89  90\n",
      "  91  92  93  94  95  96  97  98  99 100 101 102 103 104 105 106 107 108\n",
      " 109 110 111 112 113 114 115 116 117 118 119] [40]\n",
      "[  0   1   2   3   4   5   6   7   8   9  10  11  12  13  14  15  16  17\n",
      "  18  19  20  21  22  23  24  25  26  27  28  29  30  31  32  33  34  35\n",
      "  36  37  38  39  40  42  43  44  45  46  47  48  49  50  51  52  53  54\n",
      "  55  56  57  58  59  60  61  62  63  64  65  66  67  68  69  70  71  72\n",
      "  73  74  75  76  77  78  79  80  81  82  83  84  85  86  87  88  89  90\n",
      "  91  92  93  94  95  96  97  98  99 100 101 102 103 104 105 106 107 108\n",
      " 109 110 111 112 113 114 115 116 117 118 119] [41]\n",
      "[  0   1   2   3   4   5   6   7   8   9  10  11  12  13  14  15  16  17\n",
      "  18  19  20  21  22  23  24  25  26  27  28  29  30  31  32  33  34  35\n",
      "  36  37  38  39  40  41  43  44  45  46  47  48  49  50  51  52  53  54\n",
      "  55  56  57  58  59  60  61  62  63  64  65  66  67  68  69  70  71  72\n",
      "  73  74  75  76  77  78  79  80  81  82  83  84  85  86  87  88  89  90\n",
      "  91  92  93  94  95  96  97  98  99 100 101 102 103 104 105 106 107 108\n",
      " 109 110 111 112 113 114 115 116 117 118 119] [42]\n",
      "[  0   1   2   3   4   5   6   7   8   9  10  11  12  13  14  15  16  17\n",
      "  18  19  20  21  22  23  24  25  26  27  28  29  30  31  32  33  34  35\n",
      "  36  37  38  39  40  41  42  44  45  46  47  48  49  50  51  52  53  54\n",
      "  55  56  57  58  59  60  61  62  63  64  65  66  67  68  69  70  71  72\n",
      "  73  74  75  76  77  78  79  80  81  82  83  84  85  86  87  88  89  90\n",
      "  91  92  93  94  95  96  97  98  99 100 101 102 103 104 105 106 107 108\n",
      " 109 110 111 112 113 114 115 116 117 118 119] [43]\n",
      "[  0   1   2   3   4   5   6   7   8   9  10  11  12  13  14  15  16  17\n",
      "  18  19  20  21  22  23  24  25  26  27  28  29  30  31  32  33  34  35\n",
      "  36  37  38  39  40  41  42  43  45  46  47  48  49  50  51  52  53  54\n",
      "  55  56  57  58  59  60  61  62  63  64  65  66  67  68  69  70  71  72\n",
      "  73  74  75  76  77  78  79  80  81  82  83  84  85  86  87  88  89  90\n",
      "  91  92  93  94  95  96  97  98  99 100 101 102 103 104 105 106 107 108\n",
      " 109 110 111 112 113 114 115 116 117 118 119] [44]\n",
      "[  0   1   2   3   4   5   6   7   8   9  10  11  12  13  14  15  16  17\n",
      "  18  19  20  21  22  23  24  25  26  27  28  29  30  31  32  33  34  35\n",
      "  36  37  38  39  40  41  42  43  44  46  47  48  49  50  51  52  53  54\n",
      "  55  56  57  58  59  60  61  62  63  64  65  66  67  68  69  70  71  72\n",
      "  73  74  75  76  77  78  79  80  81  82  83  84  85  86  87  88  89  90\n",
      "  91  92  93  94  95  96  97  98  99 100 101 102 103 104 105 106 107 108\n",
      " 109 110 111 112 113 114 115 116 117 118 119] [45]\n",
      "[  0   1   2   3   4   5   6   7   8   9  10  11  12  13  14  15  16  17\n",
      "  18  19  20  21  22  23  24  25  26  27  28  29  30  31  32  33  34  35\n",
      "  36  37  38  39  40  41  42  43  44  45  47  48  49  50  51  52  53  54\n",
      "  55  56  57  58  59  60  61  62  63  64  65  66  67  68  69  70  71  72\n",
      "  73  74  75  76  77  78  79  80  81  82  83  84  85  86  87  88  89  90\n",
      "  91  92  93  94  95  96  97  98  99 100 101 102 103 104 105 106 107 108\n",
      " 109 110 111 112 113 114 115 116 117 118 119] [46]\n",
      "[  0   1   2   3   4   5   6   7   8   9  10  11  12  13  14  15  16  17\n",
      "  18  19  20  21  22  23  24  25  26  27  28  29  30  31  32  33  34  35\n",
      "  36  37  38  39  40  41  42  43  44  45  46  48  49  50  51  52  53  54\n",
      "  55  56  57  58  59  60  61  62  63  64  65  66  67  68  69  70  71  72\n",
      "  73  74  75  76  77  78  79  80  81  82  83  84  85  86  87  88  89  90\n",
      "  91  92  93  94  95  96  97  98  99 100 101 102 103 104 105 106 107 108\n",
      " 109 110 111 112 113 114 115 116 117 118 119] [47]\n",
      "[  0   1   2   3   4   5   6   7   8   9  10  11  12  13  14  15  16  17\n",
      "  18  19  20  21  22  23  24  25  26  27  28  29  30  31  32  33  34  35\n",
      "  36  37  38  39  40  41  42  43  44  45  46  47  49  50  51  52  53  54\n",
      "  55  56  57  58  59  60  61  62  63  64  65  66  67  68  69  70  71  72\n",
      "  73  74  75  76  77  78  79  80  81  82  83  84  85  86  87  88  89  90\n",
      "  91  92  93  94  95  96  97  98  99 100 101 102 103 104 105 106 107 108\n",
      " 109 110 111 112 113 114 115 116 117 118 119] [48]\n",
      "[  0   1   2   3   4   5   6   7   8   9  10  11  12  13  14  15  16  17\n",
      "  18  19  20  21  22  23  24  25  26  27  28  29  30  31  32  33  34  35\n",
      "  36  37  38  39  40  41  42  43  44  45  46  47  48  50  51  52  53  54\n",
      "  55  56  57  58  59  60  61  62  63  64  65  66  67  68  69  70  71  72\n",
      "  73  74  75  76  77  78  79  80  81  82  83  84  85  86  87  88  89  90\n",
      "  91  92  93  94  95  96  97  98  99 100 101 102 103 104 105 106 107 108\n",
      " 109 110 111 112 113 114 115 116 117 118 119] [49]\n",
      "[  0   1   2   3   4   5   6   7   8   9  10  11  12  13  14  15  16  17\n",
      "  18  19  20  21  22  23  24  25  26  27  28  29  30  31  32  33  34  35\n",
      "  36  37  38  39  40  41  42  43  44  45  46  47  48  49  51  52  53  54\n",
      "  55  56  57  58  59  60  61  62  63  64  65  66  67  68  69  70  71  72\n",
      "  73  74  75  76  77  78  79  80  81  82  83  84  85  86  87  88  89  90\n",
      "  91  92  93  94  95  96  97  98  99 100 101 102 103 104 105 106 107 108\n",
      " 109 110 111 112 113 114 115 116 117 118 119] [50]\n",
      "[  0   1   2   3   4   5   6   7   8   9  10  11  12  13  14  15  16  17\n",
      "  18  19  20  21  22  23  24  25  26  27  28  29  30  31  32  33  34  35\n",
      "  36  37  38  39  40  41  42  43  44  45  46  47  48  49  50  52  53  54\n",
      "  55  56  57  58  59  60  61  62  63  64  65  66  67  68  69  70  71  72\n",
      "  73  74  75  76  77  78  79  80  81  82  83  84  85  86  87  88  89  90\n",
      "  91  92  93  94  95  96  97  98  99 100 101 102 103 104 105 106 107 108\n",
      " 109 110 111 112 113 114 115 116 117 118 119] [51]\n",
      "[  0   1   2   3   4   5   6   7   8   9  10  11  12  13  14  15  16  17\n",
      "  18  19  20  21  22  23  24  25  26  27  28  29  30  31  32  33  34  35\n",
      "  36  37  38  39  40  41  42  43  44  45  46  47  48  49  50  51  53  54\n",
      "  55  56  57  58  59  60  61  62  63  64  65  66  67  68  69  70  71  72\n",
      "  73  74  75  76  77  78  79  80  81  82  83  84  85  86  87  88  89  90\n",
      "  91  92  93  94  95  96  97  98  99 100 101 102 103 104 105 106 107 108\n",
      " 109 110 111 112 113 114 115 116 117 118 119] [52]\n",
      "[  0   1   2   3   4   5   6   7   8   9  10  11  12  13  14  15  16  17\n",
      "  18  19  20  21  22  23  24  25  26  27  28  29  30  31  32  33  34  35\n",
      "  36  37  38  39  40  41  42  43  44  45  46  47  48  49  50  51  52  54\n",
      "  55  56  57  58  59  60  61  62  63  64  65  66  67  68  69  70  71  72\n",
      "  73  74  75  76  77  78  79  80  81  82  83  84  85  86  87  88  89  90\n",
      "  91  92  93  94  95  96  97  98  99 100 101 102 103 104 105 106 107 108\n",
      " 109 110 111 112 113 114 115 116 117 118 119] [53]\n",
      "[  0   1   2   3   4   5   6   7   8   9  10  11  12  13  14  15  16  17\n",
      "  18  19  20  21  22  23  24  25  26  27  28  29  30  31  32  33  34  35\n",
      "  36  37  38  39  40  41  42  43  44  45  46  47  48  49  50  51  52  53\n",
      "  55  56  57  58  59  60  61  62  63  64  65  66  67  68  69  70  71  72\n",
      "  73  74  75  76  77  78  79  80  81  82  83  84  85  86  87  88  89  90\n",
      "  91  92  93  94  95  96  97  98  99 100 101 102 103 104 105 106 107 108\n",
      " 109 110 111 112 113 114 115 116 117 118 119] [54]\n",
      "[  0   1   2   3   4   5   6   7   8   9  10  11  12  13  14  15  16  17\n",
      "  18  19  20  21  22  23  24  25  26  27  28  29  30  31  32  33  34  35\n",
      "  36  37  38  39  40  41  42  43  44  45  46  47  48  49  50  51  52  53\n",
      "  54  56  57  58  59  60  61  62  63  64  65  66  67  68  69  70  71  72\n",
      "  73  74  75  76  77  78  79  80  81  82  83  84  85  86  87  88  89  90\n",
      "  91  92  93  94  95  96  97  98  99 100 101 102 103 104 105 106 107 108\n",
      " 109 110 111 112 113 114 115 116 117 118 119] [55]\n",
      "[  0   1   2   3   4   5   6   7   8   9  10  11  12  13  14  15  16  17\n",
      "  18  19  20  21  22  23  24  25  26  27  28  29  30  31  32  33  34  35\n",
      "  36  37  38  39  40  41  42  43  44  45  46  47  48  49  50  51  52  53\n",
      "  54  55  57  58  59  60  61  62  63  64  65  66  67  68  69  70  71  72\n",
      "  73  74  75  76  77  78  79  80  81  82  83  84  85  86  87  88  89  90\n",
      "  91  92  93  94  95  96  97  98  99 100 101 102 103 104 105 106 107 108\n",
      " 109 110 111 112 113 114 115 116 117 118 119] [56]\n",
      "[  0   1   2   3   4   5   6   7   8   9  10  11  12  13  14  15  16  17\n",
      "  18  19  20  21  22  23  24  25  26  27  28  29  30  31  32  33  34  35\n",
      "  36  37  38  39  40  41  42  43  44  45  46  47  48  49  50  51  52  53\n",
      "  54  55  56  58  59  60  61  62  63  64  65  66  67  68  69  70  71  72\n",
      "  73  74  75  76  77  78  79  80  81  82  83  84  85  86  87  88  89  90\n",
      "  91  92  93  94  95  96  97  98  99 100 101 102 103 104 105 106 107 108\n",
      " 109 110 111 112 113 114 115 116 117 118 119] [57]\n",
      "[  0   1   2   3   4   5   6   7   8   9  10  11  12  13  14  15  16  17\n",
      "  18  19  20  21  22  23  24  25  26  27  28  29  30  31  32  33  34  35\n",
      "  36  37  38  39  40  41  42  43  44  45  46  47  48  49  50  51  52  53\n",
      "  54  55  56  57  59  60  61  62  63  64  65  66  67  68  69  70  71  72\n",
      "  73  74  75  76  77  78  79  80  81  82  83  84  85  86  87  88  89  90\n",
      "  91  92  93  94  95  96  97  98  99 100 101 102 103 104 105 106 107 108\n",
      " 109 110 111 112 113 114 115 116 117 118 119] [58]\n",
      "[  0   1   2   3   4   5   6   7   8   9  10  11  12  13  14  15  16  17\n",
      "  18  19  20  21  22  23  24  25  26  27  28  29  30  31  32  33  34  35\n",
      "  36  37  38  39  40  41  42  43  44  45  46  47  48  49  50  51  52  53\n",
      "  54  55  56  57  58  60  61  62  63  64  65  66  67  68  69  70  71  72\n",
      "  73  74  75  76  77  78  79  80  81  82  83  84  85  86  87  88  89  90\n",
      "  91  92  93  94  95  96  97  98  99 100 101 102 103 104 105 106 107 108\n",
      " 109 110 111 112 113 114 115 116 117 118 119] [59]\n",
      "[  0   1   2   3   4   5   6   7   8   9  10  11  12  13  14  15  16  17\n",
      "  18  19  20  21  22  23  24  25  26  27  28  29  30  31  32  33  34  35\n",
      "  36  37  38  39  40  41  42  43  44  45  46  47  48  49  50  51  52  53\n",
      "  54  55  56  57  58  59  61  62  63  64  65  66  67  68  69  70  71  72\n",
      "  73  74  75  76  77  78  79  80  81  82  83  84  85  86  87  88  89  90\n",
      "  91  92  93  94  95  96  97  98  99 100 101 102 103 104 105 106 107 108\n",
      " 109 110 111 112 113 114 115 116 117 118 119] [60]\n",
      "[  0   1   2   3   4   5   6   7   8   9  10  11  12  13  14  15  16  17\n",
      "  18  19  20  21  22  23  24  25  26  27  28  29  30  31  32  33  34  35\n",
      "  36  37  38  39  40  41  42  43  44  45  46  47  48  49  50  51  52  53\n",
      "  54  55  56  57  58  59  60  62  63  64  65  66  67  68  69  70  71  72\n",
      "  73  74  75  76  77  78  79  80  81  82  83  84  85  86  87  88  89  90\n",
      "  91  92  93  94  95  96  97  98  99 100 101 102 103 104 105 106 107 108\n",
      " 109 110 111 112 113 114 115 116 117 118 119] [61]\n",
      "[  0   1   2   3   4   5   6   7   8   9  10  11  12  13  14  15  16  17\n",
      "  18  19  20  21  22  23  24  25  26  27  28  29  30  31  32  33  34  35\n",
      "  36  37  38  39  40  41  42  43  44  45  46  47  48  49  50  51  52  53\n",
      "  54  55  56  57  58  59  60  61  63  64  65  66  67  68  69  70  71  72\n",
      "  73  74  75  76  77  78  79  80  81  82  83  84  85  86  87  88  89  90\n",
      "  91  92  93  94  95  96  97  98  99 100 101 102 103 104 105 106 107 108\n",
      " 109 110 111 112 113 114 115 116 117 118 119] [62]\n",
      "[  0   1   2   3   4   5   6   7   8   9  10  11  12  13  14  15  16  17\n",
      "  18  19  20  21  22  23  24  25  26  27  28  29  30  31  32  33  34  35\n",
      "  36  37  38  39  40  41  42  43  44  45  46  47  48  49  50  51  52  53\n",
      "  54  55  56  57  58  59  60  61  62  64  65  66  67  68  69  70  71  72\n",
      "  73  74  75  76  77  78  79  80  81  82  83  84  85  86  87  88  89  90\n",
      "  91  92  93  94  95  96  97  98  99 100 101 102 103 104 105 106 107 108\n",
      " 109 110 111 112 113 114 115 116 117 118 119] [63]\n",
      "[  0   1   2   3   4   5   6   7   8   9  10  11  12  13  14  15  16  17\n",
      "  18  19  20  21  22  23  24  25  26  27  28  29  30  31  32  33  34  35\n",
      "  36  37  38  39  40  41  42  43  44  45  46  47  48  49  50  51  52  53\n",
      "  54  55  56  57  58  59  60  61  62  63  65  66  67  68  69  70  71  72\n",
      "  73  74  75  76  77  78  79  80  81  82  83  84  85  86  87  88  89  90\n",
      "  91  92  93  94  95  96  97  98  99 100 101 102 103 104 105 106 107 108\n",
      " 109 110 111 112 113 114 115 116 117 118 119] [64]\n",
      "[  0   1   2   3   4   5   6   7   8   9  10  11  12  13  14  15  16  17\n",
      "  18  19  20  21  22  23  24  25  26  27  28  29  30  31  32  33  34  35\n",
      "  36  37  38  39  40  41  42  43  44  45  46  47  48  49  50  51  52  53\n",
      "  54  55  56  57  58  59  60  61  62  63  64  66  67  68  69  70  71  72\n",
      "  73  74  75  76  77  78  79  80  81  82  83  84  85  86  87  88  89  90\n",
      "  91  92  93  94  95  96  97  98  99 100 101 102 103 104 105 106 107 108\n",
      " 109 110 111 112 113 114 115 116 117 118 119] [65]\n",
      "[  0   1   2   3   4   5   6   7   8   9  10  11  12  13  14  15  16  17\n",
      "  18  19  20  21  22  23  24  25  26  27  28  29  30  31  32  33  34  35\n",
      "  36  37  38  39  40  41  42  43  44  45  46  47  48  49  50  51  52  53\n",
      "  54  55  56  57  58  59  60  61  62  63  64  65  67  68  69  70  71  72\n",
      "  73  74  75  76  77  78  79  80  81  82  83  84  85  86  87  88  89  90\n",
      "  91  92  93  94  95  96  97  98  99 100 101 102 103 104 105 106 107 108\n",
      " 109 110 111 112 113 114 115 116 117 118 119] [66]\n",
      "[  0   1   2   3   4   5   6   7   8   9  10  11  12  13  14  15  16  17\n",
      "  18  19  20  21  22  23  24  25  26  27  28  29  30  31  32  33  34  35\n",
      "  36  37  38  39  40  41  42  43  44  45  46  47  48  49  50  51  52  53\n",
      "  54  55  56  57  58  59  60  61  62  63  64  65  66  68  69  70  71  72\n",
      "  73  74  75  76  77  78  79  80  81  82  83  84  85  86  87  88  89  90\n",
      "  91  92  93  94  95  96  97  98  99 100 101 102 103 104 105 106 107 108\n",
      " 109 110 111 112 113 114 115 116 117 118 119] [67]\n",
      "[  0   1   2   3   4   5   6   7   8   9  10  11  12  13  14  15  16  17\n",
      "  18  19  20  21  22  23  24  25  26  27  28  29  30  31  32  33  34  35\n",
      "  36  37  38  39  40  41  42  43  44  45  46  47  48  49  50  51  52  53\n",
      "  54  55  56  57  58  59  60  61  62  63  64  65  66  67  69  70  71  72\n",
      "  73  74  75  76  77  78  79  80  81  82  83  84  85  86  87  88  89  90\n",
      "  91  92  93  94  95  96  97  98  99 100 101 102 103 104 105 106 107 108\n",
      " 109 110 111 112 113 114 115 116 117 118 119] [68]\n",
      "[  0   1   2   3   4   5   6   7   8   9  10  11  12  13  14  15  16  17\n",
      "  18  19  20  21  22  23  24  25  26  27  28  29  30  31  32  33  34  35\n",
      "  36  37  38  39  40  41  42  43  44  45  46  47  48  49  50  51  52  53\n",
      "  54  55  56  57  58  59  60  61  62  63  64  65  66  67  68  70  71  72\n",
      "  73  74  75  76  77  78  79  80  81  82  83  84  85  86  87  88  89  90\n",
      "  91  92  93  94  95  96  97  98  99 100 101 102 103 104 105 106 107 108\n",
      " 109 110 111 112 113 114 115 116 117 118 119] [69]\n",
      "[  0   1   2   3   4   5   6   7   8   9  10  11  12  13  14  15  16  17\n",
      "  18  19  20  21  22  23  24  25  26  27  28  29  30  31  32  33  34  35\n",
      "  36  37  38  39  40  41  42  43  44  45  46  47  48  49  50  51  52  53\n",
      "  54  55  56  57  58  59  60  61  62  63  64  65  66  67  68  69  71  72\n",
      "  73  74  75  76  77  78  79  80  81  82  83  84  85  86  87  88  89  90\n",
      "  91  92  93  94  95  96  97  98  99 100 101 102 103 104 105 106 107 108\n",
      " 109 110 111 112 113 114 115 116 117 118 119] [70]\n",
      "[  0   1   2   3   4   5   6   7   8   9  10  11  12  13  14  15  16  17\n",
      "  18  19  20  21  22  23  24  25  26  27  28  29  30  31  32  33  34  35\n",
      "  36  37  38  39  40  41  42  43  44  45  46  47  48  49  50  51  52  53\n",
      "  54  55  56  57  58  59  60  61  62  63  64  65  66  67  68  69  70  72\n",
      "  73  74  75  76  77  78  79  80  81  82  83  84  85  86  87  88  89  90\n",
      "  91  92  93  94  95  96  97  98  99 100 101 102 103 104 105 106 107 108\n",
      " 109 110 111 112 113 114 115 116 117 118 119] [71]\n",
      "[  0   1   2   3   4   5   6   7   8   9  10  11  12  13  14  15  16  17\n",
      "  18  19  20  21  22  23  24  25  26  27  28  29  30  31  32  33  34  35\n",
      "  36  37  38  39  40  41  42  43  44  45  46  47  48  49  50  51  52  53\n",
      "  54  55  56  57  58  59  60  61  62  63  64  65  66  67  68  69  70  71\n",
      "  73  74  75  76  77  78  79  80  81  82  83  84  85  86  87  88  89  90\n",
      "  91  92  93  94  95  96  97  98  99 100 101 102 103 104 105 106 107 108\n",
      " 109 110 111 112 113 114 115 116 117 118 119] [72]\n",
      "[  0   1   2   3   4   5   6   7   8   9  10  11  12  13  14  15  16  17\n",
      "  18  19  20  21  22  23  24  25  26  27  28  29  30  31  32  33  34  35\n",
      "  36  37  38  39  40  41  42  43  44  45  46  47  48  49  50  51  52  53\n",
      "  54  55  56  57  58  59  60  61  62  63  64  65  66  67  68  69  70  71\n",
      "  72  74  75  76  77  78  79  80  81  82  83  84  85  86  87  88  89  90\n",
      "  91  92  93  94  95  96  97  98  99 100 101 102 103 104 105 106 107 108\n",
      " 109 110 111 112 113 114 115 116 117 118 119] [73]\n",
      "[  0   1   2   3   4   5   6   7   8   9  10  11  12  13  14  15  16  17\n",
      "  18  19  20  21  22  23  24  25  26  27  28  29  30  31  32  33  34  35\n",
      "  36  37  38  39  40  41  42  43  44  45  46  47  48  49  50  51  52  53\n",
      "  54  55  56  57  58  59  60  61  62  63  64  65  66  67  68  69  70  71\n",
      "  72  73  75  76  77  78  79  80  81  82  83  84  85  86  87  88  89  90\n",
      "  91  92  93  94  95  96  97  98  99 100 101 102 103 104 105 106 107 108\n",
      " 109 110 111 112 113 114 115 116 117 118 119] [74]\n",
      "[  0   1   2   3   4   5   6   7   8   9  10  11  12  13  14  15  16  17\n",
      "  18  19  20  21  22  23  24  25  26  27  28  29  30  31  32  33  34  35\n",
      "  36  37  38  39  40  41  42  43  44  45  46  47  48  49  50  51  52  53\n",
      "  54  55  56  57  58  59  60  61  62  63  64  65  66  67  68  69  70  71\n",
      "  72  73  74  76  77  78  79  80  81  82  83  84  85  86  87  88  89  90\n",
      "  91  92  93  94  95  96  97  98  99 100 101 102 103 104 105 106 107 108\n",
      " 109 110 111 112 113 114 115 116 117 118 119] [75]\n",
      "[  0   1   2   3   4   5   6   7   8   9  10  11  12  13  14  15  16  17\n",
      "  18  19  20  21  22  23  24  25  26  27  28  29  30  31  32  33  34  35\n",
      "  36  37  38  39  40  41  42  43  44  45  46  47  48  49  50  51  52  53\n",
      "  54  55  56  57  58  59  60  61  62  63  64  65  66  67  68  69  70  71\n",
      "  72  73  74  75  77  78  79  80  81  82  83  84  85  86  87  88  89  90\n",
      "  91  92  93  94  95  96  97  98  99 100 101 102 103 104 105 106 107 108\n",
      " 109 110 111 112 113 114 115 116 117 118 119] [76]\n",
      "[  0   1   2   3   4   5   6   7   8   9  10  11  12  13  14  15  16  17\n",
      "  18  19  20  21  22  23  24  25  26  27  28  29  30  31  32  33  34  35\n",
      "  36  37  38  39  40  41  42  43  44  45  46  47  48  49  50  51  52  53\n",
      "  54  55  56  57  58  59  60  61  62  63  64  65  66  67  68  69  70  71\n",
      "  72  73  74  75  76  78  79  80  81  82  83  84  85  86  87  88  89  90\n",
      "  91  92  93  94  95  96  97  98  99 100 101 102 103 104 105 106 107 108\n",
      " 109 110 111 112 113 114 115 116 117 118 119] [77]\n",
      "[  0   1   2   3   4   5   6   7   8   9  10  11  12  13  14  15  16  17\n",
      "  18  19  20  21  22  23  24  25  26  27  28  29  30  31  32  33  34  35\n",
      "  36  37  38  39  40  41  42  43  44  45  46  47  48  49  50  51  52  53\n",
      "  54  55  56  57  58  59  60  61  62  63  64  65  66  67  68  69  70  71\n",
      "  72  73  74  75  76  77  79  80  81  82  83  84  85  86  87  88  89  90\n",
      "  91  92  93  94  95  96  97  98  99 100 101 102 103 104 105 106 107 108\n",
      " 109 110 111 112 113 114 115 116 117 118 119] [78]\n",
      "[  0   1   2   3   4   5   6   7   8   9  10  11  12  13  14  15  16  17\n",
      "  18  19  20  21  22  23  24  25  26  27  28  29  30  31  32  33  34  35\n",
      "  36  37  38  39  40  41  42  43  44  45  46  47  48  49  50  51  52  53\n",
      "  54  55  56  57  58  59  60  61  62  63  64  65  66  67  68  69  70  71\n",
      "  72  73  74  75  76  77  78  80  81  82  83  84  85  86  87  88  89  90\n",
      "  91  92  93  94  95  96  97  98  99 100 101 102 103 104 105 106 107 108\n",
      " 109 110 111 112 113 114 115 116 117 118 119] [79]\n",
      "[  0   1   2   3   4   5   6   7   8   9  10  11  12  13  14  15  16  17\n",
      "  18  19  20  21  22  23  24  25  26  27  28  29  30  31  32  33  34  35\n",
      "  36  37  38  39  40  41  42  43  44  45  46  47  48  49  50  51  52  53\n",
      "  54  55  56  57  58  59  60  61  62  63  64  65  66  67  68  69  70  71\n",
      "  72  73  74  75  76  77  78  79  81  82  83  84  85  86  87  88  89  90\n",
      "  91  92  93  94  95  96  97  98  99 100 101 102 103 104 105 106 107 108\n",
      " 109 110 111 112 113 114 115 116 117 118 119] [80]\n",
      "[  0   1   2   3   4   5   6   7   8   9  10  11  12  13  14  15  16  17\n",
      "  18  19  20  21  22  23  24  25  26  27  28  29  30  31  32  33  34  35\n",
      "  36  37  38  39  40  41  42  43  44  45  46  47  48  49  50  51  52  53\n",
      "  54  55  56  57  58  59  60  61  62  63  64  65  66  67  68  69  70  71\n",
      "  72  73  74  75  76  77  78  79  80  82  83  84  85  86  87  88  89  90\n",
      "  91  92  93  94  95  96  97  98  99 100 101 102 103 104 105 106 107 108\n",
      " 109 110 111 112 113 114 115 116 117 118 119] [81]\n",
      "[  0   1   2   3   4   5   6   7   8   9  10  11  12  13  14  15  16  17\n",
      "  18  19  20  21  22  23  24  25  26  27  28  29  30  31  32  33  34  35\n",
      "  36  37  38  39  40  41  42  43  44  45  46  47  48  49  50  51  52  53\n",
      "  54  55  56  57  58  59  60  61  62  63  64  65  66  67  68  69  70  71\n",
      "  72  73  74  75  76  77  78  79  80  81  83  84  85  86  87  88  89  90\n",
      "  91  92  93  94  95  96  97  98  99 100 101 102 103 104 105 106 107 108\n",
      " 109 110 111 112 113 114 115 116 117 118 119] [82]\n",
      "[  0   1   2   3   4   5   6   7   8   9  10  11  12  13  14  15  16  17\n",
      "  18  19  20  21  22  23  24  25  26  27  28  29  30  31  32  33  34  35\n",
      "  36  37  38  39  40  41  42  43  44  45  46  47  48  49  50  51  52  53\n",
      "  54  55  56  57  58  59  60  61  62  63  64  65  66  67  68  69  70  71\n",
      "  72  73  74  75  76  77  78  79  80  81  82  84  85  86  87  88  89  90\n",
      "  91  92  93  94  95  96  97  98  99 100 101 102 103 104 105 106 107 108\n",
      " 109 110 111 112 113 114 115 116 117 118 119] [83]\n",
      "[  0   1   2   3   4   5   6   7   8   9  10  11  12  13  14  15  16  17\n",
      "  18  19  20  21  22  23  24  25  26  27  28  29  30  31  32  33  34  35\n",
      "  36  37  38  39  40  41  42  43  44  45  46  47  48  49  50  51  52  53\n",
      "  54  55  56  57  58  59  60  61  62  63  64  65  66  67  68  69  70  71\n",
      "  72  73  74  75  76  77  78  79  80  81  82  83  85  86  87  88  89  90\n",
      "  91  92  93  94  95  96  97  98  99 100 101 102 103 104 105 106 107 108\n",
      " 109 110 111 112 113 114 115 116 117 118 119] [84]\n",
      "[  0   1   2   3   4   5   6   7   8   9  10  11  12  13  14  15  16  17\n",
      "  18  19  20  21  22  23  24  25  26  27  28  29  30  31  32  33  34  35\n",
      "  36  37  38  39  40  41  42  43  44  45  46  47  48  49  50  51  52  53\n",
      "  54  55  56  57  58  59  60  61  62  63  64  65  66  67  68  69  70  71\n",
      "  72  73  74  75  76  77  78  79  80  81  82  83  84  86  87  88  89  90\n",
      "  91  92  93  94  95  96  97  98  99 100 101 102 103 104 105 106 107 108\n",
      " 109 110 111 112 113 114 115 116 117 118 119] [85]\n",
      "[  0   1   2   3   4   5   6   7   8   9  10  11  12  13  14  15  16  17\n",
      "  18  19  20  21  22  23  24  25  26  27  28  29  30  31  32  33  34  35\n",
      "  36  37  38  39  40  41  42  43  44  45  46  47  48  49  50  51  52  53\n",
      "  54  55  56  57  58  59  60  61  62  63  64  65  66  67  68  69  70  71\n",
      "  72  73  74  75  76  77  78  79  80  81  82  83  84  85  87  88  89  90\n",
      "  91  92  93  94  95  96  97  98  99 100 101 102 103 104 105 106 107 108\n",
      " 109 110 111 112 113 114 115 116 117 118 119] [86]\n",
      "[  0   1   2   3   4   5   6   7   8   9  10  11  12  13  14  15  16  17\n",
      "  18  19  20  21  22  23  24  25  26  27  28  29  30  31  32  33  34  35\n",
      "  36  37  38  39  40  41  42  43  44  45  46  47  48  49  50  51  52  53\n",
      "  54  55  56  57  58  59  60  61  62  63  64  65  66  67  68  69  70  71\n",
      "  72  73  74  75  76  77  78  79  80  81  82  83  84  85  86  88  89  90\n",
      "  91  92  93  94  95  96  97  98  99 100 101 102 103 104 105 106 107 108\n",
      " 109 110 111 112 113 114 115 116 117 118 119] [87]\n",
      "[  0   1   2   3   4   5   6   7   8   9  10  11  12  13  14  15  16  17\n",
      "  18  19  20  21  22  23  24  25  26  27  28  29  30  31  32  33  34  35\n",
      "  36  37  38  39  40  41  42  43  44  45  46  47  48  49  50  51  52  53\n",
      "  54  55  56  57  58  59  60  61  62  63  64  65  66  67  68  69  70  71\n",
      "  72  73  74  75  76  77  78  79  80  81  82  83  84  85  86  87  89  90\n",
      "  91  92  93  94  95  96  97  98  99 100 101 102 103 104 105 106 107 108\n",
      " 109 110 111 112 113 114 115 116 117 118 119] [88]\n",
      "[  0   1   2   3   4   5   6   7   8   9  10  11  12  13  14  15  16  17\n",
      "  18  19  20  21  22  23  24  25  26  27  28  29  30  31  32  33  34  35\n",
      "  36  37  38  39  40  41  42  43  44  45  46  47  48  49  50  51  52  53\n",
      "  54  55  56  57  58  59  60  61  62  63  64  65  66  67  68  69  70  71\n",
      "  72  73  74  75  76  77  78  79  80  81  82  83  84  85  86  87  88  90\n",
      "  91  92  93  94  95  96  97  98  99 100 101 102 103 104 105 106 107 108\n",
      " 109 110 111 112 113 114 115 116 117 118 119] [89]\n",
      "[  0   1   2   3   4   5   6   7   8   9  10  11  12  13  14  15  16  17\n",
      "  18  19  20  21  22  23  24  25  26  27  28  29  30  31  32  33  34  35\n",
      "  36  37  38  39  40  41  42  43  44  45  46  47  48  49  50  51  52  53\n",
      "  54  55  56  57  58  59  60  61  62  63  64  65  66  67  68  69  70  71\n",
      "  72  73  74  75  76  77  78  79  80  81  82  83  84  85  86  87  88  89\n",
      "  91  92  93  94  95  96  97  98  99 100 101 102 103 104 105 106 107 108\n",
      " 109 110 111 112 113 114 115 116 117 118 119] [90]\n",
      "[  0   1   2   3   4   5   6   7   8   9  10  11  12  13  14  15  16  17\n",
      "  18  19  20  21  22  23  24  25  26  27  28  29  30  31  32  33  34  35\n",
      "  36  37  38  39  40  41  42  43  44  45  46  47  48  49  50  51  52  53\n",
      "  54  55  56  57  58  59  60  61  62  63  64  65  66  67  68  69  70  71\n",
      "  72  73  74  75  76  77  78  79  80  81  82  83  84  85  86  87  88  89\n",
      "  90  92  93  94  95  96  97  98  99 100 101 102 103 104 105 106 107 108\n",
      " 109 110 111 112 113 114 115 116 117 118 119] [91]\n",
      "[  0   1   2   3   4   5   6   7   8   9  10  11  12  13  14  15  16  17\n",
      "  18  19  20  21  22  23  24  25  26  27  28  29  30  31  32  33  34  35\n",
      "  36  37  38  39  40  41  42  43  44  45  46  47  48  49  50  51  52  53\n",
      "  54  55  56  57  58  59  60  61  62  63  64  65  66  67  68  69  70  71\n",
      "  72  73  74  75  76  77  78  79  80  81  82  83  84  85  86  87  88  89\n",
      "  90  91  93  94  95  96  97  98  99 100 101 102 103 104 105 106 107 108\n",
      " 109 110 111 112 113 114 115 116 117 118 119] [92]\n",
      "[  0   1   2   3   4   5   6   7   8   9  10  11  12  13  14  15  16  17\n",
      "  18  19  20  21  22  23  24  25  26  27  28  29  30  31  32  33  34  35\n",
      "  36  37  38  39  40  41  42  43  44  45  46  47  48  49  50  51  52  53\n",
      "  54  55  56  57  58  59  60  61  62  63  64  65  66  67  68  69  70  71\n",
      "  72  73  74  75  76  77  78  79  80  81  82  83  84  85  86  87  88  89\n",
      "  90  91  92  94  95  96  97  98  99 100 101 102 103 104 105 106 107 108\n",
      " 109 110 111 112 113 114 115 116 117 118 119] [93]\n",
      "[  0   1   2   3   4   5   6   7   8   9  10  11  12  13  14  15  16  17\n",
      "  18  19  20  21  22  23  24  25  26  27  28  29  30  31  32  33  34  35\n",
      "  36  37  38  39  40  41  42  43  44  45  46  47  48  49  50  51  52  53\n",
      "  54  55  56  57  58  59  60  61  62  63  64  65  66  67  68  69  70  71\n",
      "  72  73  74  75  76  77  78  79  80  81  82  83  84  85  86  87  88  89\n",
      "  90  91  92  93  95  96  97  98  99 100 101 102 103 104 105 106 107 108\n",
      " 109 110 111 112 113 114 115 116 117 118 119] [94]\n",
      "[  0   1   2   3   4   5   6   7   8   9  10  11  12  13  14  15  16  17\n",
      "  18  19  20  21  22  23  24  25  26  27  28  29  30  31  32  33  34  35\n",
      "  36  37  38  39  40  41  42  43  44  45  46  47  48  49  50  51  52  53\n",
      "  54  55  56  57  58  59  60  61  62  63  64  65  66  67  68  69  70  71\n",
      "  72  73  74  75  76  77  78  79  80  81  82  83  84  85  86  87  88  89\n",
      "  90  91  92  93  94  96  97  98  99 100 101 102 103 104 105 106 107 108\n",
      " 109 110 111 112 113 114 115 116 117 118 119] [95]\n",
      "[  0   1   2   3   4   5   6   7   8   9  10  11  12  13  14  15  16  17\n",
      "  18  19  20  21  22  23  24  25  26  27  28  29  30  31  32  33  34  35\n",
      "  36  37  38  39  40  41  42  43  44  45  46  47  48  49  50  51  52  53\n",
      "  54  55  56  57  58  59  60  61  62  63  64  65  66  67  68  69  70  71\n",
      "  72  73  74  75  76  77  78  79  80  81  82  83  84  85  86  87  88  89\n",
      "  90  91  92  93  94  95  97  98  99 100 101 102 103 104 105 106 107 108\n",
      " 109 110 111 112 113 114 115 116 117 118 119] [96]\n",
      "[  0   1   2   3   4   5   6   7   8   9  10  11  12  13  14  15  16  17\n",
      "  18  19  20  21  22  23  24  25  26  27  28  29  30  31  32  33  34  35\n",
      "  36  37  38  39  40  41  42  43  44  45  46  47  48  49  50  51  52  53\n",
      "  54  55  56  57  58  59  60  61  62  63  64  65  66  67  68  69  70  71\n",
      "  72  73  74  75  76  77  78  79  80  81  82  83  84  85  86  87  88  89\n",
      "  90  91  92  93  94  95  96  98  99 100 101 102 103 104 105 106 107 108\n",
      " 109 110 111 112 113 114 115 116 117 118 119] [97]\n",
      "[  0   1   2   3   4   5   6   7   8   9  10  11  12  13  14  15  16  17\n",
      "  18  19  20  21  22  23  24  25  26  27  28  29  30  31  32  33  34  35\n",
      "  36  37  38  39  40  41  42  43  44  45  46  47  48  49  50  51  52  53\n",
      "  54  55  56  57  58  59  60  61  62  63  64  65  66  67  68  69  70  71\n",
      "  72  73  74  75  76  77  78  79  80  81  82  83  84  85  86  87  88  89\n",
      "  90  91  92  93  94  95  96  97  99 100 101 102 103 104 105 106 107 108\n",
      " 109 110 111 112 113 114 115 116 117 118 119] [98]\n",
      "[  0   1   2   3   4   5   6   7   8   9  10  11  12  13  14  15  16  17\n",
      "  18  19  20  21  22  23  24  25  26  27  28  29  30  31  32  33  34  35\n",
      "  36  37  38  39  40  41  42  43  44  45  46  47  48  49  50  51  52  53\n",
      "  54  55  56  57  58  59  60  61  62  63  64  65  66  67  68  69  70  71\n",
      "  72  73  74  75  76  77  78  79  80  81  82  83  84  85  86  87  88  89\n",
      "  90  91  92  93  94  95  96  97  98 100 101 102 103 104 105 106 107 108\n",
      " 109 110 111 112 113 114 115 116 117 118 119] [99]\n",
      "[  0   1   2   3   4   5   6   7   8   9  10  11  12  13  14  15  16  17\n",
      "  18  19  20  21  22  23  24  25  26  27  28  29  30  31  32  33  34  35\n",
      "  36  37  38  39  40  41  42  43  44  45  46  47  48  49  50  51  52  53\n",
      "  54  55  56  57  58  59  60  61  62  63  64  65  66  67  68  69  70  71\n",
      "  72  73  74  75  76  77  78  79  80  81  82  83  84  85  86  87  88  89\n",
      "  90  91  92  93  94  95  96  97  98  99 101 102 103 104 105 106 107 108\n",
      " 109 110 111 112 113 114 115 116 117 118 119] [100]\n",
      "[  0   1   2   3   4   5   6   7   8   9  10  11  12  13  14  15  16  17\n",
      "  18  19  20  21  22  23  24  25  26  27  28  29  30  31  32  33  34  35\n",
      "  36  37  38  39  40  41  42  43  44  45  46  47  48  49  50  51  52  53\n",
      "  54  55  56  57  58  59  60  61  62  63  64  65  66  67  68  69  70  71\n",
      "  72  73  74  75  76  77  78  79  80  81  82  83  84  85  86  87  88  89\n",
      "  90  91  92  93  94  95  96  97  98  99 100 102 103 104 105 106 107 108\n",
      " 109 110 111 112 113 114 115 116 117 118 119] [101]\n",
      "[  0   1   2   3   4   5   6   7   8   9  10  11  12  13  14  15  16  17\n",
      "  18  19  20  21  22  23  24  25  26  27  28  29  30  31  32  33  34  35\n",
      "  36  37  38  39  40  41  42  43  44  45  46  47  48  49  50  51  52  53\n",
      "  54  55  56  57  58  59  60  61  62  63  64  65  66  67  68  69  70  71\n",
      "  72  73  74  75  76  77  78  79  80  81  82  83  84  85  86  87  88  89\n",
      "  90  91  92  93  94  95  96  97  98  99 100 101 103 104 105 106 107 108\n",
      " 109 110 111 112 113 114 115 116 117 118 119] [102]\n",
      "[  0   1   2   3   4   5   6   7   8   9  10  11  12  13  14  15  16  17\n",
      "  18  19  20  21  22  23  24  25  26  27  28  29  30  31  32  33  34  35\n",
      "  36  37  38  39  40  41  42  43  44  45  46  47  48  49  50  51  52  53\n",
      "  54  55  56  57  58  59  60  61  62  63  64  65  66  67  68  69  70  71\n",
      "  72  73  74  75  76  77  78  79  80  81  82  83  84  85  86  87  88  89\n",
      "  90  91  92  93  94  95  96  97  98  99 100 101 102 104 105 106 107 108\n",
      " 109 110 111 112 113 114 115 116 117 118 119] [103]\n",
      "[  0   1   2   3   4   5   6   7   8   9  10  11  12  13  14  15  16  17\n",
      "  18  19  20  21  22  23  24  25  26  27  28  29  30  31  32  33  34  35\n",
      "  36  37  38  39  40  41  42  43  44  45  46  47  48  49  50  51  52  53\n",
      "  54  55  56  57  58  59  60  61  62  63  64  65  66  67  68  69  70  71\n",
      "  72  73  74  75  76  77  78  79  80  81  82  83  84  85  86  87  88  89\n",
      "  90  91  92  93  94  95  96  97  98  99 100 101 102 103 105 106 107 108\n",
      " 109 110 111 112 113 114 115 116 117 118 119] [104]\n",
      "[  0   1   2   3   4   5   6   7   8   9  10  11  12  13  14  15  16  17\n",
      "  18  19  20  21  22  23  24  25  26  27  28  29  30  31  32  33  34  35\n",
      "  36  37  38  39  40  41  42  43  44  45  46  47  48  49  50  51  52  53\n",
      "  54  55  56  57  58  59  60  61  62  63  64  65  66  67  68  69  70  71\n",
      "  72  73  74  75  76  77  78  79  80  81  82  83  84  85  86  87  88  89\n",
      "  90  91  92  93  94  95  96  97  98  99 100 101 102 103 104 106 107 108\n",
      " 109 110 111 112 113 114 115 116 117 118 119] [105]\n",
      "[  0   1   2   3   4   5   6   7   8   9  10  11  12  13  14  15  16  17\n",
      "  18  19  20  21  22  23  24  25  26  27  28  29  30  31  32  33  34  35\n",
      "  36  37  38  39  40  41  42  43  44  45  46  47  48  49  50  51  52  53\n",
      "  54  55  56  57  58  59  60  61  62  63  64  65  66  67  68  69  70  71\n",
      "  72  73  74  75  76  77  78  79  80  81  82  83  84  85  86  87  88  89\n",
      "  90  91  92  93  94  95  96  97  98  99 100 101 102 103 104 105 107 108\n",
      " 109 110 111 112 113 114 115 116 117 118 119] [106]\n",
      "[  0   1   2   3   4   5   6   7   8   9  10  11  12  13  14  15  16  17\n",
      "  18  19  20  21  22  23  24  25  26  27  28  29  30  31  32  33  34  35\n",
      "  36  37  38  39  40  41  42  43  44  45  46  47  48  49  50  51  52  53\n",
      "  54  55  56  57  58  59  60  61  62  63  64  65  66  67  68  69  70  71\n",
      "  72  73  74  75  76  77  78  79  80  81  82  83  84  85  86  87  88  89\n",
      "  90  91  92  93  94  95  96  97  98  99 100 101 102 103 104 105 106 108\n",
      " 109 110 111 112 113 114 115 116 117 118 119] [107]\n",
      "[  0   1   2   3   4   5   6   7   8   9  10  11  12  13  14  15  16  17\n",
      "  18  19  20  21  22  23  24  25  26  27  28  29  30  31  32  33  34  35\n",
      "  36  37  38  39  40  41  42  43  44  45  46  47  48  49  50  51  52  53\n",
      "  54  55  56  57  58  59  60  61  62  63  64  65  66  67  68  69  70  71\n",
      "  72  73  74  75  76  77  78  79  80  81  82  83  84  85  86  87  88  89\n",
      "  90  91  92  93  94  95  96  97  98  99 100 101 102 103 104 105 106 107\n",
      " 109 110 111 112 113 114 115 116 117 118 119] [108]\n",
      "[  0   1   2   3   4   5   6   7   8   9  10  11  12  13  14  15  16  17\n",
      "  18  19  20  21  22  23  24  25  26  27  28  29  30  31  32  33  34  35\n",
      "  36  37  38  39  40  41  42  43  44  45  46  47  48  49  50  51  52  53\n",
      "  54  55  56  57  58  59  60  61  62  63  64  65  66  67  68  69  70  71\n",
      "  72  73  74  75  76  77  78  79  80  81  82  83  84  85  86  87  88  89\n",
      "  90  91  92  93  94  95  96  97  98  99 100 101 102 103 104 105 106 107\n",
      " 108 110 111 112 113 114 115 116 117 118 119] [109]\n",
      "[  0   1   2   3   4   5   6   7   8   9  10  11  12  13  14  15  16  17\n",
      "  18  19  20  21  22  23  24  25  26  27  28  29  30  31  32  33  34  35\n",
      "  36  37  38  39  40  41  42  43  44  45  46  47  48  49  50  51  52  53\n",
      "  54  55  56  57  58  59  60  61  62  63  64  65  66  67  68  69  70  71\n",
      "  72  73  74  75  76  77  78  79  80  81  82  83  84  85  86  87  88  89\n",
      "  90  91  92  93  94  95  96  97  98  99 100 101 102 103 104 105 106 107\n",
      " 108 109 111 112 113 114 115 116 117 118 119] [110]\n",
      "[  0   1   2   3   4   5   6   7   8   9  10  11  12  13  14  15  16  17\n",
      "  18  19  20  21  22  23  24  25  26  27  28  29  30  31  32  33  34  35\n",
      "  36  37  38  39  40  41  42  43  44  45  46  47  48  49  50  51  52  53\n",
      "  54  55  56  57  58  59  60  61  62  63  64  65  66  67  68  69  70  71\n",
      "  72  73  74  75  76  77  78  79  80  81  82  83  84  85  86  87  88  89\n",
      "  90  91  92  93  94  95  96  97  98  99 100 101 102 103 104 105 106 107\n",
      " 108 109 110 112 113 114 115 116 117 118 119] [111]\n",
      "[  0   1   2   3   4   5   6   7   8   9  10  11  12  13  14  15  16  17\n",
      "  18  19  20  21  22  23  24  25  26  27  28  29  30  31  32  33  34  35\n",
      "  36  37  38  39  40  41  42  43  44  45  46  47  48  49  50  51  52  53\n",
      "  54  55  56  57  58  59  60  61  62  63  64  65  66  67  68  69  70  71\n",
      "  72  73  74  75  76  77  78  79  80  81  82  83  84  85  86  87  88  89\n",
      "  90  91  92  93  94  95  96  97  98  99 100 101 102 103 104 105 106 107\n",
      " 108 109 110 111 113 114 115 116 117 118 119] [112]\n",
      "[  0   1   2   3   4   5   6   7   8   9  10  11  12  13  14  15  16  17\n",
      "  18  19  20  21  22  23  24  25  26  27  28  29  30  31  32  33  34  35\n",
      "  36  37  38  39  40  41  42  43  44  45  46  47  48  49  50  51  52  53\n",
      "  54  55  56  57  58  59  60  61  62  63  64  65  66  67  68  69  70  71\n",
      "  72  73  74  75  76  77  78  79  80  81  82  83  84  85  86  87  88  89\n",
      "  90  91  92  93  94  95  96  97  98  99 100 101 102 103 104 105 106 107\n",
      " 108 109 110 111 112 114 115 116 117 118 119] [113]\n",
      "[  0   1   2   3   4   5   6   7   8   9  10  11  12  13  14  15  16  17\n",
      "  18  19  20  21  22  23  24  25  26  27  28  29  30  31  32  33  34  35\n",
      "  36  37  38  39  40  41  42  43  44  45  46  47  48  49  50  51  52  53\n",
      "  54  55  56  57  58  59  60  61  62  63  64  65  66  67  68  69  70  71\n",
      "  72  73  74  75  76  77  78  79  80  81  82  83  84  85  86  87  88  89\n",
      "  90  91  92  93  94  95  96  97  98  99 100 101 102 103 104 105 106 107\n",
      " 108 109 110 111 112 113 115 116 117 118 119] [114]\n",
      "[  0   1   2   3   4   5   6   7   8   9  10  11  12  13  14  15  16  17\n",
      "  18  19  20  21  22  23  24  25  26  27  28  29  30  31  32  33  34  35\n",
      "  36  37  38  39  40  41  42  43  44  45  46  47  48  49  50  51  52  53\n",
      "  54  55  56  57  58  59  60  61  62  63  64  65  66  67  68  69  70  71\n",
      "  72  73  74  75  76  77  78  79  80  81  82  83  84  85  86  87  88  89\n",
      "  90  91  92  93  94  95  96  97  98  99 100 101 102 103 104 105 106 107\n",
      " 108 109 110 111 112 113 114 116 117 118 119] [115]\n",
      "[  0   1   2   3   4   5   6   7   8   9  10  11  12  13  14  15  16  17\n",
      "  18  19  20  21  22  23  24  25  26  27  28  29  30  31  32  33  34  35\n",
      "  36  37  38  39  40  41  42  43  44  45  46  47  48  49  50  51  52  53\n",
      "  54  55  56  57  58  59  60  61  62  63  64  65  66  67  68  69  70  71\n",
      "  72  73  74  75  76  77  78  79  80  81  82  83  84  85  86  87  88  89\n",
      "  90  91  92  93  94  95  96  97  98  99 100 101 102 103 104 105 106 107\n",
      " 108 109 110 111 112 113 114 115 117 118 119] [116]\n",
      "[  0   1   2   3   4   5   6   7   8   9  10  11  12  13  14  15  16  17\n",
      "  18  19  20  21  22  23  24  25  26  27  28  29  30  31  32  33  34  35\n",
      "  36  37  38  39  40  41  42  43  44  45  46  47  48  49  50  51  52  53\n",
      "  54  55  56  57  58  59  60  61  62  63  64  65  66  67  68  69  70  71\n",
      "  72  73  74  75  76  77  78  79  80  81  82  83  84  85  86  87  88  89\n",
      "  90  91  92  93  94  95  96  97  98  99 100 101 102 103 104 105 106 107\n",
      " 108 109 110 111 112 113 114 115 116 118 119] [117]\n",
      "[  0   1   2   3   4   5   6   7   8   9  10  11  12  13  14  15  16  17\n",
      "  18  19  20  21  22  23  24  25  26  27  28  29  30  31  32  33  34  35\n",
      "  36  37  38  39  40  41  42  43  44  45  46  47  48  49  50  51  52  53\n",
      "  54  55  56  57  58  59  60  61  62  63  64  65  66  67  68  69  70  71\n",
      "  72  73  74  75  76  77  78  79  80  81  82  83  84  85  86  87  88  89\n",
      "  90  91  92  93  94  95  96  97  98  99 100 101 102 103 104 105 106 107\n",
      " 108 109 110 111 112 113 114 115 116 117 119] [118]\n",
      "[  0   1   2   3   4   5   6   7   8   9  10  11  12  13  14  15  16  17\n",
      "  18  19  20  21  22  23  24  25  26  27  28  29  30  31  32  33  34  35\n",
      "  36  37  38  39  40  41  42  43  44  45  46  47  48  49  50  51  52  53\n",
      "  54  55  56  57  58  59  60  61  62  63  64  65  66  67  68  69  70  71\n",
      "  72  73  74  75  76  77  78  79  80  81  82  83  84  85  86  87  88  89\n",
      "  90  91  92  93  94  95  96  97  98  99 100 101 102 103 104 105 106 107\n",
      " 108 109 110 111 112 113 114 115 116 117 118] [119]\n"
     ]
    }
   ],
   "source": [
    "for train, test in loo.split(dfFase1):\n",
    "     print(\"%s %s\" % (train, test))"
   ]
  },
  {
   "cell_type": "code",
   "execution_count": 45,
   "metadata": {},
   "outputs": [],
   "source": [
    "cv=loo"
   ]
  },
  {
   "cell_type": "code",
   "execution_count": 46,
   "metadata": {},
   "outputs": [
    {
     "name": "stderr",
     "output_type": "stream",
     "text": [
      "[Parallel(n_jobs=-1)]: Done   5 tasks      | elapsed:    4.6s\n",
      "[Parallel(n_jobs=-1)]: Done  10 tasks      | elapsed:    4.6s\n",
      "[Parallel(n_jobs=-1)]: Done  17 tasks      | elapsed:    4.6s\n",
      "[Parallel(n_jobs=-1)]: Done  24 tasks      | elapsed:    4.6s\n",
      "[Parallel(n_jobs=-1)]: Batch computation too fast (0.1908s.) Setting batch_size=2.\n",
      "[Parallel(n_jobs=-1)]: Batch computation too fast (0.0360s.) Setting batch_size=22.\n",
      "[Parallel(n_jobs=-1)]: Done  35 tasks      | elapsed:    4.7s\n",
      "[Parallel(n_jobs=-1)]: Done 120 out of 120 | elapsed:    7.9s finished\n"
     ]
    }
   ],
   "source": [
    "y_scores = cross_val_predict(final_model, X_train_scaled, y_train, cv=cv, verbose=10, method='predict_proba', n_jobs=-1)"
   ]
  },
  {
   "cell_type": "code",
   "execution_count": 47,
   "metadata": {},
   "outputs": [
    {
     "name": "stderr",
     "output_type": "stream",
     "text": [
      "[Parallel(n_jobs=1)]: Done   1 out of   1 | elapsed:    0.0s remaining:    0.0s\n",
      "[Parallel(n_jobs=1)]: Done   2 out of   2 | elapsed:    0.0s remaining:    0.0s\n",
      "[Parallel(n_jobs=1)]: Done   3 out of   3 | elapsed:    0.0s remaining:    0.0s\n",
      "[Parallel(n_jobs=1)]: Done   4 out of   4 | elapsed:    0.0s remaining:    0.0s\n",
      "[Parallel(n_jobs=1)]: Done   5 out of   5 | elapsed:    0.0s remaining:    0.0s\n",
      "[Parallel(n_jobs=1)]: Done   6 out of   6 | elapsed:    0.0s remaining:    0.0s\n",
      "[Parallel(n_jobs=1)]: Done   7 out of   7 | elapsed:    0.0s remaining:    0.0s\n",
      "[Parallel(n_jobs=1)]: Done   8 out of   8 | elapsed:    0.0s remaining:    0.0s\n",
      "[Parallel(n_jobs=1)]: Done   9 out of   9 | elapsed:    0.0s remaining:    0.0s\n",
      "[Parallel(n_jobs=1)]: Done 120 out of 120 | elapsed:    0.8s finished\n"
     ]
    }
   ],
   "source": [
    "y_train_pred = cross_val_predict(final_model, X_train_scaled, y_train, cv=cv, verbose=10)\n",
    "# hack to work around issue #9589 in Scikit-Learn 0.19.0\n",
    "if y_scores.ndim == 2:\n",
    "    y_scores = y_scores[:, 1]\n",
    "# print(y_scores)\n",
    "# print(np.mean(y_scores))"
   ]
  },
  {
   "cell_type": "code",
   "execution_count": 48,
   "metadata": {},
   "outputs": [
    {
     "data": {
      "image/png": "[encoded data removed]",
      "text/plain": [
       "<Figure size 432x288 with 1 Axes>"
      ]
     },
     "metadata": {},
     "output_type": "display_data"
    }
   ],
   "source": [
    "plotRoc(y_train, y_scores)"
   ]
  },
  {
   "cell_type": "code",
   "execution_count": 49,
   "metadata": {},
   "outputs": [
    {
     "data": {
      "text/plain": [
       "0.7909243697478991"
      ]
     },
     "execution_count": 49,
     "metadata": {},
     "output_type": "execute_result"
    }
   ],
   "source": [
    "auc_train = roc_auc_score(y_train, y_scores)\n",
    "auc_train"
   ]
  },
  {
   "cell_type": "code",
   "execution_count": 50,
   "metadata": {},
   "outputs": [
    {
     "name": "stdout",
     "output_type": "stream",
     "text": [
      "Confusion matrix, without normalization\n"
     ]
    },
    {
     "data": {
      "image/png": "[encoded data removed]",
      "text/plain": [
       "<Figure size 432x288 with 2 Axes>"
      ]
     },
     "metadata": {},
     "output_type": "display_data"
    }
   ],
   "source": [
    "printcfm(y_train, y_train_pred, title='confusion matrix')"
   ]
  },
  {
   "cell_type": "code",
   "execution_count": 51,
   "metadata": {},
   "outputs": [
    {
     "name": "stdout",
     "output_type": "stream",
     "text": [
      "             precision    recall  f1-score   support\n",
      "\n",
      "          0       0.80      0.96      0.88        85\n",
      "          1       0.83      0.43      0.57        35\n",
      "\n",
      "avg / total       0.81      0.81      0.79       120\n",
      "\n"
     ]
    }
   ],
   "source": [
    "print(classification_report(y_train, y_train_pred))"
   ]
  },
  {
   "cell_type": "markdown",
   "metadata": {},
   "source": [
    "# Evaluating the model with Repeated K fold"
   ]
  },
  {
   "cell_type": "code",
   "execution_count": 52,
   "metadata": {},
   "outputs": [],
   "source": [
    "def perform_repeated_cv(X, y , model):\n",
    "    #set random seed for repeatability\n",
    "    random.seed(1)\n",
    "\n",
    "    #set the number of repetitions\n",
    "    n_reps = 45\n",
    "\n",
    "    # perform repeated cross validation\n",
    "    accuracy_scores = np.zeros(n_reps)\n",
    "    precision_scores=  np.zeros(n_reps)\n",
    "    recall_scores =  np.zeros(n_reps)\n",
    "    auc_scores =  np.zeros(n_reps)\n",
    "    #result_pred = pd.DataFrame(index=np.arange(30))\n",
    "    result_pred = y\n",
    "    \n",
    "    ##############################\n",
    "    tprs = []\n",
    "    aucs = []\n",
    "    mean_fpr = np.linspace(0, 1, 100)\n",
    "    fig = plt.figure(figsize=(20, 10))\n",
    "    ###############################\n",
    "\n",
    "    for u in range(n_reps):\n",
    "\n",
    "        #randomly shuffle the dataset\n",
    "        indices = np.arange(X.shape[0])\n",
    "        np.random.shuffle(indices)\n",
    "#         X = X[indices]\n",
    "#         y = y[indices] #dataset has been randomly shuffled\n",
    "        X = X.iloc[indices]\n",
    "        y = y.iloc[indices] #dataset has been randomly shuffled\n",
    "\n",
    "        #initialize vector to keep predictions from all folds of the cross-validation\n",
    "        y_predicted = np.zeros(y.shape)\n",
    "        probas = np.zeros(y.shape)\n",
    "\n",
    "        #perform 10-fold cross validation\n",
    "        kf = KFold(n_splits=4 , random_state=142)\n",
    "        for train, test in kf.split(X):\n",
    "\n",
    "            #split the dataset into training and testing\n",
    "#             X_train = X[train]\n",
    "#             X_test = X[test]\n",
    "#             y_train = y[train]\n",
    "#             y_test = y[test]\n",
    "            X_train = X.iloc[train]\n",
    "            X_test = X.iloc[test]\n",
    "            y_train = y.iloc[train]\n",
    "            y_test = y.iloc[test]\n",
    "\n",
    "#             #standardization\n",
    "#             scaler = preprocessing.StandardScaler().fit(X_train)\n",
    "#             X_train = scaler.transform(X_train)\n",
    "#             X_test = scaler.transform(X_test)\n",
    "\n",
    "            #train model\n",
    "            clf = model\n",
    "            clf.fit(X_train, y_train)\n",
    "\n",
    "            #make predictions on the testing set\n",
    "            y_predicted[test] = clf.predict(X_test)\n",
    "#            print(y_predicted[test],y_test,type(y_predicted))\n",
    "            #y_train_pred_array = np.append(y_train_pred_array,y_train_pred)\n",
    "#            print(result_pred)\n",
    "\n",
    "\n",
    "\n",
    "            \n",
    "            ###############################plot\n",
    "#             probas_ = clf.predict_proba(X_test)\n",
    "            probas[test] = clf.predict_proba(X_test)[:, 1]\n",
    "#             print(probas[test], type(probas), probas.size)\n",
    "         \n",
    "#        print(y,y_predicted)\n",
    "        #result_pred = y\n",
    "        df_pred = pd.DataFrame(y_predicted, index=y.index,columns=[u])\n",
    "        result_pred = pd.concat([result_pred, df_pred], axis=1) \n",
    "        \n",
    "\n",
    "                \n",
    "    \n",
    "        # Compute ROC curve and area the curve\n",
    "        fpr, tpr, thresholds = roc_curve(y, probas)\n",
    "        tprs.append(interp(mean_fpr, fpr, tpr))\n",
    "        tprs[-1][0] = 0.0\n",
    "        #roc_auc = auc(fpr, tpr) - Change to obtain AUC by predict proba\n",
    "        roc_auc = roc_auc_score(y, y_predicted)\n",
    "        aucs.append(roc_auc)\n",
    "        plt.plot(fpr, tpr, lw=1, alpha=0.3,\n",
    "        label='ROC fold %d (AUC = %0.2f)' % (u, roc_auc))\n",
    "\n",
    "            \n",
    "            ################################\n",
    "\n",
    "        #record scores\n",
    "        accuracy_scores[u] = accuracy_score(y, y_predicted)\n",
    "        precision_scores[u] = precision_score(y, y_predicted)\n",
    "        recall_scores[u]  = recall_score(y, y_predicted)\n",
    "        auc_scores[u] = roc_auc_score(y, y_predicted)\n",
    "\n",
    "    ###############################plot\n",
    "    print(result_pred)\n",
    "    \n",
    "    plt.plot([0, 1], [0, 1], linestyle='--', lw=2, color='r',\n",
    "    label='Chance', alpha=.8)\n",
    "\n",
    "    mean_tpr = np.mean(tprs, axis=0)\n",
    "    mean_tpr[-1] = 1.0\n",
    "#     mean_auc = auc(mean_fpr, mean_tpr)\n",
    "    mean_auc = np.mean(aucs)\n",
    "    std_auc = np.std(aucs)\n",
    "    plt.plot(mean_fpr, mean_tpr, color='b',\n",
    "             label=r'Mean ROC (AUC = %0.2f $\\pm$ %0.2f)' % (mean_auc, std_auc),\n",
    "             lw=2, alpha=.8)\n",
    "\n",
    "\n",
    "    std_tpr = np.std(tprs, axis=0)\n",
    "    tprs_upper = np.minimum(mean_tpr + std_tpr, 1)\n",
    "    tprs_lower = np.maximum(mean_tpr - std_tpr, 0)\n",
    "    plt.fill_between(mean_fpr, tprs_lower, tprs_upper, color='grey', alpha=.2,\n",
    "                     label=r'$\\pm$ 1 std. dev.')\n",
    "\n",
    "    plt.xlim([-0.05, 1.05])\n",
    "    plt.ylim([-0.05, 1.05])\n",
    "    plt.xlabel('False Positive Rate')\n",
    "    plt.ylabel('True Positive Rate')\n",
    "    plt.title('Receiver operating characteristic example')\n",
    "    #plt.legend(loc=\"lower right\")\n",
    "    plt.legend(loc='upper center', bbox_to_anchor=(0.5, -0.05),\n",
    "               fancybox=True, shadow=True, ncol=5)\n",
    "    plt.show()\n",
    "    ################################\n",
    "    \n",
    "    #return all scores\n",
    "    return accuracy_scores, precision_scores, recall_scores, auc_scores, result_pred"
   ]
  },
  {
   "cell_type": "code",
   "execution_count": 53,
   "metadata": {},
   "outputs": [
    {
     "name": "stdout",
     "output_type": "stream",
     "text": [
      "     Perda30    0    1    2    3    4    5    6    7    8    9   10   11   12  \\\n",
      "0          1  0.0  0.0  0.0  0.0  0.0  0.0  0.0  0.0  0.0  0.0  0.0  0.0  0.0   \n",
      "1          0  0.0  0.0  0.0  0.0  0.0  0.0  0.0  0.0  0.0  0.0  0.0  0.0  0.0   \n",
      "2          0  0.0  0.0  0.0  0.0  0.0  0.0  0.0  0.0  0.0  0.0  0.0  0.0  0.0   \n",
      "3          0  0.0  0.0  0.0  0.0  0.0  0.0  0.0  0.0  0.0  0.0  0.0  0.0  0.0   \n",
      "4          1  1.0  0.0  0.0  1.0  0.0  1.0  1.0  1.0  0.0  1.0  1.0  0.0  1.0   \n",
      "5          1  0.0  1.0  1.0  1.0  1.0  1.0  0.0  1.0  0.0  1.0  1.0  0.0  1.0   \n",
      "6          1  0.0  1.0  1.0  1.0  1.0  1.0  0.0  1.0  0.0  1.0  1.0  0.0  1.0   \n",
      "7          1  1.0  1.0  1.0  0.0  1.0  1.0  1.0  1.0  0.0  1.0  1.0  1.0  0.0   \n",
      "8          1  0.0  0.0  0.0  0.0  0.0  0.0  0.0  0.0  0.0  0.0  0.0  0.0  0.0   \n",
      "9          1  1.0  1.0  1.0  0.0  1.0  1.0  1.0  1.0  0.0  1.0  1.0  1.0  0.0   \n",
      "10         0  0.0  0.0  0.0  0.0  0.0  0.0  0.0  0.0  0.0  0.0  0.0  0.0  0.0   \n",
      "11         0  0.0  0.0  0.0  0.0  0.0  0.0  0.0  0.0  0.0  0.0  0.0  0.0  0.0   \n",
      "12         0  0.0  0.0  0.0  0.0  0.0  0.0  0.0  0.0  0.0  0.0  0.0  0.0  0.0   \n",
      "13         0  0.0  0.0  0.0  0.0  0.0  0.0  0.0  0.0  0.0  0.0  0.0  0.0  0.0   \n",
      "14         0  0.0  0.0  0.0  0.0  0.0  0.0  0.0  0.0  0.0  0.0  0.0  0.0  0.0   \n",
      "15         0  1.0  1.0  1.0  1.0  1.0  1.0  1.0  1.0  1.0  1.0  1.0  1.0  1.0   \n",
      "16         1  0.0  0.0  0.0  0.0  0.0  0.0  0.0  0.0  0.0  0.0  0.0  0.0  0.0   \n",
      "17         1  0.0  0.0  1.0  0.0  1.0  0.0  1.0  0.0  1.0  1.0  0.0  0.0  0.0   \n",
      "18         1  0.0  0.0  0.0  0.0  0.0  0.0  0.0  0.0  0.0  0.0  0.0  0.0  0.0   \n",
      "19         1  0.0  0.0  0.0  0.0  0.0  0.0  0.0  0.0  0.0  0.0  0.0  0.0  0.0   \n",
      "20         0  0.0  0.0  0.0  0.0  0.0  0.0  0.0  0.0  0.0  0.0  0.0  0.0  0.0   \n",
      "21         1  0.0  0.0  0.0  0.0  0.0  0.0  0.0  0.0  0.0  0.0  0.0  0.0  0.0   \n",
      "22         0  0.0  0.0  0.0  0.0  0.0  0.0  0.0  0.0  0.0  0.0  0.0  0.0  0.0   \n",
      "23         0  0.0  0.0  0.0  0.0  0.0  0.0  0.0  0.0  0.0  0.0  0.0  0.0  0.0   \n",
      "24         0  0.0  0.0  0.0  0.0  0.0  0.0  0.0  0.0  0.0  0.0  0.0  0.0  0.0   \n",
      "25         0  0.0  0.0  0.0  0.0  0.0  0.0  0.0  0.0  0.0  0.0  0.0  0.0  0.0   \n",
      "26         0  0.0  0.0  0.0  0.0  0.0  0.0  0.0  0.0  0.0  0.0  0.0  0.0  0.0   \n",
      "27         0  0.0  0.0  0.0  0.0  0.0  0.0  0.0  0.0  0.0  0.0  0.0  0.0  0.0   \n",
      "28         0  0.0  0.0  0.0  0.0  0.0  0.0  0.0  0.0  0.0  0.0  0.0  0.0  0.0   \n",
      "29         0  0.0  0.0  0.0  0.0  0.0  0.0  0.0  0.0  0.0  0.0  0.0  0.0  0.0   \n",
      "30         1  1.0  0.0  1.0  1.0  0.0  0.0  1.0  1.0  1.0  0.0  1.0  1.0  1.0   \n",
      "31         1  1.0  0.0  1.0  1.0  0.0  0.0  1.0  1.0  1.0  0.0  1.0  1.0  1.0   \n",
      "32         1  0.0  0.0  0.0  0.0  0.0  0.0  0.0  0.0  0.0  0.0  0.0  0.0  0.0   \n",
      "33         0  0.0  0.0  0.0  0.0  0.0  0.0  0.0  0.0  0.0  0.0  0.0  0.0  0.0   \n",
      "34         0  0.0  0.0  0.0  0.0  0.0  0.0  0.0  0.0  0.0  0.0  0.0  0.0  0.0   \n",
      "35         0  0.0  0.0  0.0  0.0  0.0  0.0  0.0  0.0  0.0  0.0  0.0  0.0  0.0   \n",
      "36         0  0.0  0.0  0.0  0.0  0.0  0.0  0.0  0.0  0.0  0.0  0.0  0.0  0.0   \n",
      "37         0  0.0  0.0  0.0  0.0  0.0  0.0  0.0  0.0  0.0  0.0  0.0  0.0  0.0   \n",
      "38         0  0.0  0.0  0.0  0.0  0.0  0.0  0.0  0.0  0.0  0.0  0.0  0.0  0.0   \n",
      "39         0  0.0  0.0  0.0  0.0  0.0  0.0  0.0  0.0  0.0  0.0  0.0  0.0  0.0   \n",
      "40         0  0.0  0.0  0.0  0.0  0.0  0.0  0.0  0.0  0.0  0.0  0.0  0.0  0.0   \n",
      "41         0  0.0  0.0  0.0  0.0  0.0  0.0  0.0  0.0  0.0  0.0  0.0  0.0  0.0   \n",
      "42         0  0.0  0.0  0.0  0.0  0.0  0.0  0.0  0.0  0.0  0.0  0.0  0.0  0.0   \n",
      "43         0  0.0  0.0  0.0  0.0  0.0  0.0  0.0  0.0  0.0  0.0  0.0  0.0  0.0   \n",
      "44         0  0.0  0.0  0.0  0.0  0.0  0.0  0.0  0.0  0.0  0.0  0.0  0.0  0.0   \n",
      "45         0  0.0  0.0  0.0  0.0  0.0  0.0  0.0  0.0  0.0  0.0  0.0  0.0  0.0   \n",
      "46         0  0.0  0.0  0.0  0.0  0.0  0.0  0.0  0.0  0.0  0.0  0.0  0.0  0.0   \n",
      "47         0  0.0  0.0  0.0  0.0  0.0  0.0  0.0  0.0  0.0  0.0  0.0  0.0  0.0   \n",
      "48         0  0.0  0.0  0.0  0.0  0.0  0.0  0.0  0.0  0.0  0.0  0.0  0.0  0.0   \n",
      "49         0  0.0  0.0  0.0  0.0  0.0  0.0  0.0  0.0  0.0  0.0  0.0  0.0  0.0   \n",
      "50         0  0.0  0.0  0.0  0.0  0.0  0.0  0.0  0.0  0.0  0.0  0.0  0.0  0.0   \n",
      "51         0  0.0  0.0  0.0  0.0  0.0  0.0  0.0  0.0  0.0  0.0  0.0  0.0  0.0   \n",
      "52         0  0.0  0.0  0.0  0.0  0.0  0.0  0.0  0.0  0.0  0.0  0.0  0.0  0.0   \n",
      "53         0  0.0  0.0  0.0  0.0  0.0  0.0  0.0  0.0  0.0  0.0  0.0  0.0  0.0   \n",
      "54         0  0.0  0.0  0.0  0.0  0.0  0.0  0.0  0.0  0.0  0.0  0.0  0.0  0.0   \n",
      "55         0  0.0  0.0  0.0  0.0  0.0  0.0  0.0  0.0  0.0  0.0  0.0  0.0  0.0   \n",
      "56         1  0.0  1.0  0.0  1.0  0.0  0.0  1.0  0.0  1.0  1.0  0.0  1.0  0.0   \n",
      "57         1  1.0  1.0  1.0  1.0  1.0  0.0  1.0  1.0  1.0  1.0  1.0  0.0  0.0   \n",
      "58         0  1.0  1.0  1.0  1.0  1.0  1.0  0.0  1.0  1.0  1.0  1.0  1.0  1.0   \n",
      "59         1  0.0  1.0  1.0  1.0  0.0  1.0  1.0  1.0  1.0  1.0  1.0  1.0  1.0   \n",
      "60         0  0.0  1.0  0.0  1.0  0.0  1.0  0.0  0.0  1.0  0.0  0.0  1.0  1.0   \n",
      "61         1  0.0  1.0  0.0  0.0  1.0  0.0  1.0  1.0  0.0  0.0  0.0  0.0  0.0   \n",
      "62         0  0.0  0.0  0.0  0.0  0.0  0.0  0.0  0.0  0.0  0.0  0.0  0.0  0.0   \n",
      "63         0  0.0  0.0  0.0  0.0  0.0  0.0  0.0  0.0  0.0  0.0  0.0  0.0  0.0   \n",
      "64         0  0.0  0.0  0.0  0.0  0.0  0.0  0.0  0.0  0.0  0.0  0.0  0.0  0.0   \n",
      "65         0  0.0  0.0  0.0  0.0  0.0  0.0  0.0  0.0  0.0  0.0  0.0  0.0  0.0   \n",
      "66         0  0.0  0.0  0.0  0.0  0.0  0.0  0.0  0.0  0.0  0.0  0.0  0.0  0.0   \n",
      "67         0  0.0  0.0  0.0  0.0  0.0  0.0  0.0  0.0  0.0  0.0  0.0  0.0  0.0   \n",
      "68         0  0.0  0.0  0.0  0.0  0.0  0.0  0.0  0.0  0.0  0.0  0.0  0.0  0.0   \n",
      "69         0  0.0  0.0  0.0  0.0  0.0  0.0  0.0  0.0  0.0  0.0  0.0  0.0  0.0   \n",
      "70         1  0.0  0.0  0.0  0.0  0.0  0.0  0.0  0.0  0.0  0.0  0.0  0.0  0.0   \n",
      "71         0  0.0  0.0  0.0  0.0  0.0  0.0  0.0  0.0  0.0  0.0  0.0  0.0  0.0   \n",
      "72         0  0.0  0.0  0.0  0.0  0.0  0.0  0.0  0.0  0.0  0.0  0.0  0.0  0.0   \n",
      "73         1  0.0  0.0  0.0  0.0  0.0  0.0  0.0  0.0  0.0  0.0  0.0  0.0  0.0   \n",
      "74         1  0.0  0.0  0.0  0.0  0.0  0.0  0.0  0.0  0.0  0.0  0.0  0.0  0.0   \n",
      "75         1  0.0  0.0  0.0  0.0  0.0  0.0  0.0  0.0  0.0  0.0  0.0  0.0  0.0   \n",
      "76         1  0.0  0.0  0.0  0.0  0.0  0.0  0.0  0.0  0.0  0.0  0.0  0.0  0.0   \n",
      "77         0  0.0  0.0  0.0  0.0  0.0  0.0  0.0  0.0  0.0  0.0  0.0  0.0  0.0   \n",
      "78         0  0.0  0.0  0.0  0.0  0.0  0.0  0.0  0.0  0.0  0.0  0.0  0.0  0.0   \n",
      "79         0  0.0  0.0  0.0  0.0  0.0  0.0  0.0  0.0  0.0  0.0  0.0  0.0  0.0   \n",
      "80         0  0.0  0.0  0.0  0.0  0.0  0.0  0.0  0.0  0.0  0.0  0.0  0.0  0.0   \n",
      "81         1  0.0  0.0  0.0  0.0  0.0  0.0  0.0  0.0  0.0  0.0  0.0  0.0  0.0   \n",
      "82         0  0.0  0.0  0.0  0.0  0.0  0.0  0.0  0.0  0.0  0.0  0.0  0.0  0.0   \n",
      "83         0  0.0  0.0  0.0  0.0  0.0  0.0  0.0  0.0  0.0  0.0  0.0  0.0  0.0   \n",
      "84         0  0.0  0.0  0.0  0.0  0.0  0.0  0.0  0.0  0.0  0.0  0.0  0.0  0.0   \n",
      "85         0  0.0  0.0  0.0  0.0  0.0  0.0  0.0  0.0  0.0  0.0  0.0  0.0  0.0   \n",
      "86         0  0.0  0.0  0.0  0.0  0.0  0.0  0.0  0.0  0.0  0.0  0.0  0.0  0.0   \n",
      "87         0  0.0  0.0  0.0  0.0  0.0  0.0  0.0  0.0  0.0  0.0  0.0  0.0  0.0   \n",
      "88         0  0.0  0.0  0.0  0.0  0.0  0.0  0.0  0.0  0.0  0.0  0.0  0.0  0.0   \n",
      "89         1  1.0  1.0  1.0  1.0  1.0  1.0  1.0  1.0  1.0  1.0  1.0  1.0  1.0   \n",
      "90         1  1.0  1.0  1.0  1.0  1.0  1.0  1.0  1.0  1.0  1.0  1.0  1.0  1.0   \n",
      "91         1  1.0  1.0  1.0  1.0  1.0  1.0  1.0  1.0  1.0  1.0  1.0  1.0  1.0   \n",
      "92         0  0.0  0.0  0.0  0.0  0.0  0.0  0.0  0.0  0.0  0.0  0.0  0.0  0.0   \n",
      "93         1  0.0  0.0  0.0  0.0  0.0  0.0  0.0  1.0  0.0  0.0  0.0  0.0  0.0   \n",
      "94         1  0.0  0.0  0.0  0.0  0.0  0.0  0.0  0.0  0.0  0.0  1.0  0.0  0.0   \n",
      "95         0  0.0  0.0  0.0  0.0  0.0  0.0  0.0  0.0  0.0  0.0  0.0  0.0  0.0   \n",
      "96         0  0.0  0.0  0.0  0.0  0.0  0.0  0.0  0.0  0.0  0.0  0.0  0.0  0.0   \n",
      "97         0  0.0  0.0  0.0  0.0  0.0  0.0  0.0  0.0  0.0  0.0  0.0  0.0  0.0   \n",
      "98         0  0.0  0.0  0.0  0.0  0.0  0.0  0.0  0.0  0.0  0.0  0.0  0.0  0.0   \n",
      "99         0  0.0  0.0  0.0  0.0  0.0  0.0  0.0  0.0  0.0  0.0  0.0  0.0  0.0   \n",
      "100        0  0.0  0.0  0.0  0.0  0.0  0.0  0.0  0.0  0.0  0.0  0.0  0.0  0.0   \n",
      "101        0  1.0  0.0  0.0  1.0  1.0  1.0  1.0  1.0  1.0  1.0  1.0  0.0  0.0   \n",
      "102        1  0.0  0.0  0.0  0.0  0.0  0.0  0.0  0.0  0.0  0.0  0.0  0.0  0.0   \n",
      "103        1  0.0  0.0  0.0  0.0  0.0  0.0  0.0  0.0  0.0  0.0  0.0  0.0  0.0   \n",
      "104        0  0.0  0.0  0.0  0.0  0.0  0.0  0.0  0.0  0.0  0.0  0.0  0.0  0.0   \n",
      "105        1  1.0  1.0  1.0  1.0  1.0  1.0  1.0  1.0  1.0  1.0  1.0  1.0  1.0   \n",
      "106        1  1.0  1.0  1.0  1.0  1.0  1.0  1.0  1.0  1.0  1.0  1.0  1.0  1.0   \n",
      "107        0  0.0  0.0  0.0  0.0  0.0  0.0  0.0  0.0  0.0  0.0  0.0  0.0  0.0   \n",
      "108        0  0.0  0.0  0.0  0.0  0.0  0.0  0.0  0.0  0.0  0.0  0.0  0.0  0.0   \n",
      "109        1  0.0  0.0  0.0  0.0  0.0  0.0  0.0  0.0  0.0  0.0  0.0  0.0  0.0   \n",
      "110        0  0.0  0.0  0.0  0.0  0.0  0.0  0.0  0.0  0.0  0.0  0.0  0.0  0.0   \n",
      "111        0  0.0  0.0  0.0  0.0  0.0  0.0  0.0  0.0  0.0  0.0  0.0  0.0  0.0   \n",
      "112        0  0.0  0.0  0.0  0.0  0.0  0.0  0.0  0.0  0.0  0.0  0.0  0.0  0.0   \n",
      "113        0  0.0  0.0  0.0  0.0  0.0  0.0  0.0  0.0  0.0  0.0  0.0  0.0  0.0   \n",
      "114        0  0.0  0.0  0.0  0.0  0.0  0.0  0.0  0.0  0.0  0.0  0.0  0.0  0.0   \n",
      "115        0  0.0  0.0  0.0  0.0  0.0  0.0  0.0  0.0  0.0  0.0  0.0  0.0  0.0   \n",
      "116        0  0.0  0.0  0.0  0.0  0.0  0.0  0.0  0.0  0.0  0.0  0.0  0.0  0.0   \n",
      "117        0  0.0  0.0  0.0  0.0  0.0  0.0  0.0  0.0  0.0  0.0  0.0  0.0  0.0   \n",
      "118        0  0.0  0.0  0.0  0.0  0.0  0.0  0.0  0.0  0.0  0.0  0.0  0.0  0.0   \n",
      "119        0  0.0  0.0  0.0  0.0  0.0  0.0  0.0  0.0  0.0  0.0  0.0  0.0  0.0   \n",
      "\n",
      "      13   14   15   16   17   18   19   20   21   22   23   24   25   26  \\\n",
      "0    0.0  0.0  0.0  0.0  0.0  0.0  0.0  0.0  0.0  0.0  0.0  0.0  0.0  0.0   \n",
      "1    0.0  0.0  0.0  0.0  0.0  0.0  0.0  0.0  0.0  0.0  0.0  0.0  0.0  0.0   \n",
      "2    0.0  0.0  0.0  0.0  0.0  0.0  0.0  0.0  0.0  0.0  0.0  0.0  0.0  0.0   \n",
      "3    0.0  0.0  0.0  0.0  0.0  0.0  0.0  0.0  0.0  0.0  0.0  0.0  0.0  0.0   \n",
      "4    1.0  1.0  1.0  0.0  0.0  1.0  1.0  1.0  0.0  1.0  1.0  0.0  0.0  1.0   \n",
      "5    1.0  1.0  1.0  1.0  1.0  0.0  0.0  0.0  1.0  0.0  1.0  1.0  0.0  1.0   \n",
      "6    1.0  1.0  1.0  1.0  1.0  0.0  0.0  0.0  1.0  0.0  1.0  1.0  0.0  1.0   \n",
      "7    0.0  1.0  0.0  1.0  1.0  1.0  0.0  1.0  1.0  1.0  1.0  1.0  0.0  0.0   \n",
      "8    0.0  0.0  0.0  0.0  0.0  0.0  0.0  0.0  0.0  0.0  0.0  0.0  0.0  0.0   \n",
      "9    0.0  1.0  0.0  1.0  1.0  1.0  0.0  1.0  1.0  1.0  1.0  1.0  0.0  0.0   \n",
      "10   0.0  0.0  0.0  0.0  0.0  0.0  0.0  0.0  0.0  0.0  0.0  0.0  0.0  0.0   \n",
      "11   0.0  0.0  0.0  0.0  0.0  0.0  0.0  0.0  0.0  0.0  0.0  0.0  0.0  0.0   \n",
      "12   0.0  0.0  0.0  0.0  0.0  0.0  0.0  0.0  0.0  0.0  0.0  0.0  0.0  0.0   \n",
      "13   0.0  0.0  0.0  0.0  0.0  0.0  0.0  0.0  0.0  0.0  0.0  0.0  0.0  0.0   \n",
      "14   0.0  0.0  0.0  0.0  0.0  0.0  0.0  0.0  0.0  0.0  0.0  0.0  0.0  0.0   \n",
      "15   1.0  1.0  1.0  1.0  1.0  0.0  1.0  1.0  1.0  1.0  1.0  1.0  1.0  1.0   \n",
      "16   0.0  0.0  1.0  1.0  0.0  0.0  0.0  0.0  0.0  0.0  0.0  0.0  0.0  1.0   \n",
      "17   1.0  0.0  0.0  0.0  0.0  0.0  0.0  0.0  1.0  0.0  0.0  0.0  0.0  0.0   \n",
      "18   0.0  0.0  0.0  0.0  0.0  0.0  0.0  0.0  0.0  0.0  0.0  0.0  0.0  0.0   \n",
      "19   0.0  0.0  0.0  0.0  0.0  0.0  0.0  0.0  0.0  0.0  0.0  0.0  0.0  0.0   \n",
      "20   0.0  0.0  0.0  0.0  0.0  0.0  0.0  0.0  0.0  0.0  0.0  0.0  0.0  0.0   \n",
      "21   0.0  0.0  0.0  0.0  0.0  0.0  0.0  0.0  0.0  0.0  0.0  0.0  0.0  0.0   \n",
      "22   0.0  0.0  0.0  0.0  0.0  0.0  0.0  0.0  0.0  0.0  0.0  0.0  0.0  0.0   \n",
      "23   0.0  0.0  0.0  0.0  0.0  0.0  0.0  0.0  0.0  0.0  0.0  0.0  0.0  0.0   \n",
      "24   0.0  0.0  0.0  0.0  0.0  0.0  0.0  0.0  0.0  0.0  0.0  0.0  0.0  0.0   \n",
      "25   0.0  0.0  0.0  0.0  0.0  0.0  0.0  0.0  0.0  0.0  0.0  0.0  0.0  0.0   \n",
      "26   0.0  0.0  0.0  0.0  0.0  0.0  0.0  0.0  0.0  0.0  0.0  0.0  0.0  0.0   \n",
      "27   0.0  0.0  0.0  0.0  0.0  0.0  0.0  0.0  0.0  0.0  0.0  0.0  0.0  0.0   \n",
      "28   0.0  0.0  0.0  0.0  0.0  0.0  0.0  0.0  0.0  0.0  0.0  0.0  0.0  0.0   \n",
      "29   0.0  0.0  0.0  0.0  0.0  0.0  0.0  0.0  0.0  0.0  0.0  0.0  0.0  0.0   \n",
      "30   1.0  0.0  1.0  1.0  1.0  1.0  1.0  1.0  1.0  1.0  1.0  1.0  1.0  1.0   \n",
      "31   1.0  0.0  1.0  1.0  1.0  1.0  1.0  1.0  1.0  1.0  1.0  1.0  1.0  1.0   \n",
      "32   0.0  0.0  0.0  0.0  0.0  0.0  0.0  0.0  0.0  0.0  0.0  0.0  0.0  0.0   \n",
      "33   0.0  0.0  0.0  0.0  0.0  0.0  0.0  0.0  0.0  0.0  0.0  0.0  0.0  0.0   \n",
      "34   0.0  0.0  0.0  0.0  0.0  0.0  0.0  0.0  0.0  0.0  0.0  0.0  0.0  0.0   \n",
      "35   0.0  0.0  0.0  0.0  0.0  0.0  0.0  0.0  0.0  0.0  0.0  0.0  0.0  0.0   \n",
      "36   0.0  0.0  0.0  0.0  0.0  0.0  0.0  0.0  0.0  0.0  0.0  0.0  0.0  0.0   \n",
      "37   0.0  0.0  0.0  0.0  0.0  0.0  0.0  0.0  0.0  0.0  0.0  0.0  0.0  0.0   \n",
      "38   0.0  0.0  0.0  0.0  0.0  0.0  0.0  0.0  0.0  0.0  0.0  0.0  0.0  0.0   \n",
      "39   0.0  0.0  0.0  0.0  0.0  0.0  0.0  0.0  0.0  0.0  0.0  0.0  0.0  0.0   \n",
      "40   0.0  0.0  0.0  0.0  0.0  0.0  0.0  0.0  0.0  0.0  0.0  0.0  0.0  0.0   \n",
      "41   0.0  0.0  0.0  0.0  0.0  0.0  0.0  0.0  0.0  0.0  0.0  0.0  0.0  0.0   \n",
      "42   0.0  0.0  0.0  0.0  0.0  0.0  0.0  0.0  0.0  0.0  0.0  0.0  0.0  0.0   \n",
      "43   0.0  0.0  0.0  0.0  0.0  0.0  0.0  0.0  0.0  0.0  0.0  0.0  0.0  0.0   \n",
      "44   0.0  0.0  0.0  0.0  0.0  0.0  0.0  0.0  0.0  0.0  0.0  0.0  0.0  0.0   \n",
      "45   0.0  0.0  0.0  0.0  0.0  0.0  0.0  0.0  0.0  0.0  0.0  0.0  0.0  0.0   \n",
      "46   0.0  0.0  0.0  0.0  0.0  0.0  0.0  0.0  0.0  0.0  0.0  0.0  0.0  0.0   \n",
      "47   0.0  0.0  0.0  0.0  0.0  0.0  0.0  0.0  0.0  0.0  0.0  0.0  0.0  0.0   \n",
      "48   0.0  0.0  0.0  0.0  0.0  0.0  0.0  0.0  0.0  0.0  0.0  0.0  0.0  0.0   \n",
      "49   0.0  0.0  0.0  0.0  0.0  0.0  0.0  0.0  0.0  0.0  0.0  0.0  0.0  0.0   \n",
      "50   0.0  0.0  0.0  0.0  0.0  0.0  0.0  0.0  0.0  0.0  0.0  0.0  0.0  0.0   \n",
      "51   0.0  0.0  0.0  0.0  0.0  0.0  0.0  0.0  0.0  0.0  0.0  0.0  0.0  0.0   \n",
      "52   0.0  0.0  0.0  0.0  0.0  0.0  0.0  0.0  0.0  0.0  0.0  0.0  0.0  0.0   \n",
      "53   0.0  0.0  0.0  0.0  0.0  0.0  0.0  0.0  0.0  0.0  0.0  0.0  0.0  0.0   \n",
      "54   0.0  0.0  0.0  0.0  0.0  0.0  0.0  0.0  0.0  0.0  0.0  0.0  0.0  0.0   \n",
      "55   0.0  0.0  0.0  0.0  0.0  0.0  0.0  0.0  0.0  0.0  0.0  0.0  0.0  0.0   \n",
      "56   1.0  0.0  1.0  0.0  1.0  1.0  0.0  1.0  0.0  1.0  0.0  1.0  0.0  1.0   \n",
      "57   1.0  1.0  1.0  1.0  1.0  0.0  1.0  1.0  1.0  1.0  1.0  1.0  0.0  0.0   \n",
      "58   1.0  1.0  1.0  1.0  1.0  1.0  1.0  1.0  1.0  1.0  1.0  1.0  1.0  1.0   \n",
      "59   1.0  0.0  1.0  1.0  1.0  0.0  1.0  1.0  0.0  1.0  1.0  1.0  1.0  1.0   \n",
      "60   0.0  0.0  0.0  0.0  0.0  0.0  0.0  1.0  0.0  0.0  0.0  0.0  0.0  0.0   \n",
      "61   0.0  1.0  0.0  0.0  0.0  1.0  0.0  0.0  0.0  1.0  0.0  0.0  1.0  0.0   \n",
      "62   0.0  0.0  0.0  0.0  0.0  0.0  0.0  0.0  0.0  0.0  0.0  0.0  0.0  0.0   \n",
      "63   0.0  0.0  0.0  0.0  0.0  0.0  0.0  0.0  0.0  0.0  0.0  0.0  0.0  0.0   \n",
      "64   0.0  0.0  0.0  0.0  0.0  0.0  0.0  0.0  0.0  0.0  0.0  0.0  0.0  0.0   \n",
      "65   0.0  0.0  0.0  0.0  0.0  0.0  0.0  0.0  0.0  0.0  0.0  0.0  0.0  0.0   \n",
      "66   0.0  0.0  0.0  0.0  0.0  0.0  0.0  0.0  0.0  0.0  0.0  0.0  0.0  0.0   \n",
      "67   0.0  0.0  0.0  0.0  0.0  0.0  0.0  0.0  0.0  0.0  0.0  0.0  0.0  0.0   \n",
      "68   0.0  0.0  0.0  0.0  0.0  0.0  0.0  0.0  0.0  0.0  0.0  0.0  0.0  0.0   \n",
      "69   0.0  0.0  0.0  0.0  0.0  0.0  0.0  0.0  0.0  0.0  0.0  0.0  0.0  0.0   \n",
      "70   0.0  0.0  0.0  0.0  0.0  0.0  0.0  0.0  0.0  0.0  0.0  0.0  0.0  0.0   \n",
      "71   0.0  0.0  0.0  0.0  0.0  0.0  0.0  0.0  0.0  0.0  0.0  0.0  0.0  0.0   \n",
      "72   0.0  0.0  0.0  0.0  0.0  0.0  0.0  0.0  0.0  0.0  0.0  0.0  0.0  0.0   \n",
      "73   0.0  0.0  0.0  0.0  0.0  0.0  0.0  0.0  0.0  0.0  0.0  0.0  0.0  0.0   \n",
      "74   0.0  0.0  0.0  0.0  0.0  0.0  0.0  0.0  0.0  0.0  0.0  0.0  0.0  0.0   \n",
      "75   0.0  0.0  0.0  0.0  0.0  0.0  0.0  0.0  0.0  0.0  0.0  0.0  0.0  0.0   \n",
      "76   0.0  0.0  0.0  0.0  0.0  0.0  0.0  0.0  0.0  0.0  0.0  0.0  0.0  0.0   \n",
      "77   0.0  0.0  0.0  0.0  0.0  0.0  0.0  0.0  0.0  0.0  0.0  0.0  0.0  0.0   \n",
      "78   0.0  0.0  0.0  0.0  0.0  0.0  0.0  0.0  0.0  0.0  0.0  0.0  0.0  0.0   \n",
      "79   0.0  0.0  0.0  0.0  0.0  0.0  0.0  0.0  0.0  0.0  0.0  0.0  0.0  0.0   \n",
      "80   0.0  0.0  0.0  0.0  0.0  0.0  0.0  0.0  0.0  0.0  0.0  0.0  0.0  0.0   \n",
      "81   0.0  0.0  0.0  0.0  0.0  0.0  0.0  0.0  0.0  0.0  0.0  0.0  0.0  0.0   \n",
      "82   0.0  0.0  0.0  0.0  0.0  0.0  0.0  0.0  0.0  0.0  0.0  0.0  0.0  0.0   \n",
      "83   0.0  0.0  0.0  0.0  0.0  0.0  0.0  0.0  0.0  0.0  0.0  0.0  0.0  0.0   \n",
      "84   0.0  0.0  0.0  0.0  0.0  0.0  0.0  0.0  0.0  0.0  0.0  0.0  0.0  0.0   \n",
      "85   0.0  0.0  0.0  0.0  0.0  0.0  0.0  0.0  0.0  0.0  0.0  0.0  0.0  0.0   \n",
      "86   0.0  0.0  0.0  0.0  0.0  0.0  0.0  0.0  0.0  0.0  0.0  0.0  0.0  0.0   \n",
      "87   0.0  0.0  0.0  0.0  0.0  0.0  0.0  0.0  0.0  0.0  0.0  0.0  0.0  0.0   \n",
      "88   0.0  0.0  0.0  0.0  0.0  0.0  0.0  0.0  0.0  0.0  0.0  0.0  0.0  0.0   \n",
      "89   1.0  1.0  1.0  1.0  1.0  1.0  1.0  1.0  1.0  1.0  1.0  1.0  1.0  1.0   \n",
      "90   1.0  1.0  1.0  1.0  1.0  1.0  1.0  1.0  1.0  1.0  1.0  1.0  1.0  1.0   \n",
      "91   1.0  1.0  1.0  1.0  0.0  1.0  1.0  1.0  1.0  1.0  1.0  1.0  1.0  1.0   \n",
      "92   0.0  0.0  0.0  0.0  0.0  0.0  0.0  0.0  0.0  0.0  0.0  0.0  0.0  0.0   \n",
      "93   0.0  0.0  0.0  0.0  0.0  0.0  0.0  0.0  0.0  0.0  0.0  0.0  0.0  0.0   \n",
      "94   0.0  0.0  0.0  0.0  0.0  0.0  0.0  0.0  0.0  0.0  0.0  0.0  0.0  0.0   \n",
      "95   0.0  0.0  0.0  0.0  0.0  0.0  0.0  0.0  0.0  0.0  0.0  0.0  0.0  0.0   \n",
      "96   0.0  0.0  0.0  0.0  0.0  0.0  0.0  0.0  0.0  0.0  0.0  0.0  0.0  0.0   \n",
      "97   0.0  0.0  0.0  0.0  0.0  0.0  0.0  0.0  0.0  0.0  0.0  0.0  0.0  0.0   \n",
      "98   0.0  0.0  0.0  0.0  0.0  0.0  0.0  0.0  0.0  0.0  0.0  0.0  0.0  0.0   \n",
      "99   0.0  0.0  0.0  0.0  0.0  0.0  0.0  0.0  0.0  0.0  0.0  0.0  0.0  0.0   \n",
      "100  0.0  0.0  0.0  0.0  0.0  0.0  0.0  0.0  0.0  0.0  0.0  0.0  0.0  0.0   \n",
      "101  1.0  1.0  1.0  1.0  0.0  1.0  1.0  1.0  1.0  1.0  0.0  1.0  1.0  1.0   \n",
      "102  0.0  0.0  0.0  0.0  0.0  0.0  0.0  0.0  0.0  0.0  0.0  0.0  0.0  0.0   \n",
      "103  0.0  0.0  0.0  0.0  0.0  0.0  0.0  0.0  0.0  0.0  0.0  0.0  0.0  0.0   \n",
      "104  0.0  0.0  0.0  0.0  0.0  0.0  0.0  0.0  0.0  0.0  0.0  0.0  0.0  0.0   \n",
      "105  1.0  1.0  1.0  1.0  0.0  1.0  1.0  1.0  1.0  1.0  1.0  1.0  1.0  1.0   \n",
      "106  1.0  1.0  1.0  1.0  1.0  1.0  1.0  1.0  1.0  1.0  1.0  1.0  1.0  1.0   \n",
      "107  0.0  0.0  0.0  0.0  0.0  0.0  0.0  0.0  0.0  0.0  0.0  0.0  0.0  0.0   \n",
      "108  0.0  0.0  0.0  0.0  0.0  0.0  0.0  0.0  0.0  0.0  0.0  0.0  0.0  0.0   \n",
      "109  0.0  0.0  0.0  0.0  0.0  0.0  0.0  0.0  0.0  0.0  0.0  0.0  0.0  0.0   \n",
      "110  0.0  0.0  0.0  0.0  0.0  0.0  0.0  0.0  0.0  0.0  0.0  0.0  0.0  0.0   \n",
      "111  0.0  0.0  0.0  0.0  0.0  0.0  0.0  0.0  0.0  0.0  0.0  0.0  0.0  0.0   \n",
      "112  0.0  0.0  0.0  0.0  0.0  0.0  0.0  0.0  0.0  0.0  0.0  0.0  0.0  0.0   \n",
      "113  0.0  0.0  0.0  0.0  0.0  0.0  0.0  0.0  0.0  0.0  0.0  0.0  0.0  0.0   \n",
      "114  0.0  0.0  0.0  0.0  0.0  0.0  0.0  0.0  0.0  0.0  0.0  0.0  0.0  0.0   \n",
      "115  0.0  0.0  0.0  0.0  0.0  0.0  0.0  0.0  0.0  0.0  0.0  0.0  0.0  0.0   \n",
      "116  0.0  0.0  0.0  0.0  0.0  0.0  0.0  0.0  0.0  0.0  0.0  0.0  0.0  0.0   \n",
      "117  0.0  0.0  0.0  0.0  0.0  0.0  0.0  0.0  0.0  0.0  0.0  0.0  0.0  0.0   \n",
      "118  0.0  0.0  0.0  0.0  0.0  0.0  0.0  0.0  0.0  0.0  0.0  0.0  0.0  0.0   \n",
      "119  0.0  0.0  0.0  0.0  0.0  0.0  0.0  0.0  0.0  0.0  0.0  0.0  0.0  0.0   \n",
      "\n",
      "      27   28   29   30   31   32   33   34   35   36   37   38   39   40  \\\n",
      "0    0.0  0.0  0.0  0.0  0.0  0.0  0.0  0.0  0.0  0.0  0.0  0.0  0.0  0.0   \n",
      "1    0.0  0.0  0.0  0.0  0.0  0.0  0.0  0.0  0.0  0.0  0.0  0.0  0.0  0.0   \n",
      "2    0.0  0.0  0.0  0.0  0.0  0.0  0.0  0.0  0.0  0.0  0.0  0.0  0.0  0.0   \n",
      "3    0.0  0.0  0.0  0.0  0.0  0.0  0.0  0.0  0.0  0.0  0.0  0.0  0.0  0.0   \n",
      "4    1.0  0.0  1.0  1.0  0.0  1.0  1.0  1.0  1.0  0.0  0.0  1.0  1.0  1.0   \n",
      "5    1.0  1.0  1.0  1.0  1.0  1.0  1.0  1.0  1.0  1.0  1.0  1.0  1.0  1.0   \n",
      "6    1.0  1.0  1.0  1.0  1.0  1.0  1.0  1.0  1.0  1.0  1.0  1.0  1.0  1.0   \n",
      "7    0.0  1.0  1.0  1.0  0.0  1.0  1.0  1.0  1.0  0.0  1.0  1.0  1.0  0.0   \n",
      "8    0.0  0.0  0.0  0.0  0.0  0.0  0.0  0.0  0.0  0.0  0.0  0.0  0.0  0.0   \n",
      "9    0.0  1.0  1.0  1.0  0.0  1.0  1.0  1.0  1.0  0.0  1.0  1.0  1.0  0.0   \n",
      "10   0.0  0.0  0.0  0.0  0.0  0.0  0.0  0.0  0.0  0.0  0.0  0.0  0.0  0.0   \n",
      "11   0.0  0.0  0.0  0.0  0.0  0.0  0.0  0.0  0.0  0.0  0.0  0.0  0.0  0.0   \n",
      "12   0.0  0.0  0.0  0.0  0.0  0.0  0.0  0.0  0.0  0.0  0.0  0.0  0.0  0.0   \n",
      "13   0.0  0.0  0.0  0.0  0.0  0.0  0.0  0.0  0.0  0.0  0.0  0.0  0.0  0.0   \n",
      "14   0.0  0.0  0.0  0.0  0.0  0.0  0.0  0.0  0.0  0.0  0.0  0.0  0.0  0.0   \n",
      "15   1.0  1.0  0.0  1.0  1.0  1.0  1.0  1.0  1.0  1.0  1.0  1.0  1.0  1.0   \n",
      "16   0.0  0.0  0.0  0.0  0.0  0.0  0.0  1.0  0.0  1.0  1.0  0.0  0.0  0.0   \n",
      "17   0.0  0.0  0.0  0.0  1.0  0.0  0.0  0.0  0.0  0.0  0.0  0.0  0.0  0.0   \n",
      "18   0.0  0.0  0.0  0.0  0.0  0.0  0.0  0.0  0.0  0.0  0.0  0.0  0.0  0.0   \n",
      "19   0.0  0.0  0.0  0.0  0.0  0.0  0.0  0.0  0.0  0.0  0.0  0.0  0.0  0.0   \n",
      "20   0.0  0.0  0.0  0.0  0.0  0.0  0.0  0.0  0.0  0.0  0.0  0.0  0.0  0.0   \n",
      "21   0.0  0.0  0.0  0.0  0.0  0.0  0.0  0.0  0.0  0.0  0.0  0.0  0.0  0.0   \n",
      "22   0.0  0.0  0.0  0.0  0.0  0.0  0.0  0.0  0.0  0.0  0.0  0.0  0.0  0.0   \n",
      "23   0.0  0.0  0.0  0.0  0.0  0.0  0.0  0.0  0.0  0.0  0.0  0.0  0.0  0.0   \n",
      "24   0.0  0.0  0.0  0.0  0.0  0.0  0.0  0.0  0.0  0.0  0.0  0.0  0.0  0.0   \n",
      "25   0.0  0.0  0.0  0.0  0.0  0.0  0.0  0.0  0.0  0.0  0.0  0.0  0.0  0.0   \n",
      "26   0.0  0.0  0.0  0.0  0.0  0.0  0.0  0.0  0.0  0.0  0.0  0.0  0.0  0.0   \n",
      "27   0.0  0.0  0.0  0.0  0.0  0.0  0.0  0.0  0.0  0.0  0.0  0.0  0.0  0.0   \n",
      "28   0.0  0.0  0.0  0.0  0.0  0.0  0.0  0.0  0.0  0.0  0.0  0.0  0.0  0.0   \n",
      "29   0.0  0.0  0.0  0.0  0.0  0.0  0.0  0.0  0.0  0.0  0.0  0.0  0.0  0.0   \n",
      "30   1.0  1.0  1.0  1.0  1.0  0.0  1.0  1.0  0.0  1.0  1.0  1.0  1.0  1.0   \n",
      "31   1.0  1.0  1.0  1.0  1.0  0.0  1.0  1.0  0.0  1.0  1.0  1.0  1.0  1.0   \n",
      "32   0.0  0.0  0.0  0.0  0.0  0.0  0.0  0.0  0.0  0.0  0.0  0.0  0.0  0.0   \n",
      "33   0.0  0.0  0.0  0.0  0.0  0.0  0.0  0.0  0.0  0.0  0.0  0.0  0.0  0.0   \n",
      "34   0.0  0.0  0.0  0.0  0.0  0.0  0.0  0.0  0.0  0.0  0.0  0.0  0.0  0.0   \n",
      "35   0.0  0.0  0.0  0.0  0.0  0.0  0.0  0.0  0.0  0.0  0.0  0.0  0.0  0.0   \n",
      "36   0.0  0.0  0.0  0.0  0.0  0.0  0.0  0.0  0.0  0.0  0.0  0.0  0.0  0.0   \n",
      "37   0.0  0.0  0.0  0.0  0.0  0.0  0.0  0.0  0.0  0.0  0.0  0.0  0.0  0.0   \n",
      "38   0.0  0.0  0.0  0.0  0.0  0.0  0.0  0.0  0.0  0.0  0.0  0.0  0.0  0.0   \n",
      "39   0.0  0.0  0.0  0.0  0.0  0.0  0.0  0.0  0.0  0.0  0.0  0.0  0.0  0.0   \n",
      "40   0.0  0.0  0.0  0.0  0.0  0.0  0.0  0.0  0.0  0.0  0.0  0.0  0.0  0.0   \n",
      "41   0.0  0.0  0.0  0.0  0.0  0.0  0.0  0.0  0.0  0.0  0.0  0.0  0.0  0.0   \n",
      "42   0.0  0.0  0.0  0.0  0.0  0.0  0.0  0.0  0.0  0.0  0.0  0.0  0.0  0.0   \n",
      "43   0.0  0.0  0.0  0.0  0.0  0.0  0.0  0.0  0.0  0.0  0.0  0.0  0.0  0.0   \n",
      "44   0.0  0.0  0.0  0.0  0.0  0.0  0.0  0.0  0.0  0.0  0.0  0.0  0.0  0.0   \n",
      "45   0.0  0.0  0.0  0.0  0.0  0.0  0.0  0.0  0.0  0.0  0.0  0.0  0.0  0.0   \n",
      "46   0.0  0.0  0.0  0.0  0.0  0.0  0.0  0.0  0.0  0.0  0.0  0.0  0.0  0.0   \n",
      "47   0.0  0.0  0.0  0.0  0.0  0.0  0.0  0.0  0.0  0.0  0.0  0.0  0.0  0.0   \n",
      "48   0.0  0.0  0.0  0.0  0.0  0.0  0.0  0.0  0.0  0.0  0.0  0.0  0.0  0.0   \n",
      "49   0.0  0.0  0.0  0.0  0.0  0.0  0.0  0.0  0.0  0.0  0.0  0.0  0.0  0.0   \n",
      "50   0.0  0.0  0.0  0.0  0.0  0.0  0.0  0.0  0.0  0.0  0.0  0.0  0.0  0.0   \n",
      "51   0.0  0.0  0.0  0.0  0.0  0.0  0.0  0.0  0.0  0.0  0.0  0.0  0.0  0.0   \n",
      "52   0.0  0.0  0.0  0.0  0.0  0.0  0.0  0.0  0.0  0.0  0.0  0.0  0.0  0.0   \n",
      "53   0.0  0.0  0.0  0.0  0.0  0.0  0.0  0.0  0.0  0.0  0.0  0.0  0.0  0.0   \n",
      "54   0.0  0.0  0.0  0.0  0.0  0.0  0.0  0.0  0.0  0.0  0.0  0.0  0.0  0.0   \n",
      "55   0.0  0.0  0.0  0.0  0.0  0.0  0.0  0.0  0.0  0.0  0.0  0.0  0.0  0.0   \n",
      "56   1.0  1.0  0.0  0.0  0.0  1.0  1.0  1.0  0.0  1.0  0.0  1.0  0.0  0.0   \n",
      "57   1.0  0.0  1.0  0.0  1.0  1.0  0.0  1.0  1.0  1.0  1.0  0.0  1.0  1.0   \n",
      "58   1.0  1.0  1.0  1.0  1.0  1.0  1.0  1.0  1.0  1.0  1.0  1.0  1.0  1.0   \n",
      "59   1.0  0.0  0.0  0.0  1.0  1.0  1.0  1.0  1.0  1.0  0.0  1.0  1.0  1.0   \n",
      "60   1.0  0.0  0.0  0.0  0.0  0.0  0.0  0.0  1.0  1.0  0.0  0.0  1.0  0.0   \n",
      "61   0.0  1.0  0.0  0.0  1.0  0.0  0.0  0.0  0.0  0.0  1.0  0.0  0.0  0.0   \n",
      "62   0.0  0.0  0.0  0.0  0.0  0.0  0.0  0.0  0.0  0.0  0.0  0.0  0.0  0.0   \n",
      "63   0.0  0.0  0.0  0.0  0.0  0.0  0.0  0.0  0.0  0.0  0.0  0.0  0.0  0.0   \n",
      "64   0.0  0.0  0.0  0.0  0.0  0.0  0.0  0.0  0.0  0.0  0.0  0.0  0.0  0.0   \n",
      "65   0.0  0.0  0.0  0.0  0.0  0.0  0.0  0.0  0.0  0.0  0.0  0.0  0.0  0.0   \n",
      "66   0.0  0.0  0.0  0.0  0.0  0.0  0.0  0.0  0.0  0.0  0.0  0.0  0.0  0.0   \n",
      "67   0.0  0.0  0.0  0.0  0.0  0.0  0.0  0.0  0.0  0.0  0.0  0.0  0.0  0.0   \n",
      "68   0.0  0.0  0.0  0.0  0.0  0.0  0.0  0.0  0.0  0.0  0.0  0.0  0.0  0.0   \n",
      "69   0.0  0.0  0.0  0.0  0.0  0.0  0.0  0.0  0.0  0.0  0.0  0.0  0.0  0.0   \n",
      "70   0.0  0.0  0.0  0.0  0.0  0.0  0.0  0.0  0.0  0.0  0.0  0.0  0.0  0.0   \n",
      "71   0.0  0.0  0.0  0.0  0.0  0.0  0.0  0.0  0.0  0.0  0.0  0.0  0.0  0.0   \n",
      "72   0.0  0.0  0.0  0.0  0.0  0.0  0.0  0.0  0.0  0.0  0.0  0.0  0.0  0.0   \n",
      "73   0.0  0.0  0.0  0.0  0.0  0.0  0.0  0.0  0.0  0.0  0.0  0.0  0.0  0.0   \n",
      "74   0.0  0.0  0.0  0.0  0.0  0.0  0.0  0.0  0.0  0.0  0.0  0.0  0.0  0.0   \n",
      "75   0.0  0.0  0.0  0.0  0.0  0.0  0.0  0.0  0.0  0.0  0.0  0.0  0.0  0.0   \n",
      "76   0.0  0.0  0.0  0.0  0.0  0.0  0.0  0.0  0.0  0.0  0.0  0.0  0.0  0.0   \n",
      "77   0.0  0.0  0.0  0.0  0.0  0.0  0.0  0.0  0.0  0.0  0.0  0.0  0.0  0.0   \n",
      "78   0.0  0.0  0.0  0.0  0.0  0.0  0.0  0.0  0.0  0.0  0.0  0.0  0.0  0.0   \n",
      "79   0.0  0.0  0.0  0.0  0.0  0.0  0.0  0.0  0.0  0.0  0.0  0.0  0.0  0.0   \n",
      "80   0.0  0.0  0.0  0.0  0.0  0.0  0.0  0.0  0.0  0.0  0.0  0.0  0.0  0.0   \n",
      "81   0.0  0.0  0.0  0.0  0.0  0.0  0.0  0.0  0.0  0.0  0.0  0.0  0.0  0.0   \n",
      "82   0.0  0.0  0.0  0.0  0.0  0.0  0.0  0.0  0.0  0.0  0.0  0.0  0.0  0.0   \n",
      "83   0.0  0.0  0.0  0.0  0.0  0.0  0.0  0.0  0.0  0.0  0.0  0.0  0.0  0.0   \n",
      "84   0.0  0.0  0.0  0.0  0.0  0.0  0.0  0.0  0.0  0.0  0.0  0.0  0.0  0.0   \n",
      "85   0.0  0.0  0.0  0.0  0.0  0.0  0.0  0.0  0.0  0.0  0.0  0.0  0.0  0.0   \n",
      "86   0.0  0.0  0.0  0.0  0.0  0.0  0.0  0.0  0.0  0.0  0.0  0.0  0.0  0.0   \n",
      "87   0.0  0.0  0.0  0.0  0.0  0.0  0.0  0.0  0.0  0.0  0.0  0.0  0.0  0.0   \n",
      "88   0.0  0.0  0.0  0.0  0.0  0.0  0.0  0.0  0.0  0.0  0.0  0.0  0.0  0.0   \n",
      "89   1.0  1.0  1.0  1.0  1.0  1.0  1.0  1.0  1.0  1.0  1.0  1.0  1.0  1.0   \n",
      "90   1.0  1.0  1.0  1.0  1.0  1.0  1.0  1.0  1.0  1.0  1.0  1.0  1.0  1.0   \n",
      "91   1.0  1.0  1.0  1.0  1.0  1.0  1.0  1.0  1.0  1.0  1.0  1.0  1.0  1.0   \n",
      "92   0.0  0.0  0.0  0.0  0.0  0.0  0.0  0.0  0.0  0.0  0.0  0.0  0.0  0.0   \n",
      "93   0.0  0.0  0.0  0.0  0.0  0.0  0.0  0.0  0.0  0.0  0.0  0.0  0.0  0.0   \n",
      "94   0.0  0.0  0.0  0.0  0.0  0.0  1.0  0.0  0.0  0.0  0.0  0.0  0.0  0.0   \n",
      "95   0.0  0.0  0.0  0.0  0.0  0.0  0.0  0.0  0.0  0.0  0.0  0.0  0.0  0.0   \n",
      "96   0.0  0.0  0.0  0.0  0.0  0.0  0.0  0.0  0.0  0.0  0.0  0.0  0.0  0.0   \n",
      "97   0.0  0.0  0.0  0.0  0.0  0.0  0.0  0.0  0.0  0.0  0.0  0.0  0.0  0.0   \n",
      "98   0.0  0.0  0.0  0.0  0.0  0.0  0.0  0.0  0.0  0.0  0.0  0.0  0.0  0.0   \n",
      "99   0.0  0.0  0.0  0.0  0.0  0.0  0.0  0.0  0.0  0.0  0.0  0.0  0.0  0.0   \n",
      "100  0.0  0.0  0.0  0.0  0.0  0.0  0.0  0.0  0.0  0.0  0.0  0.0  0.0  0.0   \n",
      "101  1.0  1.0  1.0  1.0  1.0  1.0  1.0  1.0  1.0  1.0  1.0  1.0  1.0  1.0   \n",
      "102  0.0  0.0  0.0  0.0  0.0  0.0  0.0  0.0  0.0  0.0  0.0  0.0  0.0  0.0   \n",
      "103  0.0  0.0  0.0  0.0  0.0  0.0  0.0  0.0  0.0  0.0  0.0  0.0  0.0  0.0   \n",
      "104  0.0  0.0  0.0  0.0  0.0  0.0  0.0  0.0  0.0  0.0  0.0  0.0  0.0  0.0   \n",
      "105  1.0  1.0  1.0  1.0  1.0  1.0  1.0  1.0  1.0  1.0  1.0  1.0  1.0  1.0   \n",
      "106  1.0  1.0  1.0  1.0  1.0  1.0  1.0  1.0  1.0  1.0  1.0  1.0  1.0  1.0   \n",
      "107  0.0  0.0  0.0  0.0  0.0  0.0  0.0  0.0  0.0  0.0  0.0  0.0  0.0  0.0   \n",
      "108  0.0  0.0  0.0  0.0  0.0  0.0  0.0  0.0  0.0  0.0  0.0  0.0  0.0  0.0   \n",
      "109  0.0  0.0  0.0  0.0  0.0  0.0  0.0  0.0  0.0  0.0  0.0  0.0  0.0  0.0   \n",
      "110  0.0  0.0  0.0  0.0  0.0  0.0  0.0  0.0  0.0  0.0  0.0  0.0  0.0  0.0   \n",
      "111  0.0  0.0  0.0  0.0  0.0  0.0  0.0  0.0  0.0  0.0  0.0  0.0  0.0  0.0   \n",
      "112  0.0  0.0  0.0  0.0  0.0  0.0  0.0  0.0  0.0  0.0  0.0  0.0  0.0  0.0   \n",
      "113  0.0  0.0  0.0  0.0  0.0  0.0  0.0  0.0  0.0  0.0  0.0  0.0  0.0  0.0   \n",
      "114  0.0  0.0  0.0  0.0  0.0  0.0  0.0  0.0  0.0  0.0  0.0  0.0  0.0  0.0   \n",
      "115  0.0  0.0  0.0  0.0  0.0  0.0  0.0  0.0  0.0  0.0  0.0  0.0  0.0  0.0   \n",
      "116  0.0  0.0  0.0  0.0  0.0  0.0  0.0  0.0  0.0  0.0  0.0  0.0  0.0  0.0   \n",
      "117  0.0  0.0  0.0  0.0  0.0  0.0  0.0  0.0  0.0  0.0  0.0  0.0  0.0  0.0   \n",
      "118  0.0  0.0  0.0  0.0  0.0  0.0  0.0  0.0  0.0  0.0  0.0  0.0  0.0  0.0   \n",
      "119  0.0  0.0  0.0  0.0  0.0  0.0  0.0  0.0  0.0  0.0  0.0  0.0  0.0  0.0   \n",
      "\n",
      "      41   42   43   44  \n",
      "0    0.0  0.0  0.0  0.0  \n",
      "1    0.0  0.0  0.0  0.0  \n",
      "2    0.0  0.0  0.0  0.0  \n",
      "3    0.0  0.0  0.0  0.0  \n",
      "4    1.0  0.0  1.0  1.0  \n",
      "5    0.0  1.0  1.0  1.0  \n",
      "6    0.0  1.0  1.0  1.0  \n",
      "7    1.0  1.0  1.0  1.0  \n",
      "8    0.0  0.0  0.0  0.0  \n",
      "9    1.0  1.0  1.0  1.0  \n",
      "10   0.0  0.0  0.0  0.0  \n",
      "11   0.0  0.0  0.0  0.0  \n",
      "12   0.0  0.0  0.0  0.0  \n",
      "13   0.0  0.0  0.0  0.0  \n",
      "14   0.0  0.0  0.0  0.0  \n",
      "15   1.0  0.0  1.0  0.0  \n",
      "16   0.0  0.0  0.0  0.0  \n",
      "17   0.0  0.0  0.0  0.0  \n",
      "18   0.0  0.0  0.0  0.0  \n",
      "19   0.0  0.0  0.0  0.0  \n",
      "20   0.0  0.0  0.0  0.0  \n",
      "21   0.0  0.0  0.0  0.0  \n",
      "22   0.0  0.0  0.0  0.0  \n",
      "23   0.0  0.0  0.0  0.0  \n",
      "24   0.0  0.0  0.0  0.0  \n",
      "25   0.0  0.0  0.0  0.0  \n",
      "26   0.0  0.0  0.0  0.0  \n",
      "27   0.0  0.0  0.0  0.0  \n",
      "28   0.0  0.0  0.0  0.0  \n",
      "29   0.0  0.0  0.0  0.0  \n",
      "30   1.0  1.0  1.0  0.0  \n",
      "31   1.0  1.0  1.0  0.0  \n",
      "32   0.0  0.0  0.0  0.0  \n",
      "33   0.0  0.0  0.0  0.0  \n",
      "34   0.0  0.0  0.0  0.0  \n",
      "35   0.0  0.0  0.0  0.0  \n",
      "36   0.0  0.0  0.0  0.0  \n",
      "37   0.0  0.0  0.0  0.0  \n",
      "38   0.0  0.0  0.0  0.0  \n",
      "39   0.0  0.0  0.0  0.0  \n",
      "40   0.0  0.0  0.0  0.0  \n",
      "41   0.0  0.0  0.0  0.0  \n",
      "42   0.0  0.0  0.0  0.0  \n",
      "43   0.0  0.0  0.0  0.0  \n",
      "44   0.0  0.0  0.0  0.0  \n",
      "45   0.0  0.0  0.0  0.0  \n",
      "46   0.0  0.0  0.0  0.0  \n",
      "47   0.0  0.0  0.0  0.0  \n",
      "48   0.0  0.0  0.0  0.0  \n",
      "49   0.0  0.0  0.0  0.0  \n",
      "50   0.0  0.0  0.0  0.0  \n",
      "51   0.0  0.0  0.0  0.0  \n",
      "52   0.0  0.0  0.0  0.0  \n",
      "53   0.0  0.0  0.0  0.0  \n",
      "54   0.0  0.0  0.0  0.0  \n",
      "55   0.0  0.0  0.0  0.0  \n",
      "56   0.0  0.0  1.0  1.0  \n",
      "57   0.0  1.0  0.0  0.0  \n",
      "58   1.0  1.0  1.0  1.0  \n",
      "59   0.0  0.0  1.0  1.0  \n",
      "60   0.0  0.0  1.0  1.0  \n",
      "61   1.0  0.0  0.0  0.0  \n",
      "62   0.0  0.0  0.0  0.0  \n",
      "63   0.0  0.0  0.0  0.0  \n",
      "64   0.0  0.0  0.0  0.0  \n",
      "65   0.0  0.0  0.0  0.0  \n",
      "66   0.0  0.0  0.0  0.0  \n",
      "67   0.0  0.0  0.0  0.0  \n",
      "68   0.0  0.0  0.0  0.0  \n",
      "69   0.0  0.0  0.0  0.0  \n",
      "70   0.0  0.0  0.0  0.0  \n",
      "71   0.0  0.0  0.0  0.0  \n",
      "72   0.0  0.0  0.0  0.0  \n",
      "73   0.0  0.0  0.0  0.0  \n",
      "74   0.0  0.0  0.0  0.0  \n",
      "75   0.0  0.0  0.0  0.0  \n",
      "76   0.0  0.0  0.0  0.0  \n",
      "77   0.0  0.0  0.0  0.0  \n",
      "78   0.0  0.0  0.0  0.0  \n",
      "79   0.0  0.0  0.0  0.0  \n",
      "80   0.0  0.0  0.0  0.0  \n",
      "81   0.0  0.0  0.0  0.0  \n",
      "82   0.0  0.0  0.0  0.0  \n",
      "83   0.0  0.0  0.0  0.0  \n",
      "84   0.0  0.0  0.0  0.0  \n",
      "85   0.0  0.0  0.0  0.0  \n",
      "86   0.0  0.0  0.0  0.0  \n",
      "87   0.0  0.0  0.0  0.0  \n",
      "88   0.0  0.0  0.0  0.0  \n",
      "89   1.0  1.0  1.0  1.0  \n",
      "90   1.0  1.0  1.0  1.0  \n",
      "91   1.0  1.0  1.0  1.0  \n",
      "92   0.0  0.0  0.0  0.0  \n",
      "93   0.0  0.0  0.0  0.0  \n",
      "94   0.0  0.0  0.0  0.0  \n",
      "95   0.0  0.0  0.0  0.0  \n",
      "96   0.0  0.0  0.0  0.0  \n",
      "97   0.0  0.0  0.0  0.0  \n",
      "98   0.0  0.0  0.0  0.0  \n",
      "99   0.0  0.0  0.0  0.0  \n",
      "100  0.0  0.0  0.0  0.0  \n",
      "101  1.0  1.0  1.0  0.0  \n",
      "102  0.0  0.0  0.0  0.0  \n",
      "103  0.0  0.0  0.0  0.0  \n",
      "104  0.0  0.0  0.0  0.0  \n",
      "105  1.0  1.0  1.0  1.0  \n",
      "106  1.0  1.0  1.0  1.0  \n",
      "107  0.0  0.0  0.0  0.0  \n",
      "108  0.0  0.0  0.0  0.0  \n",
      "109  0.0  0.0  0.0  0.0  \n",
      "110  0.0  0.0  0.0  0.0  \n",
      "111  0.0  0.0  0.0  0.0  \n",
      "112  0.0  0.0  0.0  0.0  \n",
      "113  0.0  0.0  0.0  0.0  \n",
      "114  0.0  0.0  0.0  0.0  \n",
      "115  0.0  0.0  0.0  0.0  \n",
      "116  0.0  0.0  0.0  0.0  \n",
      "117  0.0  0.0  0.0  0.0  \n",
      "118  0.0  0.0  0.0  0.0  \n",
      "119  0.0  0.0  0.0  0.0  \n"
     ]
    },
    {
     "data": {
      "image/png": "[encoded data removed]",
      "text/plain": [
       "<Figure size 1440x720 with 1 Axes>"
      ]
     },
     "metadata": {},
     "output_type": "display_data"
    }
   ],
   "source": [
    "accuracy_scores, precision_scores, recall_scores, auc_scores, result_pred = perform_repeated_cv(X_train_scaled, y_train, final_model)"
   ]
  },
  {
   "cell_type": "code",
   "execution_count": 55,
   "metadata": {},
   "outputs": [
    {
     "name": "stdout",
     "output_type": "stream",
     "text": [
      "[0.78 0.79 0.81 0.78 0.78 0.77 0.82 0.82 0.77 0.8  0.81 0.78 0.78 0.8\n",
      " 0.78 0.8  0.8  0.79 0.79 0.77 0.78 0.79 0.8  0.81 0.8  0.76 0.79 0.78\n",
      " 0.79 0.8  0.78 0.79 0.79 0.81 0.82 0.78 0.78 0.8  0.8  0.79 0.78 0.78\n",
      " 0.79 0.79 0.79] 45\n"
     ]
    }
   ],
   "source": [
    "print(accuracy_scores, accuracy_scores.size)"
   ]
  },
  {
   "cell_type": "code",
   "execution_count": 56,
   "metadata": {},
   "outputs": [
    {
     "name": "stdout",
     "output_type": "stream",
     "text": [
      "[0.79 0.81 0.88 0.76 0.8  0.73 0.88 0.84 0.73 0.82 0.83 0.79 0.79 0.82\n",
      " 0.8  0.82 0.82 0.86 0.86 0.77 0.76 0.81 0.82 0.88 0.82 0.75 0.81 0.76\n",
      " 0.81 0.87 0.8  0.81 0.81 0.83 0.84 0.75 0.76 0.82 0.82 0.78 0.8  0.79\n",
      " 0.86 0.78 0.86] [0.31 0.37 0.4  0.37 0.34 0.31 0.43 0.46 0.31 0.4  0.43 0.31 0.31 0.4\n",
      " 0.34 0.4  0.4  0.34 0.34 0.29 0.37 0.37 0.4  0.4  0.4  0.26 0.37 0.37\n",
      " 0.37 0.37 0.34 0.37 0.37 0.43 0.46 0.34 0.37 0.4  0.4  0.4  0.34 0.31\n",
      " 0.34 0.4  0.34]\n"
     ]
    }
   ],
   "source": [
    "print(precision_scores, recall_scores)"
   ]
  },
  {
   "cell_type": "code",
   "execution_count": 57,
   "metadata": {},
   "outputs": [
    {
     "name": "stdout",
     "output_type": "stream",
     "text": [
      "[0.64 0.67 0.69 0.66 0.65 0.63 0.7  0.71 0.63 0.68 0.7  0.64 0.64 0.68\n",
      " 0.65 0.68 0.68 0.66 0.66 0.63 0.66 0.67 0.68 0.69 0.68 0.61 0.67 0.66\n",
      " 0.67 0.67 0.65 0.67 0.67 0.7  0.71 0.65 0.66 0.68 0.68 0.68 0.65 0.64\n",
      " 0.66 0.68 0.66] 45\n"
     ]
    }
   ],
   "source": [
    "print(auc_scores, auc_scores.size)"
   ]
  },
  {
   "cell_type": "code",
   "execution_count": 58,
   "metadata": {},
   "outputs": [
    {
     "name": "stderr",
     "output_type": "stream",
     "text": [
      "No handles with labels found to put in legend.\n"
     ]
    },
    {
     "data": {
      "image/png": "[encoded data removed]",
      "text/plain": [
       "<Figure size 1440x720 with 1 Axes>"
      ]
     },
     "metadata": {},
     "output_type": "display_data"
    }
   ],
   "source": [
    "fig = plt.figure(figsize=(20, 10))\n",
    "plt.plot(auc_scores, '--o')\n",
    "plt.legend(loc='lower right')\n",
    "plt.ylabel('AUC', fontsize=20);\n",
    "plt.xlabel('Repetições', fontsize=20);\n",
    "plt.tick_params(axis='both', which='major', labelsize=20);\n",
    "plt.tick_params(axis='both', which='minor', labelsize=18);\n",
    "#plt.xlim([0, 18])\n",
    "#plt.ylim([0.5, 1])\n",
    "plt.legend(('Acurácia', 'AUC'), loc='lower right', prop={'size': 20})\n",
    "plt.show()"
   ]
  },
  {
   "cell_type": "code",
   "execution_count": 59,
   "metadata": {},
   "outputs": [
    {
     "name": "stdout",
     "output_type": "stream",
     "text": [
      "Accuracy: 0.67 (+/- 0.02)\n"
     ]
    }
   ],
   "source": [
    "print(\"Accuracy: %0.2f (+/- %0.2f)\" % (np.mean(auc_scores), np.std(auc_scores)))"
   ]
  },
  {
   "cell_type": "code",
   "execution_count": 60,
   "metadata": {},
   "outputs": [],
   "source": [
    "result_pred.to_csv('result_kfold_SVM.csv', encoding='utf-8')"
   ]
  },
  {
   "cell_type": "markdown",
   "metadata": {},
   "source": [
    "# Draft"
   ]
  },
  {
   "cell_type": "markdown",
   "metadata": {},
   "source": [
    "## Predicting the Classes in Test Set"
   ]
  },
  {
   "cell_type": "code",
   "execution_count": null,
   "metadata": {},
   "outputs": [],
   "source": []
  },
  {
   "cell_type": "code",
   "execution_count": 54,
   "metadata": {},
   "outputs": [
    {
     "ename": "NameError",
     "evalue": "name 'X_test_scaled' is not defined",
     "output_type": "error",
     "traceback": [
      "\u001b[1;31m---------------------------------------------------------------------------\u001b[0m",
      "\u001b[1;31mNameError\u001b[0m                                 Traceback (most recent call last)",
      "\u001b[1;32m<ipython-input-54-c7cd34ec5487>\u001b[0m in \u001b[0;36m<module>\u001b[1;34m()\u001b[0m\n\u001b[1;32m----> 1\u001b[1;33m \u001b[0my_pred\u001b[0m \u001b[1;33m=\u001b[0m \u001b[0mfinal_model\u001b[0m\u001b[1;33m.\u001b[0m\u001b[0mpredict\u001b[0m\u001b[1;33m(\u001b[0m\u001b[0mX_test_scaled\u001b[0m\u001b[1;33m)\u001b[0m\u001b[1;33m\u001b[0m\u001b[0m\n\u001b[0m\u001b[0;32m      2\u001b[0m \u001b[0my_pred_prob\u001b[0m \u001b[1;33m=\u001b[0m \u001b[0mfinal_model\u001b[0m\u001b[1;33m.\u001b[0m\u001b[0mpredict_proba\u001b[0m\u001b[1;33m(\u001b[0m\u001b[0mX_test_scaled\u001b[0m\u001b[1;33m)\u001b[0m\u001b[1;33m[\u001b[0m\u001b[1;33m:\u001b[0m\u001b[1;33m,\u001b[0m\u001b[1;36m1\u001b[0m\u001b[1;33m]\u001b[0m\u001b[1;33m\u001b[0m\u001b[0m\n",
      "\u001b[1;31mNameError\u001b[0m: name 'X_test_scaled' is not defined"
     ]
    }
   ],
   "source": [
    "y_pred = final_model.predict(X_test_scaled)\n",
    "y_pred_prob = final_model.predict_proba(X_test_scaled)[:,1]"
   ]
  },
  {
   "cell_type": "code",
   "execution_count": null,
   "metadata": {},
   "outputs": [],
   "source": [
    "plotRoc(y_test, y_pred_prob)"
   ]
  },
  {
   "cell_type": "markdown",
   "metadata": {},
   "source": [
    "<font color='red'>\n",
    "Notes:<br>\n",
    "The probability model is created using cross validation, so the results can be slightly different than those obtained by predict. Also, it will produce meaningless results on very small datasets.</font>"
   ]
  },
  {
   "cell_type": "code",
   "execution_count": null,
   "metadata": {},
   "outputs": [],
   "source": [
    "roc_auc_score(y_test, y_pred_prob)"
   ]
  },
  {
   "cell_type": "code",
   "execution_count": null,
   "metadata": {},
   "outputs": [],
   "source": [
    "printcfm(y_test,y_pred,title='confusion matrix')"
   ]
  },
  {
   "cell_type": "code",
   "execution_count": null,
   "metadata": {},
   "outputs": [],
   "source": [
    "print(classification_report(y_test, y_pred))"
   ]
  },
  {
   "cell_type": "code",
   "execution_count": null,
   "metadata": {},
   "outputs": [],
   "source": [
    "X=np.concatenate((X_train_scaled,X_test_scaled),axis=0)\n",
    "# print(X)\n",
    "y=np.append(y_train,y_test)\n",
    "# print(y)"
   ]
  },
  {
   "cell_type": "code",
   "execution_count": null,
   "metadata": {
    "code_folding": []
   },
   "outputs": [],
   "source": [
    "print(__doc__)\n",
    "\n",
    "param_range = np.logspace(-6, 2, 5)\n",
    "\n",
    "train_scores, test_scores = validation_curve(\n",
    "    final_model, X, y, param_name=\"gamma\", param_range=param_range,\n",
    "    cv=10, scoring=\"roc_auc\", n_jobs=-1)\n",
    "\n",
    "train_scores_mean = np.mean(train_scores, axis=1)\n",
    "train_scores_std = np.std(train_scores, axis=1)\n",
    "test_scores_mean = np.mean(test_scores, axis=1)\n",
    "test_scores_std = np.std(test_scores, axis=1)\n",
    "\n",
    "plt.title(\"Validation Curve with SVC\")\n",
    "plt.xlabel(\"$\\gamma$\")\n",
    "plt.ylabel(\"AUC\")\n",
    "#plt.ylim(0.0, 1.1)\n",
    "#plt.xlim(-1, 22)\n",
    "lw = 2\n",
    "plt.semilogx(param_range, train_scores_mean, label=\"Training score\",\n",
    "             color=\"darkorange\", lw=lw)\n",
    "plt.fill_between(param_range, train_scores_mean - train_scores_std,\n",
    "                 train_scores_mean + train_scores_std, alpha=0.2,\n",
    "                 color=\"darkorange\", lw=lw)\n",
    "plt.semilogx(param_range, test_scores_mean, label=\"Cross-validation score\",\n",
    "             color=\"navy\", lw=lw)\n",
    "plt.fill_between(param_range, test_scores_mean - test_scores_std,\n",
    "                 test_scores_mean + test_scores_std, alpha=0.2,\n",
    "                 color=\"navy\", lw=lw)\n",
    "plt.legend(loc=\"best\")\n",
    "plt.show()"
   ]
  },
  {
   "cell_type": "code",
   "execution_count": null,
   "metadata": {},
   "outputs": [],
   "source": [
    "# param_range = np.logspace(-6, 20, 20)\n",
    "\n",
    "# viz = ValidationCurve(\n",
    "#     final_model, param_name=\"gamma\", param_range=param_range,\n",
    "#     logx=True, cv=10, scoring=\"precision\", n_jobs=-1,\n",
    "# )\n",
    "\n",
    "# viz.fit(X, y)\n",
    "# viz.poof()"
   ]
  },
  {
   "cell_type": "markdown",
   "metadata": {},
   "source": [
    "# Add learning curves"
   ]
  },
  {
   "cell_type": "code",
   "execution_count": null,
   "metadata": {},
   "outputs": [],
   "source": []
  }
 ],
 "metadata": {
  "kernelspec": {
   "display_name": "Python 3",
   "language": "python",
   "name": "python3"
  },
  "language_info": {
   "codemirror_mode": {
    "name": "ipython",
    "version": 3
   },
   "file_extension": ".py",
   "mimetype": "text/x-python",
   "name": "python",
   "nbconvert_exporter": "python",
   "pygments_lexer": "ipython3",
   "version": "3.6.5"
  }
 },
 "nbformat": 4,
 "nbformat_minor": 2
}
