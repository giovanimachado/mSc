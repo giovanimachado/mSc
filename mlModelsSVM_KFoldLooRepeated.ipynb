{
 "cells": [
  {
   "cell_type": "code",
   "execution_count": 1,
   "metadata": {
    "code_folding": [
     0
    ]
   },
   "outputs": [
    {
     "data": {
      "application/javascript": [
       "IPython.notebook.set_autosave_interval(0)"
      ]
     },
     "metadata": {},
     "output_type": "display_data"
    },
    {
     "name": "stdout",
     "output_type": "stream",
     "text": [
      "Autosave disabled\n"
     ]
    }
   ],
   "source": [
    "#from customplot import *\n",
    "\n",
    "#import sqlite3\n",
    "%autosave 0\n",
    "import itertools\n",
    "import pandas as pd\n",
    "import numpy as np\n",
    "import matplotlib.pyplot as plt\n",
    "from scipy import interp\n",
    "from scipy.stats import reciprocal, uniform\n",
    "from numpy import random\n",
    "from sklearn.cluster import KMeans\n",
    "from sklearn.ensemble import RandomForestClassifier\n",
    "from sklearn.linear_model import LogisticRegression\n",
    "from sklearn.linear_model import SGDClassifier\n",
    "from sklearn.metrics import accuracy_score\n",
    "from sklearn.metrics import classification_report\n",
    "from sklearn.metrics import confusion_matrix\n",
    "from sklearn.metrics import log_loss\n",
    "from sklearn.metrics import precision_score\n",
    "from sklearn.metrics import precision_recall_curve\n",
    "from sklearn.metrics import recall_score\n",
    "from sklearn.metrics import roc_auc_score\n",
    "from sklearn.metrics import roc_curve\n",
    "from sklearn.model_selection import KFold\n",
    "from sklearn.model_selection import LeaveOneOut\n",
    "from sklearn.model_selection import train_test_split\n",
    "from sklearn.model_selection import cross_val_score\n",
    "from sklearn.model_selection import cross_val_predict\n",
    "from sklearn.model_selection import GridSearchCV\n",
    "from sklearn.model_selection import RandomizedSearchCV\n",
    "from sklearn.model_selection import validation_curve\n",
    "from sklearn.neighbors import KNeighborsClassifier\n",
    "from sklearn.neural_network import MLPClassifier\n",
    "from sklearn.pipeline import Pipeline\n",
    "from sklearn.preprocessing import StandardScaler\n",
    "from sklearn.preprocessing import MinMaxScaler\n",
    "from sklearn.preprocessing import PolynomialFeatures\n",
    "from sklearn.svm import SVC, LinearSVC\n",
    "from sklearn.tree import DecisionTreeClassifier"
   ]
  },
  {
   "cell_type": "code",
   "execution_count": 2,
   "metadata": {
    "code_folding": [
     0
    ],
    "scrolled": true
   },
   "outputs": [],
   "source": [
    "def plot_confusion_matrix(cm, classes,\n",
    "                          normalize=False,\n",
    "                          title='Confusion matrix',\n",
    "                          cmap=plt.cm.Blues):\n",
    "    \"\"\"\n",
    "    This function prints and plots the confusion matrix.\n",
    "    Normalization can be applied by setting `normalize=True`.\n",
    "    \"\"\"\n",
    "    if normalize:\n",
    "        cm = cm.astype('float') / cm.sum(axis=1)[:, np.newaxis]\n",
    "        print(\"Normalized confusion matrix\")\n",
    "    else:\n",
    "        print('Confusion matrix, without normalization')\n",
    "\n",
    "    #print(cm)\n",
    "\n",
    "    plt.imshow(cm, interpolation='nearest', cmap=cmap)\n",
    "    plt.title(title)\n",
    "    plt.colorbar()\n",
    "    tick_marks = np.arange(len(classes))\n",
    "    plt.xticks(tick_marks, classes, rotation=45)\n",
    "    plt.yticks(tick_marks, classes)\n",
    "\n",
    "    fmt = '.2f' if normalize else 'd'\n",
    "    thresh = cm.max() / 2.\n",
    "    for i, j in itertools.product(range(cm.shape[0]), range(cm.shape[1])):\n",
    "        plt.text(j, i, format(cm[i, j], fmt),\n",
    "                 horizontalalignment=\"center\",\n",
    "                 color=\"white\" if cm[i, j] > thresh else \"black\")\n",
    "\n",
    "    plt.tight_layout()\n",
    "    plt.ylabel('True label')\n",
    "    plt.xlabel('Predicted label')\n",
    "    "
   ]
  },
  {
   "cell_type": "code",
   "execution_count": 3,
   "metadata": {
    "code_folding": [
     0
    ]
   },
   "outputs": [],
   "source": [
    "def printcfm(y_test,y_pred,title='confusion matrix'):\n",
    "    cnf_matrix = confusion_matrix(y_test, y_pred)\n",
    "    np.set_printoptions(precision=2)\n",
    "    # Plot non-normalized confusion matrix\n",
    "    plt.figure()\n",
    "    plot_confusion_matrix(cnf_matrix, classes=['Sem Perda','Perda'],\n",
    "                      title=title) "
   ]
  },
  {
   "cell_type": "code",
   "execution_count": 4,
   "metadata": {
    "code_folding": [
     0
    ]
   },
   "outputs": [],
   "source": [
    "def plotRoc(y_real, y_pred_prob):\n",
    "    # Generate ROC curve values: fpr, tpr, thresholds\n",
    "    fpr, tpr, thresholds = roc_curve(y_real, y_pred_prob)\n",
    "    \n",
    "    # Calculate AUC\n",
    "    auc = roc_auc_score(y_real, y_pred_prob)\n",
    "\n",
    "    # Plot ROC curve\n",
    "    plt.plot([0, 1], [0, 1], 'k--')\n",
    "    plt.plot(fpr, tpr)\n",
    "    plt.text(1, 0.5, \"AUC: %3.3f\" % (auc), {'color': 'C2', 'fontsize': 18}, va=\"bottom\", ha=\"right\")\n",
    "    plt.xlabel('False Positive Rate')\n",
    "    plt.ylabel('True Positive Rate')\n",
    "    plt.title('ROC Curve')\n",
    "    plt.show()\n"
   ]
  },
  {
   "cell_type": "code",
   "execution_count": 5,
   "metadata": {
    "code_folding": [
     0
    ]
   },
   "outputs": [],
   "source": [
    "def plot_precision_vs_recall(precisions, recalls):\n",
    "    plt.figure(figsize=(8, 6))\n",
    "    plt.plot(recalls, precisions, \"b-\", linewidth=2)\n",
    "    plt.xlabel(\"Recall\", fontsize=16)\n",
    "    plt.ylabel(\"Precision\", fontsize=16)\n",
    "    plt.axis([0, 1.01, 0, 1])\n",
    "    plt.show()\n",
    "    "
   ]
  },
  {
   "cell_type": "code",
   "execution_count": 6,
   "metadata": {},
   "outputs": [],
   "source": [
    "#Setando configurações de visualização\n",
    "pd.options.display.max_rows=350\n",
    "pd.options.display.max_columns=60"
   ]
  },
  {
   "cell_type": "code",
   "execution_count": 7,
   "metadata": {},
   "outputs": [],
   "source": [
    "# Using all phases data and sppliting between train and test\n",
    "# # train=pd.read_csv('baseProjetoTrainOver.csv', index_col=0)\n",
    "# # test=pd.read_csv('baseProjetoTest.csv', index_col=0)\n",
    "\n",
    "# Using phase 1 data and sppliting between train and test\n",
    "train=pd.read_csv('baseProjetoTrainOverFase1.csv', index_col=0)\n",
    "test=pd.read_csv('baseProjetoTestFase1.csv', index_col=0)\n",
    "\n",
    "X_train = train[['ATRIB_MAX1',\n",
    "         'ATRIB_DIST1', 'DIFP', 'MGP1', 'MGP2', 'MGP3', 'MGP4', 'MGP5', 'MGP6',\n",
    "         'MGP7', 'MGP8', 'MGP9', 'MGP10', 'MGP11', 'MGP12', 'MGP13', 'MGP14']]\n",
    "\n",
    "X_test = test[['ATRIB_MAX1',\n",
    "         'ATRIB_DIST1', 'DIFP', 'MGP1', 'MGP2', 'MGP3', 'MGP4', 'MGP5', 'MGP6',\n",
    "         'MGP7', 'MGP8', 'MGP9', 'MGP10', 'MGP11', 'MGP12', 'MGP13', 'MGP14']]\n",
    "\n",
    "y_test = test['Perda30']\n",
    "\n",
    "y_train = train['Perda30']"
   ]
  },
  {
   "cell_type": "code",
   "execution_count": 8,
   "metadata": {},
   "outputs": [
    {
     "data": {
      "image/png": "[encoded data removed]",
      "text/plain": [
       "<Figure size 432x288 with 1 Axes>"
      ]
     },
     "metadata": {},
     "output_type": "display_data"
    }
   ],
   "source": [
    "X_train = X_train.reset_index(drop=True)\n",
    "y_train = y_train.reset_index(drop=True)\n",
    "y_train.value_counts().plot(kind='bar', title='Count (Perda30)');"
   ]
  },
  {
   "cell_type": "code",
   "execution_count": 9,
   "metadata": {},
   "outputs": [],
   "source": [
    "scaler = StandardScaler()\n",
    "X_train_scaled = scaler.fit_transform(X_train)\n",
    "X_test_scaled = scaler.fit_transform(X_test)"
   ]
  },
  {
   "cell_type": "code",
   "execution_count": 10,
   "metadata": {},
   "outputs": [],
   "source": [
    "X_train_scaled = pd.DataFrame(X_train_scaled, index=X_train.index)\n",
    "X_test_scaled = pd.DataFrame(X_test_scaled, index=X_test.index)"
   ]
  },
  {
   "cell_type": "markdown",
   "metadata": {},
   "source": [
    "<br>\n",
    "## SGDClassifier"
   ]
  },
  {
   "cell_type": "code",
   "execution_count": 11,
   "metadata": {},
   "outputs": [],
   "source": [
    "C = 10\n",
    "alpha = 1 / (C * len(X_train))"
   ]
  },
  {
   "cell_type": "markdown",
   "metadata": {},
   "source": [
    "Note <br>\n",
    "alpha : float\n",
    "Constant that multiplies the regularization term. Defaults to 0.0001 Also used to compute learning_rate when set to ‘optimal’."
   ]
  },
  {
   "cell_type": "code",
   "execution_count": 12,
   "metadata": {},
   "outputs": [],
   "source": [
    "steps = [('scaler', StandardScaler()),(('sgd_clf',  SGDClassifier(loss=\"hinge\", learning_rate=\"constant\", eta0=0.001, alpha=alpha, max_iter=100000, random_state=42)))]\n",
    "pipeline = Pipeline(steps)\n",
    "scaler = StandardScaler()"
   ]
  },
  {
   "cell_type": "code",
   "execution_count": 13,
   "metadata": {},
   "outputs": [],
   "source": [
    "random_scaled = pipeline.fit(X_train, y_train)"
   ]
  },
  {
   "cell_type": "code",
   "execution_count": 14,
   "metadata": {},
   "outputs": [
    {
     "data": {
      "text/plain": [
       "0.9083333333333333"
      ]
     },
     "execution_count": 14,
     "metadata": {},
     "output_type": "execute_result"
    }
   ],
   "source": [
    "y_pred = pipeline.predict(X_train) \n",
    "accuracy_score(y_train, y_pred)"
   ]
  },
  {
   "cell_type": "code",
   "execution_count": 15,
   "metadata": {},
   "outputs": [
    {
     "name": "stdout",
     "output_type": "stream",
     "text": [
      "Confusion matrix, without normalization\n"
     ]
    },
    {
     "data": {
      "image/png": "[encoded data removed]",
      "text/plain": [
       "<Figure size 432x288 with 2 Axes>"
      ]
     },
     "metadata": {},
     "output_type": "display_data"
    }
   ],
   "source": [
    "printcfm(y_train,y_pred,title='confusion matrix')"
   ]
  },
  {
   "cell_type": "markdown",
   "metadata": {},
   "source": [
    "Positive Predictive Value (PPV)\n",
    "$$Precision=\\frac{TP}{TP+FP}$$\n",
    "<br>\n",
    "Sensitivity, Hit Rate, True Positive Rate\n",
    "$$Recall=\\frac{TP}{TP+FN}$$\n",
    "<br>\n",
    "Harmonic mean between Precision and Recall\n",
    "$$F1 Score=2 * \\frac{Precision * Recall}{Precision + Recall}$$"
   ]
  },
  {
   "cell_type": "code",
   "execution_count": 16,
   "metadata": {},
   "outputs": [
    {
     "name": "stdout",
     "output_type": "stream",
     "text": [
      "             precision    recall  f1-score   support\n",
      "\n",
      "          0       0.98      0.83      0.90        60\n",
      "          1       0.86      0.98      0.91        60\n",
      "\n",
      "avg / total       0.92      0.91      0.91       120\n",
      "\n"
     ]
    }
   ],
   "source": [
    "print(classification_report(y_train, y_pred))"
   ]
  },
  {
   "cell_type": "markdown",
   "metadata": {},
   "source": [
    "<br>\n",
    "## SVC"
   ]
  },
  {
   "cell_type": "code",
   "execution_count": 17,
   "metadata": {},
   "outputs": [],
   "source": [
    "svm_clf = SVC(decision_function_shape=\"ovr\")"
   ]
  },
  {
   "cell_type": "code",
   "execution_count": 18,
   "metadata": {},
   "outputs": [],
   "source": [
    "#steps = [('scaler', StandardScaler()),(('svm_clf', SVC(decision_function_shape=\"ovr\")))]\n",
    "#pipeline = Pipeline(steps)\n",
    "# X_train_scaled = scaler.fit_transform(X_train)\n",
    "# X_test_scaled = scaler.fit_transform(X_test)"
   ]
  },
  {
   "cell_type": "markdown",
   "metadata": {},
   "source": [
    "## Fine-tunning the model."
   ]
  },
  {
   "cell_type": "markdown",
   "metadata": {},
   "source": [
    "To turn on Fine-tunning: <br>\n",
    "    define ft = 1"
   ]
  },
  {
   "cell_type": "code",
   "execution_count": 19,
   "metadata": {},
   "outputs": [],
   "source": [
    "ft = 1"
   ]
  },
  {
   "cell_type": "markdown",
   "metadata": {},
   "source": [
    "### 1 - Random Search"
   ]
  },
  {
   "cell_type": "code",
   "execution_count": 20,
   "metadata": {},
   "outputs": [
    {
     "name": "stdout",
     "output_type": "stream",
     "text": [
      "Fitting 3 folds for each of 100 candidates, totalling 300 fits\n",
      "[CV] C=8.042846994074328, gamma=0.0024388080890161857, probability=True \n",
      "[CV]  C=8.042846994074328, gamma=0.0024388080890161857, probability=True, total=   0.0s\n",
      "[CV] C=8.042846994074328, gamma=0.0024388080890161857, probability=True \n",
      "[CV]  C=8.042846994074328, gamma=0.0024388080890161857, probability=True, total=   0.0s\n",
      "[CV] C=8.042846994074328, gamma=0.0024388080890161857, probability=True \n",
      "[CV]  C=8.042846994074328, gamma=0.0024388080890161857, probability=True, total=   0.0s\n",
      "[CV] C=3.872634675178486, gamma=0.008787225581149678, probability=True \n",
      "[CV]  C=3.872634675178486, gamma=0.008787225581149678, probability=True, total=   0.0s\n",
      "[CV] C=3.872634675178486, gamma=0.008787225581149678, probability=True \n",
      "[CV]  C=3.872634675178486, gamma=0.008787225581149678, probability=True, total=   0.0s\n",
      "[CV] C=3.872634675178486, gamma=0.008787225581149678, probability=True \n",
      "[CV]  C=3.872634675178486, gamma=0.008787225581149678, probability=True, total=   0.0s\n",
      "[CV] C=9.660878222084213, gamma=0.0034097065629430344, probability=True \n",
      "[CV]  C=9.660878222084213, gamma=0.0034097065629430344, probability=True, total=   0.0s\n",
      "[CV] C=9.660878222084213, gamma=0.0034097065629430344, probability=True \n",
      "[CV]  C=9.660878222084213, gamma=0.0034097065629430344, probability=True, total=   0.0s\n",
      "[CV] C=9.660878222084213, gamma=0.0034097065629430344, probability=True \n"
     ]
    },
    {
     "name": "stderr",
     "output_type": "stream",
     "text": [
      "[Parallel(n_jobs=1)]: Done   1 out of   1 | elapsed:    0.0s remaining:    0.0s\n"
     ]
    },
    {
     "name": "stdout",
     "output_type": "stream",
     "text": [
      "[CV]  C=9.660878222084213, gamma=0.0034097065629430344, probability=True, total=   0.0s\n",
      "[CV] C=4.782569986313259, gamma=0.012650634824654332, probability=True \n",
      "[CV]  C=4.782569986313259, gamma=0.012650634824654332, probability=True, total=   0.0s\n",
      "[CV] C=4.782569986313259, gamma=0.012650634824654332, probability=True \n",
      "[CV]  C=4.782569986313259, gamma=0.012650634824654332, probability=True, total=   0.0s\n",
      "[CV] C=4.782569986313259, gamma=0.012650634824654332, probability=True \n",
      "[CV]  C=4.782569986313259, gamma=0.012650634824654332, probability=True, total=   0.0s\n",
      "[CV] C=4.855685135807173, gamma=0.02717471703852408, probability=True \n",
      "[CV]  C=4.855685135807173, gamma=0.02717471703852408, probability=True, total=   0.0s\n",
      "[CV] C=4.855685135807173, gamma=0.02717471703852408, probability=True \n",
      "[CV]  C=4.855685135807173, gamma=0.02717471703852408, probability=True, total=   0.0s\n",
      "[CV] C=4.855685135807173, gamma=0.02717471703852408, probability=True \n",
      "[CV]  C=4.855685135807173, gamma=0.02717471703852408, probability=True, total=   0.0s\n",
      "[CV] C=2.5592193516220965, gamma=0.007731884570390706, probability=True \n",
      "[CV]  C=2.5592193516220965, gamma=0.007731884570390706, probability=True, total=   0.0s\n",
      "[CV] C=2.5592193516220965, gamma=0.007731884570390706, probability=True \n",
      "[CV]  C=2.5592193516220965, gamma=0.007731884570390706, probability=True, total=   0.0s\n",
      "[CV] C=2.5592193516220965, gamma=0.007731884570390706, probability=True \n",
      "[CV]  C=2.5592193516220965, gamma=0.007731884570390706, probability=True, total=   0.0s\n",
      "[CV] C=7.594870351689512, gamma=0.08047586747128636, probability=True \n",
      "[CV]  C=7.594870351689512, gamma=0.08047586747128636, probability=True, total=   0.0s\n",
      "[CV] C=7.594870351689512, gamma=0.08047586747128636, probability=True \n",
      "[CV]  C=7.594870351689512, gamma=0.08047586747128636, probability=True, total=   0.0s\n",
      "[CV] C=7.594870351689512, gamma=0.08047586747128636, probability=True \n",
      "[CV]  C=7.594870351689512, gamma=0.08047586747128636, probability=True, total=   0.0s\n",
      "[CV] C=7.59598500676844, gamma=0.0023791496898433588, probability=True \n",
      "[CV]  C=7.59598500676844, gamma=0.0023791496898433588, probability=True, total=   0.0s\n",
      "[CV] C=7.59598500676844, gamma=0.0023791496898433588, probability=True \n",
      "[CV]  C=7.59598500676844, gamma=0.0023791496898433588, probability=True, total=   0.0s\n",
      "[CV] C=7.59598500676844, gamma=0.0023791496898433588, probability=True \n",
      "[CV]  C=7.59598500676844, gamma=0.0023791496898433588, probability=True, total=   0.0s\n",
      "[CV] C=3.226851207703069, gamma=0.06454077295836569, probability=True \n",
      "[CV]  C=3.226851207703069, gamma=0.06454077295836569, probability=True, total=   0.0s\n",
      "[CV] C=3.226851207703069, gamma=0.06454077295836569, probability=True \n",
      "[CV]  C=3.226851207703069, gamma=0.06454077295836569, probability=True, total=   0.0s\n",
      "[CV] C=3.226851207703069, gamma=0.06454077295836569, probability=True \n",
      "[CV]  C=3.226851207703069, gamma=0.06454077295836569, probability=True, total=   0.0s\n",
      "[CV] C=2.2872790489372554, gamma=0.0017378635012760988, probability=True \n",
      "[CV]  C=2.2872790489372554, gamma=0.0017378635012760988, probability=True, total=   0.0s\n",
      "[CV] C=2.2872790489372554, gamma=0.0017378635012760988, probability=True \n",
      "[CV]  C=2.2872790489372554, gamma=0.0017378635012760988, probability=True, total=   0.0s\n",
      "[CV] C=2.2872790489372554, gamma=0.0017378635012760988, probability=True \n",
      "[CV]  C=2.2872790489372554, gamma=0.0017378635012760988, probability=True, total=   0.0s\n",
      "[CV] C=7.658725658176159, gamma=0.010950440022484841, probability=True \n",
      "[CV]  C=7.658725658176159, gamma=0.010950440022484841, probability=True, total=   0.0s\n",
      "[CV] C=7.658725658176159, gamma=0.010950440022484841, probability=True \n",
      "[CV]  C=7.658725658176159, gamma=0.010950440022484841, probability=True, total=   0.0s\n",
      "[CV] C=7.658725658176159, gamma=0.010950440022484841, probability=True \n",
      "[CV]  C=7.658725658176159, gamma=0.010950440022484841, probability=True, total=   0.0s\n",
      "[CV] C=10.690506278585982, gamma=0.013938588746413122, probability=True \n",
      "[CV]  C=10.690506278585982, gamma=0.013938588746413122, probability=True, total=   0.0s\n",
      "[CV] C=10.690506278585982, gamma=0.013938588746413122, probability=True \n",
      "[CV]  C=10.690506278585982, gamma=0.013938588746413122, probability=True, total=   0.0s\n",
      "[CV] C=10.690506278585982, gamma=0.013938588746413122, probability=True \n",
      "[CV]  C=10.690506278585982, gamma=0.013938588746413122, probability=True, total=   0.0s\n",
      "[CV] C=6.17121973223917, gamma=0.02075282072730771, probability=True .\n",
      "[CV]  C=6.17121973223917, gamma=0.02075282072730771, probability=True, total=   0.0s\n",
      "[CV] C=6.17121973223917, gamma=0.02075282072730771, probability=True .\n",
      "[CV]  C=6.17121973223917, gamma=0.02075282072730771, probability=True, total=   0.0s\n",
      "[CV] C=6.17121973223917, gamma=0.02075282072730771, probability=True .\n",
      "[CV]  C=6.17121973223917, gamma=0.02075282072730771, probability=True, total=   0.0s\n",
      "[CV] C=6.83978284838346, gamma=0.0019237217201041935, probability=True \n",
      "[CV]  C=6.83978284838346, gamma=0.0019237217201041935, probability=True, total=   0.0s\n",
      "[CV] C=6.83978284838346, gamma=0.0019237217201041935, probability=True \n",
      "[CV]  C=6.83978284838346, gamma=0.0019237217201041935, probability=True, total=   0.0s\n",
      "[CV] C=6.83978284838346, gamma=0.0019237217201041935, probability=True \n",
      "[CV]  C=6.83978284838346, gamma=0.0019237217201041935, probability=True, total=   0.0s\n",
      "[CV] C=10.330257229526088, gamma=0.0031218306234268244, probability=True \n",
      "[CV]  C=10.330257229526088, gamma=0.0031218306234268244, probability=True, total=   0.0s\n",
      "[CV] C=10.330257229526088, gamma=0.0031218306234268244, probability=True \n",
      "[CV]  C=10.330257229526088, gamma=0.0031218306234268244, probability=True, total=   0.0s\n",
      "[CV] C=10.330257229526088, gamma=0.0031218306234268244, probability=True \n",
      "[CV]  C=10.330257229526088, gamma=0.0031218306234268244, probability=True, total=   0.0s\n",
      "[CV] C=5.523402825553565, gamma=0.0027826586509258435, probability=True \n",
      "[CV]  C=5.523402825553565, gamma=0.0027826586509258435, probability=True, total=   0.0s\n",
      "[CV] C=5.523402825553565, gamma=0.0027826586509258435, probability=True \n",
      "[CV]  C=5.523402825553565, gamma=0.0027826586509258435, probability=True, total=   0.0s\n",
      "[CV] C=5.523402825553565, gamma=0.0027826586509258435, probability=True \n",
      "[CV]  C=5.523402825553565, gamma=0.0027826586509258435, probability=True, total=   0.0s\n",
      "[CV] C=8.892643975010369, gamma=0.025487677535618043, probability=True \n",
      "[CV]  C=8.892643975010369, gamma=0.025487677535618043, probability=True, total=   0.0s\n",
      "[CV] C=8.892643975010369, gamma=0.025487677535618043, probability=True \n",
      "[CV]  C=8.892643975010369, gamma=0.025487677535618043, probability=True, total=   0.0s\n",
      "[CV] C=8.892643975010369, gamma=0.025487677535618043, probability=True \n",
      "[CV]  C=8.892643975010369, gamma=0.025487677535618043, probability=True, total=   0.0s\n",
      "[CV] C=6.400351304992329, gamma=0.050011401967699265, probability=True \n",
      "[CV]  C=6.400351304992329, gamma=0.050011401967699265, probability=True, total=   0.0s\n",
      "[CV] C=6.400351304992329, gamma=0.050011401967699265, probability=True \n",
      "[CV]  C=6.400351304992329, gamma=0.050011401967699265, probability=True, total=   0.0s\n",
      "[CV] C=6.400351304992329, gamma=0.050011401967699265, probability=True \n",
      "[CV]  C=6.400351304992329, gamma=0.050011401967699265, probability=True, total=   0.0s\n",
      "[CV] C=4.618744549655926, gamma=0.0010869080671989926, probability=True \n",
      "[CV]  C=4.618744549655926, gamma=0.0010869080671989926, probability=True, total=   0.0s\n",
      "[CV] C=4.618744549655926, gamma=0.0010869080671989926, probability=True \n",
      "[CV]  C=4.618744549655926, gamma=0.0010869080671989926, probability=True, total=   0.0s\n",
      "[CV] C=4.618744549655926, gamma=0.0010869080671989926, probability=True \n",
      "[CV]  C=4.618744549655926, gamma=0.0010869080671989926, probability=True, total=   0.0s\n",
      "[CV] C=10.447016633973274, gamma=0.011530877810555078, probability=True \n",
      "[CV]  C=10.447016633973274, gamma=0.011530877810555078, probability=True, total=   0.0s\n",
      "[CV] C=10.447016633973274, gamma=0.011530877810555078, probability=True \n",
      "[CV]  C=10.447016633973274, gamma=0.011530877810555078, probability=True, total=   0.0s\n",
      "[CV] C=10.447016633973274, gamma=0.011530877810555078, probability=True \n",
      "[CV]  C=10.447016633973274, gamma=0.011530877810555078, probability=True, total=   0.0s\n",
      "[CV] C=1.0075083798132114, gamma=0.007462965856125698, probability=True \n",
      "[CV]  C=1.0075083798132114, gamma=0.007462965856125698, probability=True, total=   0.0s\n",
      "[CV] C=1.0075083798132114, gamma=0.007462965856125698, probability=True \n",
      "[CV]  C=1.0075083798132114, gamma=0.007462965856125698, probability=True, total=   0.0s\n",
      "[CV] C=1.0075083798132114, gamma=0.007462965856125698, probability=True \n",
      "[CV]  C=1.0075083798132114, gamma=0.007462965856125698, probability=True, total=   0.0s\n",
      "[CV] C=8.023244575869743, gamma=0.016719311586560644, probability=True \n",
      "[CV]  C=8.023244575869743, gamma=0.016719311586560644, probability=True, total=   0.0s\n",
      "[CV] C=8.023244575869743, gamma=0.016719311586560644, probability=True \n",
      "[CV]  C=8.023244575869743, gamma=0.016719311586560644, probability=True, total=   0.0s\n",
      "[CV] C=8.023244575869743, gamma=0.016719311586560644, probability=True \n",
      "[CV]  C=8.023244575869743, gamma=0.016719311586560644, probability=True, total=   0.0s\n",
      "[CV] C=2.205645459349345, gamma=0.0032744153059345096, probability=True \n",
      "[CV]  C=2.205645459349345, gamma=0.0032744153059345096, probability=True, total=   0.0s\n",
      "[CV] C=2.205645459349345, gamma=0.0032744153059345096, probability=True \n"
     ]
    },
    {
     "name": "stdout",
     "output_type": "stream",
     "text": [
      "[CV]  C=2.205645459349345, gamma=0.0032744153059345096, probability=True, total=   0.0s\n",
      "[CV] C=2.205645459349345, gamma=0.0032744153059345096, probability=True \n",
      "[CV]  C=2.205645459349345, gamma=0.0032744153059345096, probability=True, total=   0.0s\n",
      "[CV] C=9.161759681584169, gamma=0.0016704992284352546, probability=True \n",
      "[CV]  C=9.161759681584169, gamma=0.0016704992284352546, probability=True, total=   0.0s\n",
      "[CV] C=9.161759681584169, gamma=0.0016704992284352546, probability=True \n",
      "[CV]  C=9.161759681584169, gamma=0.0016704992284352546, probability=True, total=   0.0s\n",
      "[CV] C=9.161759681584169, gamma=0.0016704992284352546, probability=True \n",
      "[CV]  C=9.161759681584169, gamma=0.0016704992284352546, probability=True, total=   0.0s\n",
      "[CV] C=7.676628653825133, gamma=0.026829649871844333, probability=True \n",
      "[CV]  C=7.676628653825133, gamma=0.026829649871844333, probability=True, total=   0.0s\n",
      "[CV] C=7.676628653825133, gamma=0.026829649871844333, probability=True \n",
      "[CV]  C=7.676628653825133, gamma=0.026829649871844333, probability=True, total=   0.0s\n",
      "[CV] C=7.676628653825133, gamma=0.026829649871844333, probability=True \n",
      "[CV]  C=7.676628653825133, gamma=0.026829649871844333, probability=True, total=   0.0s\n",
      "[CV] C=5.228221773588118, gamma=0.0521063729886873, probability=True .\n",
      "[CV]  C=5.228221773588118, gamma=0.0521063729886873, probability=True, total=   0.0s\n",
      "[CV] C=5.228221773588118, gamma=0.0521063729886873, probability=True .\n",
      "[CV]  C=5.228221773588118, gamma=0.0521063729886873, probability=True, total=   0.0s\n",
      "[CV] C=5.228221773588118, gamma=0.0521063729886873, probability=True .\n",
      "[CV]  C=5.228221773588118, gamma=0.0521063729886873, probability=True, total=   0.0s\n",
      "[CV] C=8.83049167207333, gamma=0.023739639770147185, probability=True \n",
      "[CV]  C=8.83049167207333, gamma=0.023739639770147185, probability=True, total=   0.0s\n",
      "[CV] C=8.83049167207333, gamma=0.023739639770147185, probability=True \n",
      "[CV]  C=8.83049167207333, gamma=0.023739639770147185, probability=True, total=   0.0s\n",
      "[CV] C=8.83049167207333, gamma=0.023739639770147185, probability=True \n",
      "[CV]  C=8.83049167207333, gamma=0.023739639770147185, probability=True, total=   0.0s\n",
      "[CV] C=6.0633989179187235, gamma=0.03131588983500886, probability=True \n",
      "[CV]  C=6.0633989179187235, gamma=0.03131588983500886, probability=True, total=   0.0s\n",
      "[CV] C=6.0633989179187235, gamma=0.03131588983500886, probability=True \n",
      "[CV]  C=6.0633989179187235, gamma=0.03131588983500886, probability=True, total=   0.0s\n",
      "[CV] C=6.0633989179187235, gamma=0.03131588983500886, probability=True \n",
      "[CV]  C=6.0633989179187235, gamma=0.03131588983500886, probability=True, total=   0.0s\n",
      "[CV] C=8.661901665990126, gamma=0.0809786757084284, probability=True .\n",
      "[CV]  C=8.661901665990126, gamma=0.0809786757084284, probability=True, total=   0.0s\n",
      "[CV] C=8.661901665990126, gamma=0.0809786757084284, probability=True .\n",
      "[CV]  C=8.661901665990126, gamma=0.0809786757084284, probability=True, total=   0.0s\n",
      "[CV] C=8.661901665990126, gamma=0.0809786757084284, probability=True .\n",
      "[CV]  C=8.661901665990126, gamma=0.0809786757084284, probability=True, total=   0.0s\n",
      "[CV] C=7.146961440848688, gamma=0.04319368452724069, probability=True \n",
      "[CV]  C=7.146961440848688, gamma=0.04319368452724069, probability=True, total=   0.0s\n",
      "[CV] C=7.146961440848688, gamma=0.04319368452724069, probability=True \n",
      "[CV]  C=7.146961440848688, gamma=0.04319368452724069, probability=True, total=   0.0s\n",
      "[CV] C=7.146961440848688, gamma=0.04319368452724069, probability=True \n",
      "[CV]  C=7.146961440848688, gamma=0.04319368452724069, probability=True, total=   0.0s\n",
      "[CV] C=8.82222738867489, gamma=0.017755242200782166, probability=True \n",
      "[CV]  C=8.82222738867489, gamma=0.017755242200782166, probability=True, total=   0.0s\n",
      "[CV] C=8.82222738867489, gamma=0.017755242200782166, probability=True \n",
      "[CV]  C=8.82222738867489, gamma=0.017755242200782166, probability=True, total=   0.0s\n",
      "[CV] C=8.82222738867489, gamma=0.017755242200782166, probability=True \n",
      "[CV]  C=8.82222738867489, gamma=0.017755242200782166, probability=True, total=   0.0s\n",
      "[CV] C=2.2004390035694934, gamma=0.004073082092231653, probability=True \n",
      "[CV]  C=2.2004390035694934, gamma=0.004073082092231653, probability=True, total=   0.0s\n",
      "[CV] C=2.2004390035694934, gamma=0.004073082092231653, probability=True \n",
      "[CV]  C=2.2004390035694934, gamma=0.004073082092231653, probability=True, total=   0.0s\n",
      "[CV] C=2.2004390035694934, gamma=0.004073082092231653, probability=True \n",
      "[CV]  C=2.2004390035694934, gamma=0.004073082092231653, probability=True, total=   0.0s\n",
      "[CV] C=9.893600722134847, gamma=0.00512318945009762, probability=True \n",
      "[CV]  C=9.893600722134847, gamma=0.00512318945009762, probability=True, total=   0.0s\n",
      "[CV] C=9.893600722134847, gamma=0.00512318945009762, probability=True \n",
      "[CV]  C=9.893600722134847, gamma=0.00512318945009762, probability=True, total=   0.0s\n",
      "[CV] C=9.893600722134847, gamma=0.00512318945009762, probability=True \n",
      "[CV]  C=9.893600722134847, gamma=0.00512318945009762, probability=True, total=   0.0s\n",
      "[CV] C=7.092789958492909, gamma=0.013540401293144091, probability=True \n",
      "[CV]  C=7.092789958492909, gamma=0.013540401293144091, probability=True, total=   0.0s\n",
      "[CV] C=7.092789958492909, gamma=0.013540401293144091, probability=True \n",
      "[CV]  C=7.092789958492909, gamma=0.013540401293144091, probability=True, total=   0.0s\n",
      "[CV] C=7.092789958492909, gamma=0.013540401293144091, probability=True \n",
      "[CV]  C=7.092789958492909, gamma=0.013540401293144091, probability=True, total=   0.0s\n",
      "[CV] C=8.253000438217347, gamma=0.001409167709596508, probability=True \n",
      "[CV]  C=8.253000438217347, gamma=0.001409167709596508, probability=True, total=   0.0s\n",
      "[CV] C=8.253000438217347, gamma=0.001409167709596508, probability=True \n",
      "[CV]  C=8.253000438217347, gamma=0.001409167709596508, probability=True, total=   0.0s\n",
      "[CV] C=8.253000438217347, gamma=0.001409167709596508, probability=True \n",
      "[CV]  C=8.253000438217347, gamma=0.001409167709596508, probability=True, total=   0.0s\n",
      "[CV] C=9.089500570094712, gamma=0.0025204061646026316, probability=True \n",
      "[CV]  C=9.089500570094712, gamma=0.0025204061646026316, probability=True, total=   0.0s\n",
      "[CV] C=9.089500570094712, gamma=0.0025204061646026316, probability=True \n",
      "[CV]  C=9.089500570094712, gamma=0.0025204061646026316, probability=True, total=   0.0s\n",
      "[CV] C=9.089500570094712, gamma=0.0025204061646026316, probability=True \n",
      "[CV]  C=9.089500570094712, gamma=0.0025204061646026316, probability=True, total=   0.0s\n",
      "[CV] C=5.302589982853248, gamma=0.002884997897971644, probability=True \n",
      "[CV]  C=5.302589982853248, gamma=0.002884997897971644, probability=True, total=   0.0s\n",
      "[CV] C=5.302589982853248, gamma=0.002884997897971644, probability=True \n",
      "[CV]  C=5.302589982853248, gamma=0.002884997897971644, probability=True, total=   0.0s\n",
      "[CV] C=5.302589982853248, gamma=0.002884997897971644, probability=True \n",
      "[CV]  C=5.302589982853248, gamma=0.002884997897971644, probability=True, total=   0.0s\n",
      "[CV] C=8.871161541886263, gamma=0.04430976318014817, probability=True \n",
      "[CV]  C=8.871161541886263, gamma=0.04430976318014817, probability=True, total=   0.0s\n",
      "[CV] C=8.871161541886263, gamma=0.04430976318014817, probability=True \n",
      "[CV]  C=8.871161541886263, gamma=0.04430976318014817, probability=True, total=   0.0s\n",
      "[CV] C=8.871161541886263, gamma=0.04430976318014817, probability=True \n",
      "[CV]  C=8.871161541886263, gamma=0.04430976318014817, probability=True, total=   0.0s\n",
      "[CV] C=10.679241045097381, gamma=0.006067843391945911, probability=True \n",
      "[CV]  C=10.679241045097381, gamma=0.006067843391945911, probability=True, total=   0.0s\n",
      "[CV] C=10.679241045097381, gamma=0.006067843391945911, probability=True \n",
      "[CV]  C=10.679241045097381, gamma=0.006067843391945911, probability=True, total=   0.0s\n",
      "[CV] C=10.679241045097381, gamma=0.006067843391945911, probability=True \n",
      "[CV]  C=10.679241045097381, gamma=0.006067843391945911, probability=True, total=   0.0s\n",
      "[CV] C=7.445965094264262, gamma=0.014516697405629008, probability=True \n",
      "[CV]  C=7.445965094264262, gamma=0.014516697405629008, probability=True, total=   0.0s\n",
      "[CV] C=7.445965094264262, gamma=0.014516697405629008, probability=True \n",
      "[CV]  C=7.445965094264262, gamma=0.014516697405629008, probability=True, total=   0.0s\n",
      "[CV] C=7.445965094264262, gamma=0.014516697405629008, probability=True \n",
      "[CV]  C=7.445965094264262, gamma=0.014516697405629008, probability=True, total=   0.0s\n",
      "[CV] C=6.7367347113390545, gamma=0.03194506902051415, probability=True \n",
      "[CV]  C=6.7367347113390545, gamma=0.03194506902051415, probability=True, total=   0.0s\n",
      "[CV] C=6.7367347113390545, gamma=0.03194506902051415, probability=True \n",
      "[CV]  C=6.7367347113390545, gamma=0.03194506902051415, probability=True, total=   0.0s\n",
      "[CV] C=6.7367347113390545, gamma=0.03194506902051415, probability=True \n",
      "[CV]  C=6.7367347113390545, gamma=0.03194506902051415, probability=True, total=   0.0s\n",
      "[CV] C=5.936392137580459, gamma=0.0035195641515421523, probability=True \n",
      "[CV]  C=5.936392137580459, gamma=0.0035195641515421523, probability=True, total=   0.0s\n",
      "[CV] C=5.936392137580459, gamma=0.0035195641515421523, probability=True \n",
      "[CV]  C=5.936392137580459, gamma=0.0035195641515421523, probability=True, total=   0.0s\n",
      "[CV] C=5.936392137580459, gamma=0.0035195641515421523, probability=True \n"
     ]
    },
    {
     "name": "stdout",
     "output_type": "stream",
     "text": [
      "[CV]  C=5.936392137580459, gamma=0.0035195641515421523, probability=True, total=   0.0s\n",
      "[CV] C=1.577776440191894, gamma=0.0016649203557279647, probability=True \n",
      "[CV]  C=1.577776440191894, gamma=0.0016649203557279647, probability=True, total=   0.0s\n",
      "[CV] C=1.577776440191894, gamma=0.0016649203557279647, probability=True \n",
      "[CV]  C=1.577776440191894, gamma=0.0016649203557279647, probability=True, total=   0.0s\n",
      "[CV] C=1.577776440191894, gamma=0.0016649203557279647, probability=True \n",
      "[CV]  C=1.577776440191894, gamma=0.0016649203557279647, probability=True, total=   0.0s\n",
      "[CV] C=5.832421312182106, gamma=0.04747491908883668, probability=True \n",
      "[CV]  C=5.832421312182106, gamma=0.04747491908883668, probability=True, total=   0.0s\n",
      "[CV] C=5.832421312182106, gamma=0.04747491908883668, probability=True \n",
      "[CV]  C=5.832421312182106, gamma=0.04747491908883668, probability=True, total=   0.0s\n",
      "[CV] C=5.832421312182106, gamma=0.04747491908883668, probability=True \n",
      "[CV]  C=5.832421312182106, gamma=0.04747491908883668, probability=True, total=   0.0s\n",
      "[CV] C=9.064115980491733, gamma=0.021866589459423425, probability=True \n",
      "[CV]  C=9.064115980491733, gamma=0.021866589459423425, probability=True, total=   0.0s\n",
      "[CV] C=9.064115980491733, gamma=0.021866589459423425, probability=True \n",
      "[CV]  C=9.064115980491733, gamma=0.021866589459423425, probability=True, total=   0.0s\n",
      "[CV] C=9.064115980491733, gamma=0.021866589459423425, probability=True \n",
      "[CV]  C=9.064115980491733, gamma=0.021866589459423425, probability=True, total=   0.0s\n",
      "[CV] C=3.781747571886762, gamma=0.037284140290769, probability=True ..\n",
      "[CV]  C=3.781747571886762, gamma=0.037284140290769, probability=True, total=   0.0s\n",
      "[CV] C=3.781747571886762, gamma=0.037284140290769, probability=True ..\n",
      "[CV]  C=3.781747571886762, gamma=0.037284140290769, probability=True, total=   0.0s\n",
      "[CV] C=3.781747571886762, gamma=0.037284140290769, probability=True ..\n",
      "[CV]  C=3.781747571886762, gamma=0.037284140290769, probability=True, total=   0.0s\n",
      "[CV] C=8.222615670391816, gamma=0.0274270010814292, probability=True .\n",
      "[CV]  C=8.222615670391816, gamma=0.0274270010814292, probability=True, total=   0.0s\n",
      "[CV] C=8.222615670391816, gamma=0.0274270010814292, probability=True .\n",
      "[CV]  C=8.222615670391816, gamma=0.0274270010814292, probability=True, total=   0.0s\n",
      "[CV] C=8.222615670391816, gamma=0.0274270010814292, probability=True .\n",
      "[CV]  C=8.222615670391816, gamma=0.0274270010814292, probability=True, total=   0.0s\n",
      "[CV] C=7.4549085476689205, gamma=0.0615927898427786, probability=True \n",
      "[CV]  C=7.4549085476689205, gamma=0.0615927898427786, probability=True, total=   0.0s\n",
      "[CV] C=7.4549085476689205, gamma=0.0615927898427786, probability=True \n",
      "[CV]  C=7.4549085476689205, gamma=0.0615927898427786, probability=True, total=   0.0s\n",
      "[CV] C=7.4549085476689205, gamma=0.0615927898427786, probability=True \n",
      "[CV]  C=7.4549085476689205, gamma=0.0615927898427786, probability=True, total=   0.0s\n",
      "[CV] C=8.116841149423015, gamma=0.0028236040039543112, probability=True \n",
      "[CV]  C=8.116841149423015, gamma=0.0028236040039543112, probability=True, total=   0.0s\n",
      "[CV] C=8.116841149423015, gamma=0.0028236040039543112, probability=True \n",
      "[CV]  C=8.116841149423015, gamma=0.0028236040039543112, probability=True, total=   0.0s\n",
      "[CV] C=8.116841149423015, gamma=0.0028236040039543112, probability=True \n",
      "[CV]  C=8.116841149423015, gamma=0.0028236040039543112, probability=True, total=   0.0s\n",
      "[CV] C=3.7998750434181208, gamma=0.025645957710725174, probability=True \n",
      "[CV]  C=3.7998750434181208, gamma=0.025645957710725174, probability=True, total=   0.0s\n",
      "[CV] C=3.7998750434181208, gamma=0.025645957710725174, probability=True \n",
      "[CV]  C=3.7998750434181208, gamma=0.025645957710725174, probability=True, total=   0.0s\n",
      "[CV] C=3.7998750434181208, gamma=0.025645957710725174, probability=True \n",
      "[CV]  C=3.7998750434181208, gamma=0.025645957710725174, probability=True, total=   0.0s\n",
      "[CV] C=6.1085142942419814, gamma=0.03931585025540782, probability=True \n",
      "[CV]  C=6.1085142942419814, gamma=0.03931585025540782, probability=True, total=   0.0s\n",
      "[CV] C=6.1085142942419814, gamma=0.03931585025540782, probability=True \n",
      "[CV]  C=6.1085142942419814, gamma=0.03931585025540782, probability=True, total=   0.0s\n",
      "[CV] C=6.1085142942419814, gamma=0.03931585025540782, probability=True \n",
      "[CV]  C=6.1085142942419814, gamma=0.03931585025540782, probability=True, total=   0.0s\n",
      "[CV] C=2.978158318456905, gamma=0.014572733938808811, probability=True \n",
      "[CV]  C=2.978158318456905, gamma=0.014572733938808811, probability=True, total=   0.0s\n",
      "[CV] C=2.978158318456905, gamma=0.014572733938808811, probability=True \n",
      "[CV]  C=2.978158318456905, gamma=0.014572733938808811, probability=True, total=   0.0s\n",
      "[CV] C=2.978158318456905, gamma=0.014572733938808811, probability=True \n",
      "[CV]  C=2.978158318456905, gamma=0.014572733938808811, probability=True, total=   0.0s\n",
      "[CV] C=9.311857757416748, gamma=0.004803696024561574, probability=True \n",
      "[CV]  C=9.311857757416748, gamma=0.004803696024561574, probability=True, total=   0.0s\n",
      "[CV] C=9.311857757416748, gamma=0.004803696024561574, probability=True \n",
      "[CV]  C=9.311857757416748, gamma=0.004803696024561574, probability=True, total=   0.0s\n",
      "[CV] C=9.311857757416748, gamma=0.004803696024561574, probability=True \n",
      "[CV]  C=9.311857757416748, gamma=0.004803696024561574, probability=True, total=   0.0s\n",
      "[CV] C=9.04091748951993, gamma=0.0021965336355617617, probability=True \n",
      "[CV]  C=9.04091748951993, gamma=0.0021965336355617617, probability=True, total=   0.0s\n",
      "[CV] C=9.04091748951993, gamma=0.0021965336355617617, probability=True \n",
      "[CV]  C=9.04091748951993, gamma=0.0021965336355617617, probability=True, total=   0.0s\n",
      "[CV] C=9.04091748951993, gamma=0.0021965336355617617, probability=True \n",
      "[CV]  C=9.04091748951993, gamma=0.0021965336355617617, probability=True, total=   0.0s\n",
      "[CV] C=2.9818045888968716, gamma=0.013528947465433096, probability=True \n",
      "[CV]  C=2.9818045888968716, gamma=0.013528947465433096, probability=True, total=   0.0s\n",
      "[CV] C=2.9818045888968716, gamma=0.013528947465433096, probability=True \n",
      "[CV]  C=2.9818045888968716, gamma=0.013528947465433096, probability=True, total=   0.0s\n",
      "[CV] C=2.9818045888968716, gamma=0.013528947465433096, probability=True \n",
      "[CV]  C=2.9818045888968716, gamma=0.013528947465433096, probability=True, total=   0.0s\n",
      "[CV] C=8.363681760564187, gamma=0.002343031557340781, probability=True \n",
      "[CV]  C=8.363681760564187, gamma=0.002343031557340781, probability=True, total=   0.0s\n",
      "[CV] C=8.363681760564187, gamma=0.002343031557340781, probability=True \n",
      "[CV]  C=8.363681760564187, gamma=0.002343031557340781, probability=True, total=   0.0s\n",
      "[CV] C=8.363681760564187, gamma=0.002343031557340781, probability=True \n",
      "[CV]  C=8.363681760564187, gamma=0.002343031557340781, probability=True, total=   0.0s\n",
      "[CV] C=6.745019632832388, gamma=0.010533908956563625, probability=True \n",
      "[CV]  C=6.745019632832388, gamma=0.010533908956563625, probability=True, total=   0.0s\n",
      "[CV] C=6.745019632832388, gamma=0.010533908956563625, probability=True \n",
      "[CV]  C=6.745019632832388, gamma=0.010533908956563625, probability=True, total=   0.0s\n",
      "[CV] C=6.745019632832388, gamma=0.010533908956563625, probability=True \n",
      "[CV]  C=6.745019632832388, gamma=0.010533908956563625, probability=True, total=   0.0s\n",
      "[CV] C=5.493171459663855, gamma=0.0011658600510452216, probability=True \n",
      "[CV]  C=5.493171459663855, gamma=0.0011658600510452216, probability=True, total=   0.0s\n",
      "[CV] C=5.493171459663855, gamma=0.0011658600510452216, probability=True \n",
      "[CV]  C=5.493171459663855, gamma=0.0011658600510452216, probability=True, total=   0.0s\n",
      "[CV] C=5.493171459663855, gamma=0.0011658600510452216, probability=True \n",
      "[CV]  C=5.493171459663855, gamma=0.0011658600510452216, probability=True, total=   0.0s\n",
      "[CV] C=5.325224396131549, gamma=0.08565708168646441, probability=True \n",
      "[CV]  C=5.325224396131549, gamma=0.08565708168646441, probability=True, total=   0.0s\n",
      "[CV] C=5.325224396131549, gamma=0.08565708168646441, probability=True \n",
      "[CV]  C=5.325224396131549, gamma=0.08565708168646441, probability=True, total=   0.0s\n",
      "[CV] C=5.325224396131549, gamma=0.08565708168646441, probability=True \n",
      "[CV]  C=5.325224396131549, gamma=0.08565708168646441, probability=True, total=   0.0s\n",
      "[CV] C=5.085868930493052, gamma=0.08377816785500719, probability=True \n",
      "[CV]  C=5.085868930493052, gamma=0.08377816785500719, probability=True, total=   0.0s\n",
      "[CV] C=5.085868930493052, gamma=0.08377816785500719, probability=True \n"
     ]
    },
    {
     "name": "stdout",
     "output_type": "stream",
     "text": [
      "[CV]  C=5.085868930493052, gamma=0.08377816785500719, probability=True, total=   0.0s\n",
      "[CV] C=5.085868930493052, gamma=0.08377816785500719, probability=True \n",
      "[CV]  C=5.085868930493052, gamma=0.08377816785500719, probability=True, total=   0.0s\n",
      "[CV] C=3.250118163022062, gamma=0.028930448654100827, probability=True \n",
      "[CV]  C=3.250118163022062, gamma=0.028930448654100827, probability=True, total=   0.0s\n",
      "[CV] C=3.250118163022062, gamma=0.028930448654100827, probability=True \n",
      "[CV]  C=3.250118163022062, gamma=0.028930448654100827, probability=True, total=   0.0s\n",
      "[CV] C=3.250118163022062, gamma=0.028930448654100827, probability=True \n",
      "[CV]  C=3.250118163022062, gamma=0.028930448654100827, probability=True, total=   0.0s\n",
      "[CV] C=2.7980250493633854, gamma=0.016554543008044965, probability=True \n",
      "[CV]  C=2.7980250493633854, gamma=0.016554543008044965, probability=True, total=   0.0s\n",
      "[CV] C=2.7980250493633854, gamma=0.016554543008044965, probability=True \n",
      "[CV]  C=2.7980250493633854, gamma=0.016554543008044965, probability=True, total=   0.0s\n",
      "[CV] C=2.7980250493633854, gamma=0.016554543008044965, probability=True \n",
      "[CV]  C=2.7980250493633854, gamma=0.016554543008044965, probability=True, total=   0.0s\n",
      "[CV] C=10.33757910425731, gamma=0.005812046997688597, probability=True \n",
      "[CV]  C=10.33757910425731, gamma=0.005812046997688597, probability=True, total=   0.0s\n",
      "[CV] C=10.33757910425731, gamma=0.005812046997688597, probability=True \n",
      "[CV]  C=10.33757910425731, gamma=0.005812046997688597, probability=True, total=   0.0s\n",
      "[CV] C=10.33757910425731, gamma=0.005812046997688597, probability=True \n",
      "[CV]  C=10.33757910425731, gamma=0.005812046997688597, probability=True, total=   0.0s\n",
      "[CV] C=10.5545820494012, gamma=0.027808185898840643, probability=True \n",
      "[CV]  C=10.5545820494012, gamma=0.027808185898840643, probability=True, total=   0.0s\n",
      "[CV] C=10.5545820494012, gamma=0.027808185898840643, probability=True \n",
      "[CV]  C=10.5545820494012, gamma=0.027808185898840643, probability=True, total=   0.0s\n",
      "[CV] C=10.5545820494012, gamma=0.027808185898840643, probability=True \n",
      "[CV]  C=10.5545820494012, gamma=0.027808185898840643, probability=True, total=   0.0s\n",
      "[CV] C=10.866193054250367, gamma=0.016561740410147883, probability=True \n",
      "[CV]  C=10.866193054250367, gamma=0.016561740410147883, probability=True, total=   0.0s\n",
      "[CV] C=10.866193054250367, gamma=0.016561740410147883, probability=True \n",
      "[CV]  C=10.866193054250367, gamma=0.016561740410147883, probability=True, total=   0.0s\n",
      "[CV] C=10.866193054250367, gamma=0.016561740410147883, probability=True \n",
      "[CV]  C=10.866193054250367, gamma=0.016561740410147883, probability=True, total=   0.0s\n",
      "[CV] C=4.616917277634942, gamma=0.03880680186968595, probability=True \n",
      "[CV]  C=4.616917277634942, gamma=0.03880680186968595, probability=True, total=   0.0s\n",
      "[CV] C=4.616917277634942, gamma=0.03880680186968595, probability=True \n",
      "[CV]  C=4.616917277634942, gamma=0.03880680186968595, probability=True, total=   0.0s\n",
      "[CV] C=4.616917277634942, gamma=0.03880680186968595, probability=True \n",
      "[CV]  C=4.616917277634942, gamma=0.03880680186968595, probability=True, total=   0.0s\n",
      "[CV] C=10.168329948384672, gamma=0.006065330511759005, probability=True \n",
      "[CV]  C=10.168329948384672, gamma=0.006065330511759005, probability=True, total=   0.0s\n",
      "[CV] C=10.168329948384672, gamma=0.006065330511759005, probability=True \n",
      "[CV]  C=10.168329948384672, gamma=0.006065330511759005, probability=True, total=   0.0s\n",
      "[CV] C=10.168329948384672, gamma=0.006065330511759005, probability=True \n",
      "[CV]  C=10.168329948384672, gamma=0.006065330511759005, probability=True, total=   0.0s\n",
      "[CV] C=9.448775222181846, gamma=0.021715503087203415, probability=True \n",
      "[CV]  C=9.448775222181846, gamma=0.021715503087203415, probability=True, total=   0.0s\n",
      "[CV] C=9.448775222181846, gamma=0.021715503087203415, probability=True \n",
      "[CV]  C=9.448775222181846, gamma=0.021715503087203415, probability=True, total=   0.0s\n",
      "[CV] C=9.448775222181846, gamma=0.021715503087203415, probability=True \n",
      "[CV]  C=9.448775222181846, gamma=0.021715503087203415, probability=True, total=   0.0s\n",
      "[CV] C=4.296449593571484, gamma=0.06446288362601858, probability=True \n",
      "[CV]  C=4.296449593571484, gamma=0.06446288362601858, probability=True, total=   0.0s\n",
      "[CV] C=4.296449593571484, gamma=0.06446288362601858, probability=True \n",
      "[CV]  C=4.296449593571484, gamma=0.06446288362601858, probability=True, total=   0.0s\n",
      "[CV] C=4.296449593571484, gamma=0.06446288362601858, probability=True \n",
      "[CV]  C=4.296449593571484, gamma=0.06446288362601858, probability=True, total=   0.0s\n",
      "[CV] C=3.357854977962688, gamma=0.0030191395824650195, probability=True \n",
      "[CV]  C=3.357854977962688, gamma=0.0030191395824650195, probability=True, total=   0.0s\n",
      "[CV] C=3.357854977962688, gamma=0.0030191395824650195, probability=True \n",
      "[CV]  C=3.357854977962688, gamma=0.0030191395824650195, probability=True, total=   0.0s\n",
      "[CV] C=3.357854977962688, gamma=0.0030191395824650195, probability=True \n",
      "[CV]  C=3.357854977962688, gamma=0.0030191395824650195, probability=True, total=   0.0s\n",
      "[CV] C=2.6968764320330507, gamma=0.06597549885783768, probability=True \n",
      "[CV]  C=2.6968764320330507, gamma=0.06597549885783768, probability=True, total=   0.0s\n",
      "[CV] C=2.6968764320330507, gamma=0.06597549885783768, probability=True \n",
      "[CV]  C=2.6968764320330507, gamma=0.06597549885783768, probability=True, total=   0.0s\n",
      "[CV] C=2.6968764320330507, gamma=0.06597549885783768, probability=True \n",
      "[CV]  C=2.6968764320330507, gamma=0.06597549885783768, probability=True, total=   0.0s\n",
      "[CV] C=2.511162434159552, gamma=0.03420335796702985, probability=True \n",
      "[CV]  C=2.511162434159552, gamma=0.03420335796702985, probability=True, total=   0.0s\n",
      "[CV] C=2.511162434159552, gamma=0.03420335796702985, probability=True \n",
      "[CV]  C=2.511162434159552, gamma=0.03420335796702985, probability=True, total=   0.0s\n",
      "[CV] C=2.511162434159552, gamma=0.03420335796702985, probability=True \n",
      "[CV]  C=2.511162434159552, gamma=0.03420335796702985, probability=True, total=   0.0s\n",
      "[CV] C=3.7706977221783124, gamma=0.01017127912887607, probability=True \n",
      "[CV]  C=3.7706977221783124, gamma=0.01017127912887607, probability=True, total=   0.0s\n",
      "[CV] C=3.7706977221783124, gamma=0.01017127912887607, probability=True \n",
      "[CV]  C=3.7706977221783124, gamma=0.01017127912887607, probability=True, total=   0.0s\n",
      "[CV] C=3.7706977221783124, gamma=0.01017127912887607, probability=True \n",
      "[CV]  C=3.7706977221783124, gamma=0.01017127912887607, probability=True, total=   0.0s\n",
      "[CV] C=7.494240649140051, gamma=0.031561884869004145, probability=True \n",
      "[CV]  C=7.494240649140051, gamma=0.031561884869004145, probability=True, total=   0.0s\n",
      "[CV] C=7.494240649140051, gamma=0.031561884869004145, probability=True \n",
      "[CV]  C=7.494240649140051, gamma=0.031561884869004145, probability=True, total=   0.0s\n",
      "[CV] C=7.494240649140051, gamma=0.031561884869004145, probability=True \n",
      "[CV]  C=7.494240649140051, gamma=0.031561884869004145, probability=True, total=   0.0s\n",
      "[CV] C=1.1990714698882101, gamma=0.06035501949501227, probability=True \n",
      "[CV]  C=1.1990714698882101, gamma=0.06035501949501227, probability=True, total=   0.0s\n",
      "[CV] C=1.1990714698882101, gamma=0.06035501949501227, probability=True \n",
      "[CV]  C=1.1990714698882101, gamma=0.06035501949501227, probability=True, total=   0.0s\n",
      "[CV] C=1.1990714698882101, gamma=0.06035501949501227, probability=True \n",
      "[CV]  C=1.1990714698882101, gamma=0.06035501949501227, probability=True, total=   0.0s\n",
      "[CV] C=6.08828489619054, gamma=0.003040317743789763, probability=True \n",
      "[CV]  C=6.08828489619054, gamma=0.003040317743789763, probability=True, total=   0.0s\n",
      "[CV] C=6.08828489619054, gamma=0.003040317743789763, probability=True \n",
      "[CV]  C=6.08828489619054, gamma=0.003040317743789763, probability=True, total=   0.0s\n",
      "[CV] C=6.08828489619054, gamma=0.003040317743789763, probability=True \n",
      "[CV]  C=6.08828489619054, gamma=0.003040317743789763, probability=True, total=   0.0s\n",
      "[CV] C=5.361513658316393, gamma=0.013343252095004915, probability=True \n",
      "[CV]  C=5.361513658316393, gamma=0.013343252095004915, probability=True, total=   0.0s\n",
      "[CV] C=5.361513658316393, gamma=0.013343252095004915, probability=True \n",
      "[CV]  C=5.361513658316393, gamma=0.013343252095004915, probability=True, total=   0.0s\n",
      "[CV] C=5.361513658316393, gamma=0.013343252095004915, probability=True \n",
      "[CV]  C=5.361513658316393, gamma=0.013343252095004915, probability=True, total=   0.0s\n",
      "[CV] C=7.78219901439717, gamma=0.004517603094793754, probability=True \n",
      "[CV]  C=7.78219901439717, gamma=0.004517603094793754, probability=True, total=   0.0s\n",
      "[CV] C=7.78219901439717, gamma=0.004517603094793754, probability=True \n",
      "[CV]  C=7.78219901439717, gamma=0.004517603094793754, probability=True, total=   0.0s\n",
      "[CV] C=7.78219901439717, gamma=0.004517603094793754, probability=True \n",
      "[CV]  C=7.78219901439717, gamma=0.004517603094793754, probability=True, total=   0.0s\n",
      "[CV] C=7.516675884907163, gamma=0.02747425502072362, probability=True \n",
      "[CV]  C=7.516675884907163, gamma=0.02747425502072362, probability=True, total=   0.0s\n",
      "[CV] C=7.516675884907163, gamma=0.02747425502072362, probability=True \n",
      "[CV]  C=7.516675884907163, gamma=0.02747425502072362, probability=True, total=   0.0s\n",
      "[CV] C=7.516675884907163, gamma=0.02747425502072362, probability=True \n",
      "[CV]  C=7.516675884907163, gamma=0.02747425502072362, probability=True, total=   0.0s\n",
      "[CV] C=7.487360379420231, gamma=0.008734348346094576, probability=True \n",
      "[CV]  C=7.487360379420231, gamma=0.008734348346094576, probability=True, total=   0.0s\n",
      "[CV] C=7.487360379420231, gamma=0.008734348346094576, probability=True \n",
      "[CV]  C=7.487360379420231, gamma=0.008734348346094576, probability=True, total=   0.0s\n",
      "[CV] C=7.487360379420231, gamma=0.008734348346094576, probability=True \n",
      "[CV]  C=7.487360379420231, gamma=0.008734348346094576, probability=True, total=   0.0s\n"
     ]
    },
    {
     "name": "stdout",
     "output_type": "stream",
     "text": [
      "[CV] C=1.008473162142325, gamma=0.0018461307055986685, probability=True \n",
      "[CV]  C=1.008473162142325, gamma=0.0018461307055986685, probability=True, total=   0.0s\n",
      "[CV] C=1.008473162142325, gamma=0.0018461307055986685, probability=True \n",
      "[CV]  C=1.008473162142325, gamma=0.0018461307055986685, probability=True, total=   0.0s\n",
      "[CV] C=1.008473162142325, gamma=0.0018461307055986685, probability=True \n",
      "[CV]  C=1.008473162142325, gamma=0.0018461307055986685, probability=True, total=   0.0s\n",
      "[CV] C=2.553551847843393, gamma=0.003131944842566757, probability=True \n",
      "[CV]  C=2.553551847843393, gamma=0.003131944842566757, probability=True, total=   0.0s\n",
      "[CV] C=2.553551847843393, gamma=0.003131944842566757, probability=True \n",
      "[CV]  C=2.553551847843393, gamma=0.003131944842566757, probability=True, total=   0.0s\n",
      "[CV] C=2.553551847843393, gamma=0.003131944842566757, probability=True \n",
      "[CV]  C=2.553551847843393, gamma=0.003131944842566757, probability=True, total=   0.0s\n",
      "[CV] C=5.804033947886771, gamma=0.03185321279858342, probability=True \n",
      "[CV]  C=5.804033947886771, gamma=0.03185321279858342, probability=True, total=   0.0s\n",
      "[CV] C=5.804033947886771, gamma=0.03185321279858342, probability=True \n",
      "[CV]  C=5.804033947886771, gamma=0.03185321279858342, probability=True, total=   0.0s\n",
      "[CV] C=5.804033947886771, gamma=0.03185321279858342, probability=True \n",
      "[CV]  C=5.804033947886771, gamma=0.03185321279858342, probability=True, total=   0.0s\n",
      "[CV] C=5.175656170934933, gamma=0.0010800668561539249, probability=True \n",
      "[CV]  C=5.175656170934933, gamma=0.0010800668561539249, probability=True, total=   0.0s\n",
      "[CV] C=5.175656170934933, gamma=0.0010800668561539249, probability=True \n",
      "[CV]  C=5.175656170934933, gamma=0.0010800668561539249, probability=True, total=   0.0s\n",
      "[CV] C=5.175656170934933, gamma=0.0010800668561539249, probability=True \n",
      "[CV]  C=5.175656170934933, gamma=0.0010800668561539249, probability=True, total=   0.0s\n",
      "[CV] C=8.517301108237596, gamma=0.010116796712554669, probability=True \n",
      "[CV]  C=8.517301108237596, gamma=0.010116796712554669, probability=True, total=   0.0s\n",
      "[CV] C=8.517301108237596, gamma=0.010116796712554669, probability=True \n",
      "[CV]  C=8.517301108237596, gamma=0.010116796712554669, probability=True, total=   0.0s\n",
      "[CV] C=8.517301108237596, gamma=0.010116796712554669, probability=True \n",
      "[CV]  C=8.517301108237596, gamma=0.010116796712554669, probability=True, total=   0.0s\n",
      "[CV] C=9.896338439878914, gamma=0.0027942281847731093, probability=True \n",
      "[CV]  C=9.896338439878914, gamma=0.0027942281847731093, probability=True, total=   0.0s\n",
      "[CV] C=9.896338439878914, gamma=0.0027942281847731093, probability=True \n",
      "[CV]  C=9.896338439878914, gamma=0.0027942281847731093, probability=True, total=   0.0s\n",
      "[CV] C=9.896338439878914, gamma=0.0027942281847731093, probability=True \n",
      "[CV]  C=9.896338439878914, gamma=0.0027942281847731093, probability=True, total=   0.0s\n",
      "[CV] C=2.1200717330768875, gamma=0.005465706922478902, probability=True \n",
      "[CV]  C=2.1200717330768875, gamma=0.005465706922478902, probability=True, total=   0.0s\n",
      "[CV] C=2.1200717330768875, gamma=0.005465706922478902, probability=True \n",
      "[CV]  C=2.1200717330768875, gamma=0.005465706922478902, probability=True, total=   0.0s\n",
      "[CV] C=2.1200717330768875, gamma=0.005465706922478902, probability=True \n",
      "[CV]  C=2.1200717330768875, gamma=0.005465706922478902, probability=True, total=   0.0s\n",
      "[CV] C=10.986248251265792, gamma=0.0064392810745249095, probability=True \n",
      "[CV]  C=10.986248251265792, gamma=0.0064392810745249095, probability=True, total=   0.0s\n",
      "[CV] C=10.986248251265792, gamma=0.0064392810745249095, probability=True \n",
      "[CV]  C=10.986248251265792, gamma=0.0064392810745249095, probability=True, total=   0.0s\n",
      "[CV] C=10.986248251265792, gamma=0.0064392810745249095, probability=True \n",
      "[CV]  C=10.986248251265792, gamma=0.0064392810745249095, probability=True, total=   0.0s\n",
      "[CV] C=7.025023839278508, gamma=0.0048773296687308065, probability=True \n",
      "[CV]  C=7.025023839278508, gamma=0.0048773296687308065, probability=True, total=   0.0s\n",
      "[CV] C=7.025023839278508, gamma=0.0048773296687308065, probability=True \n",
      "[CV]  C=7.025023839278508, gamma=0.0048773296687308065, probability=True, total=   0.0s\n",
      "[CV] C=7.025023839278508, gamma=0.0048773296687308065, probability=True \n",
      "[CV]  C=7.025023839278508, gamma=0.0048773296687308065, probability=True, total=   0.0s\n",
      "[CV] C=7.692054645682633, gamma=0.0671205954334751, probability=True .\n",
      "[CV]  C=7.692054645682633, gamma=0.0671205954334751, probability=True, total=   0.0s\n",
      "[CV] C=7.692054645682633, gamma=0.0671205954334751, probability=True .\n",
      "[CV]  C=7.692054645682633, gamma=0.0671205954334751, probability=True, total=   0.0s\n",
      "[CV] C=7.692054645682633, gamma=0.0671205954334751, probability=True .\n",
      "[CV]  C=7.692054645682633, gamma=0.0671205954334751, probability=True, total=   0.0s\n",
      "[CV] C=8.56736635464436, gamma=0.003888815649998361, probability=True \n",
      "[CV]  C=8.56736635464436, gamma=0.003888815649998361, probability=True, total=   0.0s\n",
      "[CV] C=8.56736635464436, gamma=0.003888815649998361, probability=True \n",
      "[CV]  C=8.56736635464436, gamma=0.003888815649998361, probability=True, total=   0.0s\n",
      "[CV] C=8.56736635464436, gamma=0.003888815649998361, probability=True \n",
      "[CV]  C=8.56736635464436, gamma=0.003888815649998361, probability=True, total=   0.0s\n",
      "[CV] C=4.785511455355733, gamma=0.011150495139999671, probability=True \n",
      "[CV]  C=4.785511455355733, gamma=0.011150495139999671, probability=True, total=   0.0s\n",
      "[CV] C=4.785511455355733, gamma=0.011150495139999671, probability=True \n",
      "[CV]  C=4.785511455355733, gamma=0.011150495139999671, probability=True, total=   0.0s\n",
      "[CV] C=4.785511455355733, gamma=0.011150495139999671, probability=True \n",
      "[CV]  C=4.785511455355733, gamma=0.011150495139999671, probability=True, total=   0.0s\n",
      "[CV] C=5.435622855676206, gamma=0.001036467147748452, probability=True \n",
      "[CV]  C=5.435622855676206, gamma=0.001036467147748452, probability=True, total=   0.0s\n",
      "[CV] C=5.435622855676206, gamma=0.001036467147748452, probability=True \n",
      "[CV]  C=5.435622855676206, gamma=0.001036467147748452, probability=True, total=   0.0s\n",
      "[CV] C=5.435622855676206, gamma=0.001036467147748452, probability=True \n",
      "[CV]  C=5.435622855676206, gamma=0.001036467147748452, probability=True, total=   0.0s\n",
      "[CV] C=1.6737128312952, gamma=0.031602239801589445, probability=True .\n",
      "[CV]  C=1.6737128312952, gamma=0.031602239801589445, probability=True, total=   0.0s\n",
      "[CV] C=1.6737128312952, gamma=0.031602239801589445, probability=True .\n",
      "[CV]  C=1.6737128312952, gamma=0.031602239801589445, probability=True, total=   0.0s\n",
      "[CV] C=1.6737128312952, gamma=0.031602239801589445, probability=True .\n",
      "[CV]  C=1.6737128312952, gamma=0.031602239801589445, probability=True, total=   0.0s\n",
      "[CV] C=2.4331270523705832, gamma=0.014775951466034387, probability=True \n",
      "[CV]  C=2.4331270523705832, gamma=0.014775951466034387, probability=True, total=   0.0s\n",
      "[CV] C=2.4331270523705832, gamma=0.014775951466034387, probability=True \n",
      "[CV]  C=2.4331270523705832, gamma=0.014775951466034387, probability=True, total=   0.0s\n",
      "[CV] C=2.4331270523705832, gamma=0.014775951466034387, probability=True \n",
      "[CV]  C=2.4331270523705832, gamma=0.014775951466034387, probability=True, total=   0.0s\n",
      "[CV] C=2.941935278371659, gamma=0.08695842468592732, probability=True \n",
      "[CV]  C=2.941935278371659, gamma=0.08695842468592732, probability=True, total=   0.0s\n",
      "[CV] C=2.941935278371659, gamma=0.08695842468592732, probability=True \n",
      "[CV]  C=2.941935278371659, gamma=0.08695842468592732, probability=True, total=   0.0s\n",
      "[CV] C=2.941935278371659, gamma=0.08695842468592732, probability=True \n",
      "[CV]  C=2.941935278371659, gamma=0.08695842468592732, probability=True, total=   0.0s\n",
      "[CV] C=4.6444590282993214, gamma=0.002491354484713683, probability=True \n",
      "[CV]  C=4.6444590282993214, gamma=0.002491354484713683, probability=True, total=   0.0s\n",
      "[CV] C=4.6444590282993214, gamma=0.002491354484713683, probability=True \n",
      "[CV]  C=4.6444590282993214, gamma=0.002491354484713683, probability=True, total=   0.0s\n",
      "[CV] C=4.6444590282993214, gamma=0.002491354484713683, probability=True \n",
      "[CV]  C=4.6444590282993214, gamma=0.002491354484713683, probability=True, total=   0.0s\n",
      "[CV] C=1.8071407511693307, gamma=0.007862079001005906, probability=True \n",
      "[CV]  C=1.8071407511693307, gamma=0.007862079001005906, probability=True, total=   0.0s\n",
      "[CV] C=1.8071407511693307, gamma=0.007862079001005906, probability=True \n",
      "[CV]  C=1.8071407511693307, gamma=0.007862079001005906, probability=True, total=   0.0s\n"
     ]
    },
    {
     "name": "stdout",
     "output_type": "stream",
     "text": [
      "[CV] C=1.8071407511693307, gamma=0.007862079001005906, probability=True \n",
      "[CV]  C=1.8071407511693307, gamma=0.007862079001005906, probability=True, total=   0.0s\n",
      "[CV] C=1.505240324337135, gamma=0.0021760187627696097, probability=True \n",
      "[CV]  C=1.505240324337135, gamma=0.0021760187627696097, probability=True, total=   0.0s\n",
      "[CV] C=1.505240324337135, gamma=0.0021760187627696097, probability=True \n",
      "[CV]  C=1.505240324337135, gamma=0.0021760187627696097, probability=True, total=   0.0s\n",
      "[CV] C=1.505240324337135, gamma=0.0021760187627696097, probability=True \n",
      "[CV]  C=1.505240324337135, gamma=0.0021760187627696097, probability=True, total=   0.0s\n",
      "[CV] C=8.390067253148766, gamma=0.004502652978069096, probability=True \n",
      "[CV]  C=8.390067253148766, gamma=0.004502652978069096, probability=True, total=   0.0s\n",
      "[CV] C=8.390067253148766, gamma=0.004502652978069096, probability=True \n",
      "[CV]  C=8.390067253148766, gamma=0.004502652978069096, probability=True, total=   0.0s\n",
      "[CV] C=8.390067253148766, gamma=0.004502652978069096, probability=True \n",
      "[CV]  C=8.390067253148766, gamma=0.004502652978069096, probability=True, total=   0.0s\n"
     ]
    },
    {
     "name": "stderr",
     "output_type": "stream",
     "text": [
      "[Parallel(n_jobs=1)]: Done 300 out of 300 | elapsed:    6.5s finished\n"
     ]
    }
   ],
   "source": [
    "if ft == 1 :\n",
    "    param_distributions = {\"gamma\": reciprocal(0.001, 0.1), \"C\": uniform(1, 10), 'probability' : [True]}\n",
    "    rnd_search_cv = RandomizedSearchCV(svm_clf, param_distributions, n_iter=100, verbose=2)\n",
    "    rnd_search_cv.fit(X_train_scaled, y_train)"
   ]
  },
  {
   "cell_type": "code",
   "execution_count": 21,
   "metadata": {},
   "outputs": [
    {
     "name": "stdout",
     "output_type": "stream",
     "text": [
      "SVC(C=5.325224396131549, cache_size=200, class_weight=None, coef0=0.0,\n",
      "  decision_function_shape='ovr', degree=3, gamma=0.08565708168646441,\n",
      "  kernel='rbf', max_iter=-1, probability=True, random_state=None,\n",
      "  shrinking=True, tol=0.001, verbose=False)\n",
      "0.8833333333333333\n"
     ]
    }
   ],
   "source": [
    "if ft == 1 :\n",
    "    print(rnd_search_cv.best_estimator_)\n",
    "    print(rnd_search_cv.best_score_)\n",
    "    "
   ]
  },
  {
   "cell_type": "markdown",
   "metadata": {},
   "source": [
    "### 2 - Grid Search"
   ]
  },
  {
   "cell_type": "code",
   "execution_count": 22,
   "metadata": {},
   "outputs": [
    {
     "name": "stdout",
     "output_type": "stream",
     "text": [
      "Fitting 3 folds for each of 660 candidates, totalling 1980 fits\n"
     ]
    },
    {
     "name": "stderr",
     "output_type": "stream",
     "text": [
      "[Parallel(n_jobs=-1)]: Done  24 tasks      | elapsed:   12.8s\n",
      "[Parallel(n_jobs=-1)]: Done 1980 out of 1980 | elapsed:   28.9s finished\n"
     ]
    }
   ],
   "source": [
    "if ft == 1 :\n",
    "    param_grid = [\n",
    "            #{'kernel': ['linear'], 'C': [10., 30., 100., 300., 1000., 3000., 10000., 30000.0]},\n",
    "             {'kernel': ['poly','rbf'], 'C': [0.0001,0.001,0.01,0.1,1.0, 3.0, 10., 30., 100., 300., 1000.0], \n",
    "             'degree': [0.1,1,2, 3, 4, 5],\n",
    "             'gamma': [0.01, 0.03, 0.1, 0.3, 1.0],\n",
    "             'probability' : [True]},\n",
    "        ]\n",
    "    grid_search_cv = GridSearchCV(svm_clf, param_grid, verbose=3, n_jobs=-1)\n",
    "    grid_search_cv.fit(X_train_scaled, y_train)"
   ]
  },
  {
   "cell_type": "code",
   "execution_count": 23,
   "metadata": {},
   "outputs": [
    {
     "name": "stdout",
     "output_type": "stream",
     "text": [
      "SVC(C=1.0, cache_size=200, class_weight=None, coef0=0.0,\n",
      "  decision_function_shape='ovr', degree=0.1, gamma=1.0, kernel='rbf',\n",
      "  max_iter=-1, probability=True, random_state=None, shrinking=True,\n",
      "  tol=0.001, verbose=False)\n",
      "0.9666666666666667\n"
     ]
    }
   ],
   "source": [
    "if ft == 1 :\n",
    "    print(grid_search_cv.best_estimator_)\n",
    "    print(grid_search_cv.best_score_)\n"
   ]
  },
  {
   "cell_type": "code",
   "execution_count": 24,
   "metadata": {},
   "outputs": [
    {
     "name": "stdout",
     "output_type": "stream",
     "text": [
      "Grid Search\n"
     ]
    }
   ],
   "source": [
    "if ft == 1 :\n",
    "    if grid_search_cv.best_score_ > rnd_search_cv.best_score_:\n",
    "        final_model = grid_search_cv.best_estimator_\n",
    "        print('Grid Search')\n",
    "    else:\n",
    "        final_model = rnd_search_cv.best_estimator_\n",
    "        print('Random Search')"
   ]
  },
  {
   "cell_type": "markdown",
   "metadata": {},
   "source": [
    "final_model = SVC(C=4.5081563130778655, cache_size=200, class_weight=None, coef0=0.0,\n",
    "  decision_function_shape='ovr', degree=3, gamma=0.07780729988248225,\n",
    "  kernel='rbf', max_iter=-1, probability=True, random_state=None,\n",
    "  shrinking=True, tol=0.001, verbose=False)"
   ]
  },
  {
   "cell_type": "markdown",
   "metadata": {},
   "source": [
    "## Regularizating the model"
   ]
  },
  {
   "cell_type": "code",
   "execution_count": 25,
   "metadata": {},
   "outputs": [],
   "source": [
    "#final_model = rnd_search_cv.best_estimator_"
   ]
  },
  {
   "cell_type": "code",
   "execution_count": 26,
   "metadata": {},
   "outputs": [],
   "source": [
    "gamma=0.07780729988248225"
   ]
  },
  {
   "cell_type": "code",
   "execution_count": 27,
   "metadata": {
    "code_folding": []
   },
   "outputs": [],
   "source": [
    "final_model = SVC(C=4.5081563130778655, cache_size=200, class_weight=None, coef0=0.0,\n",
    "  decision_function_shape='ovr', degree=3, gamma=gamma,\n",
    "  kernel='rbf', max_iter=-1, probability=True, random_state=None,\n",
    "  shrinking=True, tol=0.001, verbose=False)"
   ]
  },
  {
   "cell_type": "code",
   "execution_count": 28,
   "metadata": {},
   "outputs": [
    {
     "name": "stderr",
     "output_type": "stream",
     "text": [
      "[Parallel(n_jobs=-1)]: Done   2 out of   5 | elapsed:    7.0s remaining:   10.6s\n"
     ]
    },
    {
     "name": "stdout",
     "output_type": "stream",
     "text": [
      "[0.83 0.88 0.88 0.92 0.96]\n"
     ]
    },
    {
     "name": "stderr",
     "output_type": "stream",
     "text": [
      "[Parallel(n_jobs=-1)]: Done   5 out of   5 | elapsed:   10.6s finished\n"
     ]
    }
   ],
   "source": [
    "cv_scores = cross_val_score(final_model, X_train_scaled, y_train, cv=5, verbose=3, n_jobs=-1)\n",
    "print(cv_scores)"
   ]
  },
  {
   "cell_type": "markdown",
   "metadata": {},
   "source": [
    "## Predicting the Classes in Trainning Set"
   ]
  },
  {
   "cell_type": "code",
   "execution_count": 29,
   "metadata": {},
   "outputs": [],
   "source": [
    "final_model.fit(X_train_scaled, y_train)\n",
    "y_pred = final_model.predict(X_train_scaled)\n",
    "y_pred_prob = final_model.predict_proba(X_train_scaled)[:,1]"
   ]
  },
  {
   "cell_type": "code",
   "execution_count": 30,
   "metadata": {},
   "outputs": [],
   "source": [
    "y_pred_prob;"
   ]
  },
  {
   "cell_type": "code",
   "execution_count": 31,
   "metadata": {},
   "outputs": [
    {
     "data": {
      "image/png": "[encoded data removed]",
      "text/plain": [
       "<Figure size 432x288 with 1 Axes>"
      ]
     },
     "metadata": {},
     "output_type": "display_data"
    }
   ],
   "source": [
    "plotRoc(y_train, y_pred_prob)"
   ]
  },
  {
   "cell_type": "markdown",
   "metadata": {},
   "source": [
    "<font color='red'>\n",
    "Notes:<br>\n",
    "The probability model is created using cross validation, so the results can be slightly different than those obtained by predict. Also, it will produce meaningless results on very small datasets.</font>"
   ]
  },
  {
   "cell_type": "code",
   "execution_count": 32,
   "metadata": {},
   "outputs": [
    {
     "name": "stdout",
     "output_type": "stream",
     "text": [
      "Confusion matrix, without normalization\n"
     ]
    },
    {
     "data": {
      "image/png": "[encoded data removed]",
      "text/plain": [
       "<Figure size 432x288 with 2 Axes>"
      ]
     },
     "metadata": {},
     "output_type": "display_data"
    }
   ],
   "source": [
    "printcfm(y_train,y_pred,title='confusion matrix')"
   ]
  },
  {
   "cell_type": "markdown",
   "metadata": {},
   "source": [
    "## Evaluating the model with Cross-Validation"
   ]
  },
  {
   "cell_type": "code",
   "execution_count": 33,
   "metadata": {},
   "outputs": [],
   "source": [
    "y_pred_prob = final_model.predict_proba(X_train_scaled)[:,1]"
   ]
  },
  {
   "cell_type": "code",
   "execution_count": 34,
   "metadata": {},
   "outputs": [
    {
     "name": "stderr",
     "output_type": "stream",
     "text": [
      "[Parallel(n_jobs=1)]: Done   1 out of   1 | elapsed:    0.0s remaining:    0.0s\n",
      "[Parallel(n_jobs=1)]: Done   2 out of   2 | elapsed:    0.0s remaining:    0.0s\n",
      "[Parallel(n_jobs=1)]: Done   3 out of   3 | elapsed:    0.0s finished\n"
     ]
    }
   ],
   "source": [
    "y_scores = cross_val_predict(final_model, X_train_scaled, y_train, cv=3, verbose=3, method='predict_proba')"
   ]
  },
  {
   "cell_type": "code",
   "execution_count": 35,
   "metadata": {},
   "outputs": [
    {
     "name": "stderr",
     "output_type": "stream",
     "text": [
      "[Parallel(n_jobs=1)]: Done   1 out of   1 | elapsed:    0.0s remaining:    0.0s\n",
      "[Parallel(n_jobs=1)]: Done   2 out of   2 | elapsed:    0.0s remaining:    0.0s\n",
      "[Parallel(n_jobs=1)]: Done   3 out of   3 | elapsed:    0.0s finished\n"
     ]
    }
   ],
   "source": [
    "y_train_pred = cross_val_predict(final_model, X_train_scaled, y_train, cv=3, verbose=3)\n",
    "# hack to work around issue #9589 in Scikit-Learn 0.19.0\n",
    "if y_scores.ndim == 2:\n",
    "    y_scores = y_scores[:, 1]\n",
    "# print(y_scores)\n",
    "# print(np.mean(y_scores))"
   ]
  },
  {
   "cell_type": "code",
   "execution_count": 36,
   "metadata": {},
   "outputs": [
    {
     "data": {
      "image/png": "[encoded data removed]",
      "text/plain": [
       "<Figure size 432x288 with 1 Axes>"
      ]
     },
     "metadata": {},
     "output_type": "display_data"
    }
   ],
   "source": [
    "plotRoc(y_train, y_train_pred)"
   ]
  },
  {
   "cell_type": "markdown",
   "metadata": {},
   "source": [
    "<font color='red'>\n",
    "Notes:<br>\n",
    "The probability model is created using cross validation, so the results can be slightly different than those obtained by predict. Also, it will produce meaningless results on very small datasets.</font>"
   ]
  },
  {
   "cell_type": "code",
   "execution_count": 37,
   "metadata": {},
   "outputs": [
    {
     "data": {
      "text/plain": [
       "0.8833333333333334"
      ]
     },
     "execution_count": 37,
     "metadata": {},
     "output_type": "execute_result"
    }
   ],
   "source": [
    "auc_train = roc_auc_score(y_train, y_train_pred)\n",
    "auc_train"
   ]
  },
  {
   "cell_type": "code",
   "execution_count": 38,
   "metadata": {},
   "outputs": [
    {
     "name": "stdout",
     "output_type": "stream",
     "text": [
      "Confusion matrix, without normalization\n"
     ]
    },
    {
     "data": {
      "image/png": "[encoded data removed]",
      "text/plain": [
       "<Figure size 432x288 with 2 Axes>"
      ]
     },
     "metadata": {},
     "output_type": "display_data"
    }
   ],
   "source": [
    "printcfm(y_train,y_train_pred,title='confusion matrix')"
   ]
  },
  {
   "cell_type": "code",
   "execution_count": 39,
   "metadata": {},
   "outputs": [
    {
     "name": "stdout",
     "output_type": "stream",
     "text": [
      "             precision    recall  f1-score   support\n",
      "\n",
      "          0       0.96      0.80      0.87        60\n",
      "          1       0.83      0.97      0.89        60\n",
      "\n",
      "avg / total       0.89      0.88      0.88       120\n",
      "\n"
     ]
    }
   ],
   "source": [
    "print(classification_report(y_train, y_train_pred))"
   ]
  },
  {
   "cell_type": "markdown",
   "metadata": {},
   "source": [
    "## Precision/Recall Tradeoff"
   ]
  },
  {
   "cell_type": "code",
   "execution_count": 40,
   "metadata": {},
   "outputs": [
    {
     "data": {
      "image/png": "[encoded data removed]",
      "text/plain": [
       "<Figure size 432x288 with 1 Axes>"
      ]
     },
     "metadata": {},
     "output_type": "display_data"
    }
   ],
   "source": [
    "precisions, recalls, thresholds = precision_recall_curve(y_train, y_scores)\n",
    "def plot_precision_recall_vs_threshold(precisions, recalls, thresholds):\n",
    "    plt.plot(thresholds, precisions[:-1], \"b--\", label=\"Precision\")\n",
    "    plt.plot(thresholds, recalls[:-1], \"g-\", label=\"Recall\")\n",
    "    plt.xlabel(\"Threshold\")\n",
    "    plt.legend(loc=\"upper left\")\n",
    "    plt.ylim([0, 1])\n",
    "plot_precision_recall_vs_threshold(precisions, recalls, thresholds)\n",
    "plt.show()"
   ]
  },
  {
   "cell_type": "code",
   "execution_count": 41,
   "metadata": {},
   "outputs": [
    {
     "name": "stdout",
     "output_type": "stream",
     "text": [
      "[0.88 0.82 0.95]\n",
      "0.8833333333333333\n"
     ]
    }
   ],
   "source": [
    "cv_scores = cross_val_score(final_model, X_train_scaled, y_train, cv=3)\n",
    "print(cv_scores)\n",
    "print(np.mean(cv_scores))"
   ]
  },
  {
   "cell_type": "code",
   "execution_count": 42,
   "metadata": {},
   "outputs": [
    {
     "data": {
      "image/png": "[encoded data removed]",
      "text/plain": [
       "<Figure size 576x432 with 1 Axes>"
      ]
     },
     "metadata": {},
     "output_type": "display_data"
    }
   ],
   "source": [
    "plot_precision_vs_recall(precisions, recalls)"
   ]
  },
  {
   "cell_type": "markdown",
   "metadata": {},
   "source": [
    "# Evaluating the model with LOO"
   ]
  },
  {
   "cell_type": "code",
   "execution_count": 43,
   "metadata": {},
   "outputs": [
    {
     "data": {
      "text/plain": [
       "120"
      ]
     },
     "execution_count": 43,
     "metadata": {},
     "output_type": "execute_result"
    }
   ],
   "source": [
    "loo = LeaveOneOut()\n",
    "loo.get_n_splits(X_train_scaled)"
   ]
  },
  {
   "cell_type": "code",
   "execution_count": 44,
   "metadata": {},
   "outputs": [
    {
     "name": "stdout",
     "output_type": "stream",
     "text": [
      "[  1   2   3   4   5   6   7   8   9  10  11  12  13  14  15  16  17  18\n",
      "  19  20  21  22  23  24  25  26  27  28  29  30  31  32  33  34  35  36\n",
      "  37  38  39  40  41  42  43  44  45  46  47  48  49  50  51  52  53  54\n",
      "  55  56  57  58  59  60  61  62  63  64  65  66  67  68  69  70  71  72\n",
      "  73  74  75  76  77  78  79  80  81  82  83  84  85  86  87  88  89  90\n",
      "  91  92  93  94  95  96  97  98  99 100 101 102 103 104 105 106 107 108\n",
      " 109 110 111 112 113 114 115 116 117 118 119] [0]\n",
      "[  0   2   3   4   5   6   7   8   9  10  11  12  13  14  15  16  17  18\n",
      "  19  20  21  22  23  24  25  26  27  28  29  30  31  32  33  34  35  36\n",
      "  37  38  39  40  41  42  43  44  45  46  47  48  49  50  51  52  53  54\n",
      "  55  56  57  58  59  60  61  62  63  64  65  66  67  68  69  70  71  72\n",
      "  73  74  75  76  77  78  79  80  81  82  83  84  85  86  87  88  89  90\n",
      "  91  92  93  94  95  96  97  98  99 100 101 102 103 104 105 106 107 108\n",
      " 109 110 111 112 113 114 115 116 117 118 119] [1]\n",
      "[  0   1   3   4   5   6   7   8   9  10  11  12  13  14  15  16  17  18\n",
      "  19  20  21  22  23  24  25  26  27  28  29  30  31  32  33  34  35  36\n",
      "  37  38  39  40  41  42  43  44  45  46  47  48  49  50  51  52  53  54\n",
      "  55  56  57  58  59  60  61  62  63  64  65  66  67  68  69  70  71  72\n",
      "  73  74  75  76  77  78  79  80  81  82  83  84  85  86  87  88  89  90\n",
      "  91  92  93  94  95  96  97  98  99 100 101 102 103 104 105 106 107 108\n",
      " 109 110 111 112 113 114 115 116 117 118 119] [2]\n",
      "[  0   1   2   4   5   6   7   8   9  10  11  12  13  14  15  16  17  18\n",
      "  19  20  21  22  23  24  25  26  27  28  29  30  31  32  33  34  35  36\n",
      "  37  38  39  40  41  42  43  44  45  46  47  48  49  50  51  52  53  54\n",
      "  55  56  57  58  59  60  61  62  63  64  65  66  67  68  69  70  71  72\n",
      "  73  74  75  76  77  78  79  80  81  82  83  84  85  86  87  88  89  90\n",
      "  91  92  93  94  95  96  97  98  99 100 101 102 103 104 105 106 107 108\n",
      " 109 110 111 112 113 114 115 116 117 118 119] [3]\n",
      "[  0   1   2   3   5   6   7   8   9  10  11  12  13  14  15  16  17  18\n",
      "  19  20  21  22  23  24  25  26  27  28  29  30  31  32  33  34  35  36\n",
      "  37  38  39  40  41  42  43  44  45  46  47  48  49  50  51  52  53  54\n",
      "  55  56  57  58  59  60  61  62  63  64  65  66  67  68  69  70  71  72\n",
      "  73  74  75  76  77  78  79  80  81  82  83  84  85  86  87  88  89  90\n",
      "  91  92  93  94  95  96  97  98  99 100 101 102 103 104 105 106 107 108\n",
      " 109 110 111 112 113 114 115 116 117 118 119] [4]\n",
      "[  0   1   2   3   4   6   7   8   9  10  11  12  13  14  15  16  17  18\n",
      "  19  20  21  22  23  24  25  26  27  28  29  30  31  32  33  34  35  36\n",
      "  37  38  39  40  41  42  43  44  45  46  47  48  49  50  51  52  53  54\n",
      "  55  56  57  58  59  60  61  62  63  64  65  66  67  68  69  70  71  72\n",
      "  73  74  75  76  77  78  79  80  81  82  83  84  85  86  87  88  89  90\n",
      "  91  92  93  94  95  96  97  98  99 100 101 102 103 104 105 106 107 108\n",
      " 109 110 111 112 113 114 115 116 117 118 119] [5]\n",
      "[  0   1   2   3   4   5   7   8   9  10  11  12  13  14  15  16  17  18\n",
      "  19  20  21  22  23  24  25  26  27  28  29  30  31  32  33  34  35  36\n",
      "  37  38  39  40  41  42  43  44  45  46  47  48  49  50  51  52  53  54\n",
      "  55  56  57  58  59  60  61  62  63  64  65  66  67  68  69  70  71  72\n",
      "  73  74  75  76  77  78  79  80  81  82  83  84  85  86  87  88  89  90\n",
      "  91  92  93  94  95  96  97  98  99 100 101 102 103 104 105 106 107 108\n",
      " 109 110 111 112 113 114 115 116 117 118 119] [6]\n",
      "[  0   1   2   3   4   5   6   8   9  10  11  12  13  14  15  16  17  18\n",
      "  19  20  21  22  23  24  25  26  27  28  29  30  31  32  33  34  35  36\n",
      "  37  38  39  40  41  42  43  44  45  46  47  48  49  50  51  52  53  54\n",
      "  55  56  57  58  59  60  61  62  63  64  65  66  67  68  69  70  71  72\n",
      "  73  74  75  76  77  78  79  80  81  82  83  84  85  86  87  88  89  90\n",
      "  91  92  93  94  95  96  97  98  99 100 101 102 103 104 105 106 107 108\n",
      " 109 110 111 112 113 114 115 116 117 118 119] [7]\n",
      "[  0   1   2   3   4   5   6   7   9  10  11  12  13  14  15  16  17  18\n",
      "  19  20  21  22  23  24  25  26  27  28  29  30  31  32  33  34  35  36\n",
      "  37  38  39  40  41  42  43  44  45  46  47  48  49  50  51  52  53  54\n",
      "  55  56  57  58  59  60  61  62  63  64  65  66  67  68  69  70  71  72\n",
      "  73  74  75  76  77  78  79  80  81  82  83  84  85  86  87  88  89  90\n",
      "  91  92  93  94  95  96  97  98  99 100 101 102 103 104 105 106 107 108\n",
      " 109 110 111 112 113 114 115 116 117 118 119] [8]\n",
      "[  0   1   2   3   4   5   6   7   8  10  11  12  13  14  15  16  17  18\n",
      "  19  20  21  22  23  24  25  26  27  28  29  30  31  32  33  34  35  36\n",
      "  37  38  39  40  41  42  43  44  45  46  47  48  49  50  51  52  53  54\n",
      "  55  56  57  58  59  60  61  62  63  64  65  66  67  68  69  70  71  72\n",
      "  73  74  75  76  77  78  79  80  81  82  83  84  85  86  87  88  89  90\n",
      "  91  92  93  94  95  96  97  98  99 100 101 102 103 104 105 106 107 108\n",
      " 109 110 111 112 113 114 115 116 117 118 119] [9]\n",
      "[  0   1   2   3   4   5   6   7   8   9  11  12  13  14  15  16  17  18\n",
      "  19  20  21  22  23  24  25  26  27  28  29  30  31  32  33  34  35  36\n",
      "  37  38  39  40  41  42  43  44  45  46  47  48  49  50  51  52  53  54\n",
      "  55  56  57  58  59  60  61  62  63  64  65  66  67  68  69  70  71  72\n",
      "  73  74  75  76  77  78  79  80  81  82  83  84  85  86  87  88  89  90\n",
      "  91  92  93  94  95  96  97  98  99 100 101 102 103 104 105 106 107 108\n",
      " 109 110 111 112 113 114 115 116 117 118 119] [10]\n",
      "[  0   1   2   3   4   5   6   7   8   9  10  12  13  14  15  16  17  18\n",
      "  19  20  21  22  23  24  25  26  27  28  29  30  31  32  33  34  35  36\n",
      "  37  38  39  40  41  42  43  44  45  46  47  48  49  50  51  52  53  54\n",
      "  55  56  57  58  59  60  61  62  63  64  65  66  67  68  69  70  71  72\n",
      "  73  74  75  76  77  78  79  80  81  82  83  84  85  86  87  88  89  90\n",
      "  91  92  93  94  95  96  97  98  99 100 101 102 103 104 105 106 107 108\n",
      " 109 110 111 112 113 114 115 116 117 118 119] [11]\n",
      "[  0   1   2   3   4   5   6   7   8   9  10  11  13  14  15  16  17  18\n",
      "  19  20  21  22  23  24  25  26  27  28  29  30  31  32  33  34  35  36\n",
      "  37  38  39  40  41  42  43  44  45  46  47  48  49  50  51  52  53  54\n",
      "  55  56  57  58  59  60  61  62  63  64  65  66  67  68  69  70  71  72\n",
      "  73  74  75  76  77  78  79  80  81  82  83  84  85  86  87  88  89  90\n",
      "  91  92  93  94  95  96  97  98  99 100 101 102 103 104 105 106 107 108\n",
      " 109 110 111 112 113 114 115 116 117 118 119] [12]\n",
      "[  0   1   2   3   4   5   6   7   8   9  10  11  12  14  15  16  17  18\n",
      "  19  20  21  22  23  24  25  26  27  28  29  30  31  32  33  34  35  36\n",
      "  37  38  39  40  41  42  43  44  45  46  47  48  49  50  51  52  53  54\n",
      "  55  56  57  58  59  60  61  62  63  64  65  66  67  68  69  70  71  72\n",
      "  73  74  75  76  77  78  79  80  81  82  83  84  85  86  87  88  89  90\n",
      "  91  92  93  94  95  96  97  98  99 100 101 102 103 104 105 106 107 108\n",
      " 109 110 111 112 113 114 115 116 117 118 119] [13]\n",
      "[  0   1   2   3   4   5   6   7   8   9  10  11  12  13  15  16  17  18\n",
      "  19  20  21  22  23  24  25  26  27  28  29  30  31  32  33  34  35  36\n",
      "  37  38  39  40  41  42  43  44  45  46  47  48  49  50  51  52  53  54\n",
      "  55  56  57  58  59  60  61  62  63  64  65  66  67  68  69  70  71  72\n",
      "  73  74  75  76  77  78  79  80  81  82  83  84  85  86  87  88  89  90\n",
      "  91  92  93  94  95  96  97  98  99 100 101 102 103 104 105 106 107 108\n",
      " 109 110 111 112 113 114 115 116 117 118 119] [14]\n",
      "[  0   1   2   3   4   5   6   7   8   9  10  11  12  13  14  16  17  18\n",
      "  19  20  21  22  23  24  25  26  27  28  29  30  31  32  33  34  35  36\n",
      "  37  38  39  40  41  42  43  44  45  46  47  48  49  50  51  52  53  54\n",
      "  55  56  57  58  59  60  61  62  63  64  65  66  67  68  69  70  71  72\n",
      "  73  74  75  76  77  78  79  80  81  82  83  84  85  86  87  88  89  90\n",
      "  91  92  93  94  95  96  97  98  99 100 101 102 103 104 105 106 107 108\n",
      " 109 110 111 112 113 114 115 116 117 118 119] [15]\n",
      "[  0   1   2   3   4   5   6   7   8   9  10  11  12  13  14  15  17  18\n",
      "  19  20  21  22  23  24  25  26  27  28  29  30  31  32  33  34  35  36\n",
      "  37  38  39  40  41  42  43  44  45  46  47  48  49  50  51  52  53  54\n",
      "  55  56  57  58  59  60  61  62  63  64  65  66  67  68  69  70  71  72\n",
      "  73  74  75  76  77  78  79  80  81  82  83  84  85  86  87  88  89  90\n",
      "  91  92  93  94  95  96  97  98  99 100 101 102 103 104 105 106 107 108\n",
      " 109 110 111 112 113 114 115 116 117 118 119] [16]\n",
      "[  0   1   2   3   4   5   6   7   8   9  10  11  12  13  14  15  16  18\n",
      "  19  20  21  22  23  24  25  26  27  28  29  30  31  32  33  34  35  36\n",
      "  37  38  39  40  41  42  43  44  45  46  47  48  49  50  51  52  53  54\n",
      "  55  56  57  58  59  60  61  62  63  64  65  66  67  68  69  70  71  72\n",
      "  73  74  75  76  77  78  79  80  81  82  83  84  85  86  87  88  89  90\n",
      "  91  92  93  94  95  96  97  98  99 100 101 102 103 104 105 106 107 108\n",
      " 109 110 111 112 113 114 115 116 117 118 119] [17]\n",
      "[  0   1   2   3   4   5   6   7   8   9  10  11  12  13  14  15  16  17\n",
      "  19  20  21  22  23  24  25  26  27  28  29  30  31  32  33  34  35  36\n",
      "  37  38  39  40  41  42  43  44  45  46  47  48  49  50  51  52  53  54\n",
      "  55  56  57  58  59  60  61  62  63  64  65  66  67  68  69  70  71  72\n",
      "  73  74  75  76  77  78  79  80  81  82  83  84  85  86  87  88  89  90\n",
      "  91  92  93  94  95  96  97  98  99 100 101 102 103 104 105 106 107 108\n",
      " 109 110 111 112 113 114 115 116 117 118 119] [18]\n",
      "[  0   1   2   3   4   5   6   7   8   9  10  11  12  13  14  15  16  17\n",
      "  18  20  21  22  23  24  25  26  27  28  29  30  31  32  33  34  35  36\n",
      "  37  38  39  40  41  42  43  44  45  46  47  48  49  50  51  52  53  54\n",
      "  55  56  57  58  59  60  61  62  63  64  65  66  67  68  69  70  71  72\n",
      "  73  74  75  76  77  78  79  80  81  82  83  84  85  86  87  88  89  90\n",
      "  91  92  93  94  95  96  97  98  99 100 101 102 103 104 105 106 107 108\n",
      " 109 110 111 112 113 114 115 116 117 118 119] [19]\n",
      "[  0   1   2   3   4   5   6   7   8   9  10  11  12  13  14  15  16  17\n",
      "  18  19  21  22  23  24  25  26  27  28  29  30  31  32  33  34  35  36\n",
      "  37  38  39  40  41  42  43  44  45  46  47  48  49  50  51  52  53  54\n",
      "  55  56  57  58  59  60  61  62  63  64  65  66  67  68  69  70  71  72\n",
      "  73  74  75  76  77  78  79  80  81  82  83  84  85  86  87  88  89  90\n",
      "  91  92  93  94  95  96  97  98  99 100 101 102 103 104 105 106 107 108\n",
      " 109 110 111 112 113 114 115 116 117 118 119] [20]\n",
      "[  0   1   2   3   4   5   6   7   8   9  10  11  12  13  14  15  16  17\n",
      "  18  19  20  22  23  24  25  26  27  28  29  30  31  32  33  34  35  36\n",
      "  37  38  39  40  41  42  43  44  45  46  47  48  49  50  51  52  53  54\n",
      "  55  56  57  58  59  60  61  62  63  64  65  66  67  68  69  70  71  72\n",
      "  73  74  75  76  77  78  79  80  81  82  83  84  85  86  87  88  89  90\n",
      "  91  92  93  94  95  96  97  98  99 100 101 102 103 104 105 106 107 108\n",
      " 109 110 111 112 113 114 115 116 117 118 119] [21]\n",
      "[  0   1   2   3   4   5   6   7   8   9  10  11  12  13  14  15  16  17\n",
      "  18  19  20  21  23  24  25  26  27  28  29  30  31  32  33  34  35  36\n",
      "  37  38  39  40  41  42  43  44  45  46  47  48  49  50  51  52  53  54\n",
      "  55  56  57  58  59  60  61  62  63  64  65  66  67  68  69  70  71  72\n",
      "  73  74  75  76  77  78  79  80  81  82  83  84  85  86  87  88  89  90\n",
      "  91  92  93  94  95  96  97  98  99 100 101 102 103 104 105 106 107 108\n",
      " 109 110 111 112 113 114 115 116 117 118 119] [22]\n",
      "[  0   1   2   3   4   5   6   7   8   9  10  11  12  13  14  15  16  17\n",
      "  18  19  20  21  22  24  25  26  27  28  29  30  31  32  33  34  35  36\n",
      "  37  38  39  40  41  42  43  44  45  46  47  48  49  50  51  52  53  54\n",
      "  55  56  57  58  59  60  61  62  63  64  65  66  67  68  69  70  71  72\n",
      "  73  74  75  76  77  78  79  80  81  82  83  84  85  86  87  88  89  90\n",
      "  91  92  93  94  95  96  97  98  99 100 101 102 103 104 105 106 107 108\n",
      " 109 110 111 112 113 114 115 116 117 118 119] [23]\n",
      "[  0   1   2   3   4   5   6   7   8   9  10  11  12  13  14  15  16  17\n",
      "  18  19  20  21  22  23  25  26  27  28  29  30  31  32  33  34  35  36\n",
      "  37  38  39  40  41  42  43  44  45  46  47  48  49  50  51  52  53  54\n",
      "  55  56  57  58  59  60  61  62  63  64  65  66  67  68  69  70  71  72\n",
      "  73  74  75  76  77  78  79  80  81  82  83  84  85  86  87  88  89  90\n",
      "  91  92  93  94  95  96  97  98  99 100 101 102 103 104 105 106 107 108\n",
      " 109 110 111 112 113 114 115 116 117 118 119] [24]\n",
      "[  0   1   2   3   4   5   6   7   8   9  10  11  12  13  14  15  16  17\n",
      "  18  19  20  21  22  23  24  26  27  28  29  30  31  32  33  34  35  36\n",
      "  37  38  39  40  41  42  43  44  45  46  47  48  49  50  51  52  53  54\n",
      "  55  56  57  58  59  60  61  62  63  64  65  66  67  68  69  70  71  72\n",
      "  73  74  75  76  77  78  79  80  81  82  83  84  85  86  87  88  89  90\n",
      "  91  92  93  94  95  96  97  98  99 100 101 102 103 104 105 106 107 108\n",
      " 109 110 111 112 113 114 115 116 117 118 119] [25]\n",
      "[  0   1   2   3   4   5   6   7   8   9  10  11  12  13  14  15  16  17\n",
      "  18  19  20  21  22  23  24  25  27  28  29  30  31  32  33  34  35  36\n",
      "  37  38  39  40  41  42  43  44  45  46  47  48  49  50  51  52  53  54\n",
      "  55  56  57  58  59  60  61  62  63  64  65  66  67  68  69  70  71  72\n",
      "  73  74  75  76  77  78  79  80  81  82  83  84  85  86  87  88  89  90\n",
      "  91  92  93  94  95  96  97  98  99 100 101 102 103 104 105 106 107 108\n",
      " 109 110 111 112 113 114 115 116 117 118 119] [26]\n",
      "[  0   1   2   3   4   5   6   7   8   9  10  11  12  13  14  15  16  17\n",
      "  18  19  20  21  22  23  24  25  26  28  29  30  31  32  33  34  35  36\n",
      "  37  38  39  40  41  42  43  44  45  46  47  48  49  50  51  52  53  54\n",
      "  55  56  57  58  59  60  61  62  63  64  65  66  67  68  69  70  71  72\n",
      "  73  74  75  76  77  78  79  80  81  82  83  84  85  86  87  88  89  90\n",
      "  91  92  93  94  95  96  97  98  99 100 101 102 103 104 105 106 107 108\n",
      " 109 110 111 112 113 114 115 116 117 118 119] [27]\n",
      "[  0   1   2   3   4   5   6   7   8   9  10  11  12  13  14  15  16  17\n",
      "  18  19  20  21  22  23  24  25  26  27  29  30  31  32  33  34  35  36\n",
      "  37  38  39  40  41  42  43  44  45  46  47  48  49  50  51  52  53  54\n",
      "  55  56  57  58  59  60  61  62  63  64  65  66  67  68  69  70  71  72\n",
      "  73  74  75  76  77  78  79  80  81  82  83  84  85  86  87  88  89  90\n",
      "  91  92  93  94  95  96  97  98  99 100 101 102 103 104 105 106 107 108\n",
      " 109 110 111 112 113 114 115 116 117 118 119] [28]\n",
      "[  0   1   2   3   4   5   6   7   8   9  10  11  12  13  14  15  16  17\n",
      "  18  19  20  21  22  23  24  25  26  27  28  30  31  32  33  34  35  36\n",
      "  37  38  39  40  41  42  43  44  45  46  47  48  49  50  51  52  53  54\n",
      "  55  56  57  58  59  60  61  62  63  64  65  66  67  68  69  70  71  72\n",
      "  73  74  75  76  77  78  79  80  81  82  83  84  85  86  87  88  89  90\n",
      "  91  92  93  94  95  96  97  98  99 100 101 102 103 104 105 106 107 108\n",
      " 109 110 111 112 113 114 115 116 117 118 119] [29]\n",
      "[  0   1   2   3   4   5   6   7   8   9  10  11  12  13  14  15  16  17\n",
      "  18  19  20  21  22  23  24  25  26  27  28  29  31  32  33  34  35  36\n",
      "  37  38  39  40  41  42  43  44  45  46  47  48  49  50  51  52  53  54\n",
      "  55  56  57  58  59  60  61  62  63  64  65  66  67  68  69  70  71  72\n",
      "  73  74  75  76  77  78  79  80  81  82  83  84  85  86  87  88  89  90\n",
      "  91  92  93  94  95  96  97  98  99 100 101 102 103 104 105 106 107 108\n",
      " 109 110 111 112 113 114 115 116 117 118 119] [30]\n",
      "[  0   1   2   3   4   5   6   7   8   9  10  11  12  13  14  15  16  17\n",
      "  18  19  20  21  22  23  24  25  26  27  28  29  30  32  33  34  35  36\n",
      "  37  38  39  40  41  42  43  44  45  46  47  48  49  50  51  52  53  54\n",
      "  55  56  57  58  59  60  61  62  63  64  65  66  67  68  69  70  71  72\n",
      "  73  74  75  76  77  78  79  80  81  82  83  84  85  86  87  88  89  90\n",
      "  91  92  93  94  95  96  97  98  99 100 101 102 103 104 105 106 107 108\n",
      " 109 110 111 112 113 114 115 116 117 118 119] [31]\n",
      "[  0   1   2   3   4   5   6   7   8   9  10  11  12  13  14  15  16  17\n",
      "  18  19  20  21  22  23  24  25  26  27  28  29  30  31  33  34  35  36\n",
      "  37  38  39  40  41  42  43  44  45  46  47  48  49  50  51  52  53  54\n",
      "  55  56  57  58  59  60  61  62  63  64  65  66  67  68  69  70  71  72\n",
      "  73  74  75  76  77  78  79  80  81  82  83  84  85  86  87  88  89  90\n",
      "  91  92  93  94  95  96  97  98  99 100 101 102 103 104 105 106 107 108\n",
      " 109 110 111 112 113 114 115 116 117 118 119] [32]\n",
      "[  0   1   2   3   4   5   6   7   8   9  10  11  12  13  14  15  16  17\n",
      "  18  19  20  21  22  23  24  25  26  27  28  29  30  31  32  34  35  36\n",
      "  37  38  39  40  41  42  43  44  45  46  47  48  49  50  51  52  53  54\n",
      "  55  56  57  58  59  60  61  62  63  64  65  66  67  68  69  70  71  72\n",
      "  73  74  75  76  77  78  79  80  81  82  83  84  85  86  87  88  89  90\n",
      "  91  92  93  94  95  96  97  98  99 100 101 102 103 104 105 106 107 108\n",
      " 109 110 111 112 113 114 115 116 117 118 119] [33]\n",
      "[  0   1   2   3   4   5   6   7   8   9  10  11  12  13  14  15  16  17\n",
      "  18  19  20  21  22  23  24  25  26  27  28  29  30  31  32  33  35  36\n",
      "  37  38  39  40  41  42  43  44  45  46  47  48  49  50  51  52  53  54\n",
      "  55  56  57  58  59  60  61  62  63  64  65  66  67  68  69  70  71  72\n",
      "  73  74  75  76  77  78  79  80  81  82  83  84  85  86  87  88  89  90\n",
      "  91  92  93  94  95  96  97  98  99 100 101 102 103 104 105 106 107 108\n",
      " 109 110 111 112 113 114 115 116 117 118 119] [34]\n",
      "[  0   1   2   3   4   5   6   7   8   9  10  11  12  13  14  15  16  17\n",
      "  18  19  20  21  22  23  24  25  26  27  28  29  30  31  32  33  34  36\n",
      "  37  38  39  40  41  42  43  44  45  46  47  48  49  50  51  52  53  54\n",
      "  55  56  57  58  59  60  61  62  63  64  65  66  67  68  69  70  71  72\n",
      "  73  74  75  76  77  78  79  80  81  82  83  84  85  86  87  88  89  90\n",
      "  91  92  93  94  95  96  97  98  99 100 101 102 103 104 105 106 107 108\n",
      " 109 110 111 112 113 114 115 116 117 118 119] [35]\n",
      "[  0   1   2   3   4   5   6   7   8   9  10  11  12  13  14  15  16  17\n",
      "  18  19  20  21  22  23  24  25  26  27  28  29  30  31  32  33  34  35\n",
      "  37  38  39  40  41  42  43  44  45  46  47  48  49  50  51  52  53  54\n",
      "  55  56  57  58  59  60  61  62  63  64  65  66  67  68  69  70  71  72\n",
      "  73  74  75  76  77  78  79  80  81  82  83  84  85  86  87  88  89  90\n",
      "  91  92  93  94  95  96  97  98  99 100 101 102 103 104 105 106 107 108\n",
      " 109 110 111 112 113 114 115 116 117 118 119] [36]\n",
      "[  0   1   2   3   4   5   6   7   8   9  10  11  12  13  14  15  16  17\n",
      "  18  19  20  21  22  23  24  25  26  27  28  29  30  31  32  33  34  35\n",
      "  36  38  39  40  41  42  43  44  45  46  47  48  49  50  51  52  53  54\n",
      "  55  56  57  58  59  60  61  62  63  64  65  66  67  68  69  70  71  72\n",
      "  73  74  75  76  77  78  79  80  81  82  83  84  85  86  87  88  89  90\n",
      "  91  92  93  94  95  96  97  98  99 100 101 102 103 104 105 106 107 108\n",
      " 109 110 111 112 113 114 115 116 117 118 119] [37]\n",
      "[  0   1   2   3   4   5   6   7   8   9  10  11  12  13  14  15  16  17\n",
      "  18  19  20  21  22  23  24  25  26  27  28  29  30  31  32  33  34  35\n",
      "  36  37  39  40  41  42  43  44  45  46  47  48  49  50  51  52  53  54\n",
      "  55  56  57  58  59  60  61  62  63  64  65  66  67  68  69  70  71  72\n",
      "  73  74  75  76  77  78  79  80  81  82  83  84  85  86  87  88  89  90\n",
      "  91  92  93  94  95  96  97  98  99 100 101 102 103 104 105 106 107 108\n",
      " 109 110 111 112 113 114 115 116 117 118 119] [38]\n",
      "[  0   1   2   3   4   5   6   7   8   9  10  11  12  13  14  15  16  17\n",
      "  18  19  20  21  22  23  24  25  26  27  28  29  30  31  32  33  34  35\n",
      "  36  37  38  40  41  42  43  44  45  46  47  48  49  50  51  52  53  54\n",
      "  55  56  57  58  59  60  61  62  63  64  65  66  67  68  69  70  71  72\n",
      "  73  74  75  76  77  78  79  80  81  82  83  84  85  86  87  88  89  90\n",
      "  91  92  93  94  95  96  97  98  99 100 101 102 103 104 105 106 107 108\n",
      " 109 110 111 112 113 114 115 116 117 118 119] [39]\n",
      "[  0   1   2   3   4   5   6   7   8   9  10  11  12  13  14  15  16  17\n",
      "  18  19  20  21  22  23  24  25  26  27  28  29  30  31  32  33  34  35\n",
      "  36  37  38  39  41  42  43  44  45  46  47  48  49  50  51  52  53  54\n",
      "  55  56  57  58  59  60  61  62  63  64  65  66  67  68  69  70  71  72\n",
      "  73  74  75  76  77  78  79  80  81  82  83  84  85  86  87  88  89  90\n",
      "  91  92  93  94  95  96  97  98  99 100 101 102 103 104 105 106 107 108\n",
      " 109 110 111 112 113 114 115 116 117 118 119] [40]\n",
      "[  0   1   2   3   4   5   6   7   8   9  10  11  12  13  14  15  16  17\n",
      "  18  19  20  21  22  23  24  25  26  27  28  29  30  31  32  33  34  35\n",
      "  36  37  38  39  40  42  43  44  45  46  47  48  49  50  51  52  53  54\n",
      "  55  56  57  58  59  60  61  62  63  64  65  66  67  68  69  70  71  72\n",
      "  73  74  75  76  77  78  79  80  81  82  83  84  85  86  87  88  89  90\n",
      "  91  92  93  94  95  96  97  98  99 100 101 102 103 104 105 106 107 108\n",
      " 109 110 111 112 113 114 115 116 117 118 119] [41]\n",
      "[  0   1   2   3   4   5   6   7   8   9  10  11  12  13  14  15  16  17\n",
      "  18  19  20  21  22  23  24  25  26  27  28  29  30  31  32  33  34  35\n",
      "  36  37  38  39  40  41  43  44  45  46  47  48  49  50  51  52  53  54\n",
      "  55  56  57  58  59  60  61  62  63  64  65  66  67  68  69  70  71  72\n",
      "  73  74  75  76  77  78  79  80  81  82  83  84  85  86  87  88  89  90\n",
      "  91  92  93  94  95  96  97  98  99 100 101 102 103 104 105 106 107 108\n",
      " 109 110 111 112 113 114 115 116 117 118 119] [42]\n",
      "[  0   1   2   3   4   5   6   7   8   9  10  11  12  13  14  15  16  17\n",
      "  18  19  20  21  22  23  24  25  26  27  28  29  30  31  32  33  34  35\n",
      "  36  37  38  39  40  41  42  44  45  46  47  48  49  50  51  52  53  54\n",
      "  55  56  57  58  59  60  61  62  63  64  65  66  67  68  69  70  71  72\n",
      "  73  74  75  76  77  78  79  80  81  82  83  84  85  86  87  88  89  90\n",
      "  91  92  93  94  95  96  97  98  99 100 101 102 103 104 105 106 107 108\n",
      " 109 110 111 112 113 114 115 116 117 118 119] [43]\n",
      "[  0   1   2   3   4   5   6   7   8   9  10  11  12  13  14  15  16  17\n",
      "  18  19  20  21  22  23  24  25  26  27  28  29  30  31  32  33  34  35\n",
      "  36  37  38  39  40  41  42  43  45  46  47  48  49  50  51  52  53  54\n",
      "  55  56  57  58  59  60  61  62  63  64  65  66  67  68  69  70  71  72\n",
      "  73  74  75  76  77  78  79  80  81  82  83  84  85  86  87  88  89  90\n",
      "  91  92  93  94  95  96  97  98  99 100 101 102 103 104 105 106 107 108\n",
      " 109 110 111 112 113 114 115 116 117 118 119] [44]\n",
      "[  0   1   2   3   4   5   6   7   8   9  10  11  12  13  14  15  16  17\n",
      "  18  19  20  21  22  23  24  25  26  27  28  29  30  31  32  33  34  35\n",
      "  36  37  38  39  40  41  42  43  44  46  47  48  49  50  51  52  53  54\n",
      "  55  56  57  58  59  60  61  62  63  64  65  66  67  68  69  70  71  72\n",
      "  73  74  75  76  77  78  79  80  81  82  83  84  85  86  87  88  89  90\n",
      "  91  92  93  94  95  96  97  98  99 100 101 102 103 104 105 106 107 108\n",
      " 109 110 111 112 113 114 115 116 117 118 119] [45]\n",
      "[  0   1   2   3   4   5   6   7   8   9  10  11  12  13  14  15  16  17\n",
      "  18  19  20  21  22  23  24  25  26  27  28  29  30  31  32  33  34  35\n",
      "  36  37  38  39  40  41  42  43  44  45  47  48  49  50  51  52  53  54\n",
      "  55  56  57  58  59  60  61  62  63  64  65  66  67  68  69  70  71  72\n",
      "  73  74  75  76  77  78  79  80  81  82  83  84  85  86  87  88  89  90\n",
      "  91  92  93  94  95  96  97  98  99 100 101 102 103 104 105 106 107 108\n",
      " 109 110 111 112 113 114 115 116 117 118 119] [46]\n",
      "[  0   1   2   3   4   5   6   7   8   9  10  11  12  13  14  15  16  17\n",
      "  18  19  20  21  22  23  24  25  26  27  28  29  30  31  32  33  34  35\n",
      "  36  37  38  39  40  41  42  43  44  45  46  48  49  50  51  52  53  54\n",
      "  55  56  57  58  59  60  61  62  63  64  65  66  67  68  69  70  71  72\n",
      "  73  74  75  76  77  78  79  80  81  82  83  84  85  86  87  88  89  90\n",
      "  91  92  93  94  95  96  97  98  99 100 101 102 103 104 105 106 107 108\n",
      " 109 110 111 112 113 114 115 116 117 118 119] [47]\n",
      "[  0   1   2   3   4   5   6   7   8   9  10  11  12  13  14  15  16  17\n",
      "  18  19  20  21  22  23  24  25  26  27  28  29  30  31  32  33  34  35\n",
      "  36  37  38  39  40  41  42  43  44  45  46  47  49  50  51  52  53  54\n",
      "  55  56  57  58  59  60  61  62  63  64  65  66  67  68  69  70  71  72\n",
      "  73  74  75  76  77  78  79  80  81  82  83  84  85  86  87  88  89  90\n",
      "  91  92  93  94  95  96  97  98  99 100 101 102 103 104 105 106 107 108\n",
      " 109 110 111 112 113 114 115 116 117 118 119] [48]\n",
      "[  0   1   2   3   4   5   6   7   8   9  10  11  12  13  14  15  16  17\n",
      "  18  19  20  21  22  23  24  25  26  27  28  29  30  31  32  33  34  35\n",
      "  36  37  38  39  40  41  42  43  44  45  46  47  48  50  51  52  53  54\n",
      "  55  56  57  58  59  60  61  62  63  64  65  66  67  68  69  70  71  72\n",
      "  73  74  75  76  77  78  79  80  81  82  83  84  85  86  87  88  89  90\n",
      "  91  92  93  94  95  96  97  98  99 100 101 102 103 104 105 106 107 108\n",
      " 109 110 111 112 113 114 115 116 117 118 119] [49]\n",
      "[  0   1   2   3   4   5   6   7   8   9  10  11  12  13  14  15  16  17\n",
      "  18  19  20  21  22  23  24  25  26  27  28  29  30  31  32  33  34  35\n",
      "  36  37  38  39  40  41  42  43  44  45  46  47  48  49  51  52  53  54\n",
      "  55  56  57  58  59  60  61  62  63  64  65  66  67  68  69  70  71  72\n",
      "  73  74  75  76  77  78  79  80  81  82  83  84  85  86  87  88  89  90\n",
      "  91  92  93  94  95  96  97  98  99 100 101 102 103 104 105 106 107 108\n",
      " 109 110 111 112 113 114 115 116 117 118 119] [50]\n",
      "[  0   1   2   3   4   5   6   7   8   9  10  11  12  13  14  15  16  17\n",
      "  18  19  20  21  22  23  24  25  26  27  28  29  30  31  32  33  34  35\n",
      "  36  37  38  39  40  41  42  43  44  45  46  47  48  49  50  52  53  54\n",
      "  55  56  57  58  59  60  61  62  63  64  65  66  67  68  69  70  71  72\n",
      "  73  74  75  76  77  78  79  80  81  82  83  84  85  86  87  88  89  90\n",
      "  91  92  93  94  95  96  97  98  99 100 101 102 103 104 105 106 107 108\n",
      " 109 110 111 112 113 114 115 116 117 118 119] [51]\n",
      "[  0   1   2   3   4   5   6   7   8   9  10  11  12  13  14  15  16  17\n",
      "  18  19  20  21  22  23  24  25  26  27  28  29  30  31  32  33  34  35\n",
      "  36  37  38  39  40  41  42  43  44  45  46  47  48  49  50  51  53  54\n",
      "  55  56  57  58  59  60  61  62  63  64  65  66  67  68  69  70  71  72\n",
      "  73  74  75  76  77  78  79  80  81  82  83  84  85  86  87  88  89  90\n",
      "  91  92  93  94  95  96  97  98  99 100 101 102 103 104 105 106 107 108\n",
      " 109 110 111 112 113 114 115 116 117 118 119] [52]\n",
      "[  0   1   2   3   4   5   6   7   8   9  10  11  12  13  14  15  16  17\n",
      "  18  19  20  21  22  23  24  25  26  27  28  29  30  31  32  33  34  35\n",
      "  36  37  38  39  40  41  42  43  44  45  46  47  48  49  50  51  52  54\n",
      "  55  56  57  58  59  60  61  62  63  64  65  66  67  68  69  70  71  72\n",
      "  73  74  75  76  77  78  79  80  81  82  83  84  85  86  87  88  89  90\n",
      "  91  92  93  94  95  96  97  98  99 100 101 102 103 104 105 106 107 108\n",
      " 109 110 111 112 113 114 115 116 117 118 119] [53]\n",
      "[  0   1   2   3   4   5   6   7   8   9  10  11  12  13  14  15  16  17\n",
      "  18  19  20  21  22  23  24  25  26  27  28  29  30  31  32  33  34  35\n",
      "  36  37  38  39  40  41  42  43  44  45  46  47  48  49  50  51  52  53\n",
      "  55  56  57  58  59  60  61  62  63  64  65  66  67  68  69  70  71  72\n",
      "  73  74  75  76  77  78  79  80  81  82  83  84  85  86  87  88  89  90\n",
      "  91  92  93  94  95  96  97  98  99 100 101 102 103 104 105 106 107 108\n",
      " 109 110 111 112 113 114 115 116 117 118 119] [54]\n",
      "[  0   1   2   3   4   5   6   7   8   9  10  11  12  13  14  15  16  17\n",
      "  18  19  20  21  22  23  24  25  26  27  28  29  30  31  32  33  34  35\n",
      "  36  37  38  39  40  41  42  43  44  45  46  47  48  49  50  51  52  53\n",
      "  54  56  57  58  59  60  61  62  63  64  65  66  67  68  69  70  71  72\n",
      "  73  74  75  76  77  78  79  80  81  82  83  84  85  86  87  88  89  90\n",
      "  91  92  93  94  95  96  97  98  99 100 101 102 103 104 105 106 107 108\n",
      " 109 110 111 112 113 114 115 116 117 118 119] [55]\n",
      "[  0   1   2   3   4   5   6   7   8   9  10  11  12  13  14  15  16  17\n",
      "  18  19  20  21  22  23  24  25  26  27  28  29  30  31  32  33  34  35\n",
      "  36  37  38  39  40  41  42  43  44  45  46  47  48  49  50  51  52  53\n",
      "  54  55  57  58  59  60  61  62  63  64  65  66  67  68  69  70  71  72\n",
      "  73  74  75  76  77  78  79  80  81  82  83  84  85  86  87  88  89  90\n",
      "  91  92  93  94  95  96  97  98  99 100 101 102 103 104 105 106 107 108\n",
      " 109 110 111 112 113 114 115 116 117 118 119] [56]\n",
      "[  0   1   2   3   4   5   6   7   8   9  10  11  12  13  14  15  16  17\n",
      "  18  19  20  21  22  23  24  25  26  27  28  29  30  31  32  33  34  35\n",
      "  36  37  38  39  40  41  42  43  44  45  46  47  48  49  50  51  52  53\n",
      "  54  55  56  58  59  60  61  62  63  64  65  66  67  68  69  70  71  72\n",
      "  73  74  75  76  77  78  79  80  81  82  83  84  85  86  87  88  89  90\n",
      "  91  92  93  94  95  96  97  98  99 100 101 102 103 104 105 106 107 108\n",
      " 109 110 111 112 113 114 115 116 117 118 119] [57]\n",
      "[  0   1   2   3   4   5   6   7   8   9  10  11  12  13  14  15  16  17\n",
      "  18  19  20  21  22  23  24  25  26  27  28  29  30  31  32  33  34  35\n",
      "  36  37  38  39  40  41  42  43  44  45  46  47  48  49  50  51  52  53\n",
      "  54  55  56  57  59  60  61  62  63  64  65  66  67  68  69  70  71  72\n",
      "  73  74  75  76  77  78  79  80  81  82  83  84  85  86  87  88  89  90\n",
      "  91  92  93  94  95  96  97  98  99 100 101 102 103 104 105 106 107 108\n",
      " 109 110 111 112 113 114 115 116 117 118 119] [58]\n",
      "[  0   1   2   3   4   5   6   7   8   9  10  11  12  13  14  15  16  17\n",
      "  18  19  20  21  22  23  24  25  26  27  28  29  30  31  32  33  34  35\n",
      "  36  37  38  39  40  41  42  43  44  45  46  47  48  49  50  51  52  53\n",
      "  54  55  56  57  58  60  61  62  63  64  65  66  67  68  69  70  71  72\n",
      "  73  74  75  76  77  78  79  80  81  82  83  84  85  86  87  88  89  90\n",
      "  91  92  93  94  95  96  97  98  99 100 101 102 103 104 105 106 107 108\n",
      " 109 110 111 112 113 114 115 116 117 118 119] [59]\n",
      "[  0   1   2   3   4   5   6   7   8   9  10  11  12  13  14  15  16  17\n",
      "  18  19  20  21  22  23  24  25  26  27  28  29  30  31  32  33  34  35\n",
      "  36  37  38  39  40  41  42  43  44  45  46  47  48  49  50  51  52  53\n",
      "  54  55  56  57  58  59  61  62  63  64  65  66  67  68  69  70  71  72\n",
      "  73  74  75  76  77  78  79  80  81  82  83  84  85  86  87  88  89  90\n",
      "  91  92  93  94  95  96  97  98  99 100 101 102 103 104 105 106 107 108\n",
      " 109 110 111 112 113 114 115 116 117 118 119] [60]\n",
      "[  0   1   2   3   4   5   6   7   8   9  10  11  12  13  14  15  16  17\n",
      "  18  19  20  21  22  23  24  25  26  27  28  29  30  31  32  33  34  35\n",
      "  36  37  38  39  40  41  42  43  44  45  46  47  48  49  50  51  52  53\n",
      "  54  55  56  57  58  59  60  62  63  64  65  66  67  68  69  70  71  72\n",
      "  73  74  75  76  77  78  79  80  81  82  83  84  85  86  87  88  89  90\n",
      "  91  92  93  94  95  96  97  98  99 100 101 102 103 104 105 106 107 108\n",
      " 109 110 111 112 113 114 115 116 117 118 119] [61]\n",
      "[  0   1   2   3   4   5   6   7   8   9  10  11  12  13  14  15  16  17\n",
      "  18  19  20  21  22  23  24  25  26  27  28  29  30  31  32  33  34  35\n",
      "  36  37  38  39  40  41  42  43  44  45  46  47  48  49  50  51  52  53\n",
      "  54  55  56  57  58  59  60  61  63  64  65  66  67  68  69  70  71  72\n",
      "  73  74  75  76  77  78  79  80  81  82  83  84  85  86  87  88  89  90\n",
      "  91  92  93  94  95  96  97  98  99 100 101 102 103 104 105 106 107 108\n",
      " 109 110 111 112 113 114 115 116 117 118 119] [62]\n",
      "[  0   1   2   3   4   5   6   7   8   9  10  11  12  13  14  15  16  17\n",
      "  18  19  20  21  22  23  24  25  26  27  28  29  30  31  32  33  34  35\n",
      "  36  37  38  39  40  41  42  43  44  45  46  47  48  49  50  51  52  53\n",
      "  54  55  56  57  58  59  60  61  62  64  65  66  67  68  69  70  71  72\n",
      "  73  74  75  76  77  78  79  80  81  82  83  84  85  86  87  88  89  90\n",
      "  91  92  93  94  95  96  97  98  99 100 101 102 103 104 105 106 107 108\n",
      " 109 110 111 112 113 114 115 116 117 118 119] [63]\n",
      "[  0   1   2   3   4   5   6   7   8   9  10  11  12  13  14  15  16  17\n",
      "  18  19  20  21  22  23  24  25  26  27  28  29  30  31  32  33  34  35\n",
      "  36  37  38  39  40  41  42  43  44  45  46  47  48  49  50  51  52  53\n",
      "  54  55  56  57  58  59  60  61  62  63  65  66  67  68  69  70  71  72\n",
      "  73  74  75  76  77  78  79  80  81  82  83  84  85  86  87  88  89  90\n",
      "  91  92  93  94  95  96  97  98  99 100 101 102 103 104 105 106 107 108\n",
      " 109 110 111 112 113 114 115 116 117 118 119] [64]\n",
      "[  0   1   2   3   4   5   6   7   8   9  10  11  12  13  14  15  16  17\n",
      "  18  19  20  21  22  23  24  25  26  27  28  29  30  31  32  33  34  35\n",
      "  36  37  38  39  40  41  42  43  44  45  46  47  48  49  50  51  52  53\n",
      "  54  55  56  57  58  59  60  61  62  63  64  66  67  68  69  70  71  72\n",
      "  73  74  75  76  77  78  79  80  81  82  83  84  85  86  87  88  89  90\n",
      "  91  92  93  94  95  96  97  98  99 100 101 102 103 104 105 106 107 108\n",
      " 109 110 111 112 113 114 115 116 117 118 119] [65]\n",
      "[  0   1   2   3   4   5   6   7   8   9  10  11  12  13  14  15  16  17\n",
      "  18  19  20  21  22  23  24  25  26  27  28  29  30  31  32  33  34  35\n",
      "  36  37  38  39  40  41  42  43  44  45  46  47  48  49  50  51  52  53\n",
      "  54  55  56  57  58  59  60  61  62  63  64  65  67  68  69  70  71  72\n",
      "  73  74  75  76  77  78  79  80  81  82  83  84  85  86  87  88  89  90\n",
      "  91  92  93  94  95  96  97  98  99 100 101 102 103 104 105 106 107 108\n",
      " 109 110 111 112 113 114 115 116 117 118 119] [66]\n",
      "[  0   1   2   3   4   5   6   7   8   9  10  11  12  13  14  15  16  17\n",
      "  18  19  20  21  22  23  24  25  26  27  28  29  30  31  32  33  34  35\n",
      "  36  37  38  39  40  41  42  43  44  45  46  47  48  49  50  51  52  53\n",
      "  54  55  56  57  58  59  60  61  62  63  64  65  66  68  69  70  71  72\n",
      "  73  74  75  76  77  78  79  80  81  82  83  84  85  86  87  88  89  90\n",
      "  91  92  93  94  95  96  97  98  99 100 101 102 103 104 105 106 107 108\n",
      " 109 110 111 112 113 114 115 116 117 118 119] [67]\n",
      "[  0   1   2   3   4   5   6   7   8   9  10  11  12  13  14  15  16  17\n",
      "  18  19  20  21  22  23  24  25  26  27  28  29  30  31  32  33  34  35\n",
      "  36  37  38  39  40  41  42  43  44  45  46  47  48  49  50  51  52  53\n",
      "  54  55  56  57  58  59  60  61  62  63  64  65  66  67  69  70  71  72\n",
      "  73  74  75  76  77  78  79  80  81  82  83  84  85  86  87  88  89  90\n",
      "  91  92  93  94  95  96  97  98  99 100 101 102 103 104 105 106 107 108\n",
      " 109 110 111 112 113 114 115 116 117 118 119] [68]\n",
      "[  0   1   2   3   4   5   6   7   8   9  10  11  12  13  14  15  16  17\n",
      "  18  19  20  21  22  23  24  25  26  27  28  29  30  31  32  33  34  35\n",
      "  36  37  38  39  40  41  42  43  44  45  46  47  48  49  50  51  52  53\n",
      "  54  55  56  57  58  59  60  61  62  63  64  65  66  67  68  70  71  72\n",
      "  73  74  75  76  77  78  79  80  81  82  83  84  85  86  87  88  89  90\n",
      "  91  92  93  94  95  96  97  98  99 100 101 102 103 104 105 106 107 108\n",
      " 109 110 111 112 113 114 115 116 117 118 119] [69]\n",
      "[  0   1   2   3   4   5   6   7   8   9  10  11  12  13  14  15  16  17\n",
      "  18  19  20  21  22  23  24  25  26  27  28  29  30  31  32  33  34  35\n",
      "  36  37  38  39  40  41  42  43  44  45  46  47  48  49  50  51  52  53\n",
      "  54  55  56  57  58  59  60  61  62  63  64  65  66  67  68  69  71  72\n",
      "  73  74  75  76  77  78  79  80  81  82  83  84  85  86  87  88  89  90\n",
      "  91  92  93  94  95  96  97  98  99 100 101 102 103 104 105 106 107 108\n",
      " 109 110 111 112 113 114 115 116 117 118 119] [70]\n",
      "[  0   1   2   3   4   5   6   7   8   9  10  11  12  13  14  15  16  17\n",
      "  18  19  20  21  22  23  24  25  26  27  28  29  30  31  32  33  34  35\n",
      "  36  37  38  39  40  41  42  43  44  45  46  47  48  49  50  51  52  53\n",
      "  54  55  56  57  58  59  60  61  62  63  64  65  66  67  68  69  70  72\n",
      "  73  74  75  76  77  78  79  80  81  82  83  84  85  86  87  88  89  90\n",
      "  91  92  93  94  95  96  97  98  99 100 101 102 103 104 105 106 107 108\n",
      " 109 110 111 112 113 114 115 116 117 118 119] [71]\n",
      "[  0   1   2   3   4   5   6   7   8   9  10  11  12  13  14  15  16  17\n",
      "  18  19  20  21  22  23  24  25  26  27  28  29  30  31  32  33  34  35\n",
      "  36  37  38  39  40  41  42  43  44  45  46  47  48  49  50  51  52  53\n",
      "  54  55  56  57  58  59  60  61  62  63  64  65  66  67  68  69  70  71\n",
      "  73  74  75  76  77  78  79  80  81  82  83  84  85  86  87  88  89  90\n",
      "  91  92  93  94  95  96  97  98  99 100 101 102 103 104 105 106 107 108\n",
      " 109 110 111 112 113 114 115 116 117 118 119] [72]\n",
      "[  0   1   2   3   4   5   6   7   8   9  10  11  12  13  14  15  16  17\n",
      "  18  19  20  21  22  23  24  25  26  27  28  29  30  31  32  33  34  35\n",
      "  36  37  38  39  40  41  42  43  44  45  46  47  48  49  50  51  52  53\n",
      "  54  55  56  57  58  59  60  61  62  63  64  65  66  67  68  69  70  71\n",
      "  72  74  75  76  77  78  79  80  81  82  83  84  85  86  87  88  89  90\n",
      "  91  92  93  94  95  96  97  98  99 100 101 102 103 104 105 106 107 108\n",
      " 109 110 111 112 113 114 115 116 117 118 119] [73]\n",
      "[  0   1   2   3   4   5   6   7   8   9  10  11  12  13  14  15  16  17\n",
      "  18  19  20  21  22  23  24  25  26  27  28  29  30  31  32  33  34  35\n",
      "  36  37  38  39  40  41  42  43  44  45  46  47  48  49  50  51  52  53\n",
      "  54  55  56  57  58  59  60  61  62  63  64  65  66  67  68  69  70  71\n",
      "  72  73  75  76  77  78  79  80  81  82  83  84  85  86  87  88  89  90\n",
      "  91  92  93  94  95  96  97  98  99 100 101 102 103 104 105 106 107 108\n",
      " 109 110 111 112 113 114 115 116 117 118 119] [74]\n",
      "[  0   1   2   3   4   5   6   7   8   9  10  11  12  13  14  15  16  17\n",
      "  18  19  20  21  22  23  24  25  26  27  28  29  30  31  32  33  34  35\n",
      "  36  37  38  39  40  41  42  43  44  45  46  47  48  49  50  51  52  53\n",
      "  54  55  56  57  58  59  60  61  62  63  64  65  66  67  68  69  70  71\n",
      "  72  73  74  76  77  78  79  80  81  82  83  84  85  86  87  88  89  90\n",
      "  91  92  93  94  95  96  97  98  99 100 101 102 103 104 105 106 107 108\n",
      " 109 110 111 112 113 114 115 116 117 118 119] [75]\n",
      "[  0   1   2   3   4   5   6   7   8   9  10  11  12  13  14  15  16  17\n",
      "  18  19  20  21  22  23  24  25  26  27  28  29  30  31  32  33  34  35\n",
      "  36  37  38  39  40  41  42  43  44  45  46  47  48  49  50  51  52  53\n",
      "  54  55  56  57  58  59  60  61  62  63  64  65  66  67  68  69  70  71\n",
      "  72  73  74  75  77  78  79  80  81  82  83  84  85  86  87  88  89  90\n",
      "  91  92  93  94  95  96  97  98  99 100 101 102 103 104 105 106 107 108\n",
      " 109 110 111 112 113 114 115 116 117 118 119] [76]\n",
      "[  0   1   2   3   4   5   6   7   8   9  10  11  12  13  14  15  16  17\n",
      "  18  19  20  21  22  23  24  25  26  27  28  29  30  31  32  33  34  35\n",
      "  36  37  38  39  40  41  42  43  44  45  46  47  48  49  50  51  52  53\n",
      "  54  55  56  57  58  59  60  61  62  63  64  65  66  67  68  69  70  71\n",
      "  72  73  74  75  76  78  79  80  81  82  83  84  85  86  87  88  89  90\n",
      "  91  92  93  94  95  96  97  98  99 100 101 102 103 104 105 106 107 108\n",
      " 109 110 111 112 113 114 115 116 117 118 119] [77]\n",
      "[  0   1   2   3   4   5   6   7   8   9  10  11  12  13  14  15  16  17\n",
      "  18  19  20  21  22  23  24  25  26  27  28  29  30  31  32  33  34  35\n",
      "  36  37  38  39  40  41  42  43  44  45  46  47  48  49  50  51  52  53\n",
      "  54  55  56  57  58  59  60  61  62  63  64  65  66  67  68  69  70  71\n",
      "  72  73  74  75  76  77  79  80  81  82  83  84  85  86  87  88  89  90\n",
      "  91  92  93  94  95  96  97  98  99 100 101 102 103 104 105 106 107 108\n",
      " 109 110 111 112 113 114 115 116 117 118 119] [78]\n",
      "[  0   1   2   3   4   5   6   7   8   9  10  11  12  13  14  15  16  17\n",
      "  18  19  20  21  22  23  24  25  26  27  28  29  30  31  32  33  34  35\n",
      "  36  37  38  39  40  41  42  43  44  45  46  47  48  49  50  51  52  53\n",
      "  54  55  56  57  58  59  60  61  62  63  64  65  66  67  68  69  70  71\n",
      "  72  73  74  75  76  77  78  80  81  82  83  84  85  86  87  88  89  90\n",
      "  91  92  93  94  95  96  97  98  99 100 101 102 103 104 105 106 107 108\n",
      " 109 110 111 112 113 114 115 116 117 118 119] [79]\n",
      "[  0   1   2   3   4   5   6   7   8   9  10  11  12  13  14  15  16  17\n",
      "  18  19  20  21  22  23  24  25  26  27  28  29  30  31  32  33  34  35\n",
      "  36  37  38  39  40  41  42  43  44  45  46  47  48  49  50  51  52  53\n",
      "  54  55  56  57  58  59  60  61  62  63  64  65  66  67  68  69  70  71\n",
      "  72  73  74  75  76  77  78  79  81  82  83  84  85  86  87  88  89  90\n",
      "  91  92  93  94  95  96  97  98  99 100 101 102 103 104 105 106 107 108\n",
      " 109 110 111 112 113 114 115 116 117 118 119] [80]\n",
      "[  0   1   2   3   4   5   6   7   8   9  10  11  12  13  14  15  16  17\n",
      "  18  19  20  21  22  23  24  25  26  27  28  29  30  31  32  33  34  35\n",
      "  36  37  38  39  40  41  42  43  44  45  46  47  48  49  50  51  52  53\n",
      "  54  55  56  57  58  59  60  61  62  63  64  65  66  67  68  69  70  71\n",
      "  72  73  74  75  76  77  78  79  80  82  83  84  85  86  87  88  89  90\n",
      "  91  92  93  94  95  96  97  98  99 100 101 102 103 104 105 106 107 108\n",
      " 109 110 111 112 113 114 115 116 117 118 119] [81]\n",
      "[  0   1   2   3   4   5   6   7   8   9  10  11  12  13  14  15  16  17\n",
      "  18  19  20  21  22  23  24  25  26  27  28  29  30  31  32  33  34  35\n",
      "  36  37  38  39  40  41  42  43  44  45  46  47  48  49  50  51  52  53\n",
      "  54  55  56  57  58  59  60  61  62  63  64  65  66  67  68  69  70  71\n",
      "  72  73  74  75  76  77  78  79  80  81  83  84  85  86  87  88  89  90\n",
      "  91  92  93  94  95  96  97  98  99 100 101 102 103 104 105 106 107 108\n",
      " 109 110 111 112 113 114 115 116 117 118 119] [82]\n",
      "[  0   1   2   3   4   5   6   7   8   9  10  11  12  13  14  15  16  17\n",
      "  18  19  20  21  22  23  24  25  26  27  28  29  30  31  32  33  34  35\n",
      "  36  37  38  39  40  41  42  43  44  45  46  47  48  49  50  51  52  53\n",
      "  54  55  56  57  58  59  60  61  62  63  64  65  66  67  68  69  70  71\n",
      "  72  73  74  75  76  77  78  79  80  81  82  84  85  86  87  88  89  90\n",
      "  91  92  93  94  95  96  97  98  99 100 101 102 103 104 105 106 107 108\n",
      " 109 110 111 112 113 114 115 116 117 118 119] [83]\n",
      "[  0   1   2   3   4   5   6   7   8   9  10  11  12  13  14  15  16  17\n",
      "  18  19  20  21  22  23  24  25  26  27  28  29  30  31  32  33  34  35\n",
      "  36  37  38  39  40  41  42  43  44  45  46  47  48  49  50  51  52  53\n",
      "  54  55  56  57  58  59  60  61  62  63  64  65  66  67  68  69  70  71\n",
      "  72  73  74  75  76  77  78  79  80  81  82  83  85  86  87  88  89  90\n",
      "  91  92  93  94  95  96  97  98  99 100 101 102 103 104 105 106 107 108\n",
      " 109 110 111 112 113 114 115 116 117 118 119] [84]\n",
      "[  0   1   2   3   4   5   6   7   8   9  10  11  12  13  14  15  16  17\n",
      "  18  19  20  21  22  23  24  25  26  27  28  29  30  31  32  33  34  35\n",
      "  36  37  38  39  40  41  42  43  44  45  46  47  48  49  50  51  52  53\n",
      "  54  55  56  57  58  59  60  61  62  63  64  65  66  67  68  69  70  71\n",
      "  72  73  74  75  76  77  78  79  80  81  82  83  84  86  87  88  89  90\n",
      "  91  92  93  94  95  96  97  98  99 100 101 102 103 104 105 106 107 108\n",
      " 109 110 111 112 113 114 115 116 117 118 119] [85]\n",
      "[  0   1   2   3   4   5   6   7   8   9  10  11  12  13  14  15  16  17\n",
      "  18  19  20  21  22  23  24  25  26  27  28  29  30  31  32  33  34  35\n",
      "  36  37  38  39  40  41  42  43  44  45  46  47  48  49  50  51  52  53\n",
      "  54  55  56  57  58  59  60  61  62  63  64  65  66  67  68  69  70  71\n",
      "  72  73  74  75  76  77  78  79  80  81  82  83  84  85  87  88  89  90\n",
      "  91  92  93  94  95  96  97  98  99 100 101 102 103 104 105 106 107 108\n",
      " 109 110 111 112 113 114 115 116 117 118 119] [86]\n",
      "[  0   1   2   3   4   5   6   7   8   9  10  11  12  13  14  15  16  17\n",
      "  18  19  20  21  22  23  24  25  26  27  28  29  30  31  32  33  34  35\n",
      "  36  37  38  39  40  41  42  43  44  45  46  47  48  49  50  51  52  53\n",
      "  54  55  56  57  58  59  60  61  62  63  64  65  66  67  68  69  70  71\n",
      "  72  73  74  75  76  77  78  79  80  81  82  83  84  85  86  88  89  90\n",
      "  91  92  93  94  95  96  97  98  99 100 101 102 103 104 105 106 107 108\n",
      " 109 110 111 112 113 114 115 116 117 118 119] [87]\n",
      "[  0   1   2   3   4   5   6   7   8   9  10  11  12  13  14  15  16  17\n",
      "  18  19  20  21  22  23  24  25  26  27  28  29  30  31  32  33  34  35\n",
      "  36  37  38  39  40  41  42  43  44  45  46  47  48  49  50  51  52  53\n",
      "  54  55  56  57  58  59  60  61  62  63  64  65  66  67  68  69  70  71\n",
      "  72  73  74  75  76  77  78  79  80  81  82  83  84  85  86  87  89  90\n",
      "  91  92  93  94  95  96  97  98  99 100 101 102 103 104 105 106 107 108\n",
      " 109 110 111 112 113 114 115 116 117 118 119] [88]\n",
      "[  0   1   2   3   4   5   6   7   8   9  10  11  12  13  14  15  16  17\n",
      "  18  19  20  21  22  23  24  25  26  27  28  29  30  31  32  33  34  35\n",
      "  36  37  38  39  40  41  42  43  44  45  46  47  48  49  50  51  52  53\n",
      "  54  55  56  57  58  59  60  61  62  63  64  65  66  67  68  69  70  71\n",
      "  72  73  74  75  76  77  78  79  80  81  82  83  84  85  86  87  88  90\n",
      "  91  92  93  94  95  96  97  98  99 100 101 102 103 104 105 106 107 108\n",
      " 109 110 111 112 113 114 115 116 117 118 119] [89]\n",
      "[  0   1   2   3   4   5   6   7   8   9  10  11  12  13  14  15  16  17\n",
      "  18  19  20  21  22  23  24  25  26  27  28  29  30  31  32  33  34  35\n",
      "  36  37  38  39  40  41  42  43  44  45  46  47  48  49  50  51  52  53\n",
      "  54  55  56  57  58  59  60  61  62  63  64  65  66  67  68  69  70  71\n",
      "  72  73  74  75  76  77  78  79  80  81  82  83  84  85  86  87  88  89\n",
      "  91  92  93  94  95  96  97  98  99 100 101 102 103 104 105 106 107 108\n",
      " 109 110 111 112 113 114 115 116 117 118 119] [90]\n",
      "[  0   1   2   3   4   5   6   7   8   9  10  11  12  13  14  15  16  17\n",
      "  18  19  20  21  22  23  24  25  26  27  28  29  30  31  32  33  34  35\n",
      "  36  37  38  39  40  41  42  43  44  45  46  47  48  49  50  51  52  53\n",
      "  54  55  56  57  58  59  60  61  62  63  64  65  66  67  68  69  70  71\n",
      "  72  73  74  75  76  77  78  79  80  81  82  83  84  85  86  87  88  89\n",
      "  90  92  93  94  95  96  97  98  99 100 101 102 103 104 105 106 107 108\n",
      " 109 110 111 112 113 114 115 116 117 118 119] [91]\n",
      "[  0   1   2   3   4   5   6   7   8   9  10  11  12  13  14  15  16  17\n",
      "  18  19  20  21  22  23  24  25  26  27  28  29  30  31  32  33  34  35\n",
      "  36  37  38  39  40  41  42  43  44  45  46  47  48  49  50  51  52  53\n",
      "  54  55  56  57  58  59  60  61  62  63  64  65  66  67  68  69  70  71\n",
      "  72  73  74  75  76  77  78  79  80  81  82  83  84  85  86  87  88  89\n",
      "  90  91  93  94  95  96  97  98  99 100 101 102 103 104 105 106 107 108\n",
      " 109 110 111 112 113 114 115 116 117 118 119] [92]\n",
      "[  0   1   2   3   4   5   6   7   8   9  10  11  12  13  14  15  16  17\n",
      "  18  19  20  21  22  23  24  25  26  27  28  29  30  31  32  33  34  35\n",
      "  36  37  38  39  40  41  42  43  44  45  46  47  48  49  50  51  52  53\n",
      "  54  55  56  57  58  59  60  61  62  63  64  65  66  67  68  69  70  71\n",
      "  72  73  74  75  76  77  78  79  80  81  82  83  84  85  86  87  88  89\n",
      "  90  91  92  94  95  96  97  98  99 100 101 102 103 104 105 106 107 108\n",
      " 109 110 111 112 113 114 115 116 117 118 119] [93]\n",
      "[  0   1   2   3   4   5   6   7   8   9  10  11  12  13  14  15  16  17\n",
      "  18  19  20  21  22  23  24  25  26  27  28  29  30  31  32  33  34  35\n",
      "  36  37  38  39  40  41  42  43  44  45  46  47  48  49  50  51  52  53\n",
      "  54  55  56  57  58  59  60  61  62  63  64  65  66  67  68  69  70  71\n",
      "  72  73  74  75  76  77  78  79  80  81  82  83  84  85  86  87  88  89\n",
      "  90  91  92  93  95  96  97  98  99 100 101 102 103 104 105 106 107 108\n",
      " 109 110 111 112 113 114 115 116 117 118 119] [94]\n",
      "[  0   1   2   3   4   5   6   7   8   9  10  11  12  13  14  15  16  17\n",
      "  18  19  20  21  22  23  24  25  26  27  28  29  30  31  32  33  34  35\n",
      "  36  37  38  39  40  41  42  43  44  45  46  47  48  49  50  51  52  53\n",
      "  54  55  56  57  58  59  60  61  62  63  64  65  66  67  68  69  70  71\n",
      "  72  73  74  75  76  77  78  79  80  81  82  83  84  85  86  87  88  89\n",
      "  90  91  92  93  94  96  97  98  99 100 101 102 103 104 105 106 107 108\n",
      " 109 110 111 112 113 114 115 116 117 118 119] [95]\n",
      "[  0   1   2   3   4   5   6   7   8   9  10  11  12  13  14  15  16  17\n",
      "  18  19  20  21  22  23  24  25  26  27  28  29  30  31  32  33  34  35\n",
      "  36  37  38  39  40  41  42  43  44  45  46  47  48  49  50  51  52  53\n",
      "  54  55  56  57  58  59  60  61  62  63  64  65  66  67  68  69  70  71\n",
      "  72  73  74  75  76  77  78  79  80  81  82  83  84  85  86  87  88  89\n",
      "  90  91  92  93  94  95  97  98  99 100 101 102 103 104 105 106 107 108\n",
      " 109 110 111 112 113 114 115 116 117 118 119] [96]\n",
      "[  0   1   2   3   4   5   6   7   8   9  10  11  12  13  14  15  16  17\n",
      "  18  19  20  21  22  23  24  25  26  27  28  29  30  31  32  33  34  35\n",
      "  36  37  38  39  40  41  42  43  44  45  46  47  48  49  50  51  52  53\n",
      "  54  55  56  57  58  59  60  61  62  63  64  65  66  67  68  69  70  71\n",
      "  72  73  74  75  76  77  78  79  80  81  82  83  84  85  86  87  88  89\n",
      "  90  91  92  93  94  95  96  98  99 100 101 102 103 104 105 106 107 108\n",
      " 109 110 111 112 113 114 115 116 117 118 119] [97]\n",
      "[  0   1   2   3   4   5   6   7   8   9  10  11  12  13  14  15  16  17\n",
      "  18  19  20  21  22  23  24  25  26  27  28  29  30  31  32  33  34  35\n",
      "  36  37  38  39  40  41  42  43  44  45  46  47  48  49  50  51  52  53\n",
      "  54  55  56  57  58  59  60  61  62  63  64  65  66  67  68  69  70  71\n",
      "  72  73  74  75  76  77  78  79  80  81  82  83  84  85  86  87  88  89\n",
      "  90  91  92  93  94  95  96  97  99 100 101 102 103 104 105 106 107 108\n",
      " 109 110 111 112 113 114 115 116 117 118 119] [98]\n",
      "[  0   1   2   3   4   5   6   7   8   9  10  11  12  13  14  15  16  17\n",
      "  18  19  20  21  22  23  24  25  26  27  28  29  30  31  32  33  34  35\n",
      "  36  37  38  39  40  41  42  43  44  45  46  47  48  49  50  51  52  53\n",
      "  54  55  56  57  58  59  60  61  62  63  64  65  66  67  68  69  70  71\n",
      "  72  73  74  75  76  77  78  79  80  81  82  83  84  85  86  87  88  89\n",
      "  90  91  92  93  94  95  96  97  98 100 101 102 103 104 105 106 107 108\n",
      " 109 110 111 112 113 114 115 116 117 118 119] [99]\n",
      "[  0   1   2   3   4   5   6   7   8   9  10  11  12  13  14  15  16  17\n",
      "  18  19  20  21  22  23  24  25  26  27  28  29  30  31  32  33  34  35\n",
      "  36  37  38  39  40  41  42  43  44  45  46  47  48  49  50  51  52  53\n",
      "  54  55  56  57  58  59  60  61  62  63  64  65  66  67  68  69  70  71\n",
      "  72  73  74  75  76  77  78  79  80  81  82  83  84  85  86  87  88  89\n",
      "  90  91  92  93  94  95  96  97  98  99 101 102 103 104 105 106 107 108\n",
      " 109 110 111 112 113 114 115 116 117 118 119] [100]\n",
      "[  0   1   2   3   4   5   6   7   8   9  10  11  12  13  14  15  16  17\n",
      "  18  19  20  21  22  23  24  25  26  27  28  29  30  31  32  33  34  35\n",
      "  36  37  38  39  40  41  42  43  44  45  46  47  48  49  50  51  52  53\n",
      "  54  55  56  57  58  59  60  61  62  63  64  65  66  67  68  69  70  71\n",
      "  72  73  74  75  76  77  78  79  80  81  82  83  84  85  86  87  88  89\n",
      "  90  91  92  93  94  95  96  97  98  99 100 102 103 104 105 106 107 108\n",
      " 109 110 111 112 113 114 115 116 117 118 119] [101]\n",
      "[  0   1   2   3   4   5   6   7   8   9  10  11  12  13  14  15  16  17\n",
      "  18  19  20  21  22  23  24  25  26  27  28  29  30  31  32  33  34  35\n",
      "  36  37  38  39  40  41  42  43  44  45  46  47  48  49  50  51  52  53\n",
      "  54  55  56  57  58  59  60  61  62  63  64  65  66  67  68  69  70  71\n",
      "  72  73  74  75  76  77  78  79  80  81  82  83  84  85  86  87  88  89\n",
      "  90  91  92  93  94  95  96  97  98  99 100 101 103 104 105 106 107 108\n",
      " 109 110 111 112 113 114 115 116 117 118 119] [102]\n",
      "[  0   1   2   3   4   5   6   7   8   9  10  11  12  13  14  15  16  17\n",
      "  18  19  20  21  22  23  24  25  26  27  28  29  30  31  32  33  34  35\n",
      "  36  37  38  39  40  41  42  43  44  45  46  47  48  49  50  51  52  53\n",
      "  54  55  56  57  58  59  60  61  62  63  64  65  66  67  68  69  70  71\n",
      "  72  73  74  75  76  77  78  79  80  81  82  83  84  85  86  87  88  89\n",
      "  90  91  92  93  94  95  96  97  98  99 100 101 102 104 105 106 107 108\n",
      " 109 110 111 112 113 114 115 116 117 118 119] [103]\n",
      "[  0   1   2   3   4   5   6   7   8   9  10  11  12  13  14  15  16  17\n",
      "  18  19  20  21  22  23  24  25  26  27  28  29  30  31  32  33  34  35\n",
      "  36  37  38  39  40  41  42  43  44  45  46  47  48  49  50  51  52  53\n",
      "  54  55  56  57  58  59  60  61  62  63  64  65  66  67  68  69  70  71\n",
      "  72  73  74  75  76  77  78  79  80  81  82  83  84  85  86  87  88  89\n",
      "  90  91  92  93  94  95  96  97  98  99 100 101 102 103 105 106 107 108\n",
      " 109 110 111 112 113 114 115 116 117 118 119] [104]\n",
      "[  0   1   2   3   4   5   6   7   8   9  10  11  12  13  14  15  16  17\n",
      "  18  19  20  21  22  23  24  25  26  27  28  29  30  31  32  33  34  35\n",
      "  36  37  38  39  40  41  42  43  44  45  46  47  48  49  50  51  52  53\n",
      "  54  55  56  57  58  59  60  61  62  63  64  65  66  67  68  69  70  71\n",
      "  72  73  74  75  76  77  78  79  80  81  82  83  84  85  86  87  88  89\n",
      "  90  91  92  93  94  95  96  97  98  99 100 101 102 103 104 106 107 108\n",
      " 109 110 111 112 113 114 115 116 117 118 119] [105]\n",
      "[  0   1   2   3   4   5   6   7   8   9  10  11  12  13  14  15  16  17\n",
      "  18  19  20  21  22  23  24  25  26  27  28  29  30  31  32  33  34  35\n",
      "  36  37  38  39  40  41  42  43  44  45  46  47  48  49  50  51  52  53\n",
      "  54  55  56  57  58  59  60  61  62  63  64  65  66  67  68  69  70  71\n",
      "  72  73  74  75  76  77  78  79  80  81  82  83  84  85  86  87  88  89\n",
      "  90  91  92  93  94  95  96  97  98  99 100 101 102 103 104 105 107 108\n",
      " 109 110 111 112 113 114 115 116 117 118 119] [106]\n",
      "[  0   1   2   3   4   5   6   7   8   9  10  11  12  13  14  15  16  17\n",
      "  18  19  20  21  22  23  24  25  26  27  28  29  30  31  32  33  34  35\n",
      "  36  37  38  39  40  41  42  43  44  45  46  47  48  49  50  51  52  53\n",
      "  54  55  56  57  58  59  60  61  62  63  64  65  66  67  68  69  70  71\n",
      "  72  73  74  75  76  77  78  79  80  81  82  83  84  85  86  87  88  89\n",
      "  90  91  92  93  94  95  96  97  98  99 100 101 102 103 104 105 106 108\n",
      " 109 110 111 112 113 114 115 116 117 118 119] [107]\n",
      "[  0   1   2   3   4   5   6   7   8   9  10  11  12  13  14  15  16  17\n",
      "  18  19  20  21  22  23  24  25  26  27  28  29  30  31  32  33  34  35\n",
      "  36  37  38  39  40  41  42  43  44  45  46  47  48  49  50  51  52  53\n",
      "  54  55  56  57  58  59  60  61  62  63  64  65  66  67  68  69  70  71\n",
      "  72  73  74  75  76  77  78  79  80  81  82  83  84  85  86  87  88  89\n",
      "  90  91  92  93  94  95  96  97  98  99 100 101 102 103 104 105 106 107\n",
      " 109 110 111 112 113 114 115 116 117 118 119] [108]\n",
      "[  0   1   2   3   4   5   6   7   8   9  10  11  12  13  14  15  16  17\n",
      "  18  19  20  21  22  23  24  25  26  27  28  29  30  31  32  33  34  35\n",
      "  36  37  38  39  40  41  42  43  44  45  46  47  48  49  50  51  52  53\n",
      "  54  55  56  57  58  59  60  61  62  63  64  65  66  67  68  69  70  71\n",
      "  72  73  74  75  76  77  78  79  80  81  82  83  84  85  86  87  88  89\n",
      "  90  91  92  93  94  95  96  97  98  99 100 101 102 103 104 105 106 107\n",
      " 108 110 111 112 113 114 115 116 117 118 119] [109]\n",
      "[  0   1   2   3   4   5   6   7   8   9  10  11  12  13  14  15  16  17\n",
      "  18  19  20  21  22  23  24  25  26  27  28  29  30  31  32  33  34  35\n",
      "  36  37  38  39  40  41  42  43  44  45  46  47  48  49  50  51  52  53\n",
      "  54  55  56  57  58  59  60  61  62  63  64  65  66  67  68  69  70  71\n",
      "  72  73  74  75  76  77  78  79  80  81  82  83  84  85  86  87  88  89\n",
      "  90  91  92  93  94  95  96  97  98  99 100 101 102 103 104 105 106 107\n",
      " 108 109 111 112 113 114 115 116 117 118 119] [110]\n",
      "[  0   1   2   3   4   5   6   7   8   9  10  11  12  13  14  15  16  17\n",
      "  18  19  20  21  22  23  24  25  26  27  28  29  30  31  32  33  34  35\n",
      "  36  37  38  39  40  41  42  43  44  45  46  47  48  49  50  51  52  53\n",
      "  54  55  56  57  58  59  60  61  62  63  64  65  66  67  68  69  70  71\n",
      "  72  73  74  75  76  77  78  79  80  81  82  83  84  85  86  87  88  89\n",
      "  90  91  92  93  94  95  96  97  98  99 100 101 102 103 104 105 106 107\n",
      " 108 109 110 112 113 114 115 116 117 118 119] [111]\n",
      "[  0   1   2   3   4   5   6   7   8   9  10  11  12  13  14  15  16  17\n",
      "  18  19  20  21  22  23  24  25  26  27  28  29  30  31  32  33  34  35\n",
      "  36  37  38  39  40  41  42  43  44  45  46  47  48  49  50  51  52  53\n",
      "  54  55  56  57  58  59  60  61  62  63  64  65  66  67  68  69  70  71\n",
      "  72  73  74  75  76  77  78  79  80  81  82  83  84  85  86  87  88  89\n",
      "  90  91  92  93  94  95  96  97  98  99 100 101 102 103 104 105 106 107\n",
      " 108 109 110 111 113 114 115 116 117 118 119] [112]\n",
      "[  0   1   2   3   4   5   6   7   8   9  10  11  12  13  14  15  16  17\n",
      "  18  19  20  21  22  23  24  25  26  27  28  29  30  31  32  33  34  35\n",
      "  36  37  38  39  40  41  42  43  44  45  46  47  48  49  50  51  52  53\n",
      "  54  55  56  57  58  59  60  61  62  63  64  65  66  67  68  69  70  71\n",
      "  72  73  74  75  76  77  78  79  80  81  82  83  84  85  86  87  88  89\n",
      "  90  91  92  93  94  95  96  97  98  99 100 101 102 103 104 105 106 107\n",
      " 108 109 110 111 112 114 115 116 117 118 119] [113]\n",
      "[  0   1   2   3   4   5   6   7   8   9  10  11  12  13  14  15  16  17\n",
      "  18  19  20  21  22  23  24  25  26  27  28  29  30  31  32  33  34  35\n",
      "  36  37  38  39  40  41  42  43  44  45  46  47  48  49  50  51  52  53\n",
      "  54  55  56  57  58  59  60  61  62  63  64  65  66  67  68  69  70  71\n",
      "  72  73  74  75  76  77  78  79  80  81  82  83  84  85  86  87  88  89\n",
      "  90  91  92  93  94  95  96  97  98  99 100 101 102 103 104 105 106 107\n",
      " 108 109 110 111 112 113 115 116 117 118 119] [114]\n",
      "[  0   1   2   3   4   5   6   7   8   9  10  11  12  13  14  15  16  17\n",
      "  18  19  20  21  22  23  24  25  26  27  28  29  30  31  32  33  34  35\n",
      "  36  37  38  39  40  41  42  43  44  45  46  47  48  49  50  51  52  53\n",
      "  54  55  56  57  58  59  60  61  62  63  64  65  66  67  68  69  70  71\n",
      "  72  73  74  75  76  77  78  79  80  81  82  83  84  85  86  87  88  89\n",
      "  90  91  92  93  94  95  96  97  98  99 100 101 102 103 104 105 106 107\n",
      " 108 109 110 111 112 113 114 116 117 118 119] [115]\n",
      "[  0   1   2   3   4   5   6   7   8   9  10  11  12  13  14  15  16  17\n",
      "  18  19  20  21  22  23  24  25  26  27  28  29  30  31  32  33  34  35\n",
      "  36  37  38  39  40  41  42  43  44  45  46  47  48  49  50  51  52  53\n",
      "  54  55  56  57  58  59  60  61  62  63  64  65  66  67  68  69  70  71\n",
      "  72  73  74  75  76  77  78  79  80  81  82  83  84  85  86  87  88  89\n",
      "  90  91  92  93  94  95  96  97  98  99 100 101 102 103 104 105 106 107\n",
      " 108 109 110 111 112 113 114 115 117 118 119] [116]\n",
      "[  0   1   2   3   4   5   6   7   8   9  10  11  12  13  14  15  16  17\n",
      "  18  19  20  21  22  23  24  25  26  27  28  29  30  31  32  33  34  35\n",
      "  36  37  38  39  40  41  42  43  44  45  46  47  48  49  50  51  52  53\n",
      "  54  55  56  57  58  59  60  61  62  63  64  65  66  67  68  69  70  71\n",
      "  72  73  74  75  76  77  78  79  80  81  82  83  84  85  86  87  88  89\n",
      "  90  91  92  93  94  95  96  97  98  99 100 101 102 103 104 105 106 107\n",
      " 108 109 110 111 112 113 114 115 116 118 119] [117]\n",
      "[  0   1   2   3   4   5   6   7   8   9  10  11  12  13  14  15  16  17\n",
      "  18  19  20  21  22  23  24  25  26  27  28  29  30  31  32  33  34  35\n",
      "  36  37  38  39  40  41  42  43  44  45  46  47  48  49  50  51  52  53\n",
      "  54  55  56  57  58  59  60  61  62  63  64  65  66  67  68  69  70  71\n",
      "  72  73  74  75  76  77  78  79  80  81  82  83  84  85  86  87  88  89\n",
      "  90  91  92  93  94  95  96  97  98  99 100 101 102 103 104 105 106 107\n",
      " 108 109 110 111 112 113 114 115 116 117 119] [118]\n",
      "[  0   1   2   3   4   5   6   7   8   9  10  11  12  13  14  15  16  17\n",
      "  18  19  20  21  22  23  24  25  26  27  28  29  30  31  32  33  34  35\n",
      "  36  37  38  39  40  41  42  43  44  45  46  47  48  49  50  51  52  53\n",
      "  54  55  56  57  58  59  60  61  62  63  64  65  66  67  68  69  70  71\n",
      "  72  73  74  75  76  77  78  79  80  81  82  83  84  85  86  87  88  89\n",
      "  90  91  92  93  94  95  96  97  98  99 100 101 102 103 104 105 106 107\n",
      " 108 109 110 111 112 113 114 115 116 117 118] [119]\n"
     ]
    }
   ],
   "source": [
    "for train, test in loo.split(X_train_scaled):\n",
    "     print(\"%s %s\" % (train, test))"
   ]
  },
  {
   "cell_type": "code",
   "execution_count": 45,
   "metadata": {},
   "outputs": [],
   "source": [
    "cv=loo"
   ]
  },
  {
   "cell_type": "code",
   "execution_count": 46,
   "metadata": {},
   "outputs": [
    {
     "name": "stderr",
     "output_type": "stream",
     "text": [
      "[Parallel(n_jobs=-1)]: Done   5 tasks      | elapsed:    7.8s\n",
      "[Parallel(n_jobs=-1)]: Done  10 tasks      | elapsed:    7.8s\n",
      "[Parallel(n_jobs=-1)]: Done  17 tasks      | elapsed:    7.8s\n",
      "[Parallel(n_jobs=-1)]: Done  24 tasks      | elapsed:    7.8s\n",
      "[Parallel(n_jobs=-1)]: Batch computation too fast (0.1944s.) Setting batch_size=2.\n",
      "[Parallel(n_jobs=-1)]: Done  33 tasks      | elapsed:    7.8s\n",
      "[Parallel(n_jobs=-1)]: Batch computation too fast (0.0240s.) Setting batch_size=32.\n",
      "[Parallel(n_jobs=-1)]: Done 120 out of 120 | elapsed:    8.3s finished\n"
     ]
    }
   ],
   "source": [
    "y_scores = cross_val_predict(final_model, X_train_scaled, y_train, cv=cv, verbose=10, method='predict_proba', n_jobs=-1)"
   ]
  },
  {
   "cell_type": "code",
   "execution_count": 47,
   "metadata": {},
   "outputs": [
    {
     "name": "stderr",
     "output_type": "stream",
     "text": [
      "[Parallel(n_jobs=1)]: Done   1 out of   1 | elapsed:    0.0s remaining:    0.0s\n",
      "[Parallel(n_jobs=1)]: Done   2 out of   2 | elapsed:    0.0s remaining:    0.0s\n",
      "[Parallel(n_jobs=1)]: Done   3 out of   3 | elapsed:    0.0s remaining:    0.0s\n",
      "[Parallel(n_jobs=1)]: Done   4 out of   4 | elapsed:    0.0s remaining:    0.0s\n",
      "[Parallel(n_jobs=1)]: Done   5 out of   5 | elapsed:    0.0s remaining:    0.0s\n",
      "[Parallel(n_jobs=1)]: Done   6 out of   6 | elapsed:    0.0s remaining:    0.0s\n",
      "[Parallel(n_jobs=1)]: Done   7 out of   7 | elapsed:    0.0s remaining:    0.0s\n",
      "[Parallel(n_jobs=1)]: Done   8 out of   8 | elapsed:    0.0s remaining:    0.0s\n",
      "[Parallel(n_jobs=1)]: Done   9 out of   9 | elapsed:    0.0s remaining:    0.0s\n",
      "[Parallel(n_jobs=1)]: Done 120 out of 120 | elapsed:    1.1s finished\n"
     ]
    }
   ],
   "source": [
    "y_train_pred = cross_val_predict(final_model, X_train_scaled, y_train, cv=cv, verbose=10)\n",
    "# hack to work around issue #9589 in Scikit-Learn 0.19.0\n",
    "if y_scores.ndim == 2:\n",
    "    y_scores = y_scores[:, 1]\n",
    "# print(y_scores)\n",
    "# print(np.mean(y_scores))"
   ]
  },
  {
   "cell_type": "code",
   "execution_count": 48,
   "metadata": {},
   "outputs": [
    {
     "data": {
      "image/png": "[encoded data removed]",
      "text/plain": [
       "<Figure size 432x288 with 1 Axes>"
      ]
     },
     "metadata": {},
     "output_type": "display_data"
    }
   ],
   "source": [
    "plotRoc(y_train, y_scores)"
   ]
  },
  {
   "cell_type": "code",
   "execution_count": 49,
   "metadata": {},
   "outputs": [
    {
     "data": {
      "text/plain": [
       "0.9433333333333334"
      ]
     },
     "execution_count": 49,
     "metadata": {},
     "output_type": "execute_result"
    }
   ],
   "source": [
    "auc_train = roc_auc_score(y_train, y_scores)\n",
    "auc_train"
   ]
  },
  {
   "cell_type": "code",
   "execution_count": 50,
   "metadata": {},
   "outputs": [
    {
     "name": "stdout",
     "output_type": "stream",
     "text": [
      "Confusion matrix, without normalization\n"
     ]
    },
    {
     "data": {
      "image/png": "[encoded data removed]",
      "text/plain": [
       "<Figure size 432x288 with 2 Axes>"
      ]
     },
     "metadata": {},
     "output_type": "display_data"
    }
   ],
   "source": [
    "printcfm(y_train, y_train_pred, title='confusion matrix')"
   ]
  },
  {
   "cell_type": "code",
   "execution_count": 51,
   "metadata": {},
   "outputs": [
    {
     "name": "stdout",
     "output_type": "stream",
     "text": [
      "             precision    recall  f1-score   support\n",
      "\n",
      "          0       0.96      0.82      0.88        60\n",
      "          1       0.84      0.97      0.90        60\n",
      "\n",
      "avg / total       0.90      0.89      0.89       120\n",
      "\n"
     ]
    }
   ],
   "source": [
    "print(classification_report(y_train, y_train_pred))"
   ]
  },
  {
   "cell_type": "markdown",
   "metadata": {},
   "source": [
    "# Evaluating the model with Repeated K fold"
   ]
  },
  {
   "cell_type": "code",
   "execution_count": 52,
   "metadata": {
    "code_folding": [
     0
    ]
   },
   "outputs": [],
   "source": [
    "def perform_repeated_cv(X, y , model):\n",
    "    #set random seed for repeatability\n",
    "    random.seed(1)\n",
    "\n",
    "    #set the number of repetitions\n",
    "    n_reps = 45\n",
    "\n",
    "    # perform repeated cross validation\n",
    "    accuracy_scores = np.zeros(n_reps)\n",
    "    precision_scores=  np.zeros(n_reps)\n",
    "    recall_scores =  np.zeros(n_reps)\n",
    "    auc_scores =  np.zeros(n_reps)\n",
    "    #result_pred = pd.DataFrame(index=np.arange(30))\n",
    "    result_pred = y\n",
    "    \n",
    "    ##############################\n",
    "    tprs = []\n",
    "    aucs = []\n",
    "    mean_fpr = np.linspace(0, 1, 100)\n",
    "    fig = plt.figure(figsize=(20, 10))\n",
    "    ###############################\n",
    "\n",
    "    for u in range(n_reps):\n",
    "\n",
    "        #randomly shuffle the dataset\n",
    "        indices = np.arange(X.shape[0])\n",
    "        np.random.shuffle(indices)\n",
    "#         X = X[indices]\n",
    "#         y = y[indices] #dataset has been randomly shuffled\n",
    "        X = X.iloc[indices]\n",
    "        y = y.iloc[indices] #dataset has been randomly shuffled\n",
    "\n",
    "        #initialize vector to keep predictions from all folds of the cross-validation\n",
    "        y_predicted = np.zeros(y.shape)\n",
    "        probas = np.zeros(y.shape)\n",
    "\n",
    "        #perform 10-fold cross validation\n",
    "        kf = KFold(n_splits=4 , random_state=142)\n",
    "        for train, test in kf.split(X):\n",
    "\n",
    "            #split the dataset into training and testing\n",
    "#             X_train = X[train]\n",
    "#             X_test = X[test]\n",
    "#             y_train = y[train]\n",
    "#             y_test = y[test]\n",
    "            X_train = X.iloc[train]\n",
    "            X_test = X.iloc[test]\n",
    "            y_train = y.iloc[train]\n",
    "            y_test = y.iloc[test]\n",
    "\n",
    "#             #standardization\n",
    "#             scaler = preprocessing.StandardScaler().fit(X_train)\n",
    "#             X_train = scaler.transform(X_train)\n",
    "#             X_test = scaler.transform(X_test)\n",
    "\n",
    "            #train model\n",
    "            clf = model\n",
    "            clf.fit(X_train, y_train)\n",
    "\n",
    "            #make predictions on the testing set\n",
    "            y_predicted[test] = clf.predict(X_test)\n",
    "#            print(y_predicted[test],y_test,type(y_predicted))\n",
    "            #y_train_pred_array = np.append(y_train_pred_array,y_train_pred)\n",
    "#            print(result_pred)\n",
    "\n",
    "\n",
    "\n",
    "            \n",
    "            ###############################plot\n",
    "#             probas_ = clf.predict_proba(X_test)\n",
    "            probas[test] = clf.predict_proba(X_test)[:, 1]\n",
    "#             print(probas[test], type(probas), probas.size)\n",
    "         \n",
    "#        print(y,y_predicted)\n",
    "        #result_pred = y\n",
    "        df_pred = pd.DataFrame(y_predicted, index=y.index,columns=[u])\n",
    "        result_pred = pd.concat([result_pred, df_pred], axis=1) \n",
    "        \n",
    "\n",
    "                \n",
    "    \n",
    "        # Compute ROC curve and area the curve\n",
    "        fpr, tpr, thresholds = roc_curve(y, probas)\n",
    "        tprs.append(interp(mean_fpr, fpr, tpr))\n",
    "        tprs[-1][0] = 0.0\n",
    "        #roc_auc = auc(fpr, tpr) - Change to obtain AUC by predict proba\n",
    "        roc_auc = roc_auc_score(y, y_predicted)\n",
    "        aucs.append(roc_auc)\n",
    "        plt.plot(fpr, tpr, lw=1, alpha=0.3,\n",
    "        label='ROC fold %d (AUC = %0.2f)' % (u, roc_auc))\n",
    "\n",
    "            \n",
    "            ################################\n",
    "\n",
    "        #record scores\n",
    "        accuracy_scores[u] = accuracy_score(y, y_predicted)\n",
    "        precision_scores[u] = precision_score(y, y_predicted)\n",
    "        recall_scores[u]  = recall_score(y, y_predicted)\n",
    "        auc_scores[u] = roc_auc_score(y, y_predicted)\n",
    "\n",
    "    ###############################plot\n",
    "#    print(result_pred)\n",
    "    \n",
    "    plt.plot([0, 1], [0, 1], linestyle='--', lw=2, color='r',\n",
    "    label='Chance', alpha=.8)\n",
    "\n",
    "    mean_tpr = np.mean(tprs, axis=0)\n",
    "    mean_tpr[-1] = 1.0\n",
    "#     mean_auc = auc(mean_fpr, mean_tpr)\n",
    "    mean_auc = np.mean(aucs)\n",
    "    std_auc = np.std(aucs)\n",
    "    plt.plot(mean_fpr, mean_tpr, color='b',\n",
    "             label=r'Mean ROC (AUC = %0.2f $\\pm$ %0.2f)' % (mean_auc, std_auc),\n",
    "             lw=2, alpha=.8)\n",
    "\n",
    "\n",
    "    std_tpr = np.std(tprs, axis=0)\n",
    "    tprs_upper = np.minimum(mean_tpr + std_tpr, 1)\n",
    "    tprs_lower = np.maximum(mean_tpr - std_tpr, 0)\n",
    "    plt.fill_between(mean_fpr, tprs_lower, tprs_upper, color='grey', alpha=.2,\n",
    "                     label=r'$\\pm$ 1 std. dev.')\n",
    "\n",
    "    plt.xlim([-0.05, 1.05])\n",
    "    plt.ylim([-0.05, 1.05])\n",
    "    plt.xlabel('False Positive Rate')\n",
    "    plt.ylabel('True Positive Rate')\n",
    "    plt.title('Receiver operating characteristic example')\n",
    "    #plt.legend(loc=\"lower right\")\n",
    "    plt.legend(loc='upper center', bbox_to_anchor=(0.5, -0.05),\n",
    "               fancybox=True, shadow=True, ncol=5)\n",
    "    plt.show()\n",
    "    ################################\n",
    "    \n",
    "    #return all scores\n",
    "    return accuracy_scores, precision_scores, recall_scores, auc_scores, result_pred"
   ]
  },
  {
   "cell_type": "code",
   "execution_count": 53,
   "metadata": {},
   "outputs": [
    {
     "data": {
      "image/png": "[encoded data removed]",
      "text/plain": [
       "<Figure size 1440x720 with 1 Axes>"
      ]
     },
     "metadata": {},
     "output_type": "display_data"
    }
   ],
   "source": [
    "accuracy_scores, precision_scores, recall_scores, auc_scores, result_pred = perform_repeated_cv(X_train_scaled, y_train, final_model)"
   ]
  },
  {
   "cell_type": "code",
   "execution_count": 54,
   "metadata": {},
   "outputs": [
    {
     "name": "stdout",
     "output_type": "stream",
     "text": [
      "[0.87 0.88 0.78 0.82 0.88 0.89 0.84 0.9  0.88 0.87 0.84 0.88 0.85 0.9\n",
      " 0.83 0.91 0.88 0.87 0.85 0.88 0.84 0.88 0.84 0.9  0.86 0.89 0.88 0.88\n",
      " 0.88 0.86 0.85 0.86 0.86 0.88 0.88 0.88 0.86 0.9  0.86 0.88 0.87 0.86\n",
      " 0.83 0.85 0.86] 45\n"
     ]
    }
   ],
   "source": [
    "print(accuracy_scores, accuracy_scores.size)"
   ]
  },
  {
   "cell_type": "code",
   "execution_count": 55,
   "metadata": {},
   "outputs": [
    {
     "name": "stdout",
     "output_type": "stream",
     "text": [
      "[0.82 0.81 0.77 0.77 0.83 0.84 0.81 0.85 0.83 0.83 0.82 0.82 0.8  0.84\n",
      " 0.79 0.86 0.81 0.82 0.8  0.85 0.83 0.82 0.83 0.84 0.83 0.83 0.83 0.83\n",
      " 0.83 0.81 0.8  0.82 0.83 0.83 0.83 0.82 0.79 0.85 0.83 0.84 0.82 0.81\n",
      " 0.83 0.84 0.81] [0.93 0.98 0.8  0.9  0.97 0.97 0.9  0.97 0.95 0.92 0.88 0.97 0.93 0.98\n",
      " 0.9  0.98 0.98 0.93 0.93 0.93 0.87 0.97 0.87 0.98 0.9  0.98 0.97 0.97\n",
      " 0.97 0.93 0.93 0.92 0.9  0.97 0.95 0.97 0.97 0.97 0.9  0.93 0.93 0.93\n",
      " 0.83 0.87 0.93]\n"
     ]
    }
   ],
   "source": [
    "print(precision_scores, recall_scores)"
   ]
  },
  {
   "cell_type": "code",
   "execution_count": 56,
   "metadata": {},
   "outputs": [
    {
     "name": "stdout",
     "output_type": "stream",
     "text": [
      "[0.87 0.87 0.78 0.82 0.88 0.89 0.84 0.9  0.88 0.87 0.84 0.88 0.85 0.9\n",
      " 0.83 0.91 0.87 0.87 0.85 0.88 0.84 0.88 0.84 0.9  0.86 0.89 0.88 0.88\n",
      " 0.88 0.86 0.85 0.86 0.86 0.88 0.88 0.88 0.86 0.9  0.86 0.88 0.87 0.86\n",
      " 0.83 0.85 0.86] 45\n"
     ]
    }
   ],
   "source": [
    "print(auc_scores, auc_scores.size)"
   ]
  },
  {
   "cell_type": "code",
   "execution_count": 57,
   "metadata": {},
   "outputs": [
    {
     "name": "stderr",
     "output_type": "stream",
     "text": [
      "No handles with labels found to put in legend.\n"
     ]
    },
    {
     "data": {
      "image/png": "[encoded data removed]",
      "text/plain": [
       "<Figure size 1440x720 with 1 Axes>"
      ]
     },
     "metadata": {},
     "output_type": "display_data"
    }
   ],
   "source": [
    "fig = plt.figure(figsize=(20, 10))\n",
    "plt.plot(auc_scores, '--o')\n",
    "plt.legend(loc='lower right')\n",
    "plt.ylabel('AUC', fontsize=20);\n",
    "plt.xlabel('Repetições', fontsize=20);\n",
    "plt.tick_params(axis='both', which='major', labelsize=20);\n",
    "plt.tick_params(axis='both', which='minor', labelsize=18);\n",
    "#plt.xlim([0, 18])\n",
    "#plt.ylim([0.5, 1])\n",
    "plt.legend(('Acurácia', 'AUC'), loc='lower right', prop={'size': 20})\n",
    "plt.show()"
   ]
  },
  {
   "cell_type": "code",
   "execution_count": 58,
   "metadata": {},
   "outputs": [
    {
     "name": "stdout",
     "output_type": "stream",
     "text": [
      "Accuracy: 0.87 (+/- 0.02)\n"
     ]
    }
   ],
   "source": [
    "print(\"Accuracy: %0.2f (+/- %0.2f)\" % (np.mean(auc_scores), np.std(auc_scores)))"
   ]
  },
  {
   "cell_type": "code",
   "execution_count": 59,
   "metadata": {},
   "outputs": [],
   "source": [
    "result_pred.to_csv('result_kfold_SVM.csv', encoding='utf-8')"
   ]
  },
  {
   "cell_type": "markdown",
   "metadata": {},
   "source": [
    "# Predicting the Classes in Test Set"
   ]
  },
  {
   "cell_type": "code",
   "execution_count": 60,
   "metadata": {},
   "outputs": [],
   "source": [
    "final_model.fit(X_train_scaled, y_train)\n",
    "y_pred = final_model.predict(X_test_scaled)\n",
    "y_pred_prob = final_model.predict_proba(X_test_scaled)[:,1]"
   ]
  },
  {
   "cell_type": "code",
   "execution_count": 61,
   "metadata": {},
   "outputs": [
    {
     "data": {
      "image/png": "[encoded data removed]",
      "text/plain": [
       "<Figure size 432x288 with 1 Axes>"
      ]
     },
     "metadata": {},
     "output_type": "display_data"
    }
   ],
   "source": [
    "plotRoc(y_test, y_pred_prob)"
   ]
  },
  {
   "cell_type": "code",
   "execution_count": 62,
   "metadata": {},
   "outputs": [
    {
     "name": "stdout",
     "output_type": "stream",
     "text": [
      "Confusion matrix, without normalization\n"
     ]
    },
    {
     "data": {
      "image/png": "[encoded data removed]",
      "text/plain": [
       "<Figure size 432x288 with 2 Axes>"
      ]
     },
     "metadata": {},
     "output_type": "display_data"
    }
   ],
   "source": [
    "printcfm(y_test,y_pred,title='confusion matrix')"
   ]
  },
  {
   "cell_type": "markdown",
   "metadata": {},
   "source": [
    "<font color='red'>\n",
    "Notes:<br>\n",
    "The probability model is created using cross validation, so the results can be slightly different than those obtained by predict. Also, it will produce meaningless results on very small datasets.</font>"
   ]
  },
  {
   "cell_type": "code",
   "execution_count": 63,
   "metadata": {},
   "outputs": [
    {
     "name": "stdout",
     "output_type": "stream",
     "text": [
      "             precision    recall  f1-score   support\n",
      "\n",
      "          0       0.88      0.84      0.86        25\n",
      "          1       0.67      0.73      0.70        11\n",
      "\n",
      "avg / total       0.81      0.81      0.81        36\n",
      "\n"
     ]
    }
   ],
   "source": [
    "print(classification_report(y_test, y_pred))"
   ]
  },
  {
   "cell_type": "markdown",
   "metadata": {},
   "source": [
    "# Draft"
   ]
  },
  {
   "cell_type": "code",
   "execution_count": 64,
   "metadata": {},
   "outputs": [],
   "source": [
    "X=np.concatenate((X_train_scaled,X_test_scaled),axis=0)\n",
    "# print(X)\n",
    "y=np.append(y_train,y_test)\n",
    "# print(y)"
   ]
  },
  {
   "cell_type": "code",
   "execution_count": 65,
   "metadata": {
    "code_folding": []
   },
   "outputs": [
    {
     "name": "stdout",
     "output_type": "stream",
     "text": [
      "Automatically created module for IPython interactive environment\n"
     ]
    },
    {
     "data": {
      "image/png": "[encoded data removed]",
      "text/plain": [
       "<Figure size 432x288 with 1 Axes>"
      ]
     },
     "metadata": {},
     "output_type": "display_data"
    }
   ],
   "source": [
    "print(__doc__)\n",
    "\n",
    "param_range = np.logspace(-6, 2, 5)\n",
    "\n",
    "train_scores, test_scores = validation_curve(\n",
    "    final_model, X, y, param_name=\"gamma\", param_range=param_range,\n",
    "    cv=10, scoring=\"roc_auc\", n_jobs=-1)\n",
    "\n",
    "train_scores_mean = np.mean(train_scores, axis=1)\n",
    "train_scores_std = np.std(train_scores, axis=1)\n",
    "test_scores_mean = np.mean(test_scores, axis=1)\n",
    "test_scores_std = np.std(test_scores, axis=1)\n",
    "\n",
    "plt.title(\"Validation Curve with SVC\")\n",
    "plt.xlabel(\"$\\gamma$\")\n",
    "plt.ylabel(\"AUC\")\n",
    "#plt.ylim(0.0, 1.1)\n",
    "#plt.xlim(-1, 22)\n",
    "lw = 2\n",
    "plt.semilogx(param_range, train_scores_mean, label=\"Training score\",\n",
    "             color=\"darkorange\", lw=lw)\n",
    "plt.fill_between(param_range, train_scores_mean - train_scores_std,\n",
    "                 train_scores_mean + train_scores_std, alpha=0.2,\n",
    "                 color=\"darkorange\", lw=lw)\n",
    "plt.semilogx(param_range, test_scores_mean, label=\"Cross-validation score\",\n",
    "             color=\"navy\", lw=lw)\n",
    "plt.fill_between(param_range, test_scores_mean - test_scores_std,\n",
    "                 test_scores_mean + test_scores_std, alpha=0.2,\n",
    "                 color=\"navy\", lw=lw)\n",
    "plt.legend(loc=\"best\")\n",
    "plt.show()"
   ]
  },
  {
   "cell_type": "code",
   "execution_count": 66,
   "metadata": {},
   "outputs": [],
   "source": [
    "# param_range = np.logspace(-6, 20, 20)\n",
    "\n",
    "# viz = ValidationCurve(\n",
    "#     final_model, param_name=\"gamma\", param_range=param_range,\n",
    "#     logx=True, cv=10, scoring=\"precision\", n_jobs=-1,\n",
    "# )\n",
    "\n",
    "# viz.fit(X, y)\n",
    "# viz.poof()"
   ]
  },
  {
   "cell_type": "markdown",
   "metadata": {},
   "source": [
    "# Add learning curves"
   ]
  }
 ],
 "metadata": {
  "kernelspec": {
   "display_name": "Python 3",
   "language": "python",
   "name": "python3"
  },
  "language_info": {
   "codemirror_mode": {
    "name": "ipython",
    "version": 3
   },
   "file_extension": ".py",
   "mimetype": "text/x-python",
   "name": "python",
   "nbconvert_exporter": "python",
   "pygments_lexer": "ipython3",
   "version": "3.6.5"
  }
 },
 "nbformat": 4,
 "nbformat_minor": 2
}
