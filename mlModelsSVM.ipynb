{
 "cells": [
  {
   "cell_type": "code",
   "execution_count": 68,
   "metadata": {},
   "outputs": [
    {
     "data": {
      "application/javascript": [
       "IPython.notebook.set_autosave_interval(0)"
      ]
     },
     "metadata": {},
     "output_type": "display_data"
    },
    {
     "name": "stdout",
     "output_type": "stream",
     "text": [
      "Autosave disabled\n"
     ]
    }
   ],
   "source": [
    "#from customplot import *\n",
    "\n",
    "#import sqlite3\n",
    "%autosave 0\n",
    "import itertools\n",
    "import pandas as pd\n",
    "import numpy as np\n",
    "import matplotlib.pyplot as plt\n",
    "from scipy.stats import reciprocal, uniform\n",
    "from sklearn.cluster import KMeans\n",
    "from sklearn.ensemble import RandomForestClassifier\n",
    "from sklearn.linear_model import LogisticRegression\n",
    "from sklearn.linear_model import SGDClassifier\n",
    "from sklearn.metrics import accuracy_score\n",
    "from sklearn.metrics import classification_report\n",
    "from sklearn.metrics import confusion_matrix\n",
    "from sklearn.metrics import log_loss\n",
    "from sklearn.metrics import precision_score\n",
    "from sklearn.metrics import precision_recall_curve\n",
    "from sklearn.metrics import recall_score\n",
    "from sklearn.metrics import roc_auc_score\n",
    "from sklearn.metrics import roc_curve\n",
    "from sklearn.model_selection import train_test_split\n",
    "from sklearn.model_selection import cross_val_score\n",
    "from sklearn.model_selection import cross_val_predict\n",
    "from sklearn.model_selection import GridSearchCV\n",
    "from sklearn.model_selection import RandomizedSearchCV\n",
    "from sklearn.model_selection import validation_curve\n",
    "from sklearn.neighbors import KNeighborsClassifier\n",
    "from sklearn.neural_network import MLPClassifier\n",
    "from sklearn.pipeline import Pipeline\n",
    "from sklearn.preprocessing import StandardScaler\n",
    "from sklearn.preprocessing import MinMaxScaler\n",
    "from sklearn.preprocessing import PolynomialFeatures\n",
    "from sklearn.svm import SVC, LinearSVC\n",
    "from sklearn.tree import DecisionTreeClassifier"
   ]
  },
  {
   "cell_type": "code",
   "execution_count": 2,
   "metadata": {},
   "outputs": [],
   "source": [
    "def plot_confusion_matrix(cm, classes,\n",
    "                          normalize=False,\n",
    "                          title='Confusion matrix',\n",
    "                          cmap=plt.cm.Blues):\n",
    "    \"\"\"\n",
    "    This function prints and plots the confusion matrix.\n",
    "    Normalization can be applied by setting `normalize=True`.\n",
    "    \"\"\"\n",
    "    if normalize:\n",
    "        cm = cm.astype('float') / cm.sum(axis=1)[:, np.newaxis]\n",
    "        print(\"Normalized confusion matrix\")\n",
    "    else:\n",
    "        print('Confusion matrix, without normalization')\n",
    "\n",
    "    #print(cm)\n",
    "\n",
    "    plt.imshow(cm, interpolation='nearest', cmap=cmap)\n",
    "    plt.title(title)\n",
    "    plt.colorbar()\n",
    "    tick_marks = np.arange(len(classes))\n",
    "    plt.xticks(tick_marks, classes, rotation=45)\n",
    "    plt.yticks(tick_marks, classes)\n",
    "\n",
    "    fmt = '.2f' if normalize else 'd'\n",
    "    thresh = cm.max() / 2.\n",
    "    for i, j in itertools.product(range(cm.shape[0]), range(cm.shape[1])):\n",
    "        plt.text(j, i, format(cm[i, j], fmt),\n",
    "                 horizontalalignment=\"center\",\n",
    "                 color=\"white\" if cm[i, j] > thresh else \"black\")\n",
    "\n",
    "    plt.tight_layout()\n",
    "    plt.ylabel('True label')\n",
    "    plt.xlabel('Predicted label')"
   ]
  },
  {
   "cell_type": "code",
   "execution_count": 3,
   "metadata": {},
   "outputs": [],
   "source": [
    "def printcfm(y_test,y_pred,title='confusion matrix'):\n",
    "    cnf_matrix = confusion_matrix(y_test, y_pred)\n",
    "    np.set_printoptions(precision=2)\n",
    "    # Plot non-normalized confusion matrix\n",
    "    plt.figure()\n",
    "    plot_confusion_matrix(cnf_matrix, classes=['Sem Perda','Perda'],\n",
    "                      title=title)"
   ]
  },
  {
   "cell_type": "code",
   "execution_count": 4,
   "metadata": {},
   "outputs": [],
   "source": [
    "#Setando configurações de visualização\n",
    "pd.options.display.max_rows=350\n",
    "pd.options.display.max_columns=60"
   ]
  },
  {
   "cell_type": "code",
   "execution_count": 5,
   "metadata": {},
   "outputs": [],
   "source": [
    "# df=pd.read_csv('baseProjeto_entradaModelo.csv', index_col=0)\n",
    "# df"
   ]
  },
  {
   "cell_type": "code",
   "execution_count": 6,
   "metadata": {},
   "outputs": [],
   "source": [
    "# df.columns"
   ]
  },
  {
   "cell_type": "code",
   "execution_count": 7,
   "metadata": {},
   "outputs": [],
   "source": [
    "# X=df[['ATRIB_MED1', 'ATRIB_MAX1',\n",
    "#        'ATRIB_DIST1', 'DIFP', 'MGP1', 'MGP2', 'MGP3', 'MGP4', 'MGP5', 'MGP6',\n",
    "#        'MGP7', 'MGP8', 'MGP9', 'MGP10', 'MGP11', 'MGP12', 'MGP13', 'MGP14']]"
   ]
  },
  {
   "cell_type": "code",
   "execution_count": 8,
   "metadata": {},
   "outputs": [],
   "source": [
    "#X"
   ]
  },
  {
   "cell_type": "code",
   "execution_count": 9,
   "metadata": {},
   "outputs": [],
   "source": [
    "# X.info()"
   ]
  },
  {
   "cell_type": "code",
   "execution_count": 10,
   "metadata": {},
   "outputs": [
    {
     "data": {
      "text/plain": [
       "\"\\n#cat=['MGP1_sim', 'MGP2_sim', 'MGP3_sim', 'MGP4_sim',\\n       'MGP5_sim', 'MGP6_sim', 'MGP7_sim', 'MGP8_sim', 'MGP9_sim', 'MGP10_sim',\\n       'MGP11_sim', 'MGP12_sim', 'MGP13_sim', 'MGP14_sim',]\\n#X[cat] = X[cat].astype('category')\\n\""
      ]
     },
     "execution_count": 10,
     "metadata": {},
     "output_type": "execute_result"
    }
   ],
   "source": [
    "'''\n",
    "#cat=['MGP1_sim', 'MGP2_sim', 'MGP3_sim', 'MGP4_sim',\n",
    "       'MGP5_sim', 'MGP6_sim', 'MGP7_sim', 'MGP8_sim', 'MGP9_sim', 'MGP10_sim',\n",
    "       'MGP11_sim', 'MGP12_sim', 'MGP13_sim', 'MGP14_sim',]\n",
    "#X[cat] = X[cat].astype('category')\n",
    "'''"
   ]
  },
  {
   "cell_type": "code",
   "execution_count": 11,
   "metadata": {},
   "outputs": [],
   "source": [
    "# X.info()"
   ]
  },
  {
   "cell_type": "code",
   "execution_count": 12,
   "metadata": {},
   "outputs": [],
   "source": [
    "# y = df['Perda30']"
   ]
  },
  {
   "cell_type": "code",
   "execution_count": 13,
   "metadata": {},
   "outputs": [],
   "source": [
    "# #X_train, X_test, y_train, y_test = train_test_split(X, y, test_size=.20, random_state=21)\n",
    "# X_train, X_test, y_train, y_test = train_test_split(X, y, test_size=.20, random_state=42, stratify=y)"
   ]
  },
  {
   "cell_type": "code",
   "execution_count": 14,
   "metadata": {},
   "outputs": [],
   "source": [
    "train=pd.read_csv('baseProjetoTrainOver.csv', index_col=0)\n",
    "test=pd.read_csv('baseProjetoTest.csv', index_col=0)"
   ]
  },
  {
   "cell_type": "code",
   "execution_count": 15,
   "metadata": {},
   "outputs": [],
   "source": [
    "X_train = train[['ATRIB_MAX1',\n",
    "        'ATRIB_DIST1', 'DIFP', 'MGP1', 'MGP2', 'MGP3', 'MGP4', 'MGP5', 'MGP6',\n",
    "        'MGP7', 'MGP8', 'MGP9', 'MGP10', 'MGP11', 'MGP12', 'MGP13', 'MGP14']]"
   ]
  },
  {
   "cell_type": "code",
   "execution_count": 16,
   "metadata": {},
   "outputs": [],
   "source": [
    "X_test = test[['ATRIB_MAX1',\n",
    "        'ATRIB_DIST1', 'DIFP', 'MGP1', 'MGP2', 'MGP3', 'MGP4', 'MGP5', 'MGP6',\n",
    "        'MGP7', 'MGP8', 'MGP9', 'MGP10', 'MGP11', 'MGP12', 'MGP13', 'MGP14']]"
   ]
  },
  {
   "cell_type": "code",
   "execution_count": 17,
   "metadata": {},
   "outputs": [],
   "source": [
    "y_test = test['Perda30']"
   ]
  },
  {
   "cell_type": "code",
   "execution_count": 18,
   "metadata": {},
   "outputs": [],
   "source": [
    "y_train = train['Perda30']"
   ]
  },
  {
   "cell_type": "code",
   "execution_count": 19,
   "metadata": {},
   "outputs": [
    {
     "data": {
      "image/png": "[encoded data removed]",
      "text/plain": [
       "<Figure size 432x288 with 1 Axes>"
      ]
     },
     "metadata": {},
     "output_type": "display_data"
    }
   ],
   "source": [
    "y_test.value_counts().plot(kind='bar', title='Count (Perda30)');"
   ]
  },
  {
   "cell_type": "code",
   "execution_count": 20,
   "metadata": {},
   "outputs": [
    {
     "data": {
      "image/png": "[encoded data removed]",
      "text/plain": [
       "<Figure size 432x288 with 1 Axes>"
      ]
     },
     "metadata": {},
     "output_type": "display_data"
    }
   ],
   "source": [
    "y_train.value_counts().plot(kind='bar', title='Count (Perda30)');"
   ]
  },
  {
   "cell_type": "code",
   "execution_count": 21,
   "metadata": {},
   "outputs": [],
   "source": [
    "scaler = StandardScaler()\n",
    "X_train_scaled = scaler.fit_transform(X_train)\n",
    "X_test_scaled = scaler.fit_transform(X_test)"
   ]
  },
  {
   "cell_type": "markdown",
   "metadata": {},
   "source": [
    "<br>\n",
    "## SGDClassifier"
   ]
  },
  {
   "cell_type": "code",
   "execution_count": 22,
   "metadata": {},
   "outputs": [],
   "source": [
    "C = 5\n",
    "alpha = 1 / (C * len(X_train))"
   ]
  },
  {
   "cell_type": "code",
   "execution_count": 23,
   "metadata": {},
   "outputs": [],
   "source": [
    "steps = [('scaler', StandardScaler()),(('sgd_clf',  SGDClassifier(loss=\"hinge\", learning_rate=\"constant\", eta0=0.001, alpha=alpha, max_iter=100000, random_state=42)))]\n",
    "pipeline = Pipeline(steps)\n",
    "scaler = StandardScaler()"
   ]
  },
  {
   "cell_type": "code",
   "execution_count": 24,
   "metadata": {},
   "outputs": [],
   "source": [
    "random_scaled = pipeline.fit(X_train, y_train)"
   ]
  },
  {
   "cell_type": "code",
   "execution_count": 25,
   "metadata": {},
   "outputs": [
    {
     "data": {
      "text/plain": [
       "0.6704545454545454"
      ]
     },
     "execution_count": 25,
     "metadata": {},
     "output_type": "execute_result"
    }
   ],
   "source": [
    "y_pred = pipeline.predict(X_test) \n",
    "accuracy_score(y_test, y_pred)"
   ]
  },
  {
   "cell_type": "code",
   "execution_count": 26,
   "metadata": {},
   "outputs": [],
   "source": [
    "#y_pred_prob = pipeline.predict_proba(X_test)[:,1]"
   ]
  },
  {
   "cell_type": "code",
   "execution_count": 27,
   "metadata": {},
   "outputs": [],
   "source": [
    "# # Generate ROC curve values: fpr, tpr, thresholds\n",
    "# fpr, tpr, thresholds = roc_curve(y_test, y_pred_prob)\n",
    "\n",
    "# # Plot ROC curve\n",
    "# plt.plot([0, 1], [0, 1], 'k--')\n",
    "# plt.plot(fpr, tpr)\n",
    "# plt.xlabel('False Positive Rate')\n",
    "# plt.ylabel('True Positive Rate')\n",
    "# plt.title('ROC Curve')\n",
    "# plt.show()"
   ]
  },
  {
   "cell_type": "code",
   "execution_count": 28,
   "metadata": {},
   "outputs": [],
   "source": [
    "# roc_auc_score(y_test, y_pred_prob)"
   ]
  },
  {
   "cell_type": "code",
   "execution_count": 31,
   "metadata": {},
   "outputs": [
    {
     "name": "stdout",
     "output_type": "stream",
     "text": [
      "Confusion matrix, without normalization\n"
     ]
    },
    {
     "data": {
      "image/png": "[encoded data removed]",
      "text/plain": [
       "<Figure size 432x288 with 2 Axes>"
      ]
     },
     "metadata": {},
     "output_type": "display_data"
    }
   ],
   "source": [
    "printcfm(y_test,y_pred,title='confusion matrix')"
   ]
  },
  {
   "cell_type": "markdown",
   "metadata": {},
   "source": [
    "Positive Predictive Value (PPV)\n",
    "$$Precision=\\frac{TP}{TP+FP}$$\n",
    "<br>\n",
    "Sensitivity, Hit Rate, True Positive Rate\n",
    "$$Recall=\\frac{TP}{TP+FN}$$\n",
    "<br>\n",
    "Harmonic mean between Precision and Recall\n",
    "$$F1 Score=2 * \\frac{Precision * Recall}{Precision + Recall}$$"
   ]
  },
  {
   "cell_type": "code",
   "execution_count": 32,
   "metadata": {},
   "outputs": [
    {
     "name": "stdout",
     "output_type": "stream",
     "text": [
      "             precision    recall  f1-score   support\n",
      "\n",
      "          0       0.91      0.63      0.75        68\n",
      "          1       0.39      0.80      0.52        20\n",
      "\n",
      "avg / total       0.80      0.67      0.70        88\n",
      "\n"
     ]
    }
   ],
   "source": [
    "print(classification_report(y_test, y_pred))"
   ]
  },
  {
   "cell_type": "markdown",
   "metadata": {},
   "source": [
    "<br>\n",
    "## SVC"
   ]
  },
  {
   "cell_type": "code",
   "execution_count": 33,
   "metadata": {},
   "outputs": [],
   "source": [
    "svm_clf = SVC(decision_function_shape=\"ovr\")"
   ]
  },
  {
   "cell_type": "code",
   "execution_count": 34,
   "metadata": {},
   "outputs": [],
   "source": [
    "#steps = [('scaler', StandardScaler()),(('svm_clf', SVC(decision_function_shape=\"ovr\")))]\n",
    "#pipeline = Pipeline(steps)\n",
    "X_train_scaled = scaler.fit_transform(X_train)\n",
    "X_test_scaled = scaler.fit_transform(X_test)"
   ]
  },
  {
   "cell_type": "markdown",
   "metadata": {},
   "source": [
    "## Fine-tunning the model."
   ]
  },
  {
   "cell_type": "code",
   "execution_count": 35,
   "metadata": {},
   "outputs": [
    {
     "name": "stdout",
     "output_type": "stream",
     "text": [
      "Fitting 3 folds for each of 100 candidates, totalling 300 fits\n",
      "[CV] C=6.923673292594463, gamma=0.006370245270341658 .................\n",
      "[CV] .. C=6.923673292594463, gamma=0.006370245270341658, total=   0.0s\n",
      "[CV] C=6.923673292594463, gamma=0.006370245270341658 .................\n",
      "[CV] .. C=6.923673292594463, gamma=0.006370245270341658, total=   0.0s\n",
      "[CV] C=6.923673292594463, gamma=0.006370245270341658 .................\n",
      "[CV] .. C=6.923673292594463, gamma=0.006370245270341658, total=   0.0s\n",
      "[CV] C=3.973015996509334, gamma=0.00415595033889989 ..................\n",
      "[CV] ... C=3.973015996509334, gamma=0.00415595033889989, total=   0.0s\n",
      "[CV] C=3.973015996509334, gamma=0.00415595033889989 ..................\n",
      "[CV] ... C=3.973015996509334, gamma=0.00415595033889989, total=   0.0s\n",
      "[CV] C=3.973015996509334, gamma=0.00415595033889989 ..................\n",
      "[CV] ... C=3.973015996509334, gamma=0.00415595033889989, total=   0.0s\n",
      "[CV] C=4.478879368874212, gamma=0.06621006399155266 ..................\n",
      "[CV] ... C=4.478879368874212, gamma=0.06621006399155266, total=   0.0s\n",
      "[CV] C=4.478879368874212, gamma=0.06621006399155266 ..................\n",
      "[CV] ... C=4.478879368874212, gamma=0.06621006399155266, total=   0.0s\n",
      "[CV] C=4.478879368874212, gamma=0.06621006399155266 ..................\n",
      "[CV] ... C=4.478879368874212, gamma=0.06621006399155266, total=   0.0s\n",
      "[CV] C=7.150813884541617, gamma=0.0017329778009793362 ................\n",
      "[CV] . C=7.150813884541617, gamma=0.0017329778009793362, total=   0.0s\n",
      "[CV] C=7.150813884541617, gamma=0.0017329778009793362 ................\n",
      "[CV] . C=7.150813884541617, gamma=0.0017329778009793362, total=   0.0s\n",
      "[CV] C=7.150813884541617, gamma=0.0017329778009793362 ................\n",
      "[CV] . C=7.150813884541617, gamma=0.0017329778009793362, total=   0.0s\n",
      "[CV] C=7.977360477445389, gamma=0.0020819037703821743 ................\n",
      "[CV] . C=7.977360477445389, gamma=0.0020819037703821743, total=   0.0s\n",
      "[CV] C=7.977360477445389, gamma=0.0020819037703821743 ................\n",
      "[CV] . C=7.977360477445389, gamma=0.0020819037703821743, total=   0.0s\n",
      "[CV] C=7.977360477445389, gamma=0.0020819037703821743 ................\n",
      "[CV] . C=7.977360477445389, gamma=0.0020819037703821743, total=   0.0s\n",
      "[CV] C=2.8239216724347274, gamma=0.0466518937937875 ..................\n",
      "[CV] ... C=2.8239216724347274, gamma=0.0466518937937875, total=   0.0s\n",
      "[CV] C=2.8239216724347274, gamma=0.0466518937937875 ..................\n",
      "[CV] ... C=2.8239216724347274, gamma=0.0466518937937875, total=   0.0s\n",
      "[CV] C=2.8239216724347274, gamma=0.0466518937937875 ..................\n",
      "[CV] ... C=2.8239216724347274, gamma=0.0466518937937875, total=   0.0s\n",
      "[CV] C=2.7609817104819347, gamma=0.09010761282212097 .................\n",
      "[CV] .. C=2.7609817104819347, gamma=0.09010761282212097, total=   0.0s\n",
      "[CV] C=2.7609817104819347, gamma=0.09010761282212097 .................\n",
      "[CV] .. C=2.7609817104819347, gamma=0.09010761282212097, total=   0.0s\n",
      "[CV] C=2.7609817104819347, gamma=0.09010761282212097 .................\n",
      "[CV] .. C=2.7609817104819347, gamma=0.09010761282212097, total=   0.0s\n",
      "[CV] C=6.292127387667611, gamma=0.06521736107302117 ..................\n",
      "[CV] ... C=6.292127387667611, gamma=0.06521736107302117, total=   0.0s\n",
      "[CV] C=6.292127387667611, gamma=0.06521736107302117 ..................\n",
      "[CV] ... C=6.292127387667611, gamma=0.06521736107302117, total=   0.0s\n",
      "[CV] C=6.292127387667611, gamma=0.06521736107302117 ..................\n",
      "[CV] ... C=6.292127387667611, gamma=0.06521736107302117, total=   0.0s\n",
      "[CV] C=8.094631779502002, gamma=0.0035401072350775865 ................\n",
      "[CV] . C=8.094631779502002, gamma=0.0035401072350775865, total=   0.0s\n",
      "[CV] C=8.094631779502002, gamma=0.0035401072350775865 ................\n",
      "[CV] . C=8.094631779502002, gamma=0.0035401072350775865, total=   0.0s\n",
      "[CV] C=8.094631779502002, gamma=0.0035401072350775865 ................\n",
      "[CV] . C=8.094631779502002, gamma=0.0035401072350775865, total=   0.0s\n",
      "[CV] C=8.53742619750556, gamma=0.0068006035118811856 .................\n",
      "[CV] .. C=8.53742619750556, gamma=0.0068006035118811856, total=   0.0s\n",
      "[CV] C=8.53742619750556, gamma=0.0068006035118811856 .................\n",
      "[CV] .. C=8.53742619750556, gamma=0.0068006035118811856, total=   0.0s\n",
      "[CV] C=8.53742619750556, gamma=0.0068006035118811856 .................\n",
      "[CV] .. C=8.53742619750556, gamma=0.0068006035118811856, total=   0.0s\n",
      "[CV] C=10.171407175672503, gamma=0.04952214227756126 .................\n",
      "[CV] .. C=10.171407175672503, gamma=0.04952214227756126, total=   0.0s\n",
      "[CV] C=10.171407175672503, gamma=0.04952214227756126 .................\n",
      "[CV] .. C=10.171407175672503, gamma=0.04952214227756126, total=   0.0s\n",
      "[CV] C=10.171407175672503, gamma=0.04952214227756126 .................\n",
      "[CV] .. C=10.171407175672503, gamma=0.04952214227756126, total=   0.0s\n",
      "[CV] C=10.369615538229787, gamma=0.06583156290275814 .................\n"
     ]
    },
    {
     "name": "stderr",
     "output_type": "stream",
     "text": [
      "[Parallel(n_jobs=1)]: Done   1 out of   1 | elapsed:    0.0s remaining:    0.0s\n"
     ]
    },
    {
     "name": "stdout",
     "output_type": "stream",
     "text": [
      "[CV] .. C=10.369615538229787, gamma=0.06583156290275814, total=   0.0s\n",
      "[CV] C=10.369615538229787, gamma=0.06583156290275814 .................\n",
      "[CV] .. C=10.369615538229787, gamma=0.06583156290275814, total=   0.0s\n",
      "[CV] C=10.369615538229787, gamma=0.06583156290275814 .................\n",
      "[CV] .. C=10.369615538229787, gamma=0.06583156290275814, total=   0.0s\n",
      "[CV] C=10.946766631565405, gamma=0.046505219369132926 ................\n",
      "[CV] . C=10.946766631565405, gamma=0.046505219369132926, total=   0.0s\n",
      "[CV] C=10.946766631565405, gamma=0.046505219369132926 ................\n",
      "[CV] . C=10.946766631565405, gamma=0.046505219369132926, total=   0.0s\n",
      "[CV] C=10.946766631565405, gamma=0.046505219369132926 ................\n",
      "[CV] . C=10.946766631565405, gamma=0.046505219369132926, total=   0.0s\n",
      "[CV] C=4.469203041727082, gamma=0.0013789550115510887 ................\n",
      "[CV] . C=4.469203041727082, gamma=0.0013789550115510887, total=   0.0s\n",
      "[CV] C=4.469203041727082, gamma=0.0013789550115510887 ................\n",
      "[CV] . C=4.469203041727082, gamma=0.0013789550115510887, total=   0.0s\n",
      "[CV] C=4.469203041727082, gamma=0.0013789550115510887 ................\n",
      "[CV] . C=4.469203041727082, gamma=0.0013789550115510887, total=   0.0s\n",
      "[CV] C=9.799629474170212, gamma=0.06507650286114604 ..................\n",
      "[CV] ... C=9.799629474170212, gamma=0.06507650286114604, total=   0.0s\n",
      "[CV] C=9.799629474170212, gamma=0.06507650286114604 ..................\n",
      "[CV] ... C=9.799629474170212, gamma=0.06507650286114604, total=   0.0s\n",
      "[CV] C=9.799629474170212, gamma=0.06507650286114604 ..................\n",
      "[CV] ... C=9.799629474170212, gamma=0.06507650286114604, total=   0.0s\n",
      "[CV] C=10.736543693813921, gamma=0.0038590963061123644 ...............\n",
      "[CV]  C=10.736543693813921, gamma=0.0038590963061123644, total=   0.0s\n",
      "[CV] C=10.736543693813921, gamma=0.0038590963061123644 ...............\n",
      "[CV]  C=10.736543693813921, gamma=0.0038590963061123644, total=   0.0s\n",
      "[CV] C=10.736543693813921, gamma=0.0038590963061123644 ...............\n",
      "[CV]  C=10.736543693813921, gamma=0.0038590963061123644, total=   0.0s\n",
      "[CV] C=2.045097079601025, gamma=0.06715245987960444 ..................\n",
      "[CV] ... C=2.045097079601025, gamma=0.06715245987960444, total=   0.0s\n",
      "[CV] C=2.045097079601025, gamma=0.06715245987960444 ..................\n",
      "[CV] ... C=2.045097079601025, gamma=0.06715245987960444, total=   0.0s\n",
      "[CV] C=2.045097079601025, gamma=0.06715245987960444 ..................\n",
      "[CV] ... C=2.045097079601025, gamma=0.06715245987960444, total=   0.0s\n",
      "[CV] C=2.586658842627738, gamma=0.034943868953556986 .................\n",
      "[CV] .. C=2.586658842627738, gamma=0.034943868953556986, total=   0.0s\n",
      "[CV] C=2.586658842627738, gamma=0.034943868953556986 .................\n",
      "[CV] .. C=2.586658842627738, gamma=0.034943868953556986, total=   0.0s\n",
      "[CV] C=2.586658842627738, gamma=0.034943868953556986 .................\n",
      "[CV] .. C=2.586658842627738, gamma=0.034943868953556986, total=   0.0s\n",
      "[CV] C=1.795966631030236, gamma=0.017253528491050104 .................\n",
      "[CV] .. C=1.795966631030236, gamma=0.017253528491050104, total=   0.0s\n",
      "[CV] C=1.795966631030236, gamma=0.017253528491050104 .................\n",
      "[CV] .. C=1.795966631030236, gamma=0.017253528491050104, total=   0.0s\n",
      "[CV] C=1.795966631030236, gamma=0.017253528491050104 .................\n",
      "[CV] .. C=1.795966631030236, gamma=0.017253528491050104, total=   0.0s\n",
      "[CV] C=9.608454663893824, gamma=0.004771289694583773 .................\n",
      "[CV] .. C=9.608454663893824, gamma=0.004771289694583773, total=   0.0s\n",
      "[CV] C=9.608454663893824, gamma=0.004771289694583773 .................\n",
      "[CV] .. C=9.608454663893824, gamma=0.004771289694583773, total=   0.0s\n",
      "[CV] C=9.608454663893824, gamma=0.004771289694583773 .................\n",
      "[CV] .. C=9.608454663893824, gamma=0.004771289694583773, total=   0.0s\n",
      "[CV] C=7.525495505986228, gamma=0.0028509108910433705 ................\n",
      "[CV] . C=7.525495505986228, gamma=0.0028509108910433705, total=   0.0s\n",
      "[CV] C=7.525495505986228, gamma=0.0028509108910433705 ................\n",
      "[CV] . C=7.525495505986228, gamma=0.0028509108910433705, total=   0.0s\n",
      "[CV] C=7.525495505986228, gamma=0.0028509108910433705 ................\n",
      "[CV] . C=7.525495505986228, gamma=0.0028509108910433705, total=   0.0s\n",
      "[CV] C=9.460036019584043, gamma=0.004995254017015267 .................\n",
      "[CV] .. C=9.460036019584043, gamma=0.004995254017015267, total=   0.0s\n",
      "[CV] C=9.460036019584043, gamma=0.004995254017015267 .................\n",
      "[CV] .. C=9.460036019584043, gamma=0.004995254017015267, total=   0.0s\n",
      "[CV] C=9.460036019584043, gamma=0.004995254017015267 .................\n",
      "[CV] .. C=9.460036019584043, gamma=0.004995254017015267, total=   0.0s\n",
      "[CV] C=2.7403326901794305, gamma=0.0016224885686607008 ...............\n",
      "[CV]  C=2.7403326901794305, gamma=0.0016224885686607008, total=   0.0s\n",
      "[CV] C=2.7403326901794305, gamma=0.0016224885686607008 ...............\n",
      "[CV]  C=2.7403326901794305, gamma=0.0016224885686607008, total=   0.0s\n",
      "[CV] C=2.7403326901794305, gamma=0.0016224885686607008 ...............\n",
      "[CV]  C=2.7403326901794305, gamma=0.0016224885686607008, total=   0.0s\n",
      "[CV] C=2.5920314626360232, gamma=0.0010264248251871638 ...............\n",
      "[CV]  C=2.5920314626360232, gamma=0.0010264248251871638, total=   0.0s\n",
      "[CV] C=2.5920314626360232, gamma=0.0010264248251871638 ...............\n",
      "[CV]  C=2.5920314626360232, gamma=0.0010264248251871638, total=   0.0s\n",
      "[CV] C=2.5920314626360232, gamma=0.0010264248251871638 ...............\n",
      "[CV]  C=2.5920314626360232, gamma=0.0010264248251871638, total=   0.0s\n",
      "[CV] C=10.425118130708356, gamma=0.013504705244319693 ................\n",
      "[CV] . C=10.425118130708356, gamma=0.013504705244319693, total=   0.0s\n",
      "[CV] C=10.425118130708356, gamma=0.013504705244319693 ................\n",
      "[CV] . C=10.425118130708356, gamma=0.013504705244319693, total=   0.0s\n",
      "[CV] C=10.425118130708356, gamma=0.013504705244319693 ................\n",
      "[CV] . C=10.425118130708356, gamma=0.013504705244319693, total=   0.0s\n",
      "[CV] C=2.194882235477075, gamma=0.04671046128220978 ..................\n",
      "[CV] ... C=2.194882235477075, gamma=0.04671046128220978, total=   0.0s\n",
      "[CV] C=2.194882235477075, gamma=0.04671046128220978 ..................\n",
      "[CV] ... C=2.194882235477075, gamma=0.04671046128220978, total=   0.0s\n",
      "[CV] C=2.194882235477075, gamma=0.04671046128220978 ..................\n",
      "[CV] ... C=2.194882235477075, gamma=0.04671046128220978, total=   0.0s\n",
      "[CV] C=1.5120477273222068, gamma=0.018073357895366696 ................\n",
      "[CV] . C=1.5120477273222068, gamma=0.018073357895366696, total=   0.0s\n",
      "[CV] C=1.5120477273222068, gamma=0.018073357895366696 ................\n",
      "[CV] . C=1.5120477273222068, gamma=0.018073357895366696, total=   0.0s\n",
      "[CV] C=1.5120477273222068, gamma=0.018073357895366696 ................\n",
      "[CV] . C=1.5120477273222068, gamma=0.018073357895366696, total=   0.0s\n",
      "[CV] C=7.265394602059753, gamma=0.014666877172763203 .................\n",
      "[CV] .. C=7.265394602059753, gamma=0.014666877172763203, total=   0.0s\n",
      "[CV] C=7.265394602059753, gamma=0.014666877172763203 .................\n",
      "[CV] .. C=7.265394602059753, gamma=0.014666877172763203, total=   0.0s\n",
      "[CV] C=7.265394602059753, gamma=0.014666877172763203 .................\n",
      "[CV] .. C=7.265394602059753, gamma=0.014666877172763203, total=   0.0s\n",
      "[CV] C=5.398102059919181, gamma=0.0017934849730455533 ................\n",
      "[CV] . C=5.398102059919181, gamma=0.0017934849730455533, total=   0.0s\n",
      "[CV] C=5.398102059919181, gamma=0.0017934849730455533 ................\n",
      "[CV] . C=5.398102059919181, gamma=0.0017934849730455533, total=   0.0s\n",
      "[CV] C=5.398102059919181, gamma=0.0017934849730455533 ................\n",
      "[CV] . C=5.398102059919181, gamma=0.0017934849730455533, total=   0.0s\n",
      "[CV] C=5.503826981773469, gamma=0.004122484603331827 .................\n",
      "[CV] .. C=5.503826981773469, gamma=0.004122484603331827, total=   0.0s\n",
      "[CV] C=5.503826981773469, gamma=0.004122484603331827 .................\n",
      "[CV] .. C=5.503826981773469, gamma=0.004122484603331827, total=   0.0s\n",
      "[CV] C=5.503826981773469, gamma=0.004122484603331827 .................\n",
      "[CV] .. C=5.503826981773469, gamma=0.004122484603331827, total=   0.0s\n",
      "[CV] C=4.046086964686017, gamma=0.0798141747355549 ...................\n",
      "[CV] .... C=4.046086964686017, gamma=0.0798141747355549, total=   0.0s\n",
      "[CV] C=4.046086964686017, gamma=0.0798141747355549 ...................\n",
      "[CV] .... C=4.046086964686017, gamma=0.0798141747355549, total=   0.0s\n",
      "[CV] C=4.046086964686017, gamma=0.0798141747355549 ...................\n",
      "[CV] .... C=4.046086964686017, gamma=0.0798141747355549, total=   0.0s\n",
      "[CV] C=1.5701222333687994, gamma=0.027596507329703323 ................\n",
      "[CV] . C=1.5701222333687994, gamma=0.027596507329703323, total=   0.0s\n",
      "[CV] C=1.5701222333687994, gamma=0.027596507329703323 ................\n",
      "[CV] . C=1.5701222333687994, gamma=0.027596507329703323, total=   0.0s\n",
      "[CV] C=1.5701222333687994, gamma=0.027596507329703323 ................\n",
      "[CV] . C=1.5701222333687994, gamma=0.027596507329703323, total=   0.0s\n",
      "[CV] C=5.958388385243735, gamma=0.03301725646038701 ..................\n",
      "[CV] ... C=5.958388385243735, gamma=0.03301725646038701, total=   0.0s\n",
      "[CV] C=5.958388385243735, gamma=0.03301725646038701 ..................\n",
      "[CV] ... C=5.958388385243735, gamma=0.03301725646038701, total=   0.0s\n",
      "[CV] C=5.958388385243735, gamma=0.03301725646038701 ..................\n",
      "[CV] ... C=5.958388385243735, gamma=0.03301725646038701, total=   0.0s\n",
      "[CV] C=5.9133510708054375, gamma=0.005869892241534328 ................\n"
     ]
    },
    {
     "name": "stdout",
     "output_type": "stream",
     "text": [
      "[CV] . C=5.9133510708054375, gamma=0.005869892241534328, total=   0.0s\n",
      "[CV] C=5.9133510708054375, gamma=0.005869892241534328 ................\n",
      "[CV] . C=5.9133510708054375, gamma=0.005869892241534328, total=   0.0s\n",
      "[CV] C=5.9133510708054375, gamma=0.005869892241534328 ................\n",
      "[CV] . C=5.9133510708054375, gamma=0.005869892241534328, total=   0.0s\n",
      "[CV] C=5.191312417714399, gamma=0.010445414256603556 .................\n",
      "[CV] .. C=5.191312417714399, gamma=0.010445414256603556, total=   0.0s\n",
      "[CV] C=5.191312417714399, gamma=0.010445414256603556 .................\n",
      "[CV] .. C=5.191312417714399, gamma=0.010445414256603556, total=   0.0s\n",
      "[CV] C=5.191312417714399, gamma=0.010445414256603556 .................\n",
      "[CV] .. C=5.191312417714399, gamma=0.010445414256603556, total=   0.0s\n",
      "[CV] C=1.6846658359903568, gamma=0.006313880619048866 ................\n",
      "[CV] . C=1.6846658359903568, gamma=0.006313880619048866, total=   0.0s\n",
      "[CV] C=1.6846658359903568, gamma=0.006313880619048866 ................\n",
      "[CV] . C=1.6846658359903568, gamma=0.006313880619048866, total=   0.0s\n",
      "[CV] C=1.6846658359903568, gamma=0.006313880619048866 ................\n",
      "[CV] . C=1.6846658359903568, gamma=0.006313880619048866, total=   0.0s\n",
      "[CV] C=6.921692145236723, gamma=0.08250654129466346 ..................\n",
      "[CV] ... C=6.921692145236723, gamma=0.08250654129466346, total=   0.0s\n",
      "[CV] C=6.921692145236723, gamma=0.08250654129466346 ..................\n",
      "[CV] ... C=6.921692145236723, gamma=0.08250654129466346, total=   0.0s\n",
      "[CV] C=6.921692145236723, gamma=0.08250654129466346 ..................\n",
      "[CV] ... C=6.921692145236723, gamma=0.08250654129466346, total=   0.0s\n",
      "[CV] C=10.158248756375148, gamma=0.005608055870150846 ................\n",
      "[CV] . C=10.158248756375148, gamma=0.005608055870150846, total=   0.0s\n",
      "[CV] C=10.158248756375148, gamma=0.005608055870150846 ................\n",
      "[CV] . C=10.158248756375148, gamma=0.005608055870150846, total=   0.0s\n",
      "[CV] C=10.158248756375148, gamma=0.005608055870150846 ................\n",
      "[CV] . C=10.158248756375148, gamma=0.005608055870150846, total=   0.0s\n",
      "[CV] C=3.981422037744106, gamma=0.023830966261038918 .................\n",
      "[CV] .. C=3.981422037744106, gamma=0.023830966261038918, total=   0.0s\n",
      "[CV] C=3.981422037744106, gamma=0.023830966261038918 .................\n",
      "[CV] .. C=3.981422037744106, gamma=0.023830966261038918, total=   0.0s\n",
      "[CV] C=3.981422037744106, gamma=0.023830966261038918 .................\n",
      "[CV] .. C=3.981422037744106, gamma=0.023830966261038918, total=   0.0s\n",
      "[CV] C=1.868288017874429, gamma=0.0060906716001056715 ................\n",
      "[CV] . C=1.868288017874429, gamma=0.0060906716001056715, total=   0.0s\n",
      "[CV] C=1.868288017874429, gamma=0.0060906716001056715 ................\n",
      "[CV] . C=1.868288017874429, gamma=0.0060906716001056715, total=   0.0s\n",
      "[CV] C=1.868288017874429, gamma=0.0060906716001056715 ................\n",
      "[CV] . C=1.868288017874429, gamma=0.0060906716001056715, total=   0.0s\n",
      "[CV] C=1.1924864739782473, gamma=0.008742180080025684 ................\n",
      "[CV] . C=1.1924864739782473, gamma=0.008742180080025684, total=   0.0s\n",
      "[CV] C=1.1924864739782473, gamma=0.008742180080025684 ................\n",
      "[CV] . C=1.1924864739782473, gamma=0.008742180080025684, total=   0.0s\n",
      "[CV] C=1.1924864739782473, gamma=0.008742180080025684 ................\n",
      "[CV] . C=1.1924864739782473, gamma=0.008742180080025684, total=   0.0s\n",
      "[CV] C=2.011225019701263, gamma=0.0016797334359907475 ................\n",
      "[CV] . C=2.011225019701263, gamma=0.0016797334359907475, total=   0.0s\n",
      "[CV] C=2.011225019701263, gamma=0.0016797334359907475 ................\n",
      "[CV] . C=2.011225019701263, gamma=0.0016797334359907475, total=   0.0s\n",
      "[CV] C=2.011225019701263, gamma=0.0016797334359907475 ................\n",
      "[CV] . C=2.011225019701263, gamma=0.0016797334359907475, total=   0.0s\n",
      "[CV] C=9.467439062313954, gamma=0.006813881565574335 .................\n",
      "[CV] .. C=9.467439062313954, gamma=0.006813881565574335, total=   0.0s\n",
      "[CV] C=9.467439062313954, gamma=0.006813881565574335 .................\n",
      "[CV] .. C=9.467439062313954, gamma=0.006813881565574335, total=   0.0s\n",
      "[CV] C=9.467439062313954, gamma=0.006813881565574335 .................\n",
      "[CV] .. C=9.467439062313954, gamma=0.006813881565574335, total=   0.0s\n",
      "[CV] C=2.596595516737503, gamma=0.0143959145901354 ...................\n",
      "[CV] .... C=2.596595516737503, gamma=0.0143959145901354, total=   0.0s\n",
      "[CV] C=2.596595516737503, gamma=0.0143959145901354 ...................\n",
      "[CV] .... C=2.596595516737503, gamma=0.0143959145901354, total=   0.0s\n",
      "[CV] C=2.596595516737503, gamma=0.0143959145901354 ...................\n",
      "[CV] .... C=2.596595516737503, gamma=0.0143959145901354, total=   0.0s\n",
      "[CV] C=8.327179372209839, gamma=0.09309660202987337 ..................\n",
      "[CV] ... C=8.327179372209839, gamma=0.09309660202987337, total=   0.0s\n",
      "[CV] C=8.327179372209839, gamma=0.09309660202987337 ..................\n",
      "[CV] ... C=8.327179372209839, gamma=0.09309660202987337, total=   0.0s\n",
      "[CV] C=8.327179372209839, gamma=0.09309660202987337 ..................\n",
      "[CV] ... C=8.327179372209839, gamma=0.09309660202987337, total=   0.0s\n",
      "[CV] C=6.1157245457921245, gamma=0.08225000400674268 .................\n",
      "[CV] .. C=6.1157245457921245, gamma=0.08225000400674268, total=   0.0s\n",
      "[CV] C=6.1157245457921245, gamma=0.08225000400674268 .................\n",
      "[CV] .. C=6.1157245457921245, gamma=0.08225000400674268, total=   0.0s\n",
      "[CV] C=6.1157245457921245, gamma=0.08225000400674268 .................\n",
      "[CV] .. C=6.1157245457921245, gamma=0.08225000400674268, total=   0.0s\n",
      "[CV] C=6.692694706457001, gamma=0.0011639837493790982 ................\n",
      "[CV] . C=6.692694706457001, gamma=0.0011639837493790982, total=   0.0s\n",
      "[CV] C=6.692694706457001, gamma=0.0011639837493790982 ................\n",
      "[CV] . C=6.692694706457001, gamma=0.0011639837493790982, total=   0.0s\n",
      "[CV] C=6.692694706457001, gamma=0.0011639837493790982 ................\n",
      "[CV] . C=6.692694706457001, gamma=0.0011639837493790982, total=   0.0s\n",
      "[CV] C=6.742999550129834, gamma=0.005005668386359061 .................\n",
      "[CV] .. C=6.742999550129834, gamma=0.005005668386359061, total=   0.0s\n",
      "[CV] C=6.742999550129834, gamma=0.005005668386359061 .................\n",
      "[CV] .. C=6.742999550129834, gamma=0.005005668386359061, total=   0.0s\n",
      "[CV] C=6.742999550129834, gamma=0.005005668386359061 .................\n",
      "[CV] .. C=6.742999550129834, gamma=0.005005668386359061, total=   0.0s\n",
      "[CV] C=9.476686983884186, gamma=0.0013127733407484012 ................\n",
      "[CV] . C=9.476686983884186, gamma=0.0013127733407484012, total=   0.0s\n",
      "[CV] C=9.476686983884186, gamma=0.0013127733407484012 ................\n",
      "[CV] . C=9.476686983884186, gamma=0.0013127733407484012, total=   0.0s\n",
      "[CV] C=9.476686983884186, gamma=0.0013127733407484012 ................\n",
      "[CV] . C=9.476686983884186, gamma=0.0013127733407484012, total=   0.0s\n",
      "[CV] C=4.111374498559237, gamma=0.0021728869854718332 ................\n",
      "[CV] . C=4.111374498559237, gamma=0.0021728869854718332, total=   0.0s\n",
      "[CV] C=4.111374498559237, gamma=0.0021728869854718332 ................\n",
      "[CV] . C=4.111374498559237, gamma=0.0021728869854718332, total=   0.0s\n",
      "[CV] C=4.111374498559237, gamma=0.0021728869854718332 ................\n",
      "[CV] . C=4.111374498559237, gamma=0.0021728869854718332, total=   0.0s\n",
      "[CV] C=8.808182118481145, gamma=0.06958932567010538 ..................\n",
      "[CV] ... C=8.808182118481145, gamma=0.06958932567010538, total=   0.0s\n",
      "[CV] C=8.808182118481145, gamma=0.06958932567010538 ..................\n",
      "[CV] ... C=8.808182118481145, gamma=0.06958932567010538, total=   0.0s\n",
      "[CV] C=8.808182118481145, gamma=0.06958932567010538 ..................\n",
      "[CV] ... C=8.808182118481145, gamma=0.06958932567010538, total=   0.0s\n",
      "[CV] C=4.2586122739859285, gamma=0.025042913541201604 ................\n",
      "[CV] . C=4.2586122739859285, gamma=0.025042913541201604, total=   0.0s\n",
      "[CV] C=4.2586122739859285, gamma=0.025042913541201604 ................\n",
      "[CV] . C=4.2586122739859285, gamma=0.025042913541201604, total=   0.0s\n",
      "[CV] C=4.2586122739859285, gamma=0.025042913541201604 ................\n",
      "[CV] . C=4.2586122739859285, gamma=0.025042913541201604, total=   0.0s\n",
      "[CV] C=2.4374438283256707, gamma=0.011922340971736741 ................\n",
      "[CV] . C=2.4374438283256707, gamma=0.011922340971736741, total=   0.0s\n",
      "[CV] C=2.4374438283256707, gamma=0.011922340971736741 ................\n",
      "[CV] . C=2.4374438283256707, gamma=0.011922340971736741, total=   0.0s\n",
      "[CV] C=2.4374438283256707, gamma=0.011922340971736741 ................\n",
      "[CV] . C=2.4374438283256707, gamma=0.011922340971736741, total=   0.0s\n",
      "[CV] C=3.544472507924879, gamma=0.004979186640850724 .................\n",
      "[CV] .. C=3.544472507924879, gamma=0.004979186640850724, total=   0.0s\n",
      "[CV] C=3.544472507924879, gamma=0.004979186640850724 .................\n",
      "[CV] .. C=3.544472507924879, gamma=0.004979186640850724, total=   0.0s\n",
      "[CV] C=3.544472507924879, gamma=0.004979186640850724 .................\n",
      "[CV] .. C=3.544472507924879, gamma=0.004979186640850724, total=   0.0s\n",
      "[CV] C=7.911292482693518, gamma=0.006472254560510157 .................\n",
      "[CV] .. C=7.911292482693518, gamma=0.006472254560510157, total=   0.0s\n",
      "[CV] C=7.911292482693518, gamma=0.006472254560510157 .................\n",
      "[CV] .. C=7.911292482693518, gamma=0.006472254560510157, total=   0.0s\n",
      "[CV] C=7.911292482693518, gamma=0.006472254560510157 .................\n",
      "[CV] .. C=7.911292482693518, gamma=0.006472254560510157, total=   0.0s\n",
      "[CV] C=2.433130534222941, gamma=0.001213766105071717 .................\n",
      "[CV] .. C=2.433130534222941, gamma=0.001213766105071717, total=   0.0s\n",
      "[CV] C=2.433130534222941, gamma=0.001213766105071717 .................\n"
     ]
    },
    {
     "name": "stdout",
     "output_type": "stream",
     "text": [
      "[CV] .. C=2.433130534222941, gamma=0.001213766105071717, total=   0.0s\n",
      "[CV] C=2.433130534222941, gamma=0.001213766105071717 .................\n",
      "[CV] .. C=2.433130534222941, gamma=0.001213766105071717, total=   0.0s\n",
      "[CV] C=8.338490372832954, gamma=0.03384148509125222 ..................\n",
      "[CV] ... C=8.338490372832954, gamma=0.03384148509125222, total=   0.0s\n",
      "[CV] C=8.338490372832954, gamma=0.03384148509125222 ..................\n",
      "[CV] ... C=8.338490372832954, gamma=0.03384148509125222, total=   0.0s\n",
      "[CV] C=8.338490372832954, gamma=0.03384148509125222 ..................\n",
      "[CV] ... C=8.338490372832954, gamma=0.03384148509125222, total=   0.0s\n",
      "[CV] C=4.877920981538661, gamma=0.0011304258590317268 ................\n",
      "[CV] . C=4.877920981538661, gamma=0.0011304258590317268, total=   0.0s\n",
      "[CV] C=4.877920981538661, gamma=0.0011304258590317268 ................\n",
      "[CV] . C=4.877920981538661, gamma=0.0011304258590317268, total=   0.0s\n",
      "[CV] C=4.877920981538661, gamma=0.0011304258590317268 ................\n",
      "[CV] . C=4.877920981538661, gamma=0.0011304258590317268, total=   0.0s\n",
      "[CV] C=7.268273478069935, gamma=0.006036429237420589 .................\n",
      "[CV] .. C=7.268273478069935, gamma=0.006036429237420589, total=   0.0s\n",
      "[CV] C=7.268273478069935, gamma=0.006036429237420589 .................\n",
      "[CV] .. C=7.268273478069935, gamma=0.006036429237420589, total=   0.0s\n",
      "[CV] C=7.268273478069935, gamma=0.006036429237420589 .................\n",
      "[CV] .. C=7.268273478069935, gamma=0.006036429237420589, total=   0.0s\n",
      "[CV] C=6.366869178578591, gamma=0.008174293769549219 .................\n",
      "[CV] .. C=6.366869178578591, gamma=0.008174293769549219, total=   0.0s\n",
      "[CV] C=6.366869178578591, gamma=0.008174293769549219 .................\n",
      "[CV] .. C=6.366869178578591, gamma=0.008174293769549219, total=   0.0s\n",
      "[CV] C=6.366869178578591, gamma=0.008174293769549219 .................\n",
      "[CV] .. C=6.366869178578591, gamma=0.008174293769549219, total=   0.0s\n",
      "[CV] C=2.8007922572282977, gamma=0.0017770532117662313 ...............\n",
      "[CV]  C=2.8007922572282977, gamma=0.0017770532117662313, total=   0.0s\n",
      "[CV] C=2.8007922572282977, gamma=0.0017770532117662313 ...............\n",
      "[CV]  C=2.8007922572282977, gamma=0.0017770532117662313, total=   0.0s\n",
      "[CV] C=2.8007922572282977, gamma=0.0017770532117662313 ...............\n",
      "[CV]  C=2.8007922572282977, gamma=0.0017770532117662313, total=   0.0s\n",
      "[CV] C=3.0654964788810237, gamma=0.02191003947904654 .................\n",
      "[CV] .. C=3.0654964788810237, gamma=0.02191003947904654, total=   0.0s\n",
      "[CV] C=3.0654964788810237, gamma=0.02191003947904654 .................\n",
      "[CV] .. C=3.0654964788810237, gamma=0.02191003947904654, total=   0.0s\n",
      "[CV] C=3.0654964788810237, gamma=0.02191003947904654 .................\n",
      "[CV] .. C=3.0654964788810237, gamma=0.02191003947904654, total=   0.0s\n",
      "[CV] C=8.469010878934414, gamma=0.0013848676512629881 ................\n",
      "[CV] . C=8.469010878934414, gamma=0.0013848676512629881, total=   0.0s\n",
      "[CV] C=8.469010878934414, gamma=0.0013848676512629881 ................\n",
      "[CV] . C=8.469010878934414, gamma=0.0013848676512629881, total=   0.0s\n",
      "[CV] C=8.469010878934414, gamma=0.0013848676512629881 ................\n",
      "[CV] . C=8.469010878934414, gamma=0.0013848676512629881, total=   0.0s\n",
      "[CV] C=7.9109272512787605, gamma=0.07258676623167665 .................\n",
      "[CV] .. C=7.9109272512787605, gamma=0.07258676623167665, total=   0.0s\n",
      "[CV] C=7.9109272512787605, gamma=0.07258676623167665 .................\n",
      "[CV] .. C=7.9109272512787605, gamma=0.07258676623167665, total=   0.0s\n",
      "[CV] C=7.9109272512787605, gamma=0.07258676623167665 .................\n",
      "[CV] .. C=7.9109272512787605, gamma=0.07258676623167665, total=   0.0s\n",
      "[CV] C=1.1305600641354254, gamma=0.08219358769475776 .................\n",
      "[CV] .. C=1.1305600641354254, gamma=0.08219358769475776, total=   0.0s\n",
      "[CV] C=1.1305600641354254, gamma=0.08219358769475776 .................\n",
      "[CV] .. C=1.1305600641354254, gamma=0.08219358769475776, total=   0.0s\n",
      "[CV] C=1.1305600641354254, gamma=0.08219358769475776 .................\n",
      "[CV] .. C=1.1305600641354254, gamma=0.08219358769475776, total=   0.0s\n",
      "[CV] C=5.345717841201694, gamma=0.05911061843256912 ..................\n",
      "[CV] ... C=5.345717841201694, gamma=0.05911061843256912, total=   0.0s\n",
      "[CV] C=5.345717841201694, gamma=0.05911061843256912 ..................\n",
      "[CV] ... C=5.345717841201694, gamma=0.05911061843256912, total=   0.0s\n",
      "[CV] C=5.345717841201694, gamma=0.05911061843256912 ..................\n",
      "[CV] ... C=5.345717841201694, gamma=0.05911061843256912, total=   0.0s\n",
      "[CV] C=8.522167758561842, gamma=0.001207888326939655 .................\n",
      "[CV] .. C=8.522167758561842, gamma=0.001207888326939655, total=   0.0s\n",
      "[CV] C=8.522167758561842, gamma=0.001207888326939655 .................\n",
      "[CV] .. C=8.522167758561842, gamma=0.001207888326939655, total=   0.0s\n",
      "[CV] C=8.522167758561842, gamma=0.001207888326939655 .................\n",
      "[CV] .. C=8.522167758561842, gamma=0.001207888326939655, total=   0.0s\n",
      "[CV] C=7.163268809058671, gamma=0.07187991751311891 ..................\n",
      "[CV] ... C=7.163268809058671, gamma=0.07187991751311891, total=   0.0s\n",
      "[CV] C=7.163268809058671, gamma=0.07187991751311891 ..................\n",
      "[CV] ... C=7.163268809058671, gamma=0.07187991751311891, total=   0.0s\n",
      "[CV] C=7.163268809058671, gamma=0.07187991751311891 ..................\n",
      "[CV] ... C=7.163268809058671, gamma=0.07187991751311891, total=   0.0s\n",
      "[CV] C=3.149180406755491, gamma=0.0135353002154404 ...................\n",
      "[CV] .... C=3.149180406755491, gamma=0.0135353002154404, total=   0.0s\n",
      "[CV] C=3.149180406755491, gamma=0.0135353002154404 ...................\n",
      "[CV] .... C=3.149180406755491, gamma=0.0135353002154404, total=   0.0s\n",
      "[CV] C=3.149180406755491, gamma=0.0135353002154404 ...................\n",
      "[CV] .... C=3.149180406755491, gamma=0.0135353002154404, total=   0.0s\n",
      "[CV] C=5.587933597578468, gamma=0.0010970980946281893 ................\n",
      "[CV] . C=5.587933597578468, gamma=0.0010970980946281893, total=   0.0s\n",
      "[CV] C=5.587933597578468, gamma=0.0010970980946281893 ................\n",
      "[CV] . C=5.587933597578468, gamma=0.0010970980946281893, total=   0.0s\n",
      "[CV] C=5.587933597578468, gamma=0.0010970980946281893 ................\n",
      "[CV] . C=5.587933597578468, gamma=0.0010970980946281893, total=   0.0s\n",
      "[CV] C=1.761970287790823, gamma=0.08244529698819707 ..................\n",
      "[CV] ... C=1.761970287790823, gamma=0.08244529698819707, total=   0.0s\n",
      "[CV] C=1.761970287790823, gamma=0.08244529698819707 ..................\n",
      "[CV] ... C=1.761970287790823, gamma=0.08244529698819707, total=   0.0s\n",
      "[CV] C=1.761970287790823, gamma=0.08244529698819707 ..................\n",
      "[CV] ... C=1.761970287790823, gamma=0.08244529698819707, total=   0.0s\n",
      "[CV] C=5.765220948969175, gamma=0.0022037287840456694 ................\n",
      "[CV] . C=5.765220948969175, gamma=0.0022037287840456694, total=   0.0s\n",
      "[CV] C=5.765220948969175, gamma=0.0022037287840456694 ................\n",
      "[CV] . C=5.765220948969175, gamma=0.0022037287840456694, total=   0.0s\n",
      "[CV] C=5.765220948969175, gamma=0.0022037287840456694 ................\n",
      "[CV] . C=5.765220948969175, gamma=0.0022037287840456694, total=   0.0s\n",
      "[CV] C=2.1226668726184807, gamma=0.01040934445369161 .................\n",
      "[CV] .. C=2.1226668726184807, gamma=0.01040934445369161, total=   0.0s\n",
      "[CV] C=2.1226668726184807, gamma=0.01040934445369161 .................\n",
      "[CV] .. C=2.1226668726184807, gamma=0.01040934445369161, total=   0.0s\n",
      "[CV] C=2.1226668726184807, gamma=0.01040934445369161 .................\n",
      "[CV] .. C=2.1226668726184807, gamma=0.01040934445369161, total=   0.0s\n",
      "[CV] C=4.841505223779382, gamma=0.002520501158391 ....................\n",
      "[CV] ..... C=4.841505223779382, gamma=0.002520501158391, total=   0.0s\n",
      "[CV] C=4.841505223779382, gamma=0.002520501158391 ....................\n",
      "[CV] ..... C=4.841505223779382, gamma=0.002520501158391, total=   0.0s\n",
      "[CV] C=4.841505223779382, gamma=0.002520501158391 ....................\n",
      "[CV] ..... C=4.841505223779382, gamma=0.002520501158391, total=   0.0s\n",
      "[CV] C=5.239388314533922, gamma=0.0015251591990954197 ................\n",
      "[CV] . C=5.239388314533922, gamma=0.0015251591990954197, total=   0.0s\n",
      "[CV] C=5.239388314533922, gamma=0.0015251591990954197 ................\n",
      "[CV] . C=5.239388314533922, gamma=0.0015251591990954197, total=   0.0s\n",
      "[CV] C=5.239388314533922, gamma=0.0015251591990954197 ................\n",
      "[CV] . C=5.239388314533922, gamma=0.0015251591990954197, total=   0.0s\n",
      "[CV] C=5.121743666913141, gamma=0.004826721539707825 .................\n",
      "[CV] .. C=5.121743666913141, gamma=0.004826721539707825, total=   0.0s\n",
      "[CV] C=5.121743666913141, gamma=0.004826721539707825 .................\n",
      "[CV] .. C=5.121743666913141, gamma=0.004826721539707825, total=   0.0s\n",
      "[CV] C=5.121743666913141, gamma=0.004826721539707825 .................\n",
      "[CV] .. C=5.121743666913141, gamma=0.004826721539707825, total=   0.0s\n",
      "[CV] C=5.779190387545383, gamma=0.011383648379636346 .................\n",
      "[CV] .. C=5.779190387545383, gamma=0.011383648379636346, total=   0.0s\n",
      "[CV] C=5.779190387545383, gamma=0.011383648379636346 .................\n",
      "[CV] .. C=5.779190387545383, gamma=0.011383648379636346, total=   0.0s\n",
      "[CV] C=5.779190387545383, gamma=0.011383648379636346 .................\n",
      "[CV] .. C=5.779190387545383, gamma=0.011383648379636346, total=   0.0s\n",
      "[CV] C=9.681989531101582, gamma=0.002385348377871359 .................\n",
      "[CV] .. C=9.681989531101582, gamma=0.002385348377871359, total=   0.0s\n",
      "[CV] C=9.681989531101582, gamma=0.002385348377871359 .................\n",
      "[CV] .. C=9.681989531101582, gamma=0.002385348377871359, total=   0.0s\n",
      "[CV] C=9.681989531101582, gamma=0.002385348377871359 .................\n"
     ]
    },
    {
     "name": "stdout",
     "output_type": "stream",
     "text": [
      "[CV] .. C=9.681989531101582, gamma=0.002385348377871359, total=   0.0s\n",
      "[CV] C=7.903279966834703, gamma=0.03094281824451044 ..................\n",
      "[CV] ... C=7.903279966834703, gamma=0.03094281824451044, total=   0.0s\n",
      "[CV] C=7.903279966834703, gamma=0.03094281824451044 ..................\n",
      "[CV] ... C=7.903279966834703, gamma=0.03094281824451044, total=   0.0s\n",
      "[CV] C=7.903279966834703, gamma=0.03094281824451044 ..................\n",
      "[CV] ... C=7.903279966834703, gamma=0.03094281824451044, total=   0.0s\n",
      "[CV] C=9.748047960446328, gamma=0.006374621291241234 .................\n",
      "[CV] .. C=9.748047960446328, gamma=0.006374621291241234, total=   0.0s\n",
      "[CV] C=9.748047960446328, gamma=0.006374621291241234 .................\n",
      "[CV] .. C=9.748047960446328, gamma=0.006374621291241234, total=   0.0s\n",
      "[CV] C=9.748047960446328, gamma=0.006374621291241234 .................\n",
      "[CV] .. C=9.748047960446328, gamma=0.006374621291241234, total=   0.0s\n",
      "[CV] C=3.6282389180239307, gamma=0.030806143851386514 ................\n",
      "[CV] . C=3.6282389180239307, gamma=0.030806143851386514, total=   0.0s\n",
      "[CV] C=3.6282389180239307, gamma=0.030806143851386514 ................\n",
      "[CV] . C=3.6282389180239307, gamma=0.030806143851386514, total=   0.0s\n",
      "[CV] C=3.6282389180239307, gamma=0.030806143851386514 ................\n",
      "[CV] . C=3.6282389180239307, gamma=0.030806143851386514, total=   0.0s\n",
      "[CV] C=6.3756430387783265, gamma=0.005876460105209932 ................\n",
      "[CV] . C=6.3756430387783265, gamma=0.005876460105209932, total=   0.0s\n",
      "[CV] C=6.3756430387783265, gamma=0.005876460105209932 ................\n",
      "[CV] . C=6.3756430387783265, gamma=0.005876460105209932, total=   0.0s\n",
      "[CV] C=6.3756430387783265, gamma=0.005876460105209932 ................\n",
      "[CV] . C=6.3756430387783265, gamma=0.005876460105209932, total=   0.0s\n",
      "[CV] C=2.2482772762514527, gamma=0.032852574004537 ...................\n",
      "[CV] .... C=2.2482772762514527, gamma=0.032852574004537, total=   0.0s\n",
      "[CV] C=2.2482772762514527, gamma=0.032852574004537 ...................\n",
      "[CV] .... C=2.2482772762514527, gamma=0.032852574004537, total=   0.0s\n",
      "[CV] C=2.2482772762514527, gamma=0.032852574004537 ...................\n",
      "[CV] .... C=2.2482772762514527, gamma=0.032852574004537, total=   0.0s\n",
      "[CV] C=2.9192672677179043, gamma=0.001702965055986908 ................\n",
      "[CV] . C=2.9192672677179043, gamma=0.001702965055986908, total=   0.0s\n",
      "[CV] C=2.9192672677179043, gamma=0.001702965055986908 ................\n",
      "[CV] . C=2.9192672677179043, gamma=0.001702965055986908, total=   0.0s\n",
      "[CV] C=2.9192672677179043, gamma=0.001702965055986908 ................\n",
      "[CV] . C=2.9192672677179043, gamma=0.001702965055986908, total=   0.0s\n",
      "[CV] C=10.332684676750704, gamma=0.02340290575490313 .................\n",
      "[CV] .. C=10.332684676750704, gamma=0.02340290575490313, total=   0.0s\n",
      "[CV] C=10.332684676750704, gamma=0.02340290575490313 .................\n",
      "[CV] .. C=10.332684676750704, gamma=0.02340290575490313, total=   0.0s\n",
      "[CV] C=10.332684676750704, gamma=0.02340290575490313 .................\n",
      "[CV] .. C=10.332684676750704, gamma=0.02340290575490313, total=   0.0s\n",
      "[CV] C=5.3063425524758205, gamma=0.06767675106934624 .................\n",
      "[CV] .. C=5.3063425524758205, gamma=0.06767675106934624, total=   0.0s\n",
      "[CV] C=5.3063425524758205, gamma=0.06767675106934624 .................\n",
      "[CV] .. C=5.3063425524758205, gamma=0.06767675106934624, total=   0.0s\n",
      "[CV] C=5.3063425524758205, gamma=0.06767675106934624 .................\n",
      "[CV] .. C=5.3063425524758205, gamma=0.06767675106934624, total=   0.0s\n",
      "[CV] C=10.68906018235721, gamma=0.0021272274472798457 ................\n",
      "[CV] . C=10.68906018235721, gamma=0.0021272274472798457, total=   0.0s\n",
      "[CV] C=10.68906018235721, gamma=0.0021272274472798457 ................\n",
      "[CV] . C=10.68906018235721, gamma=0.0021272274472798457, total=   0.0s\n",
      "[CV] C=10.68906018235721, gamma=0.0021272274472798457 ................\n",
      "[CV] . C=10.68906018235721, gamma=0.0021272274472798457, total=   0.0s\n",
      "[CV] C=3.2040143701605466, gamma=0.001101995947930665 ................\n",
      "[CV] . C=3.2040143701605466, gamma=0.001101995947930665, total=   0.0s\n",
      "[CV] C=3.2040143701605466, gamma=0.001101995947930665 ................\n",
      "[CV] . C=3.2040143701605466, gamma=0.001101995947930665, total=   0.0s\n",
      "[CV] C=3.2040143701605466, gamma=0.001101995947930665 ................\n",
      "[CV] . C=3.2040143701605466, gamma=0.001101995947930665, total=   0.0s\n",
      "[CV] C=2.909271677812112, gamma=0.06695360670465583 ..................\n",
      "[CV] ... C=2.909271677812112, gamma=0.06695360670465583, total=   0.0s\n",
      "[CV] C=2.909271677812112, gamma=0.06695360670465583 ..................\n",
      "[CV] ... C=2.909271677812112, gamma=0.06695360670465583, total=   0.0s\n",
      "[CV] C=2.909271677812112, gamma=0.06695360670465583 ..................\n",
      "[CV] ... C=2.909271677812112, gamma=0.06695360670465583, total=   0.0s\n",
      "[CV] C=10.898807903533282, gamma=0.0011120997705863478 ...............\n",
      "[CV]  C=10.898807903533282, gamma=0.0011120997705863478, total=   0.0s\n",
      "[CV] C=10.898807903533282, gamma=0.0011120997705863478 ...............\n",
      "[CV]  C=10.898807903533282, gamma=0.0011120997705863478, total=   0.0s\n",
      "[CV] C=10.898807903533282, gamma=0.0011120997705863478 ...............\n",
      "[CV]  C=10.898807903533282, gamma=0.0011120997705863478, total=   0.0s\n",
      "[CV] C=8.117368006951619, gamma=0.021260774607070723 .................\n",
      "[CV] .. C=8.117368006951619, gamma=0.021260774607070723, total=   0.0s\n",
      "[CV] C=8.117368006951619, gamma=0.021260774607070723 .................\n",
      "[CV] .. C=8.117368006951619, gamma=0.021260774607070723, total=   0.0s\n",
      "[CV] C=8.117368006951619, gamma=0.021260774607070723 .................\n",
      "[CV] .. C=8.117368006951619, gamma=0.021260774607070723, total=   0.0s\n",
      "[CV] C=10.272614072921995, gamma=0.043361512048078796 ................\n",
      "[CV] . C=10.272614072921995, gamma=0.043361512048078796, total=   0.0s\n",
      "[CV] C=10.272614072921995, gamma=0.043361512048078796 ................\n",
      "[CV] . C=10.272614072921995, gamma=0.043361512048078796, total=   0.0s\n",
      "[CV] C=10.272614072921995, gamma=0.043361512048078796 ................\n",
      "[CV] . C=10.272614072921995, gamma=0.043361512048078796, total=   0.0s\n",
      "[CV] C=8.136965713435032, gamma=0.005742924687033383 .................\n",
      "[CV] .. C=8.136965713435032, gamma=0.005742924687033383, total=   0.0s\n",
      "[CV] C=8.136965713435032, gamma=0.005742924687033383 .................\n",
      "[CV] .. C=8.136965713435032, gamma=0.005742924687033383, total=   0.0s\n",
      "[CV] C=8.136965713435032, gamma=0.005742924687033383 .................\n",
      "[CV] .. C=8.136965713435032, gamma=0.005742924687033383, total=   0.0s\n",
      "[CV] C=4.14697806849157, gamma=0.0010490856985599564 .................\n",
      "[CV] .. C=4.14697806849157, gamma=0.0010490856985599564, total=   0.0s\n",
      "[CV] C=4.14697806849157, gamma=0.0010490856985599564 .................\n",
      "[CV] .. C=4.14697806849157, gamma=0.0010490856985599564, total=   0.0s\n",
      "[CV] C=4.14697806849157, gamma=0.0010490856985599564 .................\n",
      "[CV] .. C=4.14697806849157, gamma=0.0010490856985599564, total=   0.0s\n",
      "[CV] C=10.209579299157086, gamma=0.006423619815466258 ................\n",
      "[CV] . C=10.209579299157086, gamma=0.006423619815466258, total=   0.0s\n",
      "[CV] C=10.209579299157086, gamma=0.006423619815466258 ................\n",
      "[CV] . C=10.209579299157086, gamma=0.006423619815466258, total=   0.0s\n",
      "[CV] C=10.209579299157086, gamma=0.006423619815466258 ................\n",
      "[CV] . C=10.209579299157086, gamma=0.006423619815466258, total=   0.0s\n",
      "[CV] C=7.807906465946308, gamma=0.03674424571025058 ..................\n",
      "[CV] ... C=7.807906465946308, gamma=0.03674424571025058, total=   0.0s\n",
      "[CV] C=7.807906465946308, gamma=0.03674424571025058 ..................\n",
      "[CV] ... C=7.807906465946308, gamma=0.03674424571025058, total=   0.0s\n",
      "[CV] C=7.807906465946308, gamma=0.03674424571025058 ..................\n",
      "[CV] ... C=7.807906465946308, gamma=0.03674424571025058, total=   0.0s\n",
      "[CV] C=3.3306669394287316, gamma=0.001222129521654663 ................\n",
      "[CV] . C=3.3306669394287316, gamma=0.001222129521654663, total=   0.0s\n",
      "[CV] C=3.3306669394287316, gamma=0.001222129521654663 ................\n",
      "[CV] . C=3.3306669394287316, gamma=0.001222129521654663, total=   0.0s\n",
      "[CV] C=3.3306669394287316, gamma=0.001222129521654663 ................\n",
      "[CV] . C=3.3306669394287316, gamma=0.001222129521654663, total=   0.0s\n",
      "[CV] C=10.15904852700105, gamma=0.03326455943857595 ..................\n",
      "[CV] ... C=10.15904852700105, gamma=0.03326455943857595, total=   0.0s\n",
      "[CV] C=10.15904852700105, gamma=0.03326455943857595 ..................\n",
      "[CV] ... C=10.15904852700105, gamma=0.03326455943857595, total=   0.0s\n",
      "[CV] C=10.15904852700105, gamma=0.03326455943857595 ..................\n",
      "[CV] ... C=10.15904852700105, gamma=0.03326455943857595, total=   0.0s\n",
      "[CV] C=9.399949750588995, gamma=0.03704658194905373 ..................\n",
      "[CV] ... C=9.399949750588995, gamma=0.03704658194905373, total=   0.0s\n",
      "[CV] C=9.399949750588995, gamma=0.03704658194905373 ..................\n",
      "[CV] ... C=9.399949750588995, gamma=0.03704658194905373, total=   0.0s\n",
      "[CV] C=9.399949750588995, gamma=0.03704658194905373 ..................\n",
      "[CV] ... C=9.399949750588995, gamma=0.03704658194905373, total=   0.0s\n",
      "[CV] C=6.59422409450141, gamma=0.05456557276306997 ...................\n",
      "[CV] .... C=6.59422409450141, gamma=0.05456557276306997, total=   0.0s\n",
      "[CV] C=6.59422409450141, gamma=0.05456557276306997 ...................\n",
      "[CV] .... C=6.59422409450141, gamma=0.05456557276306997, total=   0.0s\n",
      "[CV] C=6.59422409450141, gamma=0.05456557276306997 ...................\n",
      "[CV] .... C=6.59422409450141, gamma=0.05456557276306997, total=   0.0s\n"
     ]
    },
    {
     "name": "stderr",
     "output_type": "stream",
     "text": [
      "[Parallel(n_jobs=1)]: Done 300 out of 300 | elapsed:    1.6s finished\n"
     ]
    },
    {
     "data": {
      "text/plain": [
       "RandomizedSearchCV(cv=None, error_score='raise',\n",
       "          estimator=SVC(C=1.0, cache_size=200, class_weight=None, coef0=0.0,\n",
       "  decision_function_shape='ovr', degree=3, gamma='auto', kernel='rbf',\n",
       "  max_iter=-1, probability=False, random_state=None, shrinking=True,\n",
       "  tol=0.001, verbose=False),\n",
       "          fit_params=None, iid=True, n_iter=100, n_jobs=1,\n",
       "          param_distributions={'gamma': <scipy.stats._distn_infrastructure.rv_frozen object at 0x000002295C80DBA8>, 'C': <scipy.stats._distn_infrastructure.rv_frozen object at 0x000002295C80DC50>},\n",
       "          pre_dispatch='2*n_jobs', random_state=None, refit=True,\n",
       "          return_train_score='warn', scoring=None, verbose=2)"
      ]
     },
     "execution_count": 35,
     "metadata": {},
     "output_type": "execute_result"
    }
   ],
   "source": [
    "param_distributions = {\"gamma\": reciprocal(0.001, 0.1), \"C\": uniform(1, 10)}\n",
    "rnd_search_cv = RandomizedSearchCV(svm_clf, param_distributions, n_iter=100, verbose=2)\n",
    "rnd_search_cv.fit(X_train_scaled, y_train)"
   ]
  },
  {
   "cell_type": "code",
   "execution_count": 36,
   "metadata": {},
   "outputs": [
    {
     "data": {
      "text/plain": [
       "SVC(C=8.327179372209839, cache_size=200, class_weight=None, coef0=0.0,\n",
       "  decision_function_shape='ovr', degree=3, gamma=0.09309660202987337,\n",
       "  kernel='rbf', max_iter=-1, probability=False, random_state=None,\n",
       "  shrinking=True, tol=0.001, verbose=False)"
      ]
     },
     "execution_count": 36,
     "metadata": {},
     "output_type": "execute_result"
    }
   ],
   "source": [
    "rnd_search_cv.best_estimator_"
   ]
  },
  {
   "cell_type": "code",
   "execution_count": 37,
   "metadata": {},
   "outputs": [
    {
     "data": {
      "text/plain": [
       "0.8427672955974843"
      ]
     },
     "execution_count": 37,
     "metadata": {},
     "output_type": "execute_result"
    }
   ],
   "source": [
    "rnd_search_cv.best_score_"
   ]
  },
  {
   "cell_type": "code",
   "execution_count": 38,
   "metadata": {},
   "outputs": [
    {
     "name": "stdout",
     "output_type": "stream",
     "text": [
      "Fitting 3 folds for each of 350 candidates, totalling 1050 fits\n"
     ]
    },
    {
     "name": "stderr",
     "output_type": "stream",
     "text": [
      "[Parallel(n_jobs=-1)]: Done  24 tasks      | elapsed:    3.1s\n",
      "[Parallel(n_jobs=-1)]: Done 1050 out of 1050 | elapsed:    7.8s finished\n"
     ]
    },
    {
     "data": {
      "text/plain": [
       "GridSearchCV(cv=None, error_score='raise',\n",
       "       estimator=SVC(C=1.0, cache_size=200, class_weight=None, coef0=0.0,\n",
       "  decision_function_shape='ovr', degree=3, gamma='auto', kernel='rbf',\n",
       "  max_iter=-1, probability=False, random_state=None, shrinking=True,\n",
       "  tol=0.001, verbose=False),\n",
       "       fit_params=None, iid=True, n_jobs=-1,\n",
       "       param_grid=[{'kernel': ['poly', 'rbf'], 'C': [1.0, 3.0, 10.0, 30.0, 100.0, 300.0, 1000.0], 'degree': [2, 3, 4, 5, 6], 'gamma': [0.01, 0.03, 0.1, 0.3, 1.0], 'probability': [True]}],\n",
       "       pre_dispatch='2*n_jobs', refit=True, return_train_score='warn',\n",
       "       scoring=None, verbose=3)"
      ]
     },
     "execution_count": 38,
     "metadata": {},
     "output_type": "execute_result"
    }
   ],
   "source": [
    "param_grid = [\n",
    "        #{'kernel': ['linear'], 'C': [10., 30., 100., 300., 1000., 3000., 10000., 30000.0]},\n",
    "         {'kernel': ['poly','rbf'], 'C': [1.0, 3.0, 10., 30., 100., 300., 1000.0], \n",
    "         'degree': [2, 3, 4, 5 ,6],\n",
    "         'gamma': [0.01, 0.03, 0.1, 0.3, 1.0],\n",
    "         'probability' : [True]},\n",
    "    ]\n",
    "grid_search_cv = GridSearchCV(svm_clf, param_grid, verbose=3, n_jobs=-1)\n",
    "grid_search_cv.fit(X_train_scaled, y_train)"
   ]
  },
  {
   "cell_type": "code",
   "execution_count": 39,
   "metadata": {},
   "outputs": [
    {
     "data": {
      "text/plain": [
       "SVC(C=300.0, cache_size=200, class_weight=None, coef0=0.0,\n",
       "  decision_function_shape='ovr', degree=2, gamma=1.0, kernel='rbf',\n",
       "  max_iter=-1, probability=True, random_state=None, shrinking=True,\n",
       "  tol=0.001, verbose=False)"
      ]
     },
     "execution_count": 39,
     "metadata": {},
     "output_type": "execute_result"
    }
   ],
   "source": [
    "grid_search_cv.best_estimator_"
   ]
  },
  {
   "cell_type": "code",
   "execution_count": 40,
   "metadata": {},
   "outputs": [
    {
     "data": {
      "text/plain": [
       "0.9213836477987422"
      ]
     },
     "execution_count": 40,
     "metadata": {},
     "output_type": "execute_result"
    }
   ],
   "source": [
    "grid_search_cv.best_score_"
   ]
  },
  {
   "cell_type": "code",
   "execution_count": 41,
   "metadata": {},
   "outputs": [],
   "source": [
    "final_model = grid_search_cv.best_estimator_\n",
    "# final_model = SVC(C=300.0, cache_size=200, class_weight=None, coef0=0.0,\n",
    "#   decision_function_shape='ovr', degree=2, gamma=1, kernel='rbf',\n",
    "#   max_iter=-1, probability=True, random_state=None, shrinking=True,\n",
    "#   tol=0.001, verbose=False)\n",
    "# final_model.fit(X_train_scaled,y_train)"
   ]
  },
  {
   "cell_type": "code",
   "execution_count": 42,
   "metadata": {},
   "outputs": [
    {
     "name": "stderr",
     "output_type": "stream",
     "text": [
      "[Parallel(n_jobs=-1)]: Done   2 out of   5 | elapsed:    1.8s remaining:    2.7s\n"
     ]
    },
    {
     "name": "stdout",
     "output_type": "stream",
     "text": [
      "[0.95 0.95 0.94 0.92 0.87]\n"
     ]
    },
    {
     "name": "stderr",
     "output_type": "stream",
     "text": [
      "[Parallel(n_jobs=-1)]: Done   5 out of   5 | elapsed:    3.1s finished\n"
     ]
    }
   ],
   "source": [
    "cv_scores = cross_val_score(final_model, X_train_scaled, y_train, cv=5, verbose=3, n_jobs=-1)\n",
    "print(cv_scores)"
   ]
  },
  {
   "cell_type": "markdown",
   "metadata": {},
   "source": [
    "## Predicting the Classes in Trainning Set"
   ]
  },
  {
   "cell_type": "code",
   "execution_count": 43,
   "metadata": {},
   "outputs": [],
   "source": [
    "y_pred = final_model.predict(X_train_scaled)"
   ]
  },
  {
   "cell_type": "code",
   "execution_count": 44,
   "metadata": {},
   "outputs": [
    {
     "data": {
      "image/png": "[encoded data removed]",
      "text/plain": [
       "<Figure size 432x288 with 1 Axes>"
      ]
     },
     "metadata": {},
     "output_type": "display_data"
    }
   ],
   "source": [
    "y_pred_prob = final_model.predict_proba(X_train_scaled)[:,1]\n",
    "# Generate ROC curve values: fpr, tpr, thresholds\n",
    "fpr, tpr, thresholds = roc_curve(y_train, y_pred_prob)\n",
    "\n",
    "# Plot ROC curve\n",
    "plt.plot([0, 1], [0, 1], 'k--')\n",
    "plt.plot(fpr, tpr)\n",
    "plt.xlabel('False Positive Rate')\n",
    "plt.ylabel('True Positive Rate')\n",
    "plt.title('ROC Curve')\n",
    "plt.show()"
   ]
  },
  {
   "cell_type": "markdown",
   "metadata": {},
   "source": [
    "<font color='red'>\n",
    "Notes:<br>\n",
    "The probability model is created using cross validation, so the results can be slightly different than those obtained by predict. Also, it will produce meaningless results on very small datasets.</font>"
   ]
  },
  {
   "cell_type": "code",
   "execution_count": 45,
   "metadata": {},
   "outputs": [
    {
     "data": {
      "text/plain": [
       "1.0"
      ]
     },
     "execution_count": 45,
     "metadata": {},
     "output_type": "execute_result"
    }
   ],
   "source": [
    "roc_auc_score(y_train, y_pred_prob)"
   ]
  },
  {
   "cell_type": "code",
   "execution_count": 47,
   "metadata": {},
   "outputs": [
    {
     "name": "stdout",
     "output_type": "stream",
     "text": [
      "Confusion matrix, without normalization\n"
     ]
    },
    {
     "data": {
      "image/png": "[encoded data removed]",
      "text/plain": [
       "<Figure size 432x288 with 2 Axes>"
      ]
     },
     "metadata": {},
     "output_type": "display_data"
    }
   ],
   "source": [
    "printcfm(y_train,y_pred,title='confusion matrix')"
   ]
  },
  {
   "cell_type": "markdown",
   "metadata": {},
   "source": [
    "## Evaluating the model with Cross-Validation"
   ]
  },
  {
   "cell_type": "code",
   "execution_count": 48,
   "metadata": {},
   "outputs": [],
   "source": [
    "y_pred_prob = final_model.predict_proba(X_train_scaled)[:,1]"
   ]
  },
  {
   "cell_type": "code",
   "execution_count": 49,
   "metadata": {},
   "outputs": [
    {
     "name": "stderr",
     "output_type": "stream",
     "text": [
      "[Parallel(n_jobs=1)]: Done   1 out of   1 | elapsed:    0.0s remaining:    0.0s\n",
      "[Parallel(n_jobs=1)]: Done   2 out of   2 | elapsed:    0.0s remaining:    0.0s\n",
      "[Parallel(n_jobs=1)]: Done   3 out of   3 | elapsed:    0.0s finished\n"
     ]
    }
   ],
   "source": [
    "y_scores = cross_val_predict(final_model, X_train_scaled, y_train, cv=3, verbose=3, method='predict_proba')"
   ]
  },
  {
   "cell_type": "code",
   "execution_count": 50,
   "metadata": {},
   "outputs": [
    {
     "name": "stderr",
     "output_type": "stream",
     "text": [
      "[Parallel(n_jobs=1)]: Done   1 out of   1 | elapsed:    0.0s remaining:    0.0s\n",
      "[Parallel(n_jobs=1)]: Done   2 out of   2 | elapsed:    0.0s remaining:    0.0s\n",
      "[Parallel(n_jobs=1)]: Done   3 out of   3 | elapsed:    0.0s finished\n"
     ]
    }
   ],
   "source": [
    "y_train_pred = cross_val_predict(final_model, X_train_scaled, y_train, cv=3, verbose=3)\n",
    "# hack to work around issue #9589 in Scikit-Learn 0.19.0\n",
    "if y_scores.ndim == 2:\n",
    "    y_scores = y_scores[:, 1]\n",
    "# print(y_scores)\n",
    "# print(np.mean(y_scores))"
   ]
  },
  {
   "cell_type": "code",
   "execution_count": 51,
   "metadata": {},
   "outputs": [
    {
     "data": {
      "image/png": "[encoded data removed]",
      "text/plain": [
       "<Figure size 432x288 with 1 Axes>"
      ]
     },
     "metadata": {},
     "output_type": "display_data"
    }
   ],
   "source": [
    "# Generate ROC curve values: fpr, tpr, thresholds\n",
    "fpr, tpr, thresholds = roc_curve(y_train, y_train_pred)\n",
    "\n",
    "# Plot ROC curve\n",
    "plt.plot([0, 1], [0, 1], 'k--')\n",
    "plt.plot(fpr, tpr)\n",
    "plt.xlabel('False Positive Rate')\n",
    "plt.ylabel('True Positive Rate')\n",
    "plt.title('ROC Curve')\n",
    "plt.show()"
   ]
  },
  {
   "cell_type": "markdown",
   "metadata": {},
   "source": [
    "<font color='red'>\n",
    "Notes:<br>\n",
    "The probability model is created using cross validation, so the results can be slightly different than those obtained by predict. Also, it will produce meaningless results on very small datasets.</font>"
   ]
  },
  {
   "cell_type": "code",
   "execution_count": 52,
   "metadata": {},
   "outputs": [
    {
     "data": {
      "text/plain": [
       "0.9213836477987422"
      ]
     },
     "execution_count": 52,
     "metadata": {},
     "output_type": "execute_result"
    }
   ],
   "source": [
    "auc_train = roc_auc_score(y_train, y_train_pred)\n",
    "auc_train"
   ]
  },
  {
   "cell_type": "code",
   "execution_count": 55,
   "metadata": {},
   "outputs": [
    {
     "name": "stdout",
     "output_type": "stream",
     "text": [
      "Confusion matrix, without normalization\n"
     ]
    },
    {
     "data": {
      "image/png": "[encoded data removed]",
      "text/plain": [
       "<Figure size 432x288 with 2 Axes>"
      ]
     },
     "metadata": {},
     "output_type": "display_data"
    }
   ],
   "source": [
    "printcfm(y_train,y_train_pred,title='confusion matrix')"
   ]
  },
  {
   "cell_type": "code",
   "execution_count": 56,
   "metadata": {},
   "outputs": [
    {
     "name": "stdout",
     "output_type": "stream",
     "text": [
      "             precision    recall  f1-score   support\n",
      "\n",
      "          0       0.92      0.92      0.92       159\n",
      "          1       0.92      0.92      0.92       159\n",
      "\n",
      "avg / total       0.92      0.92      0.92       318\n",
      "\n"
     ]
    }
   ],
   "source": [
    "print(classification_report(y_train, y_train_pred))"
   ]
  },
  {
   "cell_type": "markdown",
   "metadata": {},
   "source": [
    "## Precision/Recall Tradeoff"
   ]
  },
  {
   "cell_type": "code",
   "execution_count": 57,
   "metadata": {},
   "outputs": [
    {
     "data": {
      "image/png": "[encoded data removed]",
      "text/plain": [
       "<Figure size 432x288 with 1 Axes>"
      ]
     },
     "metadata": {},
     "output_type": "display_data"
    }
   ],
   "source": [
    "precisions, recalls, thresholds = precision_recall_curve(y_train, y_scores)\n",
    "def plot_precision_recall_vs_threshold(precisions, recalls, thresholds):\n",
    "    plt.plot(thresholds, precisions[:-1], \"b--\", label=\"Precision\")\n",
    "    plt.plot(thresholds, recalls[:-1], \"g-\", label=\"Recall\")\n",
    "    plt.xlabel(\"Threshold\")\n",
    "    plt.legend(loc=\"upper left\")\n",
    "    plt.ylim([0, 1])\n",
    "plot_precision_recall_vs_threshold(precisions, recalls, thresholds)\n",
    "plt.show()"
   ]
  },
  {
   "cell_type": "code",
   "execution_count": 58,
   "metadata": {},
   "outputs": [
    {
     "name": "stdout",
     "output_type": "stream",
     "text": [
      "[0.94 0.92 0.91]\n",
      "0.9213836477987423\n"
     ]
    }
   ],
   "source": [
    "cv_scores = cross_val_score(final_model, X_train_scaled, y_train, cv=3)\n",
    "print(cv_scores)\n",
    "print(np.mean(cv_scores))"
   ]
  },
  {
   "cell_type": "code",
   "execution_count": 59,
   "metadata": {},
   "outputs": [
    {
     "data": {
      "image/png": "[encoded data removed]",
      "text/plain": [
       "<Figure size 576x432 with 1 Axes>"
      ]
     },
     "metadata": {},
     "output_type": "display_data"
    }
   ],
   "source": [
    "def plot_precision_vs_recall(precisions, recalls):\n",
    "    plt.plot(recalls, precisions, \"b-\", linewidth=2)\n",
    "    plt.xlabel(\"Recall\", fontsize=16)\n",
    "    plt.ylabel(\"Precision\", fontsize=16)\n",
    "    plt.axis([0, 1.01, 0, 1])\n",
    "\n",
    "plt.figure(figsize=(8, 6))\n",
    "plot_precision_vs_recall(precisions, recalls)\n",
    "plt.show()"
   ]
  },
  {
   "cell_type": "markdown",
   "metadata": {},
   "source": [
    "## Predicting the Classes in Test Set"
   ]
  },
  {
   "cell_type": "code",
   "execution_count": 60,
   "metadata": {},
   "outputs": [],
   "source": [
    "y_pred = final_model.predict(X_test_scaled)"
   ]
  },
  {
   "cell_type": "code",
   "execution_count": 61,
   "metadata": {},
   "outputs": [
    {
     "data": {
      "image/png": "[encoded data removed]",
      "text/plain": [
       "<Figure size 432x288 with 1 Axes>"
      ]
     },
     "metadata": {},
     "output_type": "display_data"
    }
   ],
   "source": [
    "y_pred_prob = final_model.predict_proba(X_test_scaled)[:,1]\n",
    "# Generate ROC curve values: fpr, tpr, thresholds\n",
    "fpr, tpr, thresholds = roc_curve(y_test, y_pred_prob)\n",
    "\n",
    "# Plot ROC curve\n",
    "plt.plot([0, 1], [0, 1], 'k--')\n",
    "plt.plot(fpr, tpr)\n",
    "plt.xlabel('False Positive Rate')\n",
    "plt.ylabel('True Positive Rate')\n",
    "plt.title('ROC Curve')\n",
    "plt.show()"
   ]
  },
  {
   "cell_type": "markdown",
   "metadata": {},
   "source": [
    "<font color='red'>\n",
    "Notes:<br>\n",
    "The probability model is created using cross validation, so the results can be slightly different than those obtained by predict. Also, it will produce meaningless results on very small datasets.</font>"
   ]
  },
  {
   "cell_type": "code",
   "execution_count": 62,
   "metadata": {},
   "outputs": [
    {
     "data": {
      "text/plain": [
       "0.8036764705882352"
      ]
     },
     "execution_count": 62,
     "metadata": {},
     "output_type": "execute_result"
    }
   ],
   "source": [
    "roc_auc_score(y_test, y_pred_prob)"
   ]
  },
  {
   "cell_type": "code",
   "execution_count": 63,
   "metadata": {},
   "outputs": [
    {
     "name": "stdout",
     "output_type": "stream",
     "text": [
      "Confusion matrix, without normalization\n"
     ]
    },
    {
     "data": {
      "image/png": "[encoded data removed]",
      "text/plain": [
       "<Figure size 432x288 with 2 Axes>"
      ]
     },
     "metadata": {},
     "output_type": "display_data"
    }
   ],
   "source": [
    "printcfm(y_test,y_pred,title='confusion matrix')"
   ]
  },
  {
   "cell_type": "code",
   "execution_count": 65,
   "metadata": {},
   "outputs": [
    {
     "name": "stdout",
     "output_type": "stream",
     "text": [
      "             precision    recall  f1-score   support\n",
      "\n",
      "          0       0.82      0.96      0.88        68\n",
      "          1       0.67      0.30      0.41        20\n",
      "\n",
      "avg / total       0.79      0.81      0.78        88\n",
      "\n"
     ]
    }
   ],
   "source": [
    "print(classification_report(y_test, y_pred))"
   ]
  },
  {
   "cell_type": "code",
   "execution_count": 66,
   "metadata": {},
   "outputs": [],
   "source": [
    "X=np.concatenate((X_train_scaled,X_test_scaled),axis=0)\n",
    "# print(X)\n",
    "y=np.append(y_train,y_test)\n",
    "# print(y)"
   ]
  },
  {
   "cell_type": "code",
   "execution_count": 78,
   "metadata": {},
   "outputs": [
    {
     "name": "stdout",
     "output_type": "stream",
     "text": [
      "Automatically created module for IPython interactive environment\n"
     ]
    },
    {
     "data": {
      "image/png": "[encoded data removed]",
      "text/plain": [
       "<Figure size 432x288 with 1 Axes>"
      ]
     },
     "metadata": {},
     "output_type": "display_data"
    }
   ],
   "source": [
    "print(__doc__)\n",
    "\n",
    "param_range = np.logspace(-6, 2, 5)\n",
    "\n",
    "train_scores, test_scores = validation_curve(\n",
    "    final_model, X, y, param_name=\"gamma\", param_range=param_range,\n",
    "    cv=10, scoring=\"roc_auc\", n_jobs=-1)\n",
    "\n",
    "train_scores_mean = np.mean(train_scores, axis=1)\n",
    "train_scores_std = np.std(train_scores, axis=1)\n",
    "test_scores_mean = np.mean(test_scores, axis=1)\n",
    "test_scores_std = np.std(test_scores, axis=1)\n",
    "\n",
    "plt.title(\"Validation Curve with SVC\")\n",
    "plt.xlabel(\"$\\gamma$\")\n",
    "plt.ylabel(\"AUC\")\n",
    "#plt.ylim(0.0, 1.1)\n",
    "#plt.xlim(-1, 22)\n",
    "lw = 2\n",
    "plt.semilogx(param_range, train_scores_mean, label=\"Training score\",\n",
    "             color=\"darkorange\", lw=lw)\n",
    "plt.fill_between(param_range, train_scores_mean - train_scores_std,\n",
    "                 train_scores_mean + train_scores_std, alpha=0.2,\n",
    "                 color=\"darkorange\", lw=lw)\n",
    "plt.semilogx(param_range, test_scores_mean, label=\"Cross-validation score\",\n",
    "             color=\"navy\", lw=lw)\n",
    "plt.fill_between(param_range, test_scores_mean - test_scores_std,\n",
    "                 test_scores_mean + test_scores_std, alpha=0.2,\n",
    "                 color=\"navy\", lw=lw)\n",
    "plt.legend(loc=\"best\")\n",
    "plt.show()"
   ]
  },
  {
   "cell_type": "code",
   "execution_count": null,
   "metadata": {},
   "outputs": [],
   "source": [
    "param_range = np.logspace(-6, 20, 20)\n",
    "\n",
    "viz = ValidationCurve(\n",
    "    final_model, param_name=\"gamma\", param_range=param_range,\n",
    "    logx=True, cv=10, scoring=\"precision\", n_jobs=-1,\n",
    ")\n",
    "\n",
    "viz.fit(X, y)\n",
    "viz.poof()"
   ]
  },
  {
   "cell_type": "markdown",
   "metadata": {},
   "source": [
    "# Add learning curves"
   ]
  },
  {
   "cell_type": "code",
   "execution_count": null,
   "metadata": {},
   "outputs": [],
   "source": []
  }
 ],
 "metadata": {
  "kernelspec": {
   "display_name": "Python 3",
   "language": "python",
   "name": "python3"
  },
  "language_info": {
   "codemirror_mode": {
    "name": "ipython",
    "version": 3
   },
   "file_extension": ".py",
   "mimetype": "text/x-python",
   "name": "python",
   "nbconvert_exporter": "python",
   "pygments_lexer": "ipython3",
   "version": "3.6.5"
  }
 },
 "nbformat": 4,
 "nbformat_minor": 2
}
