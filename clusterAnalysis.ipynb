{
 "cells": [
  {
   "cell_type": "markdown",
   "metadata": {},
   "source": [
    "<p style=\"font-family: Arial; font-size:2.75em;color:purple; font-style:bold\">\n",
    "Cluster Analysis"
   ]
  },
  {
   "cell_type": "code",
   "execution_count": 1,
   "metadata": {},
   "outputs": [
    {
     "data": {
      "application/javascript": [
       "IPython.notebook.set_autosave_interval(0)"
      ]
     },
     "metadata": {},
     "output_type": "display_data"
    },
    {
     "name": "stdout",
     "output_type": "stream",
     "text": [
      "Autosave disabled\n"
     ]
    }
   ],
   "source": [
    "%autosave 0"
   ]
  },
  {
   "cell_type": "code",
   "execution_count": 2,
   "metadata": {},
   "outputs": [],
   "source": [
    "#from customplot import *\n",
    "#import itertools\n",
    "#import sqlite3\n",
    "import pandas as pd\n",
    "import numpy as np\n",
    "import matplotlib.pyplot as plt\n",
    "from scipy.cluster.hierarchy import dendrogram, linkage\n",
    "from scipy.cluster.hierarchy import fcluster\n",
    "from scipy.cluster.hierarchy import cophenet\n",
    "from scipy.spatial.distance import pdist\n",
    "from IPython.display import Image\n",
    "from sklearn import metrics\n",
    "from sklearn.cluster import KMeans\n",
    "from sklearn.cluster import DBSCAN\n",
    "from sklearn.model_selection import train_test_split\n",
    "from sklearn.preprocessing import StandardScaler\n",
    "from sklearn.pipeline import make_pipeline"
   ]
  },
  {
   "cell_type": "code",
   "execution_count": 3,
   "metadata": {},
   "outputs": [],
   "source": [
    "def fancy_dendrogram(*args, **kwargs):\n",
    "    max_d = kwargs.pop('max_d', None)\n",
    "    if max_d and 'color_threshold' not in kwargs:\n",
    "        kwargs['color_threshold'] = max_d\n",
    "    annotate_above = kwargs.pop('annotate_above', 0)\n",
    "\n",
    "    ddata = dendrogram(*args, **kwargs)\n",
    "\n",
    "    if not kwargs.get('no_plot', False):\n",
    "        plt.title('Hierarchical Clustering Dendrogram (truncated)')\n",
    "        plt.xlabel('sample index or (cluster size)')\n",
    "        plt.ylabel('distance')\n",
    "        for i, d, c in zip(ddata['icoord'], ddata['dcoord'], ddata['color_list']):\n",
    "            x = 0.5 * sum(i[1:3])\n",
    "            y = d[1]\n",
    "            if y > annotate_above:\n",
    "                plt.plot(x, y, 'o', c=c)\n",
    "                plt.annotate(\"%.3g\" % y, (x, y), xytext=(0, -5),\n",
    "                             textcoords='offset points',\n",
    "                             va='top', ha='center')\n",
    "        if max_d:\n",
    "            plt.axhline(y=max_d, c='k')\n",
    "    return ddata"
   ]
  },
  {
   "cell_type": "code",
   "execution_count": 4,
   "metadata": {},
   "outputs": [],
   "source": [
    "#Setando configurações de visualização\n",
    "pd.options.display.max_rows=350\n",
    "pd.options.display.max_columns=60"
   ]
  },
  {
   "cell_type": "code",
   "execution_count": 5,
   "metadata": {},
   "outputs": [],
   "source": [
    "df=pd.read_csv('baseProjeto_entradaModelo.csv', index_col=0)"
   ]
  },
  {
   "cell_type": "code",
   "execution_count": 6,
   "metadata": {},
   "outputs": [
    {
     "data": {
      "text/html": [
       "<div>\n",
       "<style scoped>\n",
       "    .dataframe tbody tr th:only-of-type {\n",
       "        vertical-align: middle;\n",
       "    }\n",
       "\n",
       "    .dataframe tbody tr th {\n",
       "        vertical-align: top;\n",
       "    }\n",
       "\n",
       "    .dataframe thead th {\n",
       "        text-align: right;\n",
       "    }\n",
       "</style>\n",
       "<table border=\"1\" class=\"dataframe\">\n",
       "  <thead>\n",
       "    <tr style=\"text-align: right;\">\n",
       "      <th></th>\n",
       "      <th>AREA</th>\n",
       "      <th>POÇO</th>\n",
       "      <th>ID_INTERVALO</th>\n",
       "      <th>ATRIB_MED1</th>\n",
       "      <th>ATRIB_MAX1</th>\n",
       "      <th>ATRIB_DIST1</th>\n",
       "      <th>DIFP</th>\n",
       "      <th>MGP1</th>\n",
       "      <th>MGP2</th>\n",
       "      <th>MGP3</th>\n",
       "      <th>MGP4</th>\n",
       "      <th>MGP5</th>\n",
       "      <th>MGP6</th>\n",
       "      <th>MGP7</th>\n",
       "      <th>MGP8</th>\n",
       "      <th>MGP9</th>\n",
       "      <th>MGP10</th>\n",
       "      <th>MGP11</th>\n",
       "      <th>MGP12</th>\n",
       "      <th>MGP13</th>\n",
       "      <th>MGP14</th>\n",
       "      <th>Perda30</th>\n",
       "      <th>PerdaAPI</th>\n",
       "      <th>PerdaPS</th>\n",
       "      <th>PERDA_MAX</th>\n",
       "    </tr>\n",
       "  </thead>\n",
       "  <tbody>\n",
       "    <tr>\n",
       "      <th>1</th>\n",
       "      <td>C1</td>\n",
       "      <td>C1P1</td>\n",
       "      <td>A1</td>\n",
       "      <td>0.08</td>\n",
       "      <td>0.54</td>\n",
       "      <td>1000.0</td>\n",
       "      <td>0.610</td>\n",
       "      <td>1</td>\n",
       "      <td>1</td>\n",
       "      <td>1</td>\n",
       "      <td>1</td>\n",
       "      <td>0</td>\n",
       "      <td>0</td>\n",
       "      <td>0</td>\n",
       "      <td>1</td>\n",
       "      <td>1</td>\n",
       "      <td>1</td>\n",
       "      <td>0</td>\n",
       "      <td>0</td>\n",
       "      <td>0</td>\n",
       "      <td>0</td>\n",
       "      <td>1</td>\n",
       "      <td>1</td>\n",
       "      <td>0</td>\n",
       "      <td>100.0</td>\n",
       "    </tr>\n",
       "    <tr>\n",
       "      <th>2</th>\n",
       "      <td>C1</td>\n",
       "      <td>C1P1</td>\n",
       "      <td>A2</td>\n",
       "      <td>0.05</td>\n",
       "      <td>0.05</td>\n",
       "      <td>1000.0</td>\n",
       "      <td>0.540</td>\n",
       "      <td>1</td>\n",
       "      <td>1</td>\n",
       "      <td>1</td>\n",
       "      <td>1</td>\n",
       "      <td>0</td>\n",
       "      <td>0</td>\n",
       "      <td>0</td>\n",
       "      <td>1</td>\n",
       "      <td>1</td>\n",
       "      <td>1</td>\n",
       "      <td>0</td>\n",
       "      <td>0</td>\n",
       "      <td>0</td>\n",
       "      <td>0</td>\n",
       "      <td>0</td>\n",
       "      <td>0</td>\n",
       "      <td>0</td>\n",
       "      <td>12.0</td>\n",
       "    </tr>\n",
       "    <tr>\n",
       "      <th>3</th>\n",
       "      <td>C1</td>\n",
       "      <td>C1P1</td>\n",
       "      <td>A3</td>\n",
       "      <td>0.05</td>\n",
       "      <td>0.05</td>\n",
       "      <td>1000.0</td>\n",
       "      <td>0.610</td>\n",
       "      <td>1</td>\n",
       "      <td>1</td>\n",
       "      <td>1</td>\n",
       "      <td>1</td>\n",
       "      <td>0</td>\n",
       "      <td>0</td>\n",
       "      <td>0</td>\n",
       "      <td>1</td>\n",
       "      <td>1</td>\n",
       "      <td>1</td>\n",
       "      <td>0</td>\n",
       "      <td>0</td>\n",
       "      <td>0</td>\n",
       "      <td>0</td>\n",
       "      <td>0</td>\n",
       "      <td>0</td>\n",
       "      <td>0</td>\n",
       "      <td>10.0</td>\n",
       "    </tr>\n",
       "    <tr>\n",
       "      <th>4</th>\n",
       "      <td>C1</td>\n",
       "      <td>C1P1</td>\n",
       "      <td>B1</td>\n",
       "      <td>0.13</td>\n",
       "      <td>0.92</td>\n",
       "      <td>1000.0</td>\n",
       "      <td>0.630</td>\n",
       "      <td>1</td>\n",
       "      <td>1</td>\n",
       "      <td>1</td>\n",
       "      <td>1</td>\n",
       "      <td>0</td>\n",
       "      <td>0</td>\n",
       "      <td>0</td>\n",
       "      <td>1</td>\n",
       "      <td>1</td>\n",
       "      <td>1</td>\n",
       "      <td>0</td>\n",
       "      <td>0</td>\n",
       "      <td>0</td>\n",
       "      <td>0</td>\n",
       "      <td>0</td>\n",
       "      <td>0</td>\n",
       "      <td>0</td>\n",
       "      <td>0.0</td>\n",
       "    </tr>\n",
       "    <tr>\n",
       "      <th>5</th>\n",
       "      <td>C1</td>\n",
       "      <td>C1P2</td>\n",
       "      <td>A1</td>\n",
       "      <td>0.16</td>\n",
       "      <td>0.83</td>\n",
       "      <td>300.0</td>\n",
       "      <td>0.420</td>\n",
       "      <td>1</td>\n",
       "      <td>1</td>\n",
       "      <td>1</td>\n",
       "      <td>1</td>\n",
       "      <td>1</td>\n",
       "      <td>1</td>\n",
       "      <td>0</td>\n",
       "      <td>1</td>\n",
       "      <td>1</td>\n",
       "      <td>1</td>\n",
       "      <td>1</td>\n",
       "      <td>1</td>\n",
       "      <td>1</td>\n",
       "      <td>1</td>\n",
       "      <td>1</td>\n",
       "      <td>1</td>\n",
       "      <td>1</td>\n",
       "      <td>999.0</td>\n",
       "    </tr>\n",
       "    <tr>\n",
       "      <th>7</th>\n",
       "      <td>C1</td>\n",
       "      <td>C1P2</td>\n",
       "      <td>A3</td>\n",
       "      <td>0.46</td>\n",
       "      <td>0.95</td>\n",
       "      <td>17.0</td>\n",
       "      <td>0.604</td>\n",
       "      <td>1</td>\n",
       "      <td>1</td>\n",
       "      <td>1</td>\n",
       "      <td>1</td>\n",
       "      <td>1</td>\n",
       "      <td>1</td>\n",
       "      <td>0</td>\n",
       "      <td>1</td>\n",
       "      <td>1</td>\n",
       "      <td>1</td>\n",
       "      <td>1</td>\n",
       "      <td>1</td>\n",
       "      <td>1</td>\n",
       "      <td>1</td>\n",
       "      <td>1</td>\n",
       "      <td>1</td>\n",
       "      <td>1</td>\n",
       "      <td>500.0</td>\n",
       "    </tr>\n",
       "    <tr>\n",
       "      <th>8</th>\n",
       "      <td>C1</td>\n",
       "      <td>C1P2</td>\n",
       "      <td>B1</td>\n",
       "      <td>0.12</td>\n",
       "      <td>0.84</td>\n",
       "      <td>127.0</td>\n",
       "      <td>0.695</td>\n",
       "      <td>1</td>\n",
       "      <td>1</td>\n",
       "      <td>1</td>\n",
       "      <td>1</td>\n",
       "      <td>1</td>\n",
       "      <td>1</td>\n",
       "      <td>0</td>\n",
       "      <td>1</td>\n",
       "      <td>1</td>\n",
       "      <td>1</td>\n",
       "      <td>1</td>\n",
       "      <td>1</td>\n",
       "      <td>1</td>\n",
       "      <td>1</td>\n",
       "      <td>1</td>\n",
       "      <td>1</td>\n",
       "      <td>1</td>\n",
       "      <td>450.0</td>\n",
       "    </tr>\n",
       "    <tr>\n",
       "      <th>9</th>\n",
       "      <td>C1</td>\n",
       "      <td>C1P3</td>\n",
       "      <td>A1</td>\n",
       "      <td>0.05</td>\n",
       "      <td>0.05</td>\n",
       "      <td>1000.0</td>\n",
       "      <td>0.470</td>\n",
       "      <td>0</td>\n",
       "      <td>1</td>\n",
       "      <td>1</td>\n",
       "      <td>1</td>\n",
       "      <td>0</td>\n",
       "      <td>0</td>\n",
       "      <td>0</td>\n",
       "      <td>0</td>\n",
       "      <td>1</td>\n",
       "      <td>1</td>\n",
       "      <td>1</td>\n",
       "      <td>1</td>\n",
       "      <td>0</td>\n",
       "      <td>1</td>\n",
       "      <td>1</td>\n",
       "      <td>1</td>\n",
       "      <td>0</td>\n",
       "      <td>120.0</td>\n",
       "    </tr>\n",
       "    <tr>\n",
       "      <th>11</th>\n",
       "      <td>C1</td>\n",
       "      <td>C1P3</td>\n",
       "      <td>A3</td>\n",
       "      <td>0.26</td>\n",
       "      <td>0.95</td>\n",
       "      <td>120.0</td>\n",
       "      <td>0.363</td>\n",
       "      <td>0</td>\n",
       "      <td>1</td>\n",
       "      <td>1</td>\n",
       "      <td>1</td>\n",
       "      <td>0</td>\n",
       "      <td>0</td>\n",
       "      <td>0</td>\n",
       "      <td>0</td>\n",
       "      <td>1</td>\n",
       "      <td>1</td>\n",
       "      <td>1</td>\n",
       "      <td>1</td>\n",
       "      <td>0</td>\n",
       "      <td>1</td>\n",
       "      <td>1</td>\n",
       "      <td>1</td>\n",
       "      <td>0</td>\n",
       "      <td>60.0</td>\n",
       "    </tr>\n",
       "    <tr>\n",
       "      <th>12</th>\n",
       "      <td>C1</td>\n",
       "      <td>C1P3</td>\n",
       "      <td>B1</td>\n",
       "      <td>0.05</td>\n",
       "      <td>0.05</td>\n",
       "      <td>1000.0</td>\n",
       "      <td>0.350</td>\n",
       "      <td>0</td>\n",
       "      <td>1</td>\n",
       "      <td>1</td>\n",
       "      <td>1</td>\n",
       "      <td>0</td>\n",
       "      <td>0</td>\n",
       "      <td>0</td>\n",
       "      <td>0</td>\n",
       "      <td>1</td>\n",
       "      <td>1</td>\n",
       "      <td>1</td>\n",
       "      <td>1</td>\n",
       "      <td>0</td>\n",
       "      <td>1</td>\n",
       "      <td>1</td>\n",
       "      <td>1</td>\n",
       "      <td>1</td>\n",
       "      <td>300.0</td>\n",
       "    </tr>\n",
       "  </tbody>\n",
       "</table>\n",
       "</div>"
      ],
      "text/plain": [
       "   AREA  POÇO ID_INTERVALO  ATRIB_MED1  ATRIB_MAX1  ATRIB_DIST1   DIFP  MGP1  \\\n",
       "1    C1  C1P1           A1        0.08        0.54       1000.0  0.610     1   \n",
       "2    C1  C1P1           A2        0.05        0.05       1000.0  0.540     1   \n",
       "3    C1  C1P1           A3        0.05        0.05       1000.0  0.610     1   \n",
       "4    C1  C1P1           B1        0.13        0.92       1000.0  0.630     1   \n",
       "5    C1  C1P2           A1        0.16        0.83        300.0  0.420     1   \n",
       "7    C1  C1P2           A3        0.46        0.95         17.0  0.604     1   \n",
       "8    C1  C1P2           B1        0.12        0.84        127.0  0.695     1   \n",
       "9    C1  C1P3           A1        0.05        0.05       1000.0  0.470     0   \n",
       "11   C1  C1P3           A3        0.26        0.95        120.0  0.363     0   \n",
       "12   C1  C1P3           B1        0.05        0.05       1000.0  0.350     0   \n",
       "\n",
       "    MGP2  MGP3  MGP4  MGP5  MGP6  MGP7  MGP8  MGP9  MGP10  MGP11  MGP12  \\\n",
       "1      1     1     1     0     0     0     1     1      1      0      0   \n",
       "2      1     1     1     0     0     0     1     1      1      0      0   \n",
       "3      1     1     1     0     0     0     1     1      1      0      0   \n",
       "4      1     1     1     0     0     0     1     1      1      0      0   \n",
       "5      1     1     1     1     1     0     1     1      1      1      1   \n",
       "7      1     1     1     1     1     0     1     1      1      1      1   \n",
       "8      1     1     1     1     1     0     1     1      1      1      1   \n",
       "9      1     1     1     0     0     0     0     1      1      1      1   \n",
       "11     1     1     1     0     0     0     0     1      1      1      1   \n",
       "12     1     1     1     0     0     0     0     1      1      1      1   \n",
       "\n",
       "    MGP13  MGP14  Perda30  PerdaAPI  PerdaPS  PERDA_MAX  \n",
       "1       0      0        1         1        0      100.0  \n",
       "2       0      0        0         0        0       12.0  \n",
       "3       0      0        0         0        0       10.0  \n",
       "4       0      0        0         0        0        0.0  \n",
       "5       1      1        1         1        1      999.0  \n",
       "7       1      1        1         1        1      500.0  \n",
       "8       1      1        1         1        1      450.0  \n",
       "9       0      1        1         1        0      120.0  \n",
       "11      0      1        1         1        0       60.0  \n",
       "12      0      1        1         1        1      300.0  "
      ]
     },
     "execution_count": 6,
     "metadata": {},
     "output_type": "execute_result"
    }
   ],
   "source": [
    "df.head(10)"
   ]
  },
  {
   "cell_type": "code",
   "execution_count": 7,
   "metadata": {},
   "outputs": [
    {
     "name": "stdout",
     "output_type": "stream",
     "text": [
      "Index(['AREA', 'POÇO', 'ID_INTERVALO', 'ATRIB_MED1', 'ATRIB_MAX1',\n",
      "       'ATRIB_DIST1', 'DIFP', 'MGP1', 'MGP2', 'MGP3', 'MGP4', 'MGP5', 'MGP6',\n",
      "       'MGP7', 'MGP8', 'MGP9', 'MGP10', 'MGP11', 'MGP12', 'MGP13', 'MGP14',\n",
      "       'Perda30', 'PerdaAPI', 'PerdaPS', 'PERDA_MAX'],\n",
      "      dtype='object')\n"
     ]
    }
   ],
   "source": [
    "print(df.columns)"
   ]
  },
  {
   "cell_type": "code",
   "execution_count": 8,
   "metadata": {},
   "outputs": [],
   "source": [
    "# categorize_questions = lambda x: x.astype('category')\n",
    "# questions = [ 'MGP1', 'MGP2', 'MGP3', 'MGP4', 'MGP5', 'MGP6', 'MGP7', 'MGP8', 'MGP9',\n",
    "#        'MGP10', 'MGP11', 'MGP12', 'MGP13', 'MGP14']\n",
    "# df[questions] = df[questions].apply(categorize_questions,axis=0)"
   ]
  },
  {
   "cell_type": "code",
   "execution_count": 9,
   "metadata": {},
   "outputs": [],
   "source": [
    "X=df[['ATRIB_MED1', 'ATRIB_MAX1',\n",
    "       'ATRIB_DIST1', 'DIFP', 'MGP1', 'MGP2', 'MGP3', 'MGP4', 'MGP5', 'MGP6',\n",
    "       'MGP7', 'MGP8', 'MGP9', 'MGP10', 'MGP11', 'MGP12', 'MGP13', 'MGP14']]"
   ]
  },
  {
   "cell_type": "code",
   "execution_count": 10,
   "metadata": {},
   "outputs": [],
   "source": [
    "X;"
   ]
  },
  {
   "cell_type": "code",
   "execution_count": 11,
   "metadata": {},
   "outputs": [
    {
     "name": "stdout",
     "output_type": "stream",
     "text": [
      "<class 'pandas.core.frame.DataFrame'>\n",
      "Int64Index: 293 entries, 1 to 303\n",
      "Data columns (total 18 columns):\n",
      "ATRIB_MED1     293 non-null float64\n",
      "ATRIB_MAX1     293 non-null float64\n",
      "ATRIB_DIST1    293 non-null float64\n",
      "DIFP           293 non-null float64\n",
      "MGP1           293 non-null int64\n",
      "MGP2           293 non-null int64\n",
      "MGP3           293 non-null int64\n",
      "MGP4           293 non-null int64\n",
      "MGP5           293 non-null int64\n",
      "MGP6           293 non-null int64\n",
      "MGP7           293 non-null int64\n",
      "MGP8           293 non-null int64\n",
      "MGP9           293 non-null int64\n",
      "MGP10          293 non-null int64\n",
      "MGP11          293 non-null int64\n",
      "MGP12          293 non-null int64\n",
      "MGP13          293 non-null int64\n",
      "MGP14          293 non-null int64\n",
      "dtypes: float64(4), int64(14)\n",
      "memory usage: 43.5 KB\n"
     ]
    }
   ],
   "source": [
    "X.info()"
   ]
  },
  {
   "cell_type": "code",
   "execution_count": 12,
   "metadata": {},
   "outputs": [
    {
     "name": "stdout",
     "output_type": "stream",
     "text": [
      "<class 'pandas.core.frame.DataFrame'>\n",
      "Int64Index: 293 entries, 1 to 303\n",
      "Data columns (total 18 columns):\n",
      "ATRIB_MED1     293 non-null float64\n",
      "ATRIB_MAX1     293 non-null float64\n",
      "ATRIB_DIST1    293 non-null float64\n",
      "DIFP           293 non-null float64\n",
      "MGP1           293 non-null int64\n",
      "MGP2           293 non-null int64\n",
      "MGP3           293 non-null int64\n",
      "MGP4           293 non-null int64\n",
      "MGP5           293 non-null int64\n",
      "MGP6           293 non-null int64\n",
      "MGP7           293 non-null int64\n",
      "MGP8           293 non-null int64\n",
      "MGP9           293 non-null int64\n",
      "MGP10          293 non-null int64\n",
      "MGP11          293 non-null int64\n",
      "MGP12          293 non-null int64\n",
      "MGP13          293 non-null int64\n",
      "MGP14          293 non-null int64\n",
      "dtypes: float64(4), int64(14)\n",
      "memory usage: 43.5 KB\n"
     ]
    }
   ],
   "source": [
    "X.info()"
   ]
  },
  {
   "cell_type": "code",
   "execution_count": 13,
   "metadata": {},
   "outputs": [],
   "source": [
    "y = df['Perda30']"
   ]
  },
  {
   "cell_type": "code",
   "execution_count": 14,
   "metadata": {},
   "outputs": [],
   "source": [
    "X_train, X_test, y_train, y_test = train_test_split(X, y, test_size=.20, random_state=21)"
   ]
  },
  {
   "cell_type": "markdown",
   "metadata": {},
   "source": [
    "<p style=\"font-family: Arial; font-size:1.75em;color:purple; font-style:bold\">\n",
    "1 - K-means</p>\n",
    "<br>\n",
    "k-means clustering, or Lloyd’s algorithm [1], is an iterative, data-partitioning algorithm that assigns n observations to exactly one of k clusters defined by centroids, where k is chosen before the algorithm starts.\n",
    "\n",
    "The algorithm proceeds as follows:\n",
    "<ol>\n",
    "<li>Choose k initial cluster centers (centroid). For example, choose k observations at random (by using 'Start','sample') or use the k-means ++ algorithm for cluster center initialization (the default).</li>\n",
    "\n",
    "<li>Compute point-to-cluster-centroid distances of all observations to each centroid.</li>\n",
    "\n",
    "<li>Compute the average of the observations in each cluster to obtain k new centroid locations.</li>\n",
    "\n",
    "<li>Repeat steps 2 through 4 until cluster assignments do not change, or the maximum number of iterations is reached.</li>"
   ]
  },
  {
   "cell_type": "markdown",
   "metadata": {},
   "source": [
    "The k-means algorithm divides a set of $N$ samples $X$ into $K$ disjoint clusters $C$, each described by the mean $\\mu_j$ of the samples in the cluster. The means are commonly called the cluster “centroids”; note that they are not, in general, points from $X$, although they live in the same space. The K-means algorithm (implemented in sklearn) aims to choose centroids that minimise the inertia, or within-cluster sum of squared criterion:"
   ]
  },
  {
   "cell_type": "markdown",
   "metadata": {},
   "source": [
    "$$ WSS \\!=\\! Inertia_\\!=\\!{\\sum_{j=1}^{K}}\\Bigg({\\sum_{x_i\\in Cluster}^{K}(x_i-c_j)²}\\Bigg)$$\n",
    "<br><center>Sum of squared distances of samples to their closest cluster center.</center>"
   ]
  },
  {
   "cell_type": "markdown",
   "metadata": {},
   "source": [
    "There are others objective function to determine the best clusters number\n",
    "<ul>\n",
    "    <li>Partition Entropy</li>\n",
    "    <li>Partitioning Coeficient</li>\n",
    "    <li>Modified Partition Entropy</li>\n",
    "    <li>Proportion Exponent</li>\n",
    "       "
   ]
  },
  {
   "cell_type": "markdown",
   "metadata": {},
   "source": [
    "According to [2] the Euclidean and Mahattan distances are distance measures used to data points in euclidean space. Cosine similarity and Jaccard distance are used to documents."
   ]
  },
  {
   "cell_type": "markdown",
   "metadata": {},
   "source": [
    "Evaluating the Inertia as objective function for $K$ clusters"
   ]
  },
  {
   "cell_type": "code",
   "execution_count": 15,
   "metadata": {},
   "outputs": [
    {
     "data": {
      "image/png": "[encoded data removed]",
      "text/plain": [
       "<Figure size 432x288 with 1 Axes>"
      ]
     },
     "metadata": {},
     "output_type": "display_data"
    }
   ],
   "source": [
    "ks = range(1, 10)\n",
    "inertias = []\n",
    "\n",
    "for k in ks:\n",
    "    # Create a KMeans instance with k clusters: model\n",
    "    kmeans = KMeans(n_clusters=k)\n",
    "        \n",
    "    # Fit model to samples\n",
    "    kmeans.fit(X)\n",
    "    \n",
    "    # Append the inertia to the list of inertias\n",
    "    inertias.append(kmeans.inertia_)\n",
    "    \n",
    "# Plot ks vs inertias\n",
    "plt.plot(ks, inertias, '-o')\n",
    "plt.xlabel('number of clusters, k')\n",
    "plt.ylabel('inertia')\n",
    "plt.xticks(ks)\n",
    "plt.show()"
   ]
  },
  {
   "cell_type": "markdown",
   "metadata": {},
   "source": [
    "<p style=\"font-family: Arial; font-size:1.5em;color:purple; font-style:bold\">\n",
    "1.1 - K-Means (K=3)</p>"
   ]
  },
  {
   "cell_type": "markdown",
   "metadata": {},
   "source": [
    "Using K-means with normalized $X$"
   ]
  },
  {
   "cell_type": "code",
   "execution_count": 16,
   "metadata": {},
   "outputs": [],
   "source": [
    "scaler = StandardScaler()\n",
    "kmeans = KMeans(n_clusters=3)\n",
    "pipeline = make_pipeline(scaler, kmeans)\n",
    "\n",
    "# Fit model to points\n",
    "pipeline.fit(X)\n",
    "\n",
    "# Determine the cluster labels of new_points: labels\n",
    "y_cluster = pipeline.predict(X)\n",
    "\n",
    "# Print cluster labels of new_points\n",
    "#print(y_cluster)"
   ]
  },
  {
   "cell_type": "code",
   "execution_count": 17,
   "metadata": {},
   "outputs": [
    {
     "name": "stdout",
     "output_type": "stream",
     "text": [
      "Perda     0   1\n",
      "labels         \n",
      "0        47  38\n",
      "1       108   6\n",
      "2        72  22\n"
     ]
    }
   ],
   "source": [
    "# Create a DataFrame with labels and varieties as columns: df\n",
    "dfcluster = pd.DataFrame({'labels': y_cluster, 'Perda': y})\n",
    "\n",
    "# Create crosstab: ct\n",
    "ct = pd.crosstab(dfcluster['labels'],dfcluster['Perda'])\n",
    "\n",
    "# Display ct\n",
    "print(ct)"
   ]
  },
  {
   "cell_type": "markdown",
   "metadata": {},
   "source": [
    "Using K-means without normalization $X$"
   ]
  },
  {
   "cell_type": "code",
   "execution_count": 18,
   "metadata": {},
   "outputs": [],
   "source": [
    "kmeans = KMeans(n_clusters=3)\n",
    "\n",
    "# Fit model to points\n",
    "kmeans.fit(X)\n",
    "\n",
    "# Determine the cluster labels of new_points: labels\n",
    "y_cluster = kmeans.predict(X)\n",
    "\n",
    "# Print cluster labels of new_points\n",
    "#print(y_cluster)"
   ]
  },
  {
   "cell_type": "code",
   "execution_count": 19,
   "metadata": {},
   "outputs": [
    {
     "name": "stdout",
     "output_type": "stream",
     "text": [
      "Perda    0   1\n",
      "labels        \n",
      "0       70  39\n",
      "1       95  10\n",
      "2       62  17\n"
     ]
    }
   ],
   "source": [
    "# Create a DataFrame with labels and varieties as columns: df\n",
    "dfcluster = pd.DataFrame({'labels': y_cluster, 'Perda': y})\n",
    "\n",
    "# Create crosstab: ct\n",
    "ct = pd.crosstab(dfcluster['labels'],dfcluster['Perda'])\n",
    "\n",
    "# Display ct\n",
    "print(ct)"
   ]
  },
  {
   "cell_type": "markdown",
   "metadata": {},
   "source": [
    "<p style=\"font-family: Arial; font-size:1.5em;color:purple; font-style:bold\">\n",
    "1.2 - K-Means (K=2)</p>"
   ]
  },
  {
   "cell_type": "markdown",
   "metadata": {},
   "source": [
    "Using K-means with normalized $X$"
   ]
  },
  {
   "cell_type": "code",
   "execution_count": 20,
   "metadata": {},
   "outputs": [],
   "source": [
    "scaler = StandardScaler()\n",
    "kmeans = KMeans(n_clusters=2)\n",
    "pipeline = make_pipeline(scaler, kmeans)\n",
    "\n",
    "# Fit model to points\n",
    "pipeline.fit(X)\n",
    "\n",
    "# Determine the cluster labels of new_points: labels\n",
    "y_cluster = pipeline.predict(X)\n",
    "\n",
    "# Print cluster labels of new_points\n",
    "#print(y_cluster)"
   ]
  },
  {
   "cell_type": "code",
   "execution_count": 21,
   "metadata": {},
   "outputs": [
    {
     "name": "stdout",
     "output_type": "stream",
     "text": [
      "Perda     0   1\n",
      "labels         \n",
      "0       133   8\n",
      "1        94  58\n"
     ]
    }
   ],
   "source": [
    "# Create a DataFrame with labels and varieties as columns: df\n",
    "dfcluster = pd.DataFrame({'labels': y_cluster, 'Perda': y})\n",
    "\n",
    "# Create crosstab: ct\n",
    "ct = pd.crosstab(dfcluster['labels'],dfcluster['Perda'])\n",
    "\n",
    "# Display ct\n",
    "print(ct)"
   ]
  },
  {
   "cell_type": "markdown",
   "metadata": {},
   "source": [
    "Using K-means without normalization $X$"
   ]
  },
  {
   "cell_type": "code",
   "execution_count": 22,
   "metadata": {},
   "outputs": [],
   "source": [
    "kmeans = KMeans(n_clusters=2)\n",
    "\n",
    "# Fit model to points\n",
    "kmeans.fit(X)\n",
    "\n",
    "# Determine the cluster labels of new_points: labels\n",
    "y_cluster = kmeans.predict(X)\n",
    "\n",
    "# Print cluster labels of new_points\n",
    "#print(y_cluster)"
   ]
  },
  {
   "cell_type": "code",
   "execution_count": 23,
   "metadata": {},
   "outputs": [
    {
     "name": "stdout",
     "output_type": "stream",
     "text": [
      "Perda     0   1\n",
      "labels         \n",
      "0        99  11\n",
      "1       128  55\n"
     ]
    }
   ],
   "source": [
    "# Create a DataFrame with labels and varieties as columns: df\n",
    "dfcluster = pd.DataFrame({'labels': y_cluster, 'Perda': y})\n",
    "\n",
    "# Create crosstab: ct\n",
    "ct = pd.crosstab(dfcluster['labels'],dfcluster['Perda'])\n",
    "\n",
    "# Display ct\n",
    "print(ct)"
   ]
  },
  {
   "cell_type": "markdown",
   "metadata": {},
   "source": [
    "<p style=\"font-family: Arial; font-size:1.75em;color:purple; font-style:bold\">\n",
    "2 - Hierarchical clustering</p>\n",
    "\n",
    "According to [2] Hierarchical clustering techniques are important clustering methods. As with K-means, these approaches are relatively old but they are widespread used. There are two basic approaches:\n",
    "<ol>\n",
    "<li>**Agglomerative**:\n",
    "Start with the points as individual clusters and, at each\n",
    "step, merge the closest pair of clusters. This approach is based in proximity values. This techniques are the moste commom.</li>\n",
    "<li>**Divisive**: Start with onecluster, at each step, split a cluster until only individual points remain.</li>"
   ]
  },
  {
   "cell_type": "code",
   "execution_count": 24,
   "metadata": {},
   "outputs": [
    {
     "data": {
      "text/plain": [
       "(293, 18)"
      ]
     },
     "execution_count": 24,
     "metadata": {},
     "output_type": "execute_result"
    }
   ],
   "source": [
    "X.shape"
   ]
  },
  {
   "cell_type": "code",
   "execution_count": 25,
   "metadata": {},
   "outputs": [],
   "source": [
    "Z = linkage(X, method='ward', metric='euclidean', optimal_ordering=True)"
   ]
  },
  {
   "cell_type": "markdown",
   "metadata": {},
   "source": [
    "Method: The linkage algorithm to use\n",
    "<ul>\n",
    "    <li>'Single': for all points $i$ in cluster $u$ and $j$ in cluster $v$. This is also known as the Nearest Point Algorithm.\n",
    "    <br>EQUATION</li>\n",
    "    <li>'Complete': for all points $i$ in cluster $u$ and $j$ in cluster $v$.This is also known by the Farthest Point Algorithm or Voor Hees Algorithm.\n",
    "    <br>EQUATION</li>\n",
    "    <li>'Average': for all points $i$ and $j$ where |$u$| and |$v$| are the cardinalities of clusters $u$ and $v$, respectively. This is also called the UPGMA algorithm.\n",
    "    <br>EQUATION</li>\n",
    "    <li>'weighted': where cluster $u$ was formed with cluster $s$ and $t$ and $v$ is a remaining cluster in the forest. (also called WPGMA)</li>\n",
    "    <li>'centroid': where $c_s$ and $c_t$ are the centroids of clusters $s$ and $t$, respectively. When two clusters $u$ and  are combined into a new cluster , the new centroid is computed over all the original objects in clusters $s$ and $t$. The distance then becomes the Euclidean distance between the centroid of $u$ and the centroid of a remaining cluster $v$ in the forest. This is also known as the UPGMC algorithm. <br>EQUATION</li>\n",
    "    <li>'median': (   ) like the centroid method. When two clusters $s$ and $t$  are combined into a new cluster $u$, the average of centroids $s$ and $t$ give the new centroid $u$. This is also known as the WPGMC algorithm.</li>\n",
    "    <li>'ward': uses the Ward variance minimization algorithm. The new entry (   ) is computed as follows,<br>\n",
    "EQUATION<br>\n",
    "where  is the newly joined cluster consisting of clusters  and ,  is an unused cluster in the forest, , and  is the cardinality of its argument. This is also known as the incremental algorithm.</li>"
   ]
  },
  {
   "cell_type": "code",
   "execution_count": 26,
   "metadata": {},
   "outputs": [],
   "source": [
    "Z;"
   ]
  },
  {
   "cell_type": "code",
   "execution_count": 27,
   "metadata": {},
   "outputs": [],
   "source": [
    "#c, coph_dists = cophenet(Z, pdist(X));\n",
    "#c"
   ]
  },
  {
   "cell_type": "code",
   "execution_count": 28,
   "metadata": {},
   "outputs": [
    {
     "data": {
      "text/plain": [
       "array([196., 280.,   0.,   2.])"
      ]
     },
     "execution_count": 28,
     "metadata": {},
     "output_type": "execute_result"
    }
   ],
   "source": [
    "Z[0]\n",
    "#Z[N]"
   ]
  },
  {
   "cell_type": "markdown",
   "metadata": {},
   "source": [
    "Explanation: \n",
    "Format: [idx1, idx2, dist, sample_count].\n",
    "In its N+1 iteration the linkage algorithm merged the two clusters (original samples here) with indices idx1 and idx2, as they only had a distance of dist. This created a cluster with a total of samples_count."
   ]
  },
  {
   "cell_type": "code",
   "execution_count": 29,
   "metadata": {},
   "outputs": [
    {
     "data": {
      "image/png": "[encoded data removed]",
      "text/plain": [
       "<Figure size 2880x720 with 1 Axes>"
      ]
     },
     "metadata": {},
     "output_type": "display_data"
    }
   ],
   "source": [
    "# calculate full dendrogram\n",
    "plt.figure(figsize=(40, 10))\n",
    "plt.title('Hierarchical Clustering Dendrogram')\n",
    "plt.xlabel('sample index or (cluster size)')\n",
    "plt.ylabel('distance - chosen method')\n",
    "dendrogram(\n",
    "    Z,\n",
    "    #truncate_mode='lastp',  # show only the last p merged clusters\n",
    "    #p=12,  # show only the last p merged clusters\n",
    "    leaf_rotation=90.,  # rotates the x axis labels\n",
    "    leaf_font_size=8.,  # font size for the x axis labels\n",
    "    #show_contracted=True,  # to get a distribution impression in truncated branches\n",
    ")\n",
    "plt.show()"
   ]
  },
  {
   "cell_type": "code",
   "execution_count": 30,
   "metadata": {},
   "outputs": [
    {
     "data": {
      "image/png": "[encoded data removed]",
      "text/plain": [
       "<Figure size 432x288 with 1 Axes>"
      ]
     },
     "metadata": {},
     "output_type": "display_data"
    }
   ],
   "source": [
    "# set cut-off\n",
    "max_d = 3000  # max_d as in max_distance\n",
    "\n",
    "fancy_dendrogram(\n",
    "    Z,\n",
    "    truncate_mode='lastp',\n",
    "    p=12,\n",
    "    leaf_rotation=90.,\n",
    "    leaf_font_size=12.,\n",
    "    show_contracted=True,\n",
    "    annotate_above=10,  # useful in small plots so annotations don't overlap\n",
    "    max_d=max_d,  # plot a horizontal cut-off line\n",
    ")\n",
    "plt.show()"
   ]
  },
  {
   "cell_type": "code",
   "execution_count": 31,
   "metadata": {},
   "outputs": [
    {
     "data": {
      "text/plain": [
       "array([[ 580.        ,  575.        , 1022.13441465,  105.        ],\n",
       "       [ 579.        ,  578.        , 1130.1182471 ,   83.        ],\n",
       "       [ 582.        ,  581.        , 3003.06401841,  188.        ],\n",
       "       [ 534.        ,  583.        , 8777.56897861,  293.        ]])"
      ]
     },
     "execution_count": 31,
     "metadata": {},
     "output_type": "execute_result"
    }
   ],
   "source": [
    "Z[-4:,:]"
   ]
  },
  {
   "cell_type": "markdown",
   "metadata": {},
   "source": [
    "Inspecting \"the elbow method\" to choose the number of clusters"
   ]
  },
  {
   "cell_type": "code",
   "execution_count": 32,
   "metadata": {},
   "outputs": [
    {
     "data": {
      "image/png": "[encoded data removed]",
      "text/plain": [
       "<Figure size 432x288 with 1 Axes>"
      ]
     },
     "metadata": {},
     "output_type": "display_data"
    },
    {
     "name": "stdout",
     "output_type": "stream",
     "text": [
      "clusters: 2\n"
     ]
    }
   ],
   "source": [
    "last = Z[-10:, 2]\n",
    "last_rev = last[::-1]\n",
    "idxs = np.arange(1, len(last) + 1)\n",
    "plt.plot(idxs, last_rev)\n",
    "\n",
    "acceleration = np.diff(last, 2)  # 2nd derivative of the distances\n",
    "acceleration_rev = acceleration[::-1]\n",
    "plt.plot(idxs[:-2] + 1, acceleration_rev)\n",
    "plt.show()\n",
    "k = acceleration_rev.argmax() + 2  # if idx 0 is the max of this we want 2 clusters\n",
    "print(\"clusters:\", k)"
   ]
  },
  {
   "cell_type": "code",
   "execution_count": 33,
   "metadata": {},
   "outputs": [],
   "source": [
    "from scipy.cluster.hierarchy import fcluster\n",
    "z_clusters = fcluster(Z, max_d, criterion='distance')\n",
    "z_clusters;"
   ]
  },
  {
   "cell_type": "code",
   "execution_count": 34,
   "metadata": {},
   "outputs": [
    {
     "name": "stdout",
     "output_type": "stream",
     "text": [
      "Perda    0   1\n",
      "labels        \n",
      "1       95  10\n",
      "2       64  19\n",
      "3       68  37\n"
     ]
    }
   ],
   "source": [
    "# Create a DataFrame with labels and varieties as columns: df\n",
    "dfcluster = pd.DataFrame({'labels': z_clusters, 'Perda': y})\n",
    "\n",
    "# Create crosstab: ct\n",
    "ct = pd.crosstab(dfcluster['labels'],dfcluster['Perda'])\n",
    "\n",
    "# Display ct\n",
    "print(ct)"
   ]
  },
  {
   "cell_type": "code",
   "execution_count": 35,
   "metadata": {},
   "outputs": [],
   "source": [
    "k=2\n",
    "z_clusters=fcluster(Z, k, criterion='maxclust')\n",
    "z_clusters;"
   ]
  },
  {
   "cell_type": "code",
   "execution_count": 36,
   "metadata": {},
   "outputs": [
    {
     "name": "stdout",
     "output_type": "stream",
     "text": [
      "Perda     0   1\n",
      "labels         \n",
      "1        95  10\n",
      "2       132  56\n"
     ]
    }
   ],
   "source": [
    "# Create a DataFrame with labels and varieties as columns: df\n",
    "dfcluster = pd.DataFrame({'labels': z_clusters, 'Perda': y})\n",
    "\n",
    "# Create crosstab: ct\n",
    "ct = pd.crosstab(dfcluster['labels'],dfcluster['Perda'])\n",
    "\n",
    "# Display ct\n",
    "print(ct)"
   ]
  },
  {
   "cell_type": "markdown",
   "metadata": {},
   "source": [
    "[2] Affirms that that agglomerative hierarchical clustering cannot be viewed as globally optimizing an objective function."
   ]
  },
  {
   "cell_type": "markdown",
   "metadata": {},
   "source": [
    "<p style=\"font-family: Arial; font-size:1.75em;color:purple; font-style:bold\">\n",
    "3 - DBSCAN</p>"
   ]
  },
  {
   "cell_type": "markdown",
   "metadata": {},
   "source": [
    "Noisy samples are given the label -1."
   ]
  },
  {
   "cell_type": "markdown",
   "metadata": {},
   "source": [
    "Using DBSCAN with normalized $X$"
   ]
  },
  {
   "cell_type": "code",
   "execution_count": 37,
   "metadata": {},
   "outputs": [],
   "source": [
    "db = DBSCAN(eps=3.5, min_samples=5, metric='euclidean', \n",
    "                metric_params=None, algorithm='auto', leaf_size=30, \n",
    "                p=None, n_jobs=-1)"
   ]
  },
  {
   "cell_type": "code",
   "execution_count": 38,
   "metadata": {},
   "outputs": [],
   "source": [
    "scaler = StandardScaler()\n",
    "pipeline = make_pipeline(scaler, db)\n",
    "\n",
    "# Fit model to points\n",
    "pipeline.fit(X)\n",
    "\n",
    "# Determine the cluster labels of new_points: labels\n",
    "y_cluster = pipeline.fit_predict(X)\n",
    "\n",
    "# Print cluster labels of new_points\n",
    "#print(y_cluster)"
   ]
  },
  {
   "cell_type": "code",
   "execution_count": 39,
   "metadata": {},
   "outputs": [
    {
     "name": "stdout",
     "output_type": "stream",
     "text": [
      "Perda     0   1\n",
      "labels         \n",
      "-1       16   8\n",
      " 0      179  43\n",
      " 1       14  11\n",
      " 2        5   0\n",
      " 3        5   1\n",
      " 4        8   3\n"
     ]
    }
   ],
   "source": [
    "# Create a DataFrame with labels and varieties as columns: df\n",
    "dfcluster = pd.DataFrame({'labels': y_cluster, 'Perda': y})\n",
    "\n",
    "# Create crosstab: ct\n",
    "ct = pd.crosstab(dfcluster['labels'],dfcluster['Perda'])\n",
    "\n",
    "# Display ct\n",
    "print(ct)"
   ]
  },
  {
   "cell_type": "markdown",
   "metadata": {},
   "source": [
    "Using DBSCAN without normalized $X$"
   ]
  },
  {
   "cell_type": "code",
   "execution_count": 40,
   "metadata": {},
   "outputs": [],
   "source": [
    "db.fit(X);\n",
    "\n",
    "db.fit_predict(X);"
   ]
  },
  {
   "cell_type": "code",
   "execution_count": 41,
   "metadata": {},
   "outputs": [
    {
     "data": {
      "text/plain": [
       "(293,)"
      ]
     },
     "execution_count": 41,
     "metadata": {},
     "output_type": "execute_result"
    }
   ],
   "source": [
    "db.labels_.shape"
   ]
  },
  {
   "cell_type": "code",
   "execution_count": 42,
   "metadata": {},
   "outputs": [],
   "source": [
    "db.core_sample_indices_.shape ;"
   ]
  },
  {
   "cell_type": "code",
   "execution_count": 43,
   "metadata": {},
   "outputs": [],
   "source": [
    "db.core_sample_indices_;"
   ]
  },
  {
   "cell_type": "code",
   "execution_count": 44,
   "metadata": {},
   "outputs": [
    {
     "data": {
      "text/plain": [
       "(139, 18)"
      ]
     },
     "execution_count": 44,
     "metadata": {},
     "output_type": "execute_result"
    }
   ],
   "source": [
    "db.components_.shape "
   ]
  },
  {
   "cell_type": "code",
   "execution_count": 45,
   "metadata": {},
   "outputs": [],
   "source": [
    "db.components_;"
   ]
  },
  {
   "cell_type": "code",
   "execution_count": 46,
   "metadata": {},
   "outputs": [
    {
     "name": "stdout",
     "output_type": "stream",
     "text": [
      "Perda     0   1\n",
      "labels         \n",
      "-1      102  40\n",
      " 0       95  10\n",
      " 1        8   7\n",
      " 2        4   2\n",
      " 3        8   1\n",
      " 4        1   5\n",
      " 5        4   1\n",
      " 6        5   0\n"
     ]
    }
   ],
   "source": [
    "# Create a DataFrame with labels and varieties as columns: df\n",
    "dfcluster = pd.DataFrame({'labels': db.labels_, 'Perda': y})\n",
    "\n",
    "# Create crosstab: ct\n",
    "ct = pd.crosstab(dfcluster['labels'],dfcluster['Perda'])\n",
    "\n",
    "# Display ct\n",
    "print(ct)"
   ]
  },
  {
   "cell_type": "markdown",
   "metadata": {},
   "source": [
    "[1] Lloyd, Stuart P. “Least Squares Quantization in PCM.” IEEE Transactions on Information Theory. Vol. 28, 1982, pp. 129–137.\n",
    "<br>[2] Pang-Ning Tan, Michael Steinbach, and Vipin Kumar. 2005. Introduction to Data Mining, (First Edition). Addison-Wesley Longman Publishing Co., Inc., Boston, MA, USA.\n",
    "<br>[3]https://www.mathworks.com/help/stats/kmeans.html\n",
    "<br>[4]http://scikit-learn.org/stable/modules/clustering.html#\n",
    "<br>[5]https://docs.scipy.org/doc/scipy/reference/spatial.distance.html\n",
    "<br>[6]https://docs.scipy.org/doc/scipy/reference/generated/scipy.cluster.hierarchy.linkage.html"
   ]
  }
 ],
 "metadata": {
  "kernelspec": {
   "display_name": "Python 3",
   "language": "python",
   "name": "python3"
  },
  "language_info": {
   "codemirror_mode": {
    "name": "ipython",
    "version": 3
   },
   "file_extension": ".py",
   "mimetype": "text/x-python",
   "name": "python",
   "nbconvert_exporter": "python",
   "pygments_lexer": "ipython3",
   "version": "3.6.5"
  }
 },
 "nbformat": 4,
 "nbformat_minor": 2
}
