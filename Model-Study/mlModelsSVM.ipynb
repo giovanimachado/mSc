{
 "cells": [
  {
   "cell_type": "code",
   "execution_count": 1,
   "metadata": {
    "code_folding": []
   },
   "outputs": [
    {
     "data": {
      "application/javascript": [
       "IPython.notebook.set_autosave_interval(0)"
      ]
     },
     "metadata": {},
     "output_type": "display_data"
    },
    {
     "name": "stdout",
     "output_type": "stream",
     "text": [
      "Autosave disabled\n"
     ]
    }
   ],
   "source": [
    "#from customplot import *\n",
    "\n",
    "#import sqlite3\n",
    "%autosave 0\n",
    "import itertools\n",
    "import pandas as pd\n",
    "import numpy as np\n",
    "import matplotlib.pyplot as plt\n",
    "from scipy.stats import reciprocal, uniform\n",
    "from sklearn.cluster import KMeans\n",
    "from sklearn.ensemble import RandomForestClassifier\n",
    "from sklearn.linear_model import LogisticRegression\n",
    "from sklearn.linear_model import SGDClassifier\n",
    "from sklearn.metrics import accuracy_score\n",
    "from sklearn.metrics import classification_report\n",
    "from sklearn.metrics import confusion_matrix\n",
    "from sklearn.metrics import log_loss\n",
    "from sklearn.metrics import precision_score\n",
    "from sklearn.metrics import precision_recall_curve\n",
    "from sklearn.metrics import recall_score\n",
    "from sklearn.metrics import roc_auc_score\n",
    "from sklearn.metrics import roc_curve\n",
    "from sklearn.model_selection import train_test_split\n",
    "from sklearn.model_selection import cross_val_score\n",
    "from sklearn.model_selection import cross_val_predict\n",
    "from sklearn.model_selection import GridSearchCV\n",
    "from sklearn.model_selection import RandomizedSearchCV\n",
    "from sklearn.model_selection import validation_curve\n",
    "from sklearn.neighbors import KNeighborsClassifier\n",
    "from sklearn.neural_network import MLPClassifier\n",
    "from sklearn.pipeline import Pipeline\n",
    "from sklearn.preprocessing import StandardScaler\n",
    "from sklearn.preprocessing import MinMaxScaler\n",
    "from sklearn.preprocessing import PolynomialFeatures\n",
    "from sklearn.svm import SVC, LinearSVC\n",
    "from sklearn.tree import DecisionTreeClassifier"
   ]
  },
  {
   "cell_type": "code",
   "execution_count": 2,
   "metadata": {
    "code_folding": [
     0
    ],
    "scrolled": true
   },
   "outputs": [],
   "source": [
    "def plot_confusion_matrix(cm, classes,\n",
    "                          normalize=False,\n",
    "                          title='Confusion matrix',\n",
    "                          cmap=plt.cm.Blues):\n",
    "    \"\"\"\n",
    "    This function prints and plots the confusion matrix.\n",
    "    Normalization can be applied by setting `normalize=True`.\n",
    "    \"\"\"\n",
    "    if normalize:\n",
    "        cm = cm.astype('float') / cm.sum(axis=1)[:, np.newaxis]\n",
    "        print(\"Normalized confusion matrix\")\n",
    "    else:\n",
    "        print('Confusion matrix, without normalization')\n",
    "\n",
    "    #print(cm)\n",
    "\n",
    "    plt.imshow(cm, interpolation='nearest', cmap=cmap)\n",
    "    plt.title(title)\n",
    "    plt.colorbar()\n",
    "    tick_marks = np.arange(len(classes))\n",
    "    plt.xticks(tick_marks, classes, rotation=45)\n",
    "    plt.yticks(tick_marks, classes)\n",
    "\n",
    "    fmt = '.2f' if normalize else 'd'\n",
    "    thresh = cm.max() / 2.\n",
    "    for i, j in itertools.product(range(cm.shape[0]), range(cm.shape[1])):\n",
    "        plt.text(j, i, format(cm[i, j], fmt),\n",
    "                 horizontalalignment=\"center\",\n",
    "                 color=\"white\" if cm[i, j] > thresh else \"black\")\n",
    "\n",
    "    plt.tight_layout()\n",
    "    plt.ylabel('True label')\n",
    "    plt.xlabel('Predicted label')\n",
    "    "
   ]
  },
  {
   "cell_type": "code",
   "execution_count": 3,
   "metadata": {
    "code_folding": [
     0
    ]
   },
   "outputs": [],
   "source": [
    "def printcfm(y_test,y_pred,title='confusion matrix'):\n",
    "    cnf_matrix = confusion_matrix(y_test, y_pred)\n",
    "    np.set_printoptions(precision=2)\n",
    "    # Plot non-normalized confusion matrix\n",
    "    plt.figure()\n",
    "    plot_confusion_matrix(cnf_matrix, classes=['Sem Perda','Perda'],\n",
    "                      title=title) "
   ]
  },
  {
   "cell_type": "code",
   "execution_count": 4,
   "metadata": {
    "code_folding": []
   },
   "outputs": [],
   "source": [
    "def plotRoc(y_real, y_pred_prob):\n",
    "    # Generate ROC curve values: fpr, tpr, thresholds\n",
    "    fpr, tpr, thresholds = roc_curve(y_real, y_pred_prob)\n",
    "    \n",
    "    # Calculate AUC\n",
    "    auc = roc_auc_score(y_real, y_pred_prob)\n",
    "\n",
    "    # Plot ROC curve\n",
    "    plt.plot([0, 1], [0, 1], 'k--')\n",
    "    plt.plot(fpr, tpr)\n",
    "    plt.text(1, 0.5, \"AUC: %3.3f\" % (auc), {'color': 'C2', 'fontsize': 18}, va=\"bottom\", ha=\"right\")\n",
    "    plt.xlabel('False Positive Rate')\n",
    "    plt.ylabel('True Positive Rate')\n",
    "    plt.title('ROC Curve')\n",
    "    plt.show()\n"
   ]
  },
  {
   "cell_type": "code",
   "execution_count": 5,
   "metadata": {
    "code_folding": [
     0
    ]
   },
   "outputs": [],
   "source": [
    "def plot_precision_vs_recall(precisions, recalls):\n",
    "    plt.figure(figsize=(8, 6))\n",
    "    plt.plot(recalls, precisions, \"b-\", linewidth=2)\n",
    "    plt.xlabel(\"Recall\", fontsize=16)\n",
    "    plt.ylabel(\"Precision\", fontsize=16)\n",
    "    plt.axis([0, 1.01, 0, 1])\n",
    "    plt.show()\n",
    "    "
   ]
  },
  {
   "cell_type": "code",
   "execution_count": 6,
   "metadata": {},
   "outputs": [],
   "source": [
    "#Setando configurações de visualização\n",
    "pd.options.display.max_rows=350\n",
    "pd.options.display.max_columns=60"
   ]
  },
  {
   "cell_type": "code",
   "execution_count": 7,
   "metadata": {
    "code_folding": [
     0
    ]
   },
   "outputs": [],
   "source": [
    "# df=pd.read_csv('baseProjeto_entradaModelo.csv', index_col=0)\n",
    "# df\n",
    "\n",
    "# df.columns\n",
    "\n",
    "# X=df[['ATRIB_MED1', 'ATRIB_MAX1',\n",
    "#        'ATRIB_DIST1', 'DIFP', 'MGP1', 'MGP2', 'MGP3', 'MGP4', 'MGP5', 'MGP6',\n",
    "#        'MGP7', 'MGP8', 'MGP9', 'MGP10', 'MGP11', 'MGP12', 'MGP13', 'MGP14']]\n",
    "\n",
    "#X\n",
    "\n",
    "# X.info()\n",
    "\n",
    "# '''\n",
    "# #cat=['MGP1_sim', 'MGP2_sim', 'MGP3_sim', 'MGP4_sim',\n",
    "#        'MGP5_sim', 'MGP6_sim', 'MGP7_sim', 'MGP8_sim', 'MGP9_sim', 'MGP10_sim',\n",
    "#        'MGP11_sim', 'MGP12_sim', 'MGP13_sim', 'MGP14_sim',]\n",
    "# #X[cat] = X[cat].astype('category')\n",
    "# '''\n",
    "\n",
    "# X.info()\n",
    "\n",
    "# y = df['Perda30']\n",
    "\n",
    "# #X_train, X_test, y_train, y_test = train_test_split(X, y, test_size=.20, random_state=21)\n",
    "# X_train, X_test, y_train, y_test = train_test_split(X, y, test_size=.20, random_state=42, stratify=y)\n",
    "\n"
   ]
  },
  {
   "cell_type": "code",
   "execution_count": 8,
   "metadata": {},
   "outputs": [],
   "source": [
    "# train=pd.read_csv('baseProjetoTrainOver.csv', index_col=0)\n",
    "# test=pd.read_csv('baseProjetoTest.csv', index_col=0)"
   ]
  },
  {
   "cell_type": "code",
   "execution_count": 9,
   "metadata": {},
   "outputs": [],
   "source": [
    "train=pd.read_csv('baseProjetoTrainOverFase1.csv', index_col=0)\n",
    "test=pd.read_csv('baseProjetoTestFase1.csv', index_col=0)"
   ]
  },
  {
   "cell_type": "code",
   "execution_count": 10,
   "metadata": {},
   "outputs": [
    {
     "data": {
      "image/png": "[encoded data removed]",
      "text/plain": [
       "<Figure size 432x288 with 1 Axes>"
      ]
     },
     "metadata": {},
     "output_type": "display_data"
    }
   ],
   "source": [
    "X_train = train[['ATRIB_MAX1',\n",
    "        'ATRIB_DIST1', 'DIFP', 'MGP1', 'MGP2', 'MGP3', 'MGP4', 'MGP5', 'MGP6',\n",
    "        'MGP7', 'MGP8', 'MGP9', 'MGP10', 'MGP11', 'MGP12', 'MGP13', 'MGP14']]\n",
    "\n",
    "X_test = test[['ATRIB_MAX1',\n",
    "        'ATRIB_DIST1', 'DIFP', 'MGP1', 'MGP2', 'MGP3', 'MGP4', 'MGP5', 'MGP6',\n",
    "        'MGP7', 'MGP8', 'MGP9', 'MGP10', 'MGP11', 'MGP12', 'MGP13', 'MGP14']]\n",
    "\n",
    "y_test = test['Perda30']\n",
    "y_train = train['Perda30']\n",
    "\n",
    "y_train.value_counts().plot(kind='bar', title='Count (Perda30)');"
   ]
  },
  {
   "cell_type": "code",
   "execution_count": 11,
   "metadata": {},
   "outputs": [
    {
     "data": {
      "image/png": "[encoded data removed]",
      "text/plain": [
       "<Figure size 432x288 with 1 Axes>"
      ]
     },
     "metadata": {},
     "output_type": "display_data"
    }
   ],
   "source": [
    "y_test.value_counts().plot(kind='bar', title='Count (Perda30)');"
   ]
  },
  {
   "cell_type": "code",
   "execution_count": 12,
   "metadata": {},
   "outputs": [],
   "source": [
    "scaler = StandardScaler()\n",
    "X_train_scaled = scaler.fit_transform(X_train)\n",
    "X_test_scaled = scaler.fit_transform(X_test)"
   ]
  },
  {
   "cell_type": "markdown",
   "metadata": {},
   "source": [
    "<br>\n",
    "## SGDClassifier"
   ]
  },
  {
   "cell_type": "code",
   "execution_count": 13,
   "metadata": {},
   "outputs": [],
   "source": [
    "C = 5\n",
    "alpha = 1 / (C * len(X_train))"
   ]
  },
  {
   "cell_type": "code",
   "execution_count": 14,
   "metadata": {},
   "outputs": [],
   "source": [
    "steps = [('scaler', StandardScaler()),(('sgd_clf',  SGDClassifier(loss=\"hinge\", learning_rate=\"constant\", eta0=0.001, alpha=alpha, max_iter=100000, random_state=42)))]\n",
    "pipeline = Pipeline(steps)\n",
    "scaler = StandardScaler()"
   ]
  },
  {
   "cell_type": "code",
   "execution_count": 15,
   "metadata": {},
   "outputs": [],
   "source": [
    "random_scaled = pipeline.fit(X_train, y_train)"
   ]
  },
  {
   "cell_type": "code",
   "execution_count": 16,
   "metadata": {},
   "outputs": [
    {
     "data": {
      "text/plain": [
       "0.6666666666666666"
      ]
     },
     "execution_count": 16,
     "metadata": {},
     "output_type": "execute_result"
    }
   ],
   "source": [
    "y_pred = pipeline.predict(X_test) \n",
    "accuracy_score(y_test, y_pred)"
   ]
  },
  {
   "cell_type": "code",
   "execution_count": 17,
   "metadata": {},
   "outputs": [],
   "source": [
    "#y_pred_prob = pipeline.predict_proba(X_test)[:,1]"
   ]
  },
  {
   "cell_type": "code",
   "execution_count": 18,
   "metadata": {},
   "outputs": [],
   "source": [
    "#plotRoc(y_test, y_pred_prob)"
   ]
  },
  {
   "cell_type": "code",
   "execution_count": 19,
   "metadata": {},
   "outputs": [],
   "source": [
    "# roc_auc_score(y_test, y_pred_prob)"
   ]
  },
  {
   "cell_type": "code",
   "execution_count": 20,
   "metadata": {},
   "outputs": [
    {
     "name": "stdout",
     "output_type": "stream",
     "text": [
      "Confusion matrix, without normalization\n"
     ]
    },
    {
     "data": {
      "image/png": "[encoded data removed]",
      "text/plain": [
       "<Figure size 432x288 with 2 Axes>"
      ]
     },
     "metadata": {},
     "output_type": "display_data"
    }
   ],
   "source": [
    "printcfm(y_test,y_pred,title='confusion matrix')"
   ]
  },
  {
   "cell_type": "markdown",
   "metadata": {},
   "source": [
    "Positive Predictive Value (PPV)\n",
    "$$Precision=\\frac{TP}{TP+FP}$$\n",
    "<br>\n",
    "Sensitivity, Hit Rate, True Positive Rate\n",
    "$$Recall=\\frac{TP}{TP+FN}$$\n",
    "<br>\n",
    "Harmonic mean between Precision and Recall\n",
    "$$F1 Score=2 * \\frac{Precision * Recall}{Precision + Recall}$$"
   ]
  },
  {
   "cell_type": "code",
   "execution_count": 21,
   "metadata": {},
   "outputs": [
    {
     "name": "stdout",
     "output_type": "stream",
     "text": [
      "             precision    recall  f1-score   support\n",
      "\n",
      "          0       0.84      0.64      0.73        25\n",
      "          1       0.47      0.73      0.57        11\n",
      "\n",
      "avg / total       0.73      0.67      0.68        36\n",
      "\n"
     ]
    }
   ],
   "source": [
    "print(classification_report(y_test, y_pred))"
   ]
  },
  {
   "cell_type": "markdown",
   "metadata": {},
   "source": [
    "<br>\n",
    "## SVC"
   ]
  },
  {
   "cell_type": "code",
   "execution_count": 22,
   "metadata": {},
   "outputs": [],
   "source": [
    "svm_clf = SVC(decision_function_shape=\"ovr\")"
   ]
  },
  {
   "cell_type": "code",
   "execution_count": 23,
   "metadata": {},
   "outputs": [],
   "source": [
    "#steps = [('scaler', StandardScaler()),(('svm_clf', SVC(decision_function_shape=\"ovr\")))]\n",
    "#pipeline = Pipeline(steps)\n",
    "X_train_scaled = scaler.fit_transform(X_train)\n",
    "X_test_scaled = scaler.fit_transform(X_test)"
   ]
  },
  {
   "cell_type": "markdown",
   "metadata": {},
   "source": [
    "## Fine-tunning the model."
   ]
  },
  {
   "cell_type": "markdown",
   "metadata": {},
   "source": [
    "### 1 - Random Search"
   ]
  },
  {
   "cell_type": "code",
   "execution_count": 24,
   "metadata": {},
   "outputs": [
    {
     "name": "stdout",
     "output_type": "stream",
     "text": [
      "Fitting 3 folds for each of 100 candidates, totalling 300 fits\n",
      "[CV] C=4.882337585733687, gamma=0.03552848342080777, probability=True \n",
      "[CV]  C=4.882337585733687, gamma=0.03552848342080777, probability=True, total=   0.0s\n",
      "[CV] C=4.882337585733687, gamma=0.03552848342080777, probability=True \n",
      "[CV]  C=4.882337585733687, gamma=0.03552848342080777, probability=True, total=   0.0s\n",
      "[CV] C=4.882337585733687, gamma=0.03552848342080777, probability=True \n",
      "[CV]  C=4.882337585733687, gamma=0.03552848342080777, probability=True, total=   0.0s\n",
      "[CV] C=5.313240128092054, gamma=0.004222389206385209, probability=True \n",
      "[CV]  C=5.313240128092054, gamma=0.004222389206385209, probability=True, total=   0.0s\n",
      "[CV] C=5.313240128092054, gamma=0.004222389206385209, probability=True \n",
      "[CV]  C=5.313240128092054, gamma=0.004222389206385209, probability=True, total=   0.0s\n",
      "[CV] C=5.313240128092054, gamma=0.004222389206385209, probability=True \n",
      "[CV]  C=5.313240128092054, gamma=0.004222389206385209, probability=True, total=   0.0s\n",
      "[CV] C=3.3496127493930183, gamma=0.0158369804164951, probability=True \n",
      "[CV]  C=3.3496127493930183, gamma=0.0158369804164951, probability=True, total=   0.0s\n",
      "[CV] C=3.3496127493930183, gamma=0.0158369804164951, probability=True \n",
      "[CV]  C=3.3496127493930183, gamma=0.0158369804164951, probability=True, total=   0.0s\n",
      "[CV] C=3.3496127493930183, gamma=0.0158369804164951, probability=True \n",
      "[CV]  C=3.3496127493930183, gamma=0.0158369804164951, probability=True, total=   0.0s\n",
      "[CV] C=6.778740693692777, gamma=0.0020251113376534074, probability=True \n",
      "[CV]  C=6.778740693692777, gamma=0.0020251113376534074, probability=True, total=   0.0s\n",
      "[CV] C=6.778740693692777, gamma=0.0020251113376534074, probability=True \n",
      "[CV]  C=6.778740693692777, gamma=0.0020251113376534074, probability=True, total=   0.0s\n",
      "[CV] C=6.778740693692777, gamma=0.0020251113376534074, probability=True \n",
      "[CV]  C=6.778740693692777, gamma=0.0020251113376534074, probability=True, total=   0.0s\n",
      "[CV] C=3.3132500951790513, gamma=0.0034360672529342062, probability=True \n",
      "[CV]  C=3.3132500951790513, gamma=0.0034360672529342062, probability=True, total=   0.0s\n",
      "[CV] C=3.3132500951790513, gamma=0.0034360672529342062, probability=True \n",
      "[CV]  C=3.3132500951790513, gamma=0.0034360672529342062, probability=True, total=   0.0s\n",
      "[CV] C=3.3132500951790513, gamma=0.0034360672529342062, probability=True \n",
      "[CV]  C=3.3132500951790513, gamma=0.0034360672529342062, probability=True, total=   0.0s\n",
      "[CV] C=2.5914455039374866, gamma=0.03856874458332536, probability=True \n",
      "[CV]  C=2.5914455039374866, gamma=0.03856874458332536, probability=True, total=   0.0s\n",
      "[CV] C=2.5914455039374866, gamma=0.03856874458332536, probability=True \n",
      "[CV]  C=2.5914455039374866, gamma=0.03856874458332536, probability=True, total=   0.0s\n",
      "[CV] C=2.5914455039374866, gamma=0.03856874458332536, probability=True \n",
      "[CV]  C=2.5914455039374866, gamma=0.03856874458332536, probability=True, total=   0.0s\n",
      "[CV] C=7.752109645795066, gamma=0.04012507242399756, probability=True \n",
      "[CV]  C=7.752109645795066, gamma=0.04012507242399756, probability=True, total=   0.0s\n",
      "[CV] C=7.752109645795066, gamma=0.04012507242399756, probability=True \n",
      "[CV]  C=7.752109645795066, gamma=0.04012507242399756, probability=True, total=   0.0s\n",
      "[CV] C=7.752109645795066, gamma=0.04012507242399756, probability=True \n",
      "[CV]  C=7.752109645795066, gamma=0.04012507242399756, probability=True, total=   0.0s\n",
      "[CV] C=6.055295913344161, gamma=0.02732463147052341, probability=True \n",
      "[CV]  C=6.055295913344161, gamma=0.02732463147052341, probability=True, total=   0.0s\n",
      "[CV] C=6.055295913344161, gamma=0.02732463147052341, probability=True \n",
      "[CV]  C=6.055295913344161, gamma=0.02732463147052341, probability=True, total=   0.0s\n",
      "[CV] C=6.055295913344161, gamma=0.02732463147052341, probability=True \n",
      "[CV]  C=6.055295913344161, gamma=0.02732463147052341, probability=True, total=   0.0s\n",
      "[CV] C=7.146929264254081, gamma=0.03753204422943701, probability=True \n",
      "[CV]  C=7.146929264254081, gamma=0.03753204422943701, probability=True, total=   0.0s\n",
      "[CV] C=7.146929264254081, gamma=0.03753204422943701, probability=True \n",
      "[CV]  C=7.146929264254081, gamma=0.03753204422943701, probability=True, total=   0.0s\n",
      "[CV] C=7.146929264254081, gamma=0.03753204422943701, probability=True \n",
      "[CV]  C=7.146929264254081, gamma=0.03753204422943701, probability=True, total=   0.0s\n",
      "[CV] C=5.804174252911548, gamma=0.004965909397334094, probability=True \n",
      "[CV]  C=5.804174252911548, gamma=0.004965909397334094, probability=True, total=   0.0s\n",
      "[CV] C=5.804174252911548, gamma=0.004965909397334094, probability=True \n",
      "[CV]  C=5.804174252911548, gamma=0.004965909397334094, probability=True, total=   0.0s\n",
      "[CV] C=5.804174252911548, gamma=0.004965909397334094, probability=True \n",
      "[CV]  C=5.804174252911548, gamma=0.004965909397334094, probability=True, total=   0.0s\n",
      "[CV] C=1.801934782465068, gamma=0.07839286104190661, probability=True \n",
      "[CV]  C=1.801934782465068, gamma=0.07839286104190661, probability=True, total=   0.0s\n",
      "[CV] C=1.801934782465068, gamma=0.07839286104190661, probability=True \n",
      "[CV]  C=1.801934782465068, gamma=0.07839286104190661, probability=True, total=   0.0s\n",
      "[CV] C=1.801934782465068, gamma=0.07839286104190661, probability=True \n",
      "[CV]  C=1.801934782465068, gamma=0.07839286104190661, probability=True, total=   0.0s\n",
      "[CV] C=5.165504740128251, gamma=0.01964006467471446, probability=True \n",
      "[CV]  C=5.165504740128251, gamma=0.01964006467471446, probability=True, total=   0.0s\n",
      "[CV] C=5.165504740128251, gamma=0.01964006467471446, probability=True \n"
     ]
    },
    {
     "name": "stderr",
     "output_type": "stream",
     "text": [
      "[Parallel(n_jobs=1)]: Done   1 out of   1 | elapsed:    0.0s remaining:    0.0s\n"
     ]
    },
    {
     "name": "stdout",
     "output_type": "stream",
     "text": [
      "[CV]  C=5.165504740128251, gamma=0.01964006467471446, probability=True, total=   0.0s\n",
      "[CV] C=5.165504740128251, gamma=0.01964006467471446, probability=True \n",
      "[CV]  C=5.165504740128251, gamma=0.01964006467471446, probability=True, total=   0.0s\n",
      "[CV] C=6.888395281637328, gamma=0.01651762926083501, probability=True \n",
      "[CV]  C=6.888395281637328, gamma=0.01651762926083501, probability=True, total=   0.0s\n",
      "[CV] C=6.888395281637328, gamma=0.01651762926083501, probability=True \n",
      "[CV]  C=6.888395281637328, gamma=0.01651762926083501, probability=True, total=   0.0s\n",
      "[CV] C=6.888395281637328, gamma=0.01651762926083501, probability=True \n",
      "[CV]  C=6.888395281637328, gamma=0.01651762926083501, probability=True, total=   0.0s\n",
      "[CV] C=10.996854621653949, gamma=0.0023650890578877956, probability=True \n",
      "[CV]  C=10.996854621653949, gamma=0.0023650890578877956, probability=True, total=   0.0s\n",
      "[CV] C=10.996854621653949, gamma=0.0023650890578877956, probability=True \n",
      "[CV]  C=10.996854621653949, gamma=0.0023650890578877956, probability=True, total=   0.0s\n",
      "[CV] C=10.996854621653949, gamma=0.0023650890578877956, probability=True \n",
      "[CV]  C=10.996854621653949, gamma=0.0023650890578877956, probability=True, total=   0.0s\n",
      "[CV] C=9.61295480702566, gamma=0.02157434332122778, probability=True .\n",
      "[CV]  C=9.61295480702566, gamma=0.02157434332122778, probability=True, total=   0.0s\n",
      "[CV] C=9.61295480702566, gamma=0.02157434332122778, probability=True .\n",
      "[CV]  C=9.61295480702566, gamma=0.02157434332122778, probability=True, total=   0.0s\n",
      "[CV] C=9.61295480702566, gamma=0.02157434332122778, probability=True .\n",
      "[CV]  C=9.61295480702566, gamma=0.02157434332122778, probability=True, total=   0.0s\n",
      "[CV] C=10.197027234288647, gamma=0.012245969426312564, probability=True \n",
      "[CV]  C=10.197027234288647, gamma=0.012245969426312564, probability=True, total=   0.0s\n",
      "[CV] C=10.197027234288647, gamma=0.012245969426312564, probability=True \n",
      "[CV]  C=10.197027234288647, gamma=0.012245969426312564, probability=True, total=   0.0s\n",
      "[CV] C=10.197027234288647, gamma=0.012245969426312564, probability=True \n",
      "[CV]  C=10.197027234288647, gamma=0.012245969426312564, probability=True, total=   0.0s\n",
      "[CV] C=7.924597675437633, gamma=0.0723601857881198, probability=True .\n",
      "[CV]  C=7.924597675437633, gamma=0.0723601857881198, probability=True, total=   0.0s\n",
      "[CV] C=7.924597675437633, gamma=0.0723601857881198, probability=True .\n",
      "[CV]  C=7.924597675437633, gamma=0.0723601857881198, probability=True, total=   0.0s\n",
      "[CV] C=7.924597675437633, gamma=0.0723601857881198, probability=True .\n",
      "[CV]  C=7.924597675437633, gamma=0.0723601857881198, probability=True, total=   0.0s\n",
      "[CV] C=6.466997612464849, gamma=0.04167445201744525, probability=True \n",
      "[CV]  C=6.466997612464849, gamma=0.04167445201744525, probability=True, total=   0.0s\n",
      "[CV] C=6.466997612464849, gamma=0.04167445201744525, probability=True \n",
      "[CV]  C=6.466997612464849, gamma=0.04167445201744525, probability=True, total=   0.0s\n",
      "[CV] C=6.466997612464849, gamma=0.04167445201744525, probability=True \n",
      "[CV]  C=6.466997612464849, gamma=0.04167445201744525, probability=True, total=   0.0s\n",
      "[CV] C=5.40899312337921, gamma=0.0014046521321970237, probability=True \n",
      "[CV]  C=5.40899312337921, gamma=0.0014046521321970237, probability=True, total=   0.0s\n",
      "[CV] C=5.40899312337921, gamma=0.0014046521321970237, probability=True \n",
      "[CV]  C=5.40899312337921, gamma=0.0014046521321970237, probability=True, total=   0.0s\n",
      "[CV] C=5.40899312337921, gamma=0.0014046521321970237, probability=True \n",
      "[CV]  C=5.40899312337921, gamma=0.0014046521321970237, probability=True, total=   0.0s\n",
      "[CV] C=8.872072438993234, gamma=0.0019461869952230309, probability=True \n",
      "[CV]  C=8.872072438993234, gamma=0.0019461869952230309, probability=True, total=   0.0s\n",
      "[CV] C=8.872072438993234, gamma=0.0019461869952230309, probability=True \n",
      "[CV]  C=8.872072438993234, gamma=0.0019461869952230309, probability=True, total=   0.0s\n",
      "[CV] C=8.872072438993234, gamma=0.0019461869952230309, probability=True \n",
      "[CV]  C=8.872072438993234, gamma=0.0019461869952230309, probability=True, total=   0.0s\n",
      "[CV] C=10.231890574427098, gamma=0.06780744617106588, probability=True \n",
      "[CV]  C=10.231890574427098, gamma=0.06780744617106588, probability=True, total=   0.0s\n",
      "[CV] C=10.231890574427098, gamma=0.06780744617106588, probability=True \n",
      "[CV]  C=10.231890574427098, gamma=0.06780744617106588, probability=True, total=   0.0s\n",
      "[CV] C=10.231890574427098, gamma=0.06780744617106588, probability=True \n",
      "[CV]  C=10.231890574427098, gamma=0.06780744617106588, probability=True, total=   0.0s\n",
      "[CV] C=8.004818416823875, gamma=0.0029317818503647045, probability=True \n",
      "[CV]  C=8.004818416823875, gamma=0.0029317818503647045, probability=True, total=   0.0s\n",
      "[CV] C=8.004818416823875, gamma=0.0029317818503647045, probability=True \n",
      "[CV]  C=8.004818416823875, gamma=0.0029317818503647045, probability=True, total=   0.0s\n",
      "[CV] C=8.004818416823875, gamma=0.0029317818503647045, probability=True \n",
      "[CV]  C=8.004818416823875, gamma=0.0029317818503647045, probability=True, total=   0.0s\n",
      "[CV] C=7.4852241532686605, gamma=0.0020320614016103547, probability=True \n",
      "[CV]  C=7.4852241532686605, gamma=0.0020320614016103547, probability=True, total=   0.0s\n",
      "[CV] C=7.4852241532686605, gamma=0.0020320614016103547, probability=True \n",
      "[CV]  C=7.4852241532686605, gamma=0.0020320614016103547, probability=True, total=   0.0s\n",
      "[CV] C=7.4852241532686605, gamma=0.0020320614016103547, probability=True \n",
      "[CV]  C=7.4852241532686605, gamma=0.0020320614016103547, probability=True, total=   0.0s\n",
      "[CV] C=9.442203830018077, gamma=0.08410974848964092, probability=True \n",
      "[CV]  C=9.442203830018077, gamma=0.08410974848964092, probability=True, total=   0.0s\n",
      "[CV] C=9.442203830018077, gamma=0.08410974848964092, probability=True \n",
      "[CV]  C=9.442203830018077, gamma=0.08410974848964092, probability=True, total=   0.0s\n",
      "[CV] C=9.442203830018077, gamma=0.08410974848964092, probability=True \n",
      "[CV]  C=9.442203830018077, gamma=0.08410974848964092, probability=True, total=   0.0s\n",
      "[CV] C=10.764626066494158, gamma=0.03513519621759527, probability=True \n",
      "[CV]  C=10.764626066494158, gamma=0.03513519621759527, probability=True, total=   0.0s\n",
      "[CV] C=10.764626066494158, gamma=0.03513519621759527, probability=True \n",
      "[CV]  C=10.764626066494158, gamma=0.03513519621759527, probability=True, total=   0.0s\n",
      "[CV] C=10.764626066494158, gamma=0.03513519621759527, probability=True \n",
      "[CV]  C=10.764626066494158, gamma=0.03513519621759527, probability=True, total=   0.0s\n",
      "[CV] C=5.792765460022734, gamma=0.0012746896669643814, probability=True \n",
      "[CV]  C=5.792765460022734, gamma=0.0012746896669643814, probability=True, total=   0.0s\n",
      "[CV] C=5.792765460022734, gamma=0.0012746896669643814, probability=True \n",
      "[CV]  C=5.792765460022734, gamma=0.0012746896669643814, probability=True, total=   0.0s\n",
      "[CV] C=5.792765460022734, gamma=0.0012746896669643814, probability=True \n",
      "[CV]  C=5.792765460022734, gamma=0.0012746896669643814, probability=True, total=   0.0s\n",
      "[CV] C=9.475029770487673, gamma=0.0043202596925674365, probability=True \n",
      "[CV]  C=9.475029770487673, gamma=0.0043202596925674365, probability=True, total=   0.0s\n",
      "[CV] C=9.475029770487673, gamma=0.0043202596925674365, probability=True \n",
      "[CV]  C=9.475029770487673, gamma=0.0043202596925674365, probability=True, total=   0.0s\n",
      "[CV] C=9.475029770487673, gamma=0.0043202596925674365, probability=True \n",
      "[CV]  C=9.475029770487673, gamma=0.0043202596925674365, probability=True, total=   0.0s\n",
      "[CV] C=8.192143229789668, gamma=0.014651915372040561, probability=True \n",
      "[CV]  C=8.192143229789668, gamma=0.014651915372040561, probability=True, total=   0.0s\n",
      "[CV] C=8.192143229789668, gamma=0.014651915372040561, probability=True \n",
      "[CV]  C=8.192143229789668, gamma=0.014651915372040561, probability=True, total=   0.0s\n",
      "[CV] C=8.192143229789668, gamma=0.014651915372040561, probability=True \n",
      "[CV]  C=8.192143229789668, gamma=0.014651915372040561, probability=True, total=   0.0s\n",
      "[CV] C=10.985504202997555, gamma=0.025389405887507772, probability=True \n",
      "[CV]  C=10.985504202997555, gamma=0.025389405887507772, probability=True, total=   0.0s\n",
      "[CV] C=10.985504202997555, gamma=0.025389405887507772, probability=True \n",
      "[CV]  C=10.985504202997555, gamma=0.025389405887507772, probability=True, total=   0.0s\n",
      "[CV] C=10.985504202997555, gamma=0.025389405887507772, probability=True \n",
      "[CV]  C=10.985504202997555, gamma=0.025389405887507772, probability=True, total=   0.0s\n",
      "[CV] C=2.821523272118084, gamma=0.08370642034722406, probability=True \n",
      "[CV]  C=2.821523272118084, gamma=0.08370642034722406, probability=True, total=   0.0s\n",
      "[CV] C=2.821523272118084, gamma=0.08370642034722406, probability=True \n",
      "[CV]  C=2.821523272118084, gamma=0.08370642034722406, probability=True, total=   0.0s\n",
      "[CV] C=2.821523272118084, gamma=0.08370642034722406, probability=True \n",
      "[CV]  C=2.821523272118084, gamma=0.08370642034722406, probability=True, total=   0.0s\n",
      "[CV] C=10.453575547564977, gamma=0.04126999514102778, probability=True \n",
      "[CV]  C=10.453575547564977, gamma=0.04126999514102778, probability=True, total=   0.0s\n",
      "[CV] C=10.453575547564977, gamma=0.04126999514102778, probability=True \n",
      "[CV]  C=10.453575547564977, gamma=0.04126999514102778, probability=True, total=   0.0s\n",
      "[CV] C=10.453575547564977, gamma=0.04126999514102778, probability=True \n",
      "[CV]  C=10.453575547564977, gamma=0.04126999514102778, probability=True, total=   0.0s\n",
      "[CV] C=8.714151674355024, gamma=0.004966872964977466, probability=True \n",
      "[CV]  C=8.714151674355024, gamma=0.004966872964977466, probability=True, total=   0.0s\n",
      "[CV] C=8.714151674355024, gamma=0.004966872964977466, probability=True \n"
     ]
    },
    {
     "name": "stdout",
     "output_type": "stream",
     "text": [
      "[CV]  C=8.714151674355024, gamma=0.004966872964977466, probability=True, total=   0.0s\n",
      "[CV] C=8.714151674355024, gamma=0.004966872964977466, probability=True \n",
      "[CV]  C=8.714151674355024, gamma=0.004966872964977466, probability=True, total=   0.0s\n",
      "[CV] C=6.121866735550718, gamma=0.0021049148397315415, probability=True \n",
      "[CV]  C=6.121866735550718, gamma=0.0021049148397315415, probability=True, total=   0.0s\n",
      "[CV] C=6.121866735550718, gamma=0.0021049148397315415, probability=True \n",
      "[CV]  C=6.121866735550718, gamma=0.0021049148397315415, probability=True, total=   0.0s\n",
      "[CV] C=6.121866735550718, gamma=0.0021049148397315415, probability=True \n",
      "[CV]  C=6.121866735550718, gamma=0.0021049148397315415, probability=True, total=   0.0s\n",
      "[CV] C=9.874564477769157, gamma=0.04472892693113967, probability=True \n",
      "[CV]  C=9.874564477769157, gamma=0.04472892693113967, probability=True, total=   0.0s\n",
      "[CV] C=9.874564477769157, gamma=0.04472892693113967, probability=True \n",
      "[CV]  C=9.874564477769157, gamma=0.04472892693113967, probability=True, total=   0.0s\n",
      "[CV] C=9.874564477769157, gamma=0.04472892693113967, probability=True \n",
      "[CV]  C=9.874564477769157, gamma=0.04472892693113967, probability=True, total=   0.0s\n",
      "[CV] C=5.713174904557713, gamma=0.0256572750556219, probability=True .\n",
      "[CV]  C=5.713174904557713, gamma=0.0256572750556219, probability=True, total=   0.0s\n",
      "[CV] C=5.713174904557713, gamma=0.0256572750556219, probability=True .\n",
      "[CV]  C=5.713174904557713, gamma=0.0256572750556219, probability=True, total=   0.0s\n",
      "[CV] C=5.713174904557713, gamma=0.0256572750556219, probability=True .\n",
      "[CV]  C=5.713174904557713, gamma=0.0256572750556219, probability=True, total=   0.0s\n",
      "[CV] C=5.072548773018337, gamma=0.0013082702867453896, probability=True \n",
      "[CV]  C=5.072548773018337, gamma=0.0013082702867453896, probability=True, total=   0.0s\n",
      "[CV] C=5.072548773018337, gamma=0.0013082702867453896, probability=True \n",
      "[CV]  C=5.072548773018337, gamma=0.0013082702867453896, probability=True, total=   0.0s\n",
      "[CV] C=5.072548773018337, gamma=0.0013082702867453896, probability=True \n",
      "[CV]  C=5.072548773018337, gamma=0.0013082702867453896, probability=True, total=   0.0s\n",
      "[CV] C=10.672889851036558, gamma=0.0022419784257559903, probability=True \n",
      "[CV]  C=10.672889851036558, gamma=0.0022419784257559903, probability=True, total=   0.0s\n",
      "[CV] C=10.672889851036558, gamma=0.0022419784257559903, probability=True \n",
      "[CV]  C=10.672889851036558, gamma=0.0022419784257559903, probability=True, total=   0.0s\n",
      "[CV] C=10.672889851036558, gamma=0.0022419784257559903, probability=True \n",
      "[CV]  C=10.672889851036558, gamma=0.0022419784257559903, probability=True, total=   0.0s\n",
      "[CV] C=4.346643124290264, gamma=0.06499468728568765, probability=True \n",
      "[CV]  C=4.346643124290264, gamma=0.06499468728568765, probability=True, total=   0.0s\n",
      "[CV] C=4.346643124290264, gamma=0.06499468728568765, probability=True \n",
      "[CV]  C=4.346643124290264, gamma=0.06499468728568765, probability=True, total=   0.0s\n",
      "[CV] C=4.346643124290264, gamma=0.06499468728568765, probability=True \n",
      "[CV]  C=4.346643124290264, gamma=0.06499468728568765, probability=True, total=   0.0s\n",
      "[CV] C=1.5214046688756913, gamma=0.0036184137111281286, probability=True \n",
      "[CV]  C=1.5214046688756913, gamma=0.0036184137111281286, probability=True, total=   0.0s\n",
      "[CV] C=1.5214046688756913, gamma=0.0036184137111281286, probability=True \n",
      "[CV]  C=1.5214046688756913, gamma=0.0036184137111281286, probability=True, total=   0.0s\n",
      "[CV] C=1.5214046688756913, gamma=0.0036184137111281286, probability=True \n",
      "[CV]  C=1.5214046688756913, gamma=0.0036184137111281286, probability=True, total=   0.0s\n",
      "[CV] C=1.4220384181511327, gamma=0.003470848428917558, probability=True \n",
      "[CV]  C=1.4220384181511327, gamma=0.003470848428917558, probability=True, total=   0.0s\n",
      "[CV] C=1.4220384181511327, gamma=0.003470848428917558, probability=True \n",
      "[CV]  C=1.4220384181511327, gamma=0.003470848428917558, probability=True, total=   0.0s\n",
      "[CV] C=1.4220384181511327, gamma=0.003470848428917558, probability=True \n",
      "[CV]  C=1.4220384181511327, gamma=0.003470848428917558, probability=True, total=   0.0s\n",
      "[CV] C=4.1684374755215385, gamma=0.06895718927028958, probability=True \n",
      "[CV]  C=4.1684374755215385, gamma=0.06895718927028958, probability=True, total=   0.0s\n",
      "[CV] C=4.1684374755215385, gamma=0.06895718927028958, probability=True \n",
      "[CV]  C=4.1684374755215385, gamma=0.06895718927028958, probability=True, total=   0.0s\n",
      "[CV] C=4.1684374755215385, gamma=0.06895718927028958, probability=True \n",
      "[CV]  C=4.1684374755215385, gamma=0.06895718927028958, probability=True, total=   0.0s\n",
      "[CV] C=4.673956192737564, gamma=0.002827771659486598, probability=True \n",
      "[CV]  C=4.673956192737564, gamma=0.002827771659486598, probability=True, total=   0.0s\n",
      "[CV] C=4.673956192737564, gamma=0.002827771659486598, probability=True \n",
      "[CV]  C=4.673956192737564, gamma=0.002827771659486598, probability=True, total=   0.0s\n",
      "[CV] C=4.673956192737564, gamma=0.002827771659486598, probability=True \n",
      "[CV]  C=4.673956192737564, gamma=0.002827771659486598, probability=True, total=   0.0s\n",
      "[CV] C=3.1007140371820645, gamma=0.0013612369469270782, probability=True \n",
      "[CV]  C=3.1007140371820645, gamma=0.0013612369469270782, probability=True, total=   0.0s\n",
      "[CV] C=3.1007140371820645, gamma=0.0013612369469270782, probability=True \n",
      "[CV]  C=3.1007140371820645, gamma=0.0013612369469270782, probability=True, total=   0.0s\n",
      "[CV] C=3.1007140371820645, gamma=0.0013612369469270782, probability=True \n",
      "[CV]  C=3.1007140371820645, gamma=0.0013612369469270782, probability=True, total=   0.0s\n",
      "[CV] C=8.710195514056633, gamma=0.027617345358672555, probability=True \n",
      "[CV]  C=8.710195514056633, gamma=0.027617345358672555, probability=True, total=   0.0s\n",
      "[CV] C=8.710195514056633, gamma=0.027617345358672555, probability=True \n",
      "[CV]  C=8.710195514056633, gamma=0.027617345358672555, probability=True, total=   0.0s\n",
      "[CV] C=8.710195514056633, gamma=0.027617345358672555, probability=True \n",
      "[CV]  C=8.710195514056633, gamma=0.027617345358672555, probability=True, total=   0.0s\n",
      "[CV] C=1.5593684422618361, gamma=0.0020735212035180644, probability=True \n",
      "[CV]  C=1.5593684422618361, gamma=0.0020735212035180644, probability=True, total=   0.0s\n",
      "[CV] C=1.5593684422618361, gamma=0.0020735212035180644, probability=True \n",
      "[CV]  C=1.5593684422618361, gamma=0.0020735212035180644, probability=True, total=   0.0s\n",
      "[CV] C=1.5593684422618361, gamma=0.0020735212035180644, probability=True \n",
      "[CV]  C=1.5593684422618361, gamma=0.0020735212035180644, probability=True, total=   0.0s\n",
      "[CV] C=9.435087279624984, gamma=0.0038671969468112325, probability=True \n",
      "[CV]  C=9.435087279624984, gamma=0.0038671969468112325, probability=True, total=   0.0s\n",
      "[CV] C=9.435087279624984, gamma=0.0038671969468112325, probability=True \n",
      "[CV]  C=9.435087279624984, gamma=0.0038671969468112325, probability=True, total=   0.0s\n",
      "[CV] C=9.435087279624984, gamma=0.0038671969468112325, probability=True \n",
      "[CV]  C=9.435087279624984, gamma=0.0038671969468112325, probability=True, total=   0.0s\n",
      "[CV] C=10.044750566016296, gamma=0.003606707887398812, probability=True \n",
      "[CV]  C=10.044750566016296, gamma=0.003606707887398812, probability=True, total=   0.0s\n",
      "[CV] C=10.044750566016296, gamma=0.003606707887398812, probability=True \n",
      "[CV]  C=10.044750566016296, gamma=0.003606707887398812, probability=True, total=   0.0s\n",
      "[CV] C=10.044750566016296, gamma=0.003606707887398812, probability=True \n",
      "[CV]  C=10.044750566016296, gamma=0.003606707887398812, probability=True, total=   0.0s\n",
      "[CV] C=1.4225426747834626, gamma=0.009435448778055248, probability=True \n",
      "[CV]  C=1.4225426747834626, gamma=0.009435448778055248, probability=True, total=   0.0s\n",
      "[CV] C=1.4225426747834626, gamma=0.009435448778055248, probability=True \n",
      "[CV]  C=1.4225426747834626, gamma=0.009435448778055248, probability=True, total=   0.0s\n",
      "[CV] C=1.4225426747834626, gamma=0.009435448778055248, probability=True \n",
      "[CV]  C=1.4225426747834626, gamma=0.009435448778055248, probability=True, total=   0.0s\n",
      "[CV] C=1.2332584603430143, gamma=0.018771868714388913, probability=True \n",
      "[CV]  C=1.2332584603430143, gamma=0.018771868714388913, probability=True, total=   0.0s\n",
      "[CV] C=1.2332584603430143, gamma=0.018771868714388913, probability=True \n",
      "[CV]  C=1.2332584603430143, gamma=0.018771868714388913, probability=True, total=   0.0s\n",
      "[CV] C=1.2332584603430143, gamma=0.018771868714388913, probability=True \n",
      "[CV]  C=1.2332584603430143, gamma=0.018771868714388913, probability=True, total=   0.0s\n",
      "[CV] C=9.090791929453276, gamma=0.0015802753057925448, probability=True \n",
      "[CV]  C=9.090791929453276, gamma=0.0015802753057925448, probability=True, total=   0.0s\n",
      "[CV] C=9.090791929453276, gamma=0.0015802753057925448, probability=True \n",
      "[CV]  C=9.090791929453276, gamma=0.0015802753057925448, probability=True, total=   0.0s\n",
      "[CV] C=9.090791929453276, gamma=0.0015802753057925448, probability=True \n",
      "[CV]  C=9.090791929453276, gamma=0.0015802753057925448, probability=True, total=   0.0s\n",
      "[CV] C=4.299419063188134, gamma=0.011831383245811126, probability=True \n",
      "[CV]  C=4.299419063188134, gamma=0.011831383245811126, probability=True, total=   0.0s\n",
      "[CV] C=4.299419063188134, gamma=0.011831383245811126, probability=True \n",
      "[CV]  C=4.299419063188134, gamma=0.011831383245811126, probability=True, total=   0.0s\n",
      "[CV] C=4.299419063188134, gamma=0.011831383245811126, probability=True \n",
      "[CV]  C=4.299419063188134, gamma=0.011831383245811126, probability=True, total=   0.0s\n",
      "[CV] C=5.221184320210906, gamma=0.009293210410729336, probability=True \n",
      "[CV]  C=5.221184320210906, gamma=0.009293210410729336, probability=True, total=   0.0s\n",
      "[CV] C=5.221184320210906, gamma=0.009293210410729336, probability=True \n",
      "[CV]  C=5.221184320210906, gamma=0.009293210410729336, probability=True, total=   0.0s\n",
      "[CV] C=5.221184320210906, gamma=0.009293210410729336, probability=True \n",
      "[CV]  C=5.221184320210906, gamma=0.009293210410729336, probability=True, total=   0.0s\n"
     ]
    },
    {
     "name": "stdout",
     "output_type": "stream",
     "text": [
      "[CV] C=9.354323928364384, gamma=0.06483752724735961, probability=True \n",
      "[CV]  C=9.354323928364384, gamma=0.06483752724735961, probability=True, total=   0.0s\n",
      "[CV] C=9.354323928364384, gamma=0.06483752724735961, probability=True \n",
      "[CV]  C=9.354323928364384, gamma=0.06483752724735961, probability=True, total=   0.0s\n",
      "[CV] C=9.354323928364384, gamma=0.06483752724735961, probability=True \n",
      "[CV]  C=9.354323928364384, gamma=0.06483752724735961, probability=True, total=   0.0s\n",
      "[CV] C=5.092388627489032, gamma=0.09357744981125467, probability=True \n",
      "[CV]  C=5.092388627489032, gamma=0.09357744981125467, probability=True, total=   0.0s\n",
      "[CV] C=5.092388627489032, gamma=0.09357744981125467, probability=True \n",
      "[CV]  C=5.092388627489032, gamma=0.09357744981125467, probability=True, total=   0.0s\n",
      "[CV] C=5.092388627489032, gamma=0.09357744981125467, probability=True \n",
      "[CV]  C=5.092388627489032, gamma=0.09357744981125467, probability=True, total=   0.0s\n",
      "[CV] C=6.442982589248774, gamma=0.003531300063309575, probability=True \n",
      "[CV]  C=6.442982589248774, gamma=0.003531300063309575, probability=True, total=   0.0s\n",
      "[CV] C=6.442982589248774, gamma=0.003531300063309575, probability=True \n",
      "[CV]  C=6.442982589248774, gamma=0.003531300063309575, probability=True, total=   0.0s\n",
      "[CV] C=6.442982589248774, gamma=0.003531300063309575, probability=True \n",
      "[CV]  C=6.442982589248774, gamma=0.003531300063309575, probability=True, total=   0.0s\n",
      "[CV] C=5.405201921396972, gamma=0.0024222564644470475, probability=True \n",
      "[CV]  C=5.405201921396972, gamma=0.0024222564644470475, probability=True, total=   0.0s\n",
      "[CV] C=5.405201921396972, gamma=0.0024222564644470475, probability=True \n",
      "[CV]  C=5.405201921396972, gamma=0.0024222564644470475, probability=True, total=   0.0s\n",
      "[CV] C=5.405201921396972, gamma=0.0024222564644470475, probability=True \n",
      "[CV]  C=5.405201921396972, gamma=0.0024222564644470475, probability=True, total=   0.0s\n",
      "[CV] C=2.4454982518599735, gamma=0.0030589926882655227, probability=True \n",
      "[CV]  C=2.4454982518599735, gamma=0.0030589926882655227, probability=True, total=   0.0s\n",
      "[CV] C=2.4454982518599735, gamma=0.0030589926882655227, probability=True \n",
      "[CV]  C=2.4454982518599735, gamma=0.0030589926882655227, probability=True, total=   0.0s\n",
      "[CV] C=2.4454982518599735, gamma=0.0030589926882655227, probability=True \n",
      "[CV]  C=2.4454982518599735, gamma=0.0030589926882655227, probability=True, total=   0.0s\n",
      "[CV] C=4.212271114791009, gamma=0.014999507188667282, probability=True \n",
      "[CV]  C=4.212271114791009, gamma=0.014999507188667282, probability=True, total=   0.0s\n",
      "[CV] C=4.212271114791009, gamma=0.014999507188667282, probability=True \n",
      "[CV]  C=4.212271114791009, gamma=0.014999507188667282, probability=True, total=   0.0s\n",
      "[CV] C=4.212271114791009, gamma=0.014999507188667282, probability=True \n",
      "[CV]  C=4.212271114791009, gamma=0.014999507188667282, probability=True, total=   0.0s\n",
      "[CV] C=5.136558561120644, gamma=0.028210326726683818, probability=True \n",
      "[CV]  C=5.136558561120644, gamma=0.028210326726683818, probability=True, total=   0.0s\n",
      "[CV] C=5.136558561120644, gamma=0.028210326726683818, probability=True \n",
      "[CV]  C=5.136558561120644, gamma=0.028210326726683818, probability=True, total=   0.0s\n",
      "[CV] C=5.136558561120644, gamma=0.028210326726683818, probability=True \n",
      "[CV]  C=5.136558561120644, gamma=0.028210326726683818, probability=True, total=   0.0s\n",
      "[CV] C=1.3538334726082781, gamma=0.008008818802736144, probability=True \n",
      "[CV]  C=1.3538334726082781, gamma=0.008008818802736144, probability=True, total=   0.0s\n",
      "[CV] C=1.3538334726082781, gamma=0.008008818802736144, probability=True \n",
      "[CV]  C=1.3538334726082781, gamma=0.008008818802736144, probability=True, total=   0.0s\n",
      "[CV] C=1.3538334726082781, gamma=0.008008818802736144, probability=True \n",
      "[CV]  C=1.3538334726082781, gamma=0.008008818802736144, probability=True, total=   0.0s\n",
      "[CV] C=1.225531015663022, gamma=0.026770807005100174, probability=True \n",
      "[CV]  C=1.225531015663022, gamma=0.026770807005100174, probability=True, total=   0.0s\n",
      "[CV] C=1.225531015663022, gamma=0.026770807005100174, probability=True \n",
      "[CV]  C=1.225531015663022, gamma=0.026770807005100174, probability=True, total=   0.0s\n",
      "[CV] C=1.225531015663022, gamma=0.026770807005100174, probability=True \n",
      "[CV]  C=1.225531015663022, gamma=0.026770807005100174, probability=True, total=   0.0s\n",
      "[CV] C=10.868734303237972, gamma=0.0060219978718337105, probability=True \n",
      "[CV]  C=10.868734303237972, gamma=0.0060219978718337105, probability=True, total=   0.0s\n",
      "[CV] C=10.868734303237972, gamma=0.0060219978718337105, probability=True \n",
      "[CV]  C=10.868734303237972, gamma=0.0060219978718337105, probability=True, total=   0.0s\n",
      "[CV] C=10.868734303237972, gamma=0.0060219978718337105, probability=True \n",
      "[CV]  C=10.868734303237972, gamma=0.0060219978718337105, probability=True, total=   0.0s\n",
      "[CV] C=1.7649400598985934, gamma=0.002637553883590673, probability=True \n",
      "[CV]  C=1.7649400598985934, gamma=0.002637553883590673, probability=True, total=   0.0s\n",
      "[CV] C=1.7649400598985934, gamma=0.002637553883590673, probability=True \n",
      "[CV]  C=1.7649400598985934, gamma=0.002637553883590673, probability=True, total=   0.0s\n",
      "[CV] C=1.7649400598985934, gamma=0.002637553883590673, probability=True \n",
      "[CV]  C=1.7649400598985934, gamma=0.002637553883590673, probability=True, total=   0.0s\n",
      "[CV] C=1.9311742065666107, gamma=0.031492492556796675, probability=True \n",
      "[CV]  C=1.9311742065666107, gamma=0.031492492556796675, probability=True, total=   0.0s\n",
      "[CV] C=1.9311742065666107, gamma=0.031492492556796675, probability=True \n",
      "[CV]  C=1.9311742065666107, gamma=0.031492492556796675, probability=True, total=   0.0s\n",
      "[CV] C=1.9311742065666107, gamma=0.031492492556796675, probability=True \n",
      "[CV]  C=1.9311742065666107, gamma=0.031492492556796675, probability=True, total=   0.0s\n",
      "[CV] C=9.803189222041041, gamma=0.0024936991889505772, probability=True \n",
      "[CV]  C=9.803189222041041, gamma=0.0024936991889505772, probability=True, total=   0.0s\n",
      "[CV] C=9.803189222041041, gamma=0.0024936991889505772, probability=True \n",
      "[CV]  C=9.803189222041041, gamma=0.0024936991889505772, probability=True, total=   0.0s\n",
      "[CV] C=9.803189222041041, gamma=0.0024936991889505772, probability=True \n",
      "[CV]  C=9.803189222041041, gamma=0.0024936991889505772, probability=True, total=   0.0s\n",
      "[CV] C=4.733604784097034, gamma=0.0042234705497487075, probability=True \n",
      "[CV]  C=4.733604784097034, gamma=0.0042234705497487075, probability=True, total=   0.0s\n",
      "[CV] C=4.733604784097034, gamma=0.0042234705497487075, probability=True \n",
      "[CV]  C=4.733604784097034, gamma=0.0042234705497487075, probability=True, total=   0.0s\n",
      "[CV] C=4.733604784097034, gamma=0.0042234705497487075, probability=True \n",
      "[CV]  C=4.733604784097034, gamma=0.0042234705497487075, probability=True, total=   0.0s\n",
      "[CV] C=9.807258670646998, gamma=0.059370872093874184, probability=True \n",
      "[CV]  C=9.807258670646998, gamma=0.059370872093874184, probability=True, total=   0.0s\n",
      "[CV] C=9.807258670646998, gamma=0.059370872093874184, probability=True \n",
      "[CV]  C=9.807258670646998, gamma=0.059370872093874184, probability=True, total=   0.0s\n",
      "[CV] C=9.807258670646998, gamma=0.059370872093874184, probability=True \n",
      "[CV]  C=9.807258670646998, gamma=0.059370872093874184, probability=True, total=   0.0s\n",
      "[CV] C=10.783612665479566, gamma=0.0015219626342182183, probability=True \n",
      "[CV]  C=10.783612665479566, gamma=0.0015219626342182183, probability=True, total=   0.0s\n",
      "[CV] C=10.783612665479566, gamma=0.0015219626342182183, probability=True \n",
      "[CV]  C=10.783612665479566, gamma=0.0015219626342182183, probability=True, total=   0.0s\n",
      "[CV] C=10.783612665479566, gamma=0.0015219626342182183, probability=True \n",
      "[CV]  C=10.783612665479566, gamma=0.0015219626342182183, probability=True, total=   0.0s\n",
      "[CV] C=1.5790108976243036, gamma=0.0038373425608253958, probability=True \n",
      "[CV]  C=1.5790108976243036, gamma=0.0038373425608253958, probability=True, total=   0.0s\n",
      "[CV] C=1.5790108976243036, gamma=0.0038373425608253958, probability=True \n",
      "[CV]  C=1.5790108976243036, gamma=0.0038373425608253958, probability=True, total=   0.0s\n",
      "[CV] C=1.5790108976243036, gamma=0.0038373425608253958, probability=True \n",
      "[CV]  C=1.5790108976243036, gamma=0.0038373425608253958, probability=True, total=   0.0s\n",
      "[CV] C=7.44955864049672, gamma=0.003714694748954277, probability=True \n",
      "[CV]  C=7.44955864049672, gamma=0.003714694748954277, probability=True, total=   0.0s\n",
      "[CV] C=7.44955864049672, gamma=0.003714694748954277, probability=True \n",
      "[CV]  C=7.44955864049672, gamma=0.003714694748954277, probability=True, total=   0.0s\n",
      "[CV] C=7.44955864049672, gamma=0.003714694748954277, probability=True \n",
      "[CV]  C=7.44955864049672, gamma=0.003714694748954277, probability=True, total=   0.0s\n",
      "[CV] C=4.297537425372779, gamma=0.014613176827836818, probability=True \n",
      "[CV]  C=4.297537425372779, gamma=0.014613176827836818, probability=True, total=   0.0s\n"
     ]
    },
    {
     "name": "stdout",
     "output_type": "stream",
     "text": [
      "[CV] C=4.297537425372779, gamma=0.014613176827836818, probability=True \n",
      "[CV]  C=4.297537425372779, gamma=0.014613176827836818, probability=True, total=   0.0s\n",
      "[CV] C=4.297537425372779, gamma=0.014613176827836818, probability=True \n",
      "[CV]  C=4.297537425372779, gamma=0.014613176827836818, probability=True, total=   0.0s\n",
      "[CV] C=1.978228622341556, gamma=0.0075219684745614366, probability=True \n",
      "[CV]  C=1.978228622341556, gamma=0.0075219684745614366, probability=True, total=   0.0s\n",
      "[CV] C=1.978228622341556, gamma=0.0075219684745614366, probability=True \n",
      "[CV]  C=1.978228622341556, gamma=0.0075219684745614366, probability=True, total=   0.0s\n",
      "[CV] C=1.978228622341556, gamma=0.0075219684745614366, probability=True \n",
      "[CV]  C=1.978228622341556, gamma=0.0075219684745614366, probability=True, total=   0.0s\n",
      "[CV] C=5.662730575934119, gamma=0.01659954905116652, probability=True \n",
      "[CV]  C=5.662730575934119, gamma=0.01659954905116652, probability=True, total=   0.0s\n",
      "[CV] C=5.662730575934119, gamma=0.01659954905116652, probability=True \n",
      "[CV]  C=5.662730575934119, gamma=0.01659954905116652, probability=True, total=   0.0s\n",
      "[CV] C=5.662730575934119, gamma=0.01659954905116652, probability=True \n",
      "[CV]  C=5.662730575934119, gamma=0.01659954905116652, probability=True, total=   0.0s\n",
      "[CV] C=6.360179436267237, gamma=0.027276751397928168, probability=True \n",
      "[CV]  C=6.360179436267237, gamma=0.027276751397928168, probability=True, total=   0.0s\n",
      "[CV] C=6.360179436267237, gamma=0.027276751397928168, probability=True \n",
      "[CV]  C=6.360179436267237, gamma=0.027276751397928168, probability=True, total=   0.0s\n",
      "[CV] C=6.360179436267237, gamma=0.027276751397928168, probability=True \n",
      "[CV]  C=6.360179436267237, gamma=0.027276751397928168, probability=True, total=   0.0s\n",
      "[CV] C=2.6410987815017943, gamma=0.013356118163026584, probability=True \n",
      "[CV]  C=2.6410987815017943, gamma=0.013356118163026584, probability=True, total=   0.0s\n",
      "[CV] C=2.6410987815017943, gamma=0.013356118163026584, probability=True \n",
      "[CV]  C=2.6410987815017943, gamma=0.013356118163026584, probability=True, total=   0.0s\n",
      "[CV] C=2.6410987815017943, gamma=0.013356118163026584, probability=True \n",
      "[CV]  C=2.6410987815017943, gamma=0.013356118163026584, probability=True, total=   0.0s\n",
      "[CV] C=2.653264278928732, gamma=0.008083373897479753, probability=True \n",
      "[CV]  C=2.653264278928732, gamma=0.008083373897479753, probability=True, total=   0.0s\n",
      "[CV] C=2.653264278928732, gamma=0.008083373897479753, probability=True \n",
      "[CV]  C=2.653264278928732, gamma=0.008083373897479753, probability=True, total=   0.0s\n",
      "[CV] C=2.653264278928732, gamma=0.008083373897479753, probability=True \n",
      "[CV]  C=2.653264278928732, gamma=0.008083373897479753, probability=True, total=   0.0s\n",
      "[CV] C=2.691225345174967, gamma=0.03361449757874487, probability=True \n",
      "[CV]  C=2.691225345174967, gamma=0.03361449757874487, probability=True, total=   0.0s\n",
      "[CV] C=2.691225345174967, gamma=0.03361449757874487, probability=True \n",
      "[CV]  C=2.691225345174967, gamma=0.03361449757874487, probability=True, total=   0.0s\n",
      "[CV] C=2.691225345174967, gamma=0.03361449757874487, probability=True \n",
      "[CV]  C=2.691225345174967, gamma=0.03361449757874487, probability=True, total=   0.0s\n",
      "[CV] C=7.144316061402525, gamma=0.03668100428416045, probability=True \n",
      "[CV]  C=7.144316061402525, gamma=0.03668100428416045, probability=True, total=   0.0s\n",
      "[CV] C=7.144316061402525, gamma=0.03668100428416045, probability=True \n",
      "[CV]  C=7.144316061402525, gamma=0.03668100428416045, probability=True, total=   0.0s\n",
      "[CV] C=7.144316061402525, gamma=0.03668100428416045, probability=True \n",
      "[CV]  C=7.144316061402525, gamma=0.03668100428416045, probability=True, total=   0.0s\n",
      "[CV] C=10.859946758857213, gamma=0.011997901543621401, probability=True \n",
      "[CV]  C=10.859946758857213, gamma=0.011997901543621401, probability=True, total=   0.0s\n",
      "[CV] C=10.859946758857213, gamma=0.011997901543621401, probability=True \n",
      "[CV]  C=10.859946758857213, gamma=0.011997901543621401, probability=True, total=   0.0s\n",
      "[CV] C=10.859946758857213, gamma=0.011997901543621401, probability=True \n",
      "[CV]  C=10.859946758857213, gamma=0.011997901543621401, probability=True, total=   0.0s\n",
      "[CV] C=3.38733147444386, gamma=0.005706805829770121, probability=True \n",
      "[CV]  C=3.38733147444386, gamma=0.005706805829770121, probability=True, total=   0.0s\n",
      "[CV] C=3.38733147444386, gamma=0.005706805829770121, probability=True \n",
      "[CV]  C=3.38733147444386, gamma=0.005706805829770121, probability=True, total=   0.0s\n",
      "[CV] C=3.38733147444386, gamma=0.005706805829770121, probability=True \n",
      "[CV]  C=3.38733147444386, gamma=0.005706805829770121, probability=True, total=   0.0s\n",
      "[CV] C=2.548154273257869, gamma=0.008695877284644916, probability=True \n",
      "[CV]  C=2.548154273257869, gamma=0.008695877284644916, probability=True, total=   0.0s\n",
      "[CV] C=2.548154273257869, gamma=0.008695877284644916, probability=True \n",
      "[CV]  C=2.548154273257869, gamma=0.008695877284644916, probability=True, total=   0.0s\n",
      "[CV] C=2.548154273257869, gamma=0.008695877284644916, probability=True \n",
      "[CV]  C=2.548154273257869, gamma=0.008695877284644916, probability=True, total=   0.0s\n",
      "[CV] C=10.359079710214779, gamma=0.023905158078834726, probability=True \n",
      "[CV]  C=10.359079710214779, gamma=0.023905158078834726, probability=True, total=   0.0s\n",
      "[CV] C=10.359079710214779, gamma=0.023905158078834726, probability=True \n",
      "[CV]  C=10.359079710214779, gamma=0.023905158078834726, probability=True, total=   0.0s\n",
      "[CV] C=10.359079710214779, gamma=0.023905158078834726, probability=True \n",
      "[CV]  C=10.359079710214779, gamma=0.023905158078834726, probability=True, total=   0.0s\n",
      "[CV] C=2.6749663709667475, gamma=0.028293918270629288, probability=True \n",
      "[CV]  C=2.6749663709667475, gamma=0.028293918270629288, probability=True, total=   0.0s\n",
      "[CV] C=2.6749663709667475, gamma=0.028293918270629288, probability=True \n",
      "[CV]  C=2.6749663709667475, gamma=0.028293918270629288, probability=True, total=   0.0s\n",
      "[CV] C=2.6749663709667475, gamma=0.028293918270629288, probability=True \n",
      "[CV]  C=2.6749663709667475, gamma=0.028293918270629288, probability=True, total=   0.0s\n",
      "[CV] C=5.120027858044145, gamma=0.05008327180851577, probability=True \n",
      "[CV]  C=5.120027858044145, gamma=0.05008327180851577, probability=True, total=   0.0s\n",
      "[CV] C=5.120027858044145, gamma=0.05008327180851577, probability=True \n",
      "[CV]  C=5.120027858044145, gamma=0.05008327180851577, probability=True, total=   0.0s\n",
      "[CV] C=5.120027858044145, gamma=0.05008327180851577, probability=True \n",
      "[CV]  C=5.120027858044145, gamma=0.05008327180851577, probability=True, total=   0.0s\n",
      "[CV] C=3.19492125483173, gamma=0.013130257780023458, probability=True \n",
      "[CV]  C=3.19492125483173, gamma=0.013130257780023458, probability=True, total=   0.0s\n",
      "[CV] C=3.19492125483173, gamma=0.013130257780023458, probability=True \n",
      "[CV]  C=3.19492125483173, gamma=0.013130257780023458, probability=True, total=   0.0s\n",
      "[CV] C=3.19492125483173, gamma=0.013130257780023458, probability=True \n",
      "[CV]  C=3.19492125483173, gamma=0.013130257780023458, probability=True, total=   0.0s\n",
      "[CV] C=10.969952042079766, gamma=0.0011461828108410245, probability=True \n",
      "[CV]  C=10.969952042079766, gamma=0.0011461828108410245, probability=True, total=   0.0s\n",
      "[CV] C=10.969952042079766, gamma=0.0011461828108410245, probability=True \n",
      "[CV]  C=10.969952042079766, gamma=0.0011461828108410245, probability=True, total=   0.0s\n",
      "[CV] C=10.969952042079766, gamma=0.0011461828108410245, probability=True \n",
      "[CV]  C=10.969952042079766, gamma=0.0011461828108410245, probability=True, total=   0.0s\n",
      "[CV] C=7.933904178316498, gamma=0.013325373633015534, probability=True \n",
      "[CV]  C=7.933904178316498, gamma=0.013325373633015534, probability=True, total=   0.0s\n",
      "[CV] C=7.933904178316498, gamma=0.013325373633015534, probability=True \n",
      "[CV]  C=7.933904178316498, gamma=0.013325373633015534, probability=True, total=   0.0s\n",
      "[CV] C=7.933904178316498, gamma=0.013325373633015534, probability=True \n",
      "[CV]  C=7.933904178316498, gamma=0.013325373633015534, probability=True, total=   0.0s\n",
      "[CV] C=4.353036714970554, gamma=0.007302397698184691, probability=True \n",
      "[CV]  C=4.353036714970554, gamma=0.007302397698184691, probability=True, total=   0.0s\n",
      "[CV] C=4.353036714970554, gamma=0.007302397698184691, probability=True \n",
      "[CV]  C=4.353036714970554, gamma=0.007302397698184691, probability=True, total=   0.0s\n",
      "[CV] C=4.353036714970554, gamma=0.007302397698184691, probability=True \n",
      "[CV]  C=4.353036714970554, gamma=0.007302397698184691, probability=True, total=   0.0s\n",
      "[CV] C=10.366030187708022, gamma=0.03463314167021721, probability=True \n",
      "[CV]  C=10.366030187708022, gamma=0.03463314167021721, probability=True, total=   0.0s\n",
      "[CV] C=10.366030187708022, gamma=0.03463314167021721, probability=True \n",
      "[CV]  C=10.366030187708022, gamma=0.03463314167021721, probability=True, total=   0.0s\n",
      "[CV] C=10.366030187708022, gamma=0.03463314167021721, probability=True \n"
     ]
    },
    {
     "name": "stdout",
     "output_type": "stream",
     "text": [
      "[CV]  C=10.366030187708022, gamma=0.03463314167021721, probability=True, total=   0.0s\n",
      "[CV] C=9.60276308564292, gamma=0.03157180903822524, probability=True .\n",
      "[CV]  C=9.60276308564292, gamma=0.03157180903822524, probability=True, total=   0.0s\n",
      "[CV] C=9.60276308564292, gamma=0.03157180903822524, probability=True .\n",
      "[CV]  C=9.60276308564292, gamma=0.03157180903822524, probability=True, total=   0.0s\n",
      "[CV] C=9.60276308564292, gamma=0.03157180903822524, probability=True .\n",
      "[CV]  C=9.60276308564292, gamma=0.03157180903822524, probability=True, total=   0.0s\n",
      "[CV] C=2.6216400665912687, gamma=0.02174995640670261, probability=True \n",
      "[CV]  C=2.6216400665912687, gamma=0.02174995640670261, probability=True, total=   0.0s\n",
      "[CV] C=2.6216400665912687, gamma=0.02174995640670261, probability=True \n",
      "[CV]  C=2.6216400665912687, gamma=0.02174995640670261, probability=True, total=   0.0s\n",
      "[CV] C=2.6216400665912687, gamma=0.02174995640670261, probability=True \n",
      "[CV]  C=2.6216400665912687, gamma=0.02174995640670261, probability=True, total=   0.0s\n",
      "[CV] C=9.830073577318759, gamma=0.05113182149330861, probability=True \n",
      "[CV]  C=9.830073577318759, gamma=0.05113182149330861, probability=True, total=   0.0s\n",
      "[CV] C=9.830073577318759, gamma=0.05113182149330861, probability=True \n",
      "[CV]  C=9.830073577318759, gamma=0.05113182149330861, probability=True, total=   0.0s\n",
      "[CV] C=9.830073577318759, gamma=0.05113182149330861, probability=True \n",
      "[CV]  C=9.830073577318759, gamma=0.05113182149330861, probability=True, total=   0.0s\n",
      "[CV] C=1.1981443464192811, gamma=0.005074749177312859, probability=True \n",
      "[CV]  C=1.1981443464192811, gamma=0.005074749177312859, probability=True, total=   0.0s\n",
      "[CV] C=1.1981443464192811, gamma=0.005074749177312859, probability=True \n",
      "[CV]  C=1.1981443464192811, gamma=0.005074749177312859, probability=True, total=   0.0s\n",
      "[CV] C=1.1981443464192811, gamma=0.005074749177312859, probability=True \n",
      "[CV]  C=1.1981443464192811, gamma=0.005074749177312859, probability=True, total=   0.0s\n",
      "[CV] C=10.654900909184072, gamma=0.02371783534961103, probability=True \n",
      "[CV]  C=10.654900909184072, gamma=0.02371783534961103, probability=True, total=   0.0s\n",
      "[CV] C=10.654900909184072, gamma=0.02371783534961103, probability=True \n",
      "[CV]  C=10.654900909184072, gamma=0.02371783534961103, probability=True, total=   0.0s\n",
      "[CV] C=10.654900909184072, gamma=0.02371783534961103, probability=True \n",
      "[CV]  C=10.654900909184072, gamma=0.02371783534961103, probability=True, total=   0.0s\n",
      "[CV] C=9.490905882016635, gamma=0.00968247690249566, probability=True \n",
      "[CV]  C=9.490905882016635, gamma=0.00968247690249566, probability=True, total=   0.0s\n",
      "[CV] C=9.490905882016635, gamma=0.00968247690249566, probability=True \n",
      "[CV]  C=9.490905882016635, gamma=0.00968247690249566, probability=True, total=   0.0s\n",
      "[CV] C=9.490905882016635, gamma=0.00968247690249566, probability=True \n",
      "[CV]  C=9.490905882016635, gamma=0.00968247690249566, probability=True, total=   0.0s\n",
      "[CV] C=2.623541538067368, gamma=0.004534968301286715, probability=True \n",
      "[CV]  C=2.623541538067368, gamma=0.004534968301286715, probability=True, total=   0.0s\n",
      "[CV] C=2.623541538067368, gamma=0.004534968301286715, probability=True \n",
      "[CV]  C=2.623541538067368, gamma=0.004534968301286715, probability=True, total=   0.0s\n",
      "[CV] C=2.623541538067368, gamma=0.004534968301286715, probability=True \n",
      "[CV]  C=2.623541538067368, gamma=0.004534968301286715, probability=True, total=   0.0s\n",
      "[CV] C=9.904674062424682, gamma=0.007739913112530569, probability=True \n",
      "[CV]  C=9.904674062424682, gamma=0.007739913112530569, probability=True, total=   0.0s\n",
      "[CV] C=9.904674062424682, gamma=0.007739913112530569, probability=True \n",
      "[CV]  C=9.904674062424682, gamma=0.007739913112530569, probability=True, total=   0.0s\n",
      "[CV] C=9.904674062424682, gamma=0.007739913112530569, probability=True \n",
      "[CV]  C=9.904674062424682, gamma=0.007739913112530569, probability=True, total=   0.0s\n",
      "[CV] C=9.46370132752317, gamma=0.08905285972486798, probability=True .\n",
      "[CV]  C=9.46370132752317, gamma=0.08905285972486798, probability=True, total=   0.0s\n",
      "[CV] C=9.46370132752317, gamma=0.08905285972486798, probability=True .\n",
      "[CV]  C=9.46370132752317, gamma=0.08905285972486798, probability=True, total=   0.0s\n",
      "[CV] C=9.46370132752317, gamma=0.08905285972486798, probability=True .\n",
      "[CV]  C=9.46370132752317, gamma=0.08905285972486798, probability=True, total=   0.0s\n",
      "[CV] C=6.030403797726837, gamma=0.01188855113561546, probability=True \n",
      "[CV]  C=6.030403797726837, gamma=0.01188855113561546, probability=True, total=   0.0s\n",
      "[CV] C=6.030403797726837, gamma=0.01188855113561546, probability=True \n",
      "[CV]  C=6.030403797726837, gamma=0.01188855113561546, probability=True, total=   0.0s\n",
      "[CV] C=6.030403797726837, gamma=0.01188855113561546, probability=True \n",
      "[CV]  C=6.030403797726837, gamma=0.01188855113561546, probability=True, total=   0.0s\n",
      "[CV] C=1.0676783332147946, gamma=0.028540631392990068, probability=True \n",
      "[CV]  C=1.0676783332147946, gamma=0.028540631392990068, probability=True, total=   0.0s\n",
      "[CV] C=1.0676783332147946, gamma=0.028540631392990068, probability=True \n",
      "[CV]  C=1.0676783332147946, gamma=0.028540631392990068, probability=True, total=   0.0s\n",
      "[CV] C=1.0676783332147946, gamma=0.028540631392990068, probability=True \n",
      "[CV]  C=1.0676783332147946, gamma=0.028540631392990068, probability=True, total=   0.0s\n"
     ]
    },
    {
     "name": "stderr",
     "output_type": "stream",
     "text": [
      "[Parallel(n_jobs=1)]: Done 300 out of 300 | elapsed:    1.6s finished\n"
     ]
    },
    {
     "data": {
      "text/plain": [
       "RandomizedSearchCV(cv=None, error_score='raise',\n",
       "          estimator=SVC(C=1.0, cache_size=200, class_weight=None, coef0=0.0,\n",
       "  decision_function_shape='ovr', degree=3, gamma='auto', kernel='rbf',\n",
       "  max_iter=-1, probability=False, random_state=None, shrinking=True,\n",
       "  tol=0.001, verbose=False),\n",
       "          fit_params=None, iid=True, n_iter=100, n_jobs=1,\n",
       "          param_distributions={'gamma': <scipy.stats._distn_infrastructure.rv_frozen object at 0x0000018DD8A341D0>, 'C': <scipy.stats._distn_infrastructure.rv_frozen object at 0x0000018DD8A349B0>, 'probability': [True]},\n",
       "          pre_dispatch='2*n_jobs', random_state=None, refit=True,\n",
       "          return_train_score='warn', scoring=None, verbose=2)"
      ]
     },
     "execution_count": 24,
     "metadata": {},
     "output_type": "execute_result"
    }
   ],
   "source": [
    "param_distributions = {\"gamma\": reciprocal(0.001, 0.1), \"C\": uniform(1, 10), 'probability' : [True]}\n",
    "rnd_search_cv = RandomizedSearchCV(svm_clf, param_distributions, n_iter=100, verbose=2)\n",
    "rnd_search_cv.fit(X_train_scaled, y_train)"
   ]
  },
  {
   "cell_type": "code",
   "execution_count": 25,
   "metadata": {},
   "outputs": [
    {
     "data": {
      "text/plain": [
       "SVC(C=9.46370132752317, cache_size=200, class_weight=None, coef0=0.0,\n",
       "  decision_function_shape='ovr', degree=3, gamma=0.08905285972486798,\n",
       "  kernel='rbf', max_iter=-1, probability=True, random_state=None,\n",
       "  shrinking=True, tol=0.001, verbose=False)"
      ]
     },
     "execution_count": 25,
     "metadata": {},
     "output_type": "execute_result"
    }
   ],
   "source": [
    "rnd_search_cv.best_estimator_"
   ]
  },
  {
   "cell_type": "code",
   "execution_count": 26,
   "metadata": {},
   "outputs": [
    {
     "data": {
      "text/plain": [
       "0.8916666666666667"
      ]
     },
     "execution_count": 26,
     "metadata": {},
     "output_type": "execute_result"
    }
   ],
   "source": [
    "rnd_search_cv.best_score_"
   ]
  },
  {
   "cell_type": "markdown",
   "metadata": {},
   "source": [
    "### 2 - Grid Search"
   ]
  },
  {
   "cell_type": "code",
   "execution_count": 27,
   "metadata": {},
   "outputs": [
    {
     "name": "stdout",
     "output_type": "stream",
     "text": [
      "Fitting 3 folds for each of 350 candidates, totalling 1050 fits\n"
     ]
    },
    {
     "name": "stderr",
     "output_type": "stream",
     "text": [
      "[Parallel(n_jobs=-1)]: Done  24 tasks      | elapsed:    3.9s\n",
      "[Parallel(n_jobs=-1)]: Done 1050 out of 1050 | elapsed:    6.0s finished\n"
     ]
    },
    {
     "data": {
      "text/plain": [
       "GridSearchCV(cv=None, error_score='raise',\n",
       "       estimator=SVC(C=1.0, cache_size=200, class_weight=None, coef0=0.0,\n",
       "  decision_function_shape='ovr', degree=3, gamma='auto', kernel='rbf',\n",
       "  max_iter=-1, probability=False, random_state=None, shrinking=True,\n",
       "  tol=0.001, verbose=False),\n",
       "       fit_params=None, iid=True, n_jobs=-1,\n",
       "       param_grid=[{'kernel': ['poly', 'rbf'], 'C': [1.0, 3.0, 10.0, 30.0, 100.0, 300.0, 1000.0], 'degree': [2, 3, 4, 5, 6], 'gamma': [0.01, 0.03, 0.1, 0.3, 1.0], 'probability': [True]}],\n",
       "       pre_dispatch='2*n_jobs', refit=True, return_train_score='warn',\n",
       "       scoring=None, verbose=3)"
      ]
     },
     "execution_count": 27,
     "metadata": {},
     "output_type": "execute_result"
    }
   ],
   "source": [
    "param_grid = [\n",
    "        #{'kernel': ['linear'], 'C': [10., 30., 100., 300., 1000., 3000., 10000., 30000.0]},\n",
    "         {'kernel': ['poly','rbf'], 'C': [1.0, 3.0, 10., 30., 100., 300., 1000.0], \n",
    "         'degree': [2, 3, 4, 5 ,6],\n",
    "         'gamma': [0.01, 0.03, 0.1, 0.3, 1.0],\n",
    "         'probability' : [True]},\n",
    "    ]\n",
    "grid_search_cv = GridSearchCV(svm_clf, param_grid, verbose=3, n_jobs=-1)\n",
    "grid_search_cv.fit(X_train_scaled, y_train)"
   ]
  },
  {
   "cell_type": "code",
   "execution_count": 28,
   "metadata": {},
   "outputs": [
    {
     "data": {
      "text/plain": [
       "SVC(C=1.0, cache_size=200, class_weight=None, coef0=0.0,\n",
       "  decision_function_shape='ovr', degree=2, gamma=1.0, kernel='rbf',\n",
       "  max_iter=-1, probability=True, random_state=None, shrinking=True,\n",
       "  tol=0.001, verbose=False)"
      ]
     },
     "execution_count": 28,
     "metadata": {},
     "output_type": "execute_result"
    }
   ],
   "source": [
    "grid_search_cv.best_estimator_"
   ]
  },
  {
   "cell_type": "code",
   "execution_count": 29,
   "metadata": {},
   "outputs": [
    {
     "data": {
      "text/plain": [
       "0.9666666666666667"
      ]
     },
     "execution_count": 29,
     "metadata": {},
     "output_type": "execute_result"
    }
   ],
   "source": [
    "grid_search_cv.best_score_"
   ]
  },
  {
   "cell_type": "code",
   "execution_count": 30,
   "metadata": {},
   "outputs": [
    {
     "name": "stdout",
     "output_type": "stream",
     "text": [
      "Grid Search\n"
     ]
    }
   ],
   "source": [
    "if grid_search_cv.best_score_ > rnd_search_cv.best_score_:\n",
    "    final_model = grid_search_cv.best_estimator_\n",
    "    print('Grid Search')\n",
    "else:\n",
    "    final_model = rnd_search_cv.best_estimator_\n",
    "    print('Random Search')"
   ]
  },
  {
   "cell_type": "code",
   "execution_count": 31,
   "metadata": {},
   "outputs": [],
   "source": [
    "final_model = rnd_search_cv.best_estimator_"
   ]
  },
  {
   "cell_type": "code",
   "execution_count": 32,
   "metadata": {},
   "outputs": [],
   "source": [
    "# final_model = grid_search_cv.best_estimator_\n",
    "# final_model = SVC(C=1.0, cache_size=200, class_weight=None, coef0=0.0,\n",
    "#   decision_function_shape='ovr', degree=2, gamma=0.3, kernel='rbf',\n",
    "#   max_iter=-1, probability=True, random_state=None, shrinking=True,\n",
    "#   tol=0.001, verbose=False)"
   ]
  },
  {
   "cell_type": "code",
   "execution_count": 33,
   "metadata": {},
   "outputs": [
    {
     "name": "stderr",
     "output_type": "stream",
     "text": [
      "[Parallel(n_jobs=-1)]: Done   2 out of   5 | elapsed:    2.1s remaining:    3.2s\n"
     ]
    },
    {
     "name": "stdout",
     "output_type": "stream",
     "text": [
      "[0.88 0.92 0.88 0.92 0.96]\n"
     ]
    },
    {
     "name": "stderr",
     "output_type": "stream",
     "text": [
      "[Parallel(n_jobs=-1)]: Done   5 out of   5 | elapsed:    3.7s finished\n"
     ]
    }
   ],
   "source": [
    "cv_scores = cross_val_score(final_model, X_train_scaled, y_train, cv=5, verbose=3, n_jobs=-1)\n",
    "print(cv_scores)"
   ]
  },
  {
   "cell_type": "markdown",
   "metadata": {},
   "source": [
    "## Predicting the Classes in Trainning Set"
   ]
  },
  {
   "cell_type": "code",
   "execution_count": 34,
   "metadata": {},
   "outputs": [],
   "source": [
    "final_model.fit(X_train_scaled, y_train)\n",
    "y_pred = final_model.predict(X_train_scaled)\n",
    "y_pred_prob = final_model.predict_proba(X_train_scaled)[:,1]"
   ]
  },
  {
   "cell_type": "code",
   "execution_count": 35,
   "metadata": {},
   "outputs": [],
   "source": [
    "y_pred_prob;"
   ]
  },
  {
   "cell_type": "code",
   "execution_count": 36,
   "metadata": {},
   "outputs": [
    {
     "data": {
      "image/png": "[encoded data removed]",
      "text/plain": [
       "<Figure size 432x288 with 1 Axes>"
      ]
     },
     "metadata": {},
     "output_type": "display_data"
    }
   ],
   "source": [
    "plotRoc(y_train, y_pred_prob)"
   ]
  },
  {
   "cell_type": "markdown",
   "metadata": {},
   "source": [
    "<font color='red'>\n",
    "Notes:<br>\n",
    "The probability model is created using cross validation, so the results can be slightly different than those obtained by predict. Also, it will produce meaningless results on very small datasets.</font>"
   ]
  },
  {
   "cell_type": "code",
   "execution_count": 37,
   "metadata": {},
   "outputs": [
    {
     "name": "stdout",
     "output_type": "stream",
     "text": [
      "Confusion matrix, without normalization\n"
     ]
    },
    {
     "data": {
      "image/png": "[encoded data removed]",
      "text/plain": [
       "<Figure size 432x288 with 2 Axes>"
      ]
     },
     "metadata": {},
     "output_type": "display_data"
    }
   ],
   "source": [
    "printcfm(y_train,y_pred,title='confusion matrix')"
   ]
  },
  {
   "cell_type": "markdown",
   "metadata": {},
   "source": [
    "## Evaluating the model with Cross-Validation"
   ]
  },
  {
   "cell_type": "code",
   "execution_count": 38,
   "metadata": {},
   "outputs": [],
   "source": [
    "y_pred_prob = final_model.predict_proba(X_train_scaled)[:,1]"
   ]
  },
  {
   "cell_type": "code",
   "execution_count": 39,
   "metadata": {},
   "outputs": [
    {
     "name": "stderr",
     "output_type": "stream",
     "text": [
      "[Parallel(n_jobs=1)]: Done   1 out of   1 | elapsed:    0.0s remaining:    0.0s\n",
      "[Parallel(n_jobs=1)]: Done   2 out of   2 | elapsed:    0.0s remaining:    0.0s\n",
      "[Parallel(n_jobs=1)]: Done   3 out of   3 | elapsed:    0.0s finished\n"
     ]
    }
   ],
   "source": [
    "y_scores = cross_val_predict(final_model, X_train_scaled, y_train, cv=3, verbose=3, method='predict_proba')"
   ]
  },
  {
   "cell_type": "code",
   "execution_count": 40,
   "metadata": {},
   "outputs": [
    {
     "name": "stderr",
     "output_type": "stream",
     "text": [
      "[Parallel(n_jobs=1)]: Done   1 out of   1 | elapsed:    0.0s remaining:    0.0s\n",
      "[Parallel(n_jobs=1)]: Done   2 out of   2 | elapsed:    0.0s remaining:    0.0s\n",
      "[Parallel(n_jobs=1)]: Done   3 out of   3 | elapsed:    0.0s finished\n"
     ]
    }
   ],
   "source": [
    "y_train_pred = cross_val_predict(final_model, X_train_scaled, y_train, cv=3, verbose=3)\n",
    "# hack to work around issue #9589 in Scikit-Learn 0.19.0\n",
    "if y_scores.ndim == 2:\n",
    "    y_scores = y_scores[:, 1]\n",
    "# print(y_scores)\n",
    "# print(np.mean(y_scores))"
   ]
  },
  {
   "cell_type": "code",
   "execution_count": 41,
   "metadata": {},
   "outputs": [
    {
     "data": {
      "image/png": "[encoded data removed]",
      "text/plain": [
       "<Figure size 432x288 with 1 Axes>"
      ]
     },
     "metadata": {},
     "output_type": "display_data"
    }
   ],
   "source": [
    "plotRoc(y_train, y_train_pred)"
   ]
  },
  {
   "cell_type": "markdown",
   "metadata": {},
   "source": [
    "<font color='red'>\n",
    "Notes:<br>\n",
    "The probability model is created using cross validation, so the results can be slightly different than those obtained by predict. Also, it will produce meaningless results on very small datasets.</font>"
   ]
  },
  {
   "cell_type": "code",
   "execution_count": 42,
   "metadata": {},
   "outputs": [
    {
     "data": {
      "text/plain": [
       "0.8916666666666667"
      ]
     },
     "execution_count": 42,
     "metadata": {},
     "output_type": "execute_result"
    }
   ],
   "source": [
    "auc_train = roc_auc_score(y_train, y_train_pred)\n",
    "auc_train"
   ]
  },
  {
   "cell_type": "code",
   "execution_count": 43,
   "metadata": {},
   "outputs": [
    {
     "name": "stdout",
     "output_type": "stream",
     "text": [
      "Confusion matrix, without normalization\n"
     ]
    },
    {
     "data": {
      "image/png": "[encoded data removed]",
      "text/plain": [
       "<Figure size 432x288 with 2 Axes>"
      ]
     },
     "metadata": {},
     "output_type": "display_data"
    }
   ],
   "source": [
    "printcfm(y_train,y_train_pred,title='confusion matrix')"
   ]
  },
  {
   "cell_type": "code",
   "execution_count": 44,
   "metadata": {},
   "outputs": [
    {
     "name": "stdout",
     "output_type": "stream",
     "text": [
      "             precision    recall  f1-score   support\n",
      "\n",
      "          0       0.96      0.82      0.88        60\n",
      "          1       0.84      0.97      0.90        60\n",
      "\n",
      "avg / total       0.90      0.89      0.89       120\n",
      "\n"
     ]
    }
   ],
   "source": [
    "print(classification_report(y_train, y_train_pred))"
   ]
  },
  {
   "cell_type": "markdown",
   "metadata": {},
   "source": [
    "## Precision/Recall Tradeoff"
   ]
  },
  {
   "cell_type": "code",
   "execution_count": 45,
   "metadata": {},
   "outputs": [
    {
     "data": {
      "image/png": "[encoded data removed]",
      "text/plain": [
       "<Figure size 432x288 with 1 Axes>"
      ]
     },
     "metadata": {},
     "output_type": "display_data"
    }
   ],
   "source": [
    "precisions, recalls, thresholds = precision_recall_curve(y_train, y_scores)\n",
    "def plot_precision_recall_vs_threshold(precisions, recalls, thresholds):\n",
    "    plt.plot(thresholds, precisions[:-1], \"b--\", label=\"Precision\")\n",
    "    plt.plot(thresholds, recalls[:-1], \"g-\", label=\"Recall\")\n",
    "    plt.xlabel(\"Threshold\")\n",
    "    plt.legend(loc=\"upper left\")\n",
    "    plt.ylim([0, 1])\n",
    "plot_precision_recall_vs_threshold(precisions, recalls, thresholds)\n",
    "plt.show()"
   ]
  },
  {
   "cell_type": "code",
   "execution_count": 46,
   "metadata": {},
   "outputs": [
    {
     "name": "stdout",
     "output_type": "stream",
     "text": [
      "[0.88 0.85 0.95]\n",
      "0.8916666666666666\n"
     ]
    }
   ],
   "source": [
    "cv_scores = cross_val_score(final_model, X_train_scaled, y_train, cv=3)\n",
    "print(cv_scores)\n",
    "print(np.mean(cv_scores))"
   ]
  },
  {
   "cell_type": "code",
   "execution_count": 47,
   "metadata": {},
   "outputs": [
    {
     "data": {
      "image/png": "[encoded data removed]",
      "text/plain": [
       "<Figure size 576x432 with 1 Axes>"
      ]
     },
     "metadata": {},
     "output_type": "display_data"
    }
   ],
   "source": [
    "plot_precision_vs_recall(precisions, recalls)"
   ]
  },
  {
   "cell_type": "markdown",
   "metadata": {},
   "source": [
    "## Predicting the Classes in Test Set"
   ]
  },
  {
   "cell_type": "code",
   "execution_count": 48,
   "metadata": {},
   "outputs": [],
   "source": [
    "y_pred = final_model.predict(X_test_scaled)\n",
    "y_pred_prob = final_model.predict_proba(X_test_scaled)[:,1]"
   ]
  },
  {
   "cell_type": "code",
   "execution_count": 49,
   "metadata": {},
   "outputs": [
    {
     "data": {
      "image/png": "[encoded data removed]",
      "text/plain": [
       "<Figure size 432x288 with 1 Axes>"
      ]
     },
     "metadata": {},
     "output_type": "display_data"
    }
   ],
   "source": [
    "plotRoc(y_test, y_pred_prob)"
   ]
  },
  {
   "cell_type": "markdown",
   "metadata": {},
   "source": [
    "<font color='red'>\n",
    "Notes:<br>\n",
    "The probability model is created using cross validation, so the results can be slightly different than those obtained by predict. Also, it will produce meaningless results on very small datasets.</font>"
   ]
  },
  {
   "cell_type": "code",
   "execution_count": 50,
   "metadata": {},
   "outputs": [
    {
     "data": {
      "text/plain": [
       "0.7236363636363636"
      ]
     },
     "execution_count": 50,
     "metadata": {},
     "output_type": "execute_result"
    }
   ],
   "source": [
    "roc_auc_score(y_test, y_pred_prob)"
   ]
  },
  {
   "cell_type": "code",
   "execution_count": 51,
   "metadata": {},
   "outputs": [
    {
     "name": "stdout",
     "output_type": "stream",
     "text": [
      "Confusion matrix, without normalization\n"
     ]
    },
    {
     "data": {
      "image/png": "[encoded data removed]",
      "text/plain": [
       "<Figure size 432x288 with 2 Axes>"
      ]
     },
     "metadata": {},
     "output_type": "display_data"
    }
   ],
   "source": [
    "printcfm(y_test,y_pred,title='confusion matrix')"
   ]
  },
  {
   "cell_type": "code",
   "execution_count": 52,
   "metadata": {},
   "outputs": [
    {
     "name": "stdout",
     "output_type": "stream",
     "text": [
      "             precision    recall  f1-score   support\n",
      "\n",
      "          0       0.88      0.84      0.86        25\n",
      "          1       0.67      0.73      0.70        11\n",
      "\n",
      "avg / total       0.81      0.81      0.81        36\n",
      "\n"
     ]
    }
   ],
   "source": [
    "print(classification_report(y_test, y_pred))"
   ]
  },
  {
   "cell_type": "code",
   "execution_count": 53,
   "metadata": {},
   "outputs": [],
   "source": [
    "X=np.concatenate((X_train_scaled,X_test_scaled),axis=0)\n",
    "# print(X)\n",
    "y=np.append(y_train,y_test)\n",
    "# print(y)"
   ]
  },
  {
   "cell_type": "code",
   "execution_count": 54,
   "metadata": {
    "code_folding": []
   },
   "outputs": [
    {
     "name": "stdout",
     "output_type": "stream",
     "text": [
      "Automatically created module for IPython interactive environment\n"
     ]
    },
    {
     "data": {
      "image/png": "[encoded data removed]",
      "text/plain": [
       "<Figure size 432x288 with 1 Axes>"
      ]
     },
     "metadata": {},
     "output_type": "display_data"
    }
   ],
   "source": [
    "print(__doc__)\n",
    "\n",
    "param_range = np.logspace(-6, 2, 5)\n",
    "\n",
    "train_scores, test_scores = validation_curve(\n",
    "    final_model, X, y, param_name=\"gamma\", param_range=param_range,\n",
    "    cv=10, scoring=\"roc_auc\", n_jobs=-1)\n",
    "\n",
    "train_scores_mean = np.mean(train_scores, axis=1)\n",
    "train_scores_std = np.std(train_scores, axis=1)\n",
    "test_scores_mean = np.mean(test_scores, axis=1)\n",
    "test_scores_std = np.std(test_scores, axis=1)\n",
    "\n",
    "plt.title(\"Validation Curve with SVC\")\n",
    "plt.xlabel(\"$\\gamma$\")\n",
    "plt.ylabel(\"AUC\")\n",
    "#plt.ylim(0.0, 1.1)\n",
    "#plt.xlim(-1, 22)\n",
    "lw = 2\n",
    "plt.semilogx(param_range, train_scores_mean, label=\"Training score\",\n",
    "             color=\"darkorange\", lw=lw)\n",
    "plt.fill_between(param_range, train_scores_mean - train_scores_std,\n",
    "                 train_scores_mean + train_scores_std, alpha=0.2,\n",
    "                 color=\"darkorange\", lw=lw)\n",
    "plt.semilogx(param_range, test_scores_mean, label=\"Cross-validation score\",\n",
    "             color=\"navy\", lw=lw)\n",
    "plt.fill_between(param_range, test_scores_mean - test_scores_std,\n",
    "                 test_scores_mean + test_scores_std, alpha=0.2,\n",
    "                 color=\"navy\", lw=lw)\n",
    "plt.legend(loc=\"best\")\n",
    "plt.show()"
   ]
  },
  {
   "cell_type": "code",
   "execution_count": 55,
   "metadata": {},
   "outputs": [],
   "source": [
    "# param_range = np.logspace(-6, 20, 20)\n",
    "\n",
    "# viz = ValidationCurve(\n",
    "#     final_model, param_name=\"gamma\", param_range=param_range,\n",
    "#     logx=True, cv=10, scoring=\"precision\", n_jobs=-1,\n",
    "# )\n",
    "\n",
    "# viz.fit(X, y)\n",
    "# viz.poof()"
   ]
  },
  {
   "cell_type": "markdown",
   "metadata": {},
   "source": [
    "# Add learning curves"
   ]
  },
  {
   "cell_type": "code",
   "execution_count": null,
   "metadata": {},
   "outputs": [],
   "source": []
  }
 ],
 "metadata": {
  "kernelspec": {
   "display_name": "Python 3",
   "language": "python",
   "name": "python3"
  },
  "language_info": {
   "codemirror_mode": {
    "name": "ipython",
    "version": 3
   },
   "file_extension": ".py",
   "mimetype": "text/x-python",
   "name": "python",
   "nbconvert_exporter": "python",
   "pygments_lexer": "ipython3",
   "version": "3.6.5"
  }
 },
 "nbformat": 4,
 "nbformat_minor": 2
}
