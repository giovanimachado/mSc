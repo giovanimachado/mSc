{
 "cells": [
  {
   "cell_type": "code",
   "execution_count": 1,
   "metadata": {},
   "outputs": [],
   "source": [
    "import pandas as pd\n",
    "from sklearn.model_selection import train_test_split\n",
    "import pylab as plt"
   ]
  },
  {
   "cell_type": "code",
   "execution_count": 2,
   "metadata": {},
   "outputs": [],
   "source": [
    "# define tamanho padrão das figuras\n",
    "plt.rc('figure', figsize=(10, 5))\n",
    "fizsize_with_subplots = (10, 100)\n",
    "bin_size = 10 "
   ]
  },
  {
   "cell_type": "code",
   "execution_count": 3,
   "metadata": {},
   "outputs": [],
   "source": [
    "df=pd.read_csv('baseProjeto_entradaModelo.csv', index_col=0)\n",
    "dfFase1=pd.read_csv('baseProjeto_entradaModelo_fase1.csv', index_col=0)\n",
    "dfFase1_2_3=pd.read_csv('baseProjeto_entradaModelo_fase1_2_3.csv', index_col=0)"
   ]
  },
  {
   "cell_type": "code",
   "execution_count": 4,
   "metadata": {},
   "outputs": [
    {
     "data": {
      "text/html": [
       "<div>\n",
       "<style scoped>\n",
       "    .dataframe tbody tr th:only-of-type {\n",
       "        vertical-align: middle;\n",
       "    }\n",
       "\n",
       "    .dataframe tbody tr th {\n",
       "        vertical-align: top;\n",
       "    }\n",
       "\n",
       "    .dataframe thead th {\n",
       "        text-align: right;\n",
       "    }\n",
       "</style>\n",
       "<table border=\"1\" class=\"dataframe\">\n",
       "  <thead>\n",
       "    <tr style=\"text-align: right;\">\n",
       "      <th></th>\n",
       "      <th>AREA</th>\n",
       "      <th>POÇO</th>\n",
       "      <th>ID_INTERVALO</th>\n",
       "      <th>ATRIB_MED1</th>\n",
       "      <th>ATRIB_MAX1</th>\n",
       "      <th>ATRIB_DIST1</th>\n",
       "      <th>DIFP</th>\n",
       "      <th>MGP1</th>\n",
       "      <th>MGP2</th>\n",
       "      <th>MGP3</th>\n",
       "      <th>...</th>\n",
       "      <th>MGP9</th>\n",
       "      <th>MGP10</th>\n",
       "      <th>MGP11</th>\n",
       "      <th>MGP12</th>\n",
       "      <th>MGP13</th>\n",
       "      <th>MGP14</th>\n",
       "      <th>Perda30</th>\n",
       "      <th>PerdaAPI</th>\n",
       "      <th>PerdaPS</th>\n",
       "      <th>PERDA_MAX</th>\n",
       "    </tr>\n",
       "  </thead>\n",
       "  <tbody>\n",
       "    <tr>\n",
       "      <th>1</th>\n",
       "      <td>C1</td>\n",
       "      <td>C1P1</td>\n",
       "      <td>A1</td>\n",
       "      <td>0.08</td>\n",
       "      <td>0.54</td>\n",
       "      <td>1000.0</td>\n",
       "      <td>0.61</td>\n",
       "      <td>1</td>\n",
       "      <td>1</td>\n",
       "      <td>1</td>\n",
       "      <td>...</td>\n",
       "      <td>1</td>\n",
       "      <td>1</td>\n",
       "      <td>0</td>\n",
       "      <td>0</td>\n",
       "      <td>0</td>\n",
       "      <td>0</td>\n",
       "      <td>1</td>\n",
       "      <td>1</td>\n",
       "      <td>0</td>\n",
       "      <td>100.0</td>\n",
       "    </tr>\n",
       "    <tr>\n",
       "      <th>2</th>\n",
       "      <td>C1</td>\n",
       "      <td>C1P1</td>\n",
       "      <td>A2</td>\n",
       "      <td>0.05</td>\n",
       "      <td>0.05</td>\n",
       "      <td>1000.0</td>\n",
       "      <td>0.54</td>\n",
       "      <td>1</td>\n",
       "      <td>1</td>\n",
       "      <td>1</td>\n",
       "      <td>...</td>\n",
       "      <td>1</td>\n",
       "      <td>1</td>\n",
       "      <td>0</td>\n",
       "      <td>0</td>\n",
       "      <td>0</td>\n",
       "      <td>0</td>\n",
       "      <td>0</td>\n",
       "      <td>0</td>\n",
       "      <td>0</td>\n",
       "      <td>12.0</td>\n",
       "    </tr>\n",
       "    <tr>\n",
       "      <th>3</th>\n",
       "      <td>C1</td>\n",
       "      <td>C1P1</td>\n",
       "      <td>A3</td>\n",
       "      <td>0.05</td>\n",
       "      <td>0.05</td>\n",
       "      <td>1000.0</td>\n",
       "      <td>0.61</td>\n",
       "      <td>1</td>\n",
       "      <td>1</td>\n",
       "      <td>1</td>\n",
       "      <td>...</td>\n",
       "      <td>1</td>\n",
       "      <td>1</td>\n",
       "      <td>0</td>\n",
       "      <td>0</td>\n",
       "      <td>0</td>\n",
       "      <td>0</td>\n",
       "      <td>0</td>\n",
       "      <td>0</td>\n",
       "      <td>0</td>\n",
       "      <td>10.0</td>\n",
       "    </tr>\n",
       "    <tr>\n",
       "      <th>4</th>\n",
       "      <td>C1</td>\n",
       "      <td>C1P1</td>\n",
       "      <td>B1</td>\n",
       "      <td>0.13</td>\n",
       "      <td>0.92</td>\n",
       "      <td>1000.0</td>\n",
       "      <td>0.63</td>\n",
       "      <td>1</td>\n",
       "      <td>1</td>\n",
       "      <td>1</td>\n",
       "      <td>...</td>\n",
       "      <td>1</td>\n",
       "      <td>1</td>\n",
       "      <td>0</td>\n",
       "      <td>0</td>\n",
       "      <td>0</td>\n",
       "      <td>0</td>\n",
       "      <td>0</td>\n",
       "      <td>0</td>\n",
       "      <td>0</td>\n",
       "      <td>0.0</td>\n",
       "    </tr>\n",
       "    <tr>\n",
       "      <th>5</th>\n",
       "      <td>C1</td>\n",
       "      <td>C1P2</td>\n",
       "      <td>A1</td>\n",
       "      <td>0.16</td>\n",
       "      <td>0.83</td>\n",
       "      <td>300.0</td>\n",
       "      <td>0.42</td>\n",
       "      <td>1</td>\n",
       "      <td>1</td>\n",
       "      <td>1</td>\n",
       "      <td>...</td>\n",
       "      <td>1</td>\n",
       "      <td>1</td>\n",
       "      <td>1</td>\n",
       "      <td>1</td>\n",
       "      <td>1</td>\n",
       "      <td>1</td>\n",
       "      <td>1</td>\n",
       "      <td>1</td>\n",
       "      <td>1</td>\n",
       "      <td>999.0</td>\n",
       "    </tr>\n",
       "  </tbody>\n",
       "</table>\n",
       "<p>5 rows × 25 columns</p>\n",
       "</div>"
      ],
      "text/plain": [
       "  AREA  POÇO ID_INTERVALO  ATRIB_MED1  ATRIB_MAX1  ATRIB_DIST1  DIFP  MGP1  \\\n",
       "1   C1  C1P1           A1        0.08        0.54       1000.0  0.61     1   \n",
       "2   C1  C1P1           A2        0.05        0.05       1000.0  0.54     1   \n",
       "3   C1  C1P1           A3        0.05        0.05       1000.0  0.61     1   \n",
       "4   C1  C1P1           B1        0.13        0.92       1000.0  0.63     1   \n",
       "5   C1  C1P2           A1        0.16        0.83        300.0  0.42     1   \n",
       "\n",
       "   MGP2  MGP3    ...      MGP9  MGP10  MGP11  MGP12  MGP13  MGP14  Perda30  \\\n",
       "1     1     1    ...         1      1      0      0      0      0        1   \n",
       "2     1     1    ...         1      1      0      0      0      0        0   \n",
       "3     1     1    ...         1      1      0      0      0      0        0   \n",
       "4     1     1    ...         1      1      0      0      0      0        0   \n",
       "5     1     1    ...         1      1      1      1      1      1        1   \n",
       "\n",
       "   PerdaAPI  PerdaPS  PERDA_MAX  \n",
       "1         1        0      100.0  \n",
       "2         0        0       12.0  \n",
       "3         0        0       10.0  \n",
       "4         0        0        0.0  \n",
       "5         1        1      999.0  \n",
       "\n",
       "[5 rows x 25 columns]"
      ]
     },
     "execution_count": 4,
     "metadata": {},
     "output_type": "execute_result"
    }
   ],
   "source": [
    "df.head()"
   ]
  },
  {
   "cell_type": "code",
   "execution_count": 5,
   "metadata": {},
   "outputs": [
    {
     "data": {
      "text/html": [
       "<div>\n",
       "<style scoped>\n",
       "    .dataframe tbody tr th:only-of-type {\n",
       "        vertical-align: middle;\n",
       "    }\n",
       "\n",
       "    .dataframe tbody tr th {\n",
       "        vertical-align: top;\n",
       "    }\n",
       "\n",
       "    .dataframe thead th {\n",
       "        text-align: right;\n",
       "    }\n",
       "</style>\n",
       "<table border=\"1\" class=\"dataframe\">\n",
       "  <thead>\n",
       "    <tr style=\"text-align: right;\">\n",
       "      <th></th>\n",
       "      <th>AREA</th>\n",
       "      <th>POÇO</th>\n",
       "      <th>ID_INTERVALO</th>\n",
       "      <th>ATRIB_MED1</th>\n",
       "      <th>ATRIB_MAX1</th>\n",
       "      <th>ATRIB_DIST1</th>\n",
       "      <th>DIFP</th>\n",
       "      <th>MGP1</th>\n",
       "      <th>MGP2</th>\n",
       "      <th>MGP3</th>\n",
       "      <th>...</th>\n",
       "      <th>MGP9</th>\n",
       "      <th>MGP10</th>\n",
       "      <th>MGP11</th>\n",
       "      <th>MGP12</th>\n",
       "      <th>MGP13</th>\n",
       "      <th>MGP14</th>\n",
       "      <th>Perda30</th>\n",
       "      <th>PerdaAPI</th>\n",
       "      <th>PerdaPS</th>\n",
       "      <th>PERDA_MAX</th>\n",
       "    </tr>\n",
       "  </thead>\n",
       "  <tbody>\n",
       "    <tr>\n",
       "      <th>1</th>\n",
       "      <td>C1</td>\n",
       "      <td>C1P1</td>\n",
       "      <td>A1</td>\n",
       "      <td>0.08</td>\n",
       "      <td>0.54</td>\n",
       "      <td>1000.0</td>\n",
       "      <td>0.61</td>\n",
       "      <td>1</td>\n",
       "      <td>1</td>\n",
       "      <td>1</td>\n",
       "      <td>...</td>\n",
       "      <td>1</td>\n",
       "      <td>1</td>\n",
       "      <td>0</td>\n",
       "      <td>0</td>\n",
       "      <td>0</td>\n",
       "      <td>0</td>\n",
       "      <td>1</td>\n",
       "      <td>1</td>\n",
       "      <td>0</td>\n",
       "      <td>100.0</td>\n",
       "    </tr>\n",
       "    <tr>\n",
       "      <th>2</th>\n",
       "      <td>C1</td>\n",
       "      <td>C1P1</td>\n",
       "      <td>A2</td>\n",
       "      <td>0.05</td>\n",
       "      <td>0.05</td>\n",
       "      <td>1000.0</td>\n",
       "      <td>0.54</td>\n",
       "      <td>1</td>\n",
       "      <td>1</td>\n",
       "      <td>1</td>\n",
       "      <td>...</td>\n",
       "      <td>1</td>\n",
       "      <td>1</td>\n",
       "      <td>0</td>\n",
       "      <td>0</td>\n",
       "      <td>0</td>\n",
       "      <td>0</td>\n",
       "      <td>0</td>\n",
       "      <td>0</td>\n",
       "      <td>0</td>\n",
       "      <td>12.0</td>\n",
       "    </tr>\n",
       "    <tr>\n",
       "      <th>3</th>\n",
       "      <td>C1</td>\n",
       "      <td>C1P1</td>\n",
       "      <td>A3</td>\n",
       "      <td>0.05</td>\n",
       "      <td>0.05</td>\n",
       "      <td>1000.0</td>\n",
       "      <td>0.61</td>\n",
       "      <td>1</td>\n",
       "      <td>1</td>\n",
       "      <td>1</td>\n",
       "      <td>...</td>\n",
       "      <td>1</td>\n",
       "      <td>1</td>\n",
       "      <td>0</td>\n",
       "      <td>0</td>\n",
       "      <td>0</td>\n",
       "      <td>0</td>\n",
       "      <td>0</td>\n",
       "      <td>0</td>\n",
       "      <td>0</td>\n",
       "      <td>10.0</td>\n",
       "    </tr>\n",
       "    <tr>\n",
       "      <th>4</th>\n",
       "      <td>C1</td>\n",
       "      <td>C1P1</td>\n",
       "      <td>B1</td>\n",
       "      <td>0.13</td>\n",
       "      <td>0.92</td>\n",
       "      <td>1000.0</td>\n",
       "      <td>0.63</td>\n",
       "      <td>1</td>\n",
       "      <td>1</td>\n",
       "      <td>1</td>\n",
       "      <td>...</td>\n",
       "      <td>1</td>\n",
       "      <td>1</td>\n",
       "      <td>0</td>\n",
       "      <td>0</td>\n",
       "      <td>0</td>\n",
       "      <td>0</td>\n",
       "      <td>0</td>\n",
       "      <td>0</td>\n",
       "      <td>0</td>\n",
       "      <td>0.0</td>\n",
       "    </tr>\n",
       "    <tr>\n",
       "      <th>5</th>\n",
       "      <td>C1</td>\n",
       "      <td>C1P2</td>\n",
       "      <td>A1</td>\n",
       "      <td>0.16</td>\n",
       "      <td>0.83</td>\n",
       "      <td>300.0</td>\n",
       "      <td>0.42</td>\n",
       "      <td>1</td>\n",
       "      <td>1</td>\n",
       "      <td>1</td>\n",
       "      <td>...</td>\n",
       "      <td>1</td>\n",
       "      <td>1</td>\n",
       "      <td>1</td>\n",
       "      <td>1</td>\n",
       "      <td>1</td>\n",
       "      <td>1</td>\n",
       "      <td>1</td>\n",
       "      <td>1</td>\n",
       "      <td>1</td>\n",
       "      <td>999.0</td>\n",
       "    </tr>\n",
       "  </tbody>\n",
       "</table>\n",
       "<p>5 rows × 25 columns</p>\n",
       "</div>"
      ],
      "text/plain": [
       "  AREA  POÇO ID_INTERVALO  ATRIB_MED1  ATRIB_MAX1  ATRIB_DIST1  DIFP  MGP1  \\\n",
       "1   C1  C1P1           A1        0.08        0.54       1000.0  0.61     1   \n",
       "2   C1  C1P1           A2        0.05        0.05       1000.0  0.54     1   \n",
       "3   C1  C1P1           A3        0.05        0.05       1000.0  0.61     1   \n",
       "4   C1  C1P1           B1        0.13        0.92       1000.0  0.63     1   \n",
       "5   C1  C1P2           A1        0.16        0.83        300.0  0.42     1   \n",
       "\n",
       "   MGP2  MGP3    ...      MGP9  MGP10  MGP11  MGP12  MGP13  MGP14  Perda30  \\\n",
       "1     1     1    ...         1      1      0      0      0      0        1   \n",
       "2     1     1    ...         1      1      0      0      0      0        0   \n",
       "3     1     1    ...         1      1      0      0      0      0        0   \n",
       "4     1     1    ...         1      1      0      0      0      0        0   \n",
       "5     1     1    ...         1      1      1      1      1      1        1   \n",
       "\n",
       "   PerdaAPI  PerdaPS  PERDA_MAX  \n",
       "1         1        0      100.0  \n",
       "2         0        0       12.0  \n",
       "3         0        0       10.0  \n",
       "4         0        0        0.0  \n",
       "5         1        1      999.0  \n",
       "\n",
       "[5 rows x 25 columns]"
      ]
     },
     "execution_count": 5,
     "metadata": {},
     "output_type": "execute_result"
    }
   ],
   "source": [
    "dfFase1.head()"
   ]
  },
  {
   "cell_type": "code",
   "execution_count": 6,
   "metadata": {},
   "outputs": [
    {
     "data": {
      "text/html": [
       "<div>\n",
       "<style scoped>\n",
       "    .dataframe tbody tr th:only-of-type {\n",
       "        vertical-align: middle;\n",
       "    }\n",
       "\n",
       "    .dataframe tbody tr th {\n",
       "        vertical-align: top;\n",
       "    }\n",
       "\n",
       "    .dataframe thead th {\n",
       "        text-align: right;\n",
       "    }\n",
       "</style>\n",
       "<table border=\"1\" class=\"dataframe\">\n",
       "  <thead>\n",
       "    <tr style=\"text-align: right;\">\n",
       "      <th></th>\n",
       "      <th>AREA</th>\n",
       "      <th>POÇO</th>\n",
       "      <th>ID_INTERVALO</th>\n",
       "      <th>ATRIB_MED1</th>\n",
       "      <th>ATRIB_MAX1</th>\n",
       "      <th>ATRIB_DIST1</th>\n",
       "      <th>DIFP</th>\n",
       "      <th>MGP1</th>\n",
       "      <th>MGP2</th>\n",
       "      <th>MGP3</th>\n",
       "      <th>...</th>\n",
       "      <th>MGP9</th>\n",
       "      <th>MGP10</th>\n",
       "      <th>MGP11</th>\n",
       "      <th>MGP12</th>\n",
       "      <th>MGP13</th>\n",
       "      <th>MGP14</th>\n",
       "      <th>Perda30</th>\n",
       "      <th>PerdaAPI</th>\n",
       "      <th>PerdaPS</th>\n",
       "      <th>PERDA_MAX</th>\n",
       "    </tr>\n",
       "  </thead>\n",
       "  <tbody>\n",
       "    <tr>\n",
       "      <th>1</th>\n",
       "      <td>C1</td>\n",
       "      <td>C1P1</td>\n",
       "      <td>A1</td>\n",
       "      <td>0.08</td>\n",
       "      <td>0.54</td>\n",
       "      <td>1000.0</td>\n",
       "      <td>0.61</td>\n",
       "      <td>1</td>\n",
       "      <td>1</td>\n",
       "      <td>1</td>\n",
       "      <td>...</td>\n",
       "      <td>1</td>\n",
       "      <td>1</td>\n",
       "      <td>0</td>\n",
       "      <td>0</td>\n",
       "      <td>0</td>\n",
       "      <td>0</td>\n",
       "      <td>1</td>\n",
       "      <td>1</td>\n",
       "      <td>0</td>\n",
       "      <td>100.0</td>\n",
       "    </tr>\n",
       "    <tr>\n",
       "      <th>2</th>\n",
       "      <td>C1</td>\n",
       "      <td>C1P1</td>\n",
       "      <td>A2</td>\n",
       "      <td>0.05</td>\n",
       "      <td>0.05</td>\n",
       "      <td>1000.0</td>\n",
       "      <td>0.54</td>\n",
       "      <td>1</td>\n",
       "      <td>1</td>\n",
       "      <td>1</td>\n",
       "      <td>...</td>\n",
       "      <td>1</td>\n",
       "      <td>1</td>\n",
       "      <td>0</td>\n",
       "      <td>0</td>\n",
       "      <td>0</td>\n",
       "      <td>0</td>\n",
       "      <td>0</td>\n",
       "      <td>0</td>\n",
       "      <td>0</td>\n",
       "      <td>12.0</td>\n",
       "    </tr>\n",
       "    <tr>\n",
       "      <th>3</th>\n",
       "      <td>C1</td>\n",
       "      <td>C1P1</td>\n",
       "      <td>A3</td>\n",
       "      <td>0.05</td>\n",
       "      <td>0.05</td>\n",
       "      <td>1000.0</td>\n",
       "      <td>0.61</td>\n",
       "      <td>1</td>\n",
       "      <td>1</td>\n",
       "      <td>1</td>\n",
       "      <td>...</td>\n",
       "      <td>1</td>\n",
       "      <td>1</td>\n",
       "      <td>0</td>\n",
       "      <td>0</td>\n",
       "      <td>0</td>\n",
       "      <td>0</td>\n",
       "      <td>0</td>\n",
       "      <td>0</td>\n",
       "      <td>0</td>\n",
       "      <td>10.0</td>\n",
       "    </tr>\n",
       "    <tr>\n",
       "      <th>4</th>\n",
       "      <td>C1</td>\n",
       "      <td>C1P1</td>\n",
       "      <td>B1</td>\n",
       "      <td>0.13</td>\n",
       "      <td>0.92</td>\n",
       "      <td>1000.0</td>\n",
       "      <td>0.63</td>\n",
       "      <td>1</td>\n",
       "      <td>1</td>\n",
       "      <td>1</td>\n",
       "      <td>...</td>\n",
       "      <td>1</td>\n",
       "      <td>1</td>\n",
       "      <td>0</td>\n",
       "      <td>0</td>\n",
       "      <td>0</td>\n",
       "      <td>0</td>\n",
       "      <td>0</td>\n",
       "      <td>0</td>\n",
       "      <td>0</td>\n",
       "      <td>0.0</td>\n",
       "    </tr>\n",
       "    <tr>\n",
       "      <th>5</th>\n",
       "      <td>C1</td>\n",
       "      <td>C1P2</td>\n",
       "      <td>A1</td>\n",
       "      <td>0.16</td>\n",
       "      <td>0.83</td>\n",
       "      <td>300.0</td>\n",
       "      <td>0.42</td>\n",
       "      <td>1</td>\n",
       "      <td>1</td>\n",
       "      <td>1</td>\n",
       "      <td>...</td>\n",
       "      <td>1</td>\n",
       "      <td>1</td>\n",
       "      <td>1</td>\n",
       "      <td>1</td>\n",
       "      <td>1</td>\n",
       "      <td>1</td>\n",
       "      <td>1</td>\n",
       "      <td>1</td>\n",
       "      <td>1</td>\n",
       "      <td>999.0</td>\n",
       "    </tr>\n",
       "  </tbody>\n",
       "</table>\n",
       "<p>5 rows × 25 columns</p>\n",
       "</div>"
      ],
      "text/plain": [
       "  AREA  POÇO ID_INTERVALO  ATRIB_MED1  ATRIB_MAX1  ATRIB_DIST1  DIFP  MGP1  \\\n",
       "1   C1  C1P1           A1        0.08        0.54       1000.0  0.61     1   \n",
       "2   C1  C1P1           A2        0.05        0.05       1000.0  0.54     1   \n",
       "3   C1  C1P1           A3        0.05        0.05       1000.0  0.61     1   \n",
       "4   C1  C1P1           B1        0.13        0.92       1000.0  0.63     1   \n",
       "5   C1  C1P2           A1        0.16        0.83        300.0  0.42     1   \n",
       "\n",
       "   MGP2  MGP3    ...      MGP9  MGP10  MGP11  MGP12  MGP13  MGP14  Perda30  \\\n",
       "1     1     1    ...         1      1      0      0      0      0        1   \n",
       "2     1     1    ...         1      1      0      0      0      0        0   \n",
       "3     1     1    ...         1      1      0      0      0      0        0   \n",
       "4     1     1    ...         1      1      0      0      0      0        0   \n",
       "5     1     1    ...         1      1      1      1      1      1        1   \n",
       "\n",
       "   PerdaAPI  PerdaPS  PERDA_MAX  \n",
       "1         1        0      100.0  \n",
       "2         0        0       12.0  \n",
       "3         0        0       10.0  \n",
       "4         0        0        0.0  \n",
       "5         1        1      999.0  \n",
       "\n",
       "[5 rows x 25 columns]"
      ]
     },
     "execution_count": 6,
     "metadata": {},
     "output_type": "execute_result"
    }
   ],
   "source": [
    "dfFase1_2_3.head()"
   ]
  },
  {
   "cell_type": "markdown",
   "metadata": {},
   "source": [
    "# Database with 89 wells"
   ]
  },
  {
   "cell_type": "code",
   "execution_count": 7,
   "metadata": {},
   "outputs": [],
   "source": [
    "randomState=100"
   ]
  },
  {
   "cell_type": "code",
   "execution_count": 8,
   "metadata": {},
   "outputs": [
    {
     "name": "stdout",
     "output_type": "stream",
     "text": [
      "227 66\n"
     ]
    }
   ],
   "source": [
    "count_class_0, count_class_1 = df.Perda30.value_counts()\n",
    "print(count_class_0, count_class_1)"
   ]
  },
  {
   "cell_type": "code",
   "execution_count": 9,
   "metadata": {},
   "outputs": [
    {
     "data": {
      "image/png": "[encoded data removed]",
      "text/plain": [
       "<Figure size 720x360 with 1 Axes>"
      ]
     },
     "metadata": {},
     "output_type": "display_data"
    }
   ],
   "source": [
    "df.Perda30.value_counts().plot(kind='bar', title='Count (Perda30)');"
   ]
  },
  {
   "cell_type": "code",
   "execution_count": 10,
   "metadata": {},
   "outputs": [],
   "source": [
    "train, test = train_test_split(df, test_size=.30, random_state=randomState, stratify=df['Perda30'])"
   ]
  },
  {
   "cell_type": "code",
   "execution_count": 11,
   "metadata": {},
   "outputs": [
    {
     "name": "stdout",
     "output_type": "stream",
     "text": [
      "159 46\n"
     ]
    }
   ],
   "source": [
    "count_class_0, count_class_1 = train.Perda30.value_counts()\n",
    "print(count_class_0, count_class_1)"
   ]
  },
  {
   "cell_type": "code",
   "execution_count": 12,
   "metadata": {},
   "outputs": [],
   "source": [
    "train_class_0 = train[train['Perda30'] == 0]\n",
    "train_class_1 = train[train['Perda30'] == 1]"
   ]
  },
  {
   "cell_type": "code",
   "execution_count": 13,
   "metadata": {},
   "outputs": [
    {
     "name": "stdout",
     "output_type": "stream",
     "text": [
      "Random over-sampling:\n",
      "1    159\n",
      "0    159\n",
      "Name: Perda30, dtype: int64\n"
     ]
    },
    {
     "data": {
      "image/png": "[encoded data removed]",
      "text/plain": [
       "<Figure size 720x360 with 1 Axes>"
      ]
     },
     "metadata": {},
     "output_type": "display_data"
    }
   ],
   "source": [
    "train_class_1_over = train_class_1.sample(count_class_0, replace=True, random_state=randomState)\n",
    "train_over = pd.concat([train_class_0, train_class_1_over], axis=0)\n",
    "\n",
    "print('Random over-sampling:')\n",
    "print(train_over.Perda30.value_counts())\n",
    "\n",
    "train_over.Perda30.value_counts().plot(kind='bar', title='Count (Perda30)');"
   ]
  },
  {
   "cell_type": "code",
   "execution_count": 14,
   "metadata": {},
   "outputs": [
    {
     "data": {
      "image/png": "[encoded data removed]",
      "text/plain": [
       "<Figure size 720x360 with 1 Axes>"
      ]
     },
     "metadata": {},
     "output_type": "display_data"
    }
   ],
   "source": [
    "test.Perda30.value_counts().plot(kind='bar', title='Count (Perda30)');"
   ]
  },
  {
   "cell_type": "code",
   "execution_count": 15,
   "metadata": {},
   "outputs": [],
   "source": [
    "train_over.to_csv('baseProjetoTrainOver.csv', encoding='utf-8')\n",
    "test.to_csv('baseProjetoTest.csv', encoding='utf-8')"
   ]
  },
  {
   "cell_type": "markdown",
   "metadata": {},
   "source": [
    "# Fase 1 Database with 38 wells "
   ]
  },
  {
   "cell_type": "code",
   "execution_count": 16,
   "metadata": {},
   "outputs": [
    {
     "name": "stdout",
     "output_type": "stream",
     "text": [
      "85 35\n"
     ]
    }
   ],
   "source": [
    "count_class_0, count_class_1 = dfFase1.Perda30.value_counts()\n",
    "print(count_class_0, count_class_1)"
   ]
  },
  {
   "cell_type": "code",
   "execution_count": 17,
   "metadata": {},
   "outputs": [
    {
     "data": {
      "image/png": "[encoded data removed]",
      "text/plain": [
       "<Figure size 720x360 with 1 Axes>"
      ]
     },
     "metadata": {},
     "output_type": "display_data"
    }
   ],
   "source": [
    "dfFase1.Perda30.value_counts().plot(kind='bar', title='Count (Perda30)');"
   ]
  },
  {
   "cell_type": "code",
   "execution_count": 18,
   "metadata": {},
   "outputs": [],
   "source": [
    "train, test = train_test_split(dfFase1, test_size=.30, stratify=dfFase1['Perda30'])"
   ]
  },
  {
   "cell_type": "code",
   "execution_count": 19,
   "metadata": {},
   "outputs": [
    {
     "name": "stdout",
     "output_type": "stream",
     "text": [
      "60 24\n"
     ]
    }
   ],
   "source": [
    "count_class_0, count_class_1 = train.Perda30.value_counts()\n",
    "print(count_class_0, count_class_1)"
   ]
  },
  {
   "cell_type": "code",
   "execution_count": 20,
   "metadata": {},
   "outputs": [],
   "source": [
    "train_class_0 = train[train['Perda30'] == 0]\n",
    "train_class_1 = train[train['Perda30'] == 1]"
   ]
  },
  {
   "cell_type": "code",
   "execution_count": 21,
   "metadata": {},
   "outputs": [
    {
     "name": "stdout",
     "output_type": "stream",
     "text": [
      "Random over-sampling:\n",
      "1    60\n",
      "0    60\n",
      "Name: Perda30, dtype: int64\n"
     ]
    },
    {
     "data": {
      "image/png": "[encoded data removed]",
      "text/plain": [
       "<Figure size 720x360 with 1 Axes>"
      ]
     },
     "metadata": {},
     "output_type": "display_data"
    }
   ],
   "source": [
    "train_class_1_over = train_class_1.sample(count_class_0, replace=True, random_state=randomState)\n",
    "train_over = pd.concat([train_class_0, train_class_1_over], axis=0)\n",
    "\n",
    "print('Random over-sampling:')\n",
    "print(train_over.Perda30.value_counts())\n",
    "\n",
    "train_over.Perda30.value_counts().plot(kind='bar', title='Count (Perda30)');"
   ]
  },
  {
   "cell_type": "code",
   "execution_count": 22,
   "metadata": {},
   "outputs": [
    {
     "data": {
      "image/png": "[encoded data removed]",
      "text/plain": [
       "<Figure size 720x360 with 1 Axes>"
      ]
     },
     "metadata": {},
     "output_type": "display_data"
    }
   ],
   "source": [
    "test.Perda30.value_counts().plot(kind='bar', title='Count (Perda30)');"
   ]
  },
  {
   "cell_type": "code",
   "execution_count": 23,
   "metadata": {},
   "outputs": [],
   "source": [
    "train_over.to_csv('baseProjetoTrainOverFase1.csv', encoding='utf-8')\n",
    "test.to_csv('baseProjetoTestFase1.csv', encoding='utf-8')"
   ]
  },
  {
   "cell_type": "markdown",
   "metadata": {},
   "source": [
    "# Fase 1, 2 and 3 Database with 56 wells "
   ]
  },
  {
   "cell_type": "code",
   "execution_count": 24,
   "metadata": {},
   "outputs": [
    {
     "name": "stdout",
     "output_type": "stream",
     "text": [
      "132 48\n"
     ]
    }
   ],
   "source": [
    "count_class_0, count_class_1 = dfFase1_2_3.Perda30.value_counts()\n",
    "print(count_class_0, count_class_1)"
   ]
  },
  {
   "cell_type": "code",
   "execution_count": 25,
   "metadata": {},
   "outputs": [
    {
     "data": {
      "image/png": "[encoded data removed]",
      "text/plain": [
       "<Figure size 720x360 with 1 Axes>"
      ]
     },
     "metadata": {},
     "output_type": "display_data"
    }
   ],
   "source": [
    "dfFase1_2_3.Perda30.value_counts().plot(kind='bar', title='Count (Perda30)');"
   ]
  },
  {
   "cell_type": "code",
   "execution_count": 26,
   "metadata": {},
   "outputs": [],
   "source": [
    "train, test = train_test_split(dfFase1, test_size=.30, stratify=dfFase1['Perda30'])"
   ]
  },
  {
   "cell_type": "code",
   "execution_count": 27,
   "metadata": {},
   "outputs": [
    {
     "name": "stdout",
     "output_type": "stream",
     "text": [
      "59 25\n"
     ]
    }
   ],
   "source": [
    "count_class_0, count_class_1 = train.Perda30.value_counts()\n",
    "print(count_class_0, count_class_1)"
   ]
  },
  {
   "cell_type": "code",
   "execution_count": 28,
   "metadata": {},
   "outputs": [],
   "source": [
    "train_class_0 = train[train['Perda30'] == 0]\n",
    "train_class_1 = train[train['Perda30'] == 1]"
   ]
  },
  {
   "cell_type": "code",
   "execution_count": 29,
   "metadata": {},
   "outputs": [
    {
     "name": "stdout",
     "output_type": "stream",
     "text": [
      "Random over-sampling:\n",
      "1    59\n",
      "0    59\n",
      "Name: Perda30, dtype: int64\n"
     ]
    },
    {
     "data": {
      "image/png": "[encoded data removed]",
      "text/plain": [
       "<Figure size 720x360 with 1 Axes>"
      ]
     },
     "metadata": {},
     "output_type": "display_data"
    }
   ],
   "source": [
    "train_class_1_over = train_class_1.sample(count_class_0, replace=True, random_state=randomState)\n",
    "train_over = pd.concat([train_class_0, train_class_1_over], axis=0)\n",
    "\n",
    "print('Random over-sampling:')\n",
    "print(train_over.Perda30.value_counts())\n",
    "\n",
    "train_over.Perda30.value_counts().plot(kind='bar', title='Count (Perda30)');"
   ]
  },
  {
   "cell_type": "code",
   "execution_count": 30,
   "metadata": {},
   "outputs": [
    {
     "data": {
      "image/png": "[encoded data removed]",
      "text/plain": [
       "<Figure size 720x360 with 1 Axes>"
      ]
     },
     "metadata": {},
     "output_type": "display_data"
    }
   ],
   "source": [
    "test.Perda30.value_counts().plot(kind='bar', title='Count (Perda30)');"
   ]
  },
  {
   "cell_type": "code",
   "execution_count": 31,
   "metadata": {},
   "outputs": [],
   "source": [
    "train_over.to_csv('baseProjetoTrainOverFase1_2_3.csv', encoding='utf-8')\n",
    "test.to_csv('baseProjetoTestFase1_2_3.csv', encoding='utf-8')"
   ]
  }
 ],
 "metadata": {
  "kernelspec": {
   "display_name": "Python 3",
   "language": "python",
   "name": "python3"
  },
  "language_info": {
   "codemirror_mode": {
    "name": "ipython",
    "version": 3
   },
   "file_extension": ".py",
   "mimetype": "text/x-python",
   "name": "python",
   "nbconvert_exporter": "python",
   "pygments_lexer": "ipython3",
   "version": "3.6.5"
  }
 },
 "nbformat": 4,
 "nbformat_minor": 2
}
