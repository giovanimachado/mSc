{
 "cells": [
  {
   "cell_type": "markdown",
   "metadata": {},
   "source": [
    "Intrinsic dimension = number of PCA features with significant\n",
    "variance"
   ]
  },
  {
   "cell_type": "code",
   "execution_count": 1,
   "metadata": {},
   "outputs": [],
   "source": [
    "%autosave 0"
   ]
  },
  {
   "cell_type": "code",
   "execution_count": 21,
   "metadata": {},
   "outputs": [],
   "source": [
    "# Perform the necessary imports\n",
    "from sklearn.decomposition import PCA\n",
    "from sklearn.preprocessing import StandardScaler\n",
    "from sklearn.pipeline import make_pipeline\n",
    "import numpy as np\n",
    "import pandas as pd\n",
    "import matplotlib.pyplot as plt\n",
    "import seaborn as sns\n",
    "from mpl_toolkits.mplot3d import Axes3D\n",
    "from sklearn.metrics import accuracy_score\n",
    "from sklearn.metrics import classification_report\n",
    "from sklearn.metrics import confusion_matrix\n",
    "from sklearn.metrics import log_loss\n",
    "from sklearn.metrics import precision_score\n",
    "from sklearn.metrics import recall_score\n",
    "from sklearn.metrics import roc_auc_score\n",
    "from sklearn.metrics import roc_curve\n",
    "from sklearn.model_selection import train_test_split\n",
    "from sklearn.model_selection import cross_val_score\n",
    "from sklearn.model_selection import GridSearchCV\n",
    "from sklearn.neural_network import MLPClassifier\n",
    "from sklearn.pipeline import Pipeline"
   ]
  },
  {
   "cell_type": "code",
   "execution_count": 3,
   "metadata": {},
   "outputs": [
    {
     "data": {
      "text/plain": [
       "Index(['AREA', 'POÇO', 'ID_INTERVALO', 'ATRIB_MED1', 'ATRIB_MAX1',\n",
       "       'ATRIB_DIST1', 'DIFP', 'MGP1', 'MGP2', 'MGP3', 'MGP4', 'MGP5', 'MGP6',\n",
       "       'MGP7', 'MGP8', 'MGP9', 'MGP10', 'MGP11', 'MGP12', 'MGP13', 'MGP14',\n",
       "       'Perda30', 'PerdaAPI', 'PerdaPS', 'PERDA_MAX'],\n",
       "      dtype='object')"
      ]
     },
     "execution_count": 3,
     "metadata": {},
     "output_type": "execute_result"
    }
   ],
   "source": [
    "df=pd.read_csv('baseProjeto_entradaModelo.csv', index_col=0)\n",
    "df.columns"
   ]
  },
  {
   "cell_type": "code",
   "execution_count": 4,
   "metadata": {},
   "outputs": [],
   "source": [
    "X=df[['ATRIB_MED1', 'ATRIB_MAX1',\n",
    "       'ATRIB_DIST1', 'DIFP', 'MGP1', 'MGP2', 'MGP3', 'MGP4', 'MGP5', 'MGP6',\n",
    "       'MGP7', 'MGP8', 'MGP9', 'MGP10', 'MGP11', 'MGP12', 'MGP13', 'MGP14']]"
   ]
  },
  {
   "cell_type": "code",
   "execution_count": 5,
   "metadata": {},
   "outputs": [],
   "source": [
    "y=df['Perda30']"
   ]
  },
  {
   "cell_type": "code",
   "execution_count": 6,
   "metadata": {},
   "outputs": [],
   "source": [
    "y=y.values"
   ]
  },
  {
   "cell_type": "code",
   "execution_count": 7,
   "metadata": {},
   "outputs": [
    {
     "data": {
      "image/png": "[encoded data removed]",
      "text/plain": [
       "<Figure size 432x288 with 1 Axes>"
      ]
     },
     "metadata": {},
     "output_type": "display_data"
    }
   ],
   "source": [
    "# Create scaler: scaler\n",
    "scaler = StandardScaler()\n",
    "\n",
    "# Create a PCA instance: pca\n",
    "pca = PCA()\n",
    "\n",
    "# Create pipeline: pipeline\n",
    "pipeline = make_pipeline(scaler, pca)\n",
    "\n",
    "# Fit the pipeline to 'samples'\n",
    "pipeline.fit(X)\n",
    "\n",
    "# Plot the explained variances\n",
    "features = range(pca.n_components_)\n",
    "plt.bar(features, pca.explained_variance_)\n",
    "plt.xlabel('PCA feature')\n",
    "plt.ylabel('variance')\n",
    "plt.xticks(features)\n",
    "plt.show()"
   ]
  },
  {
   "cell_type": "code",
   "execution_count": 14,
   "metadata": {},
   "outputs": [
    {
     "name": "stdout",
     "output_type": "stream",
     "text": [
      "(293, 3)\n"
     ]
    }
   ],
   "source": [
    "# Create a PCA model with 2 components: pca\n",
    "pca = PCA(n_components=3)\n",
    "\n",
    "# Create pipeline: pipeline\n",
    "pipeline = make_pipeline(scaler, pca)\n",
    "\n",
    "# Fit the PCA instance to the scaled samples\n",
    "pipeline.fit(X)\n",
    "\n",
    "# Transform the scaled samples: pca_features\n",
    "pca_features = pca.transform(X)\n",
    "\n",
    "# Print the shape of pca_features\n",
    "print(pca_features.shape)"
   ]
  },
  {
   "cell_type": "code",
   "execution_count": 15,
   "metadata": {},
   "outputs": [
    {
     "data": {
      "text/plain": [
       "array([[-2.14907683e+02,  2.13922365e+02, -3.11786769e+02],\n",
       "       [-2.15015851e+02,  2.13961380e+02, -3.12045623e+02],\n",
       "       [-2.15031102e+02,  2.13940138e+02, -3.12043947e+02],\n",
       "       [-2.14810352e+02,  2.13899853e+02, -3.11572791e+02],\n",
       "       [-6.18483148e+01,  6.35690693e+01, -9.42750297e+01],\n",
       "       [-5.21657901e-01,  2.78822511e+00, -6.06285512e+00],\n",
       "       [-2.44593021e+01,  2.63881156e+01, -4.04950307e+01],\n",
       "       [-2.14676286e+02,  2.14589217e+02, -3.11873619e+02],\n",
       "       [-2.38666667e+01,  2.58508545e+01, -3.77109878e+01],\n",
       "       [-2.14650142e+02,  2.14625632e+02, -3.11876493e+02],\n",
       "       [-2.16243736e+02,  2.14357956e+02, -3.11103330e+02],\n",
       "       [-5.12470918e+01,  5.09314104e+01, -7.41306584e+01],\n",
       "       [-7.45538108e+01,  7.40373402e+01, -1.07489030e+02],\n",
       "       [-2.16163020e+02,  2.14262116e+02, -3.10815200e+02],\n",
       "       [-6.30349315e+01,  6.29531323e+01, -9.39622003e+01],\n",
       "       [ 2.23619344e+00, -1.45811323e+00,  4.89097573e-03],\n",
       "       [ 2.31320470e+00, -1.52340256e+00,  2.27538013e-01],\n",
       "       [-6.41118809e+00,  7.15452175e+00, -1.24554139e+01],\n",
       "       [-2.13393024e+02,  2.13790506e+02, -3.12037870e+02],\n",
       "       [-4.43675181e+00,  6.83382071e+00, -1.19383186e+01],\n",
       "       [-4.97445803e+01,  5.18317778e+01, -7.68827042e+01],\n",
       "       [-1.29227590e+02,  1.30322532e+02, -1.91130129e+02],\n",
       "       [-1.05448222e+02,  1.03552567e+02, -1.52072872e+02],\n",
       "       [-1.06195139e+01,  9.80223890e+00, -1.57493005e+01],\n",
       "       [-4.82589350e+01,  4.70798962e+01, -6.97396443e+01],\n",
       "       [-2.16313292e+02,  2.13335183e+02, -3.11263401e+02],\n",
       "       [-9.54470158e+01,  9.40356147e+01, -1.38384484e+02],\n",
       "       [-3.54585041e+01,  3.46418926e+01, -5.22446917e+01],\n",
       "       [-2.15865681e+02,  2.13278790e+02, -3.11341410e+02],\n",
       "       [-6.17258357e+01,  6.05679164e+01, -8.99635745e+01],\n",
       "       [-3.17526831e+00,  4.90343371e+00, -8.09886517e+00],\n",
       "       [-3.59153103e+01,  3.73197095e+01, -5.51755443e+01],\n",
       "       [-6.37979999e+01,  6.48521679e+01, -9.54058072e+01],\n",
       "       [-2.14565921e+02,  2.14072598e+02, -3.11897653e+02],\n",
       "       [-2.15841326e+02,  2.14114088e+02, -3.11427128e+02],\n",
       "       [-2.15841326e+02,  2.14114088e+02, -3.11427128e+02],\n",
       "       [-5.88747067e+01,  5.86322577e+01, -8.60086476e+01],\n",
       "       [-2.15786316e+02,  2.14091028e+02, -3.11291828e+02],\n",
       "       [-2.15472334e+02,  2.14287916e+02, -3.11475093e+02],\n",
       "       [-4.33240357e+01,  4.37382098e+01, -6.41639889e+01],\n",
       "       [-9.53576621e+00,  1.04466290e+01, -1.54775020e+01],\n",
       "       [-5.63737726e+01,  5.66153828e+01, -8.29437516e+01],\n",
       "       [-2.15175077e+02,  2.13956235e+02, -3.11469661e+02],\n",
       "       [-6.89928430e+01,  6.91854870e+01, -1.01503197e+02],\n",
       "       [-7.41715523e+01,  7.44966414e+01, -1.08774001e+02],\n",
       "       [-2.15834950e+02,  2.13966229e+02, -3.10550161e+02],\n",
       "       [-4.68547992e+00,  4.83911365e+00, -7.25974354e+00],\n",
       "       [-1.29205962e+02,  1.28108550e+02, -1.86029415e+02],\n",
       "       [-2.58308768e+00,  4.33119838e+00, -8.19387935e+00],\n",
       "       [ 2.82163063e+00, -1.09880070e+00, -3.42919101e-01],\n",
       "       [-3.84059745e+01,  3.96809082e+01, -5.96226501e+01],\n",
       "       [-2.14449537e+02,  2.14504673e+02, -3.11617584e+02],\n",
       "       [-2.91148152e+01,  3.09989744e+01, -4.51655036e+01],\n",
       "       [-2.14280815e+02,  2.14384192e+02, -3.11130017e+02],\n",
       "       [-2.15167081e+02,  2.14780347e+02, -3.10555554e+02],\n",
       "       [ 1.40182681e+00,  2.93526542e-01,  5.17858175e-01],\n",
       "       [-6.21443998e+01,  6.38937686e+01, -9.44873014e+01],\n",
       "       [-3.13782421e+01,  3.34308229e+01, -5.02838017e+01],\n",
       "       [-3.78470998e+01,  3.98888794e+01, -5.95978477e+01],\n",
       "       [-2.92822357e+01,  3.12666604e+01, -4.72705986e+01],\n",
       "       [-4.02363051e+01,  4.23066246e+01, -6.31103819e+01],\n",
       "       [ 3.32261893e+00, -8.81071830e-01, -4.32812105e-01],\n",
       "       [-2.15122419e+02,  2.15130937e+02, -3.11464484e+02],\n",
       "       [-5.18902071e+01,  5.34116258e+01, -7.70278275e+01],\n",
       "       [-5.68383327e+01,  5.85084630e+01, -8.39567081e+01],\n",
       "       [-2.14467155e+02,  2.13614550e+02, -3.11011279e+02],\n",
       "       [-4.90653022e+01,  4.95805678e+01, -7.36156004e+01],\n",
       "       [-2.19719749e+01,  2.28782131e+01, -3.44508281e+01],\n",
       "       [-2.14435009e+02,  2.13899319e+02, -3.12314427e+02],\n",
       "       [-3.79551534e+01,  3.89278624e+01, -5.87687318e+01],\n",
       "       [-2.14252244e+02,  2.13750074e+02, -3.11763000e+02],\n",
       "       [-2.15466144e+02,  2.14053533e+02, -3.11431150e+02],\n",
       "       [-8.49055233e+01,  8.49147919e+01, -1.23847987e+02],\n",
       "       [-2.15392631e+02,  2.13998334e+02, -3.11214868e+02],\n",
       "       [-1.20990164e+02,  1.21643426e+02, -1.76889508e+02],\n",
       "       [-4.48892372e+01,  4.61236181e+01, -6.74973899e+01],\n",
       "       [-9.35035792e+00,  1.10086990e+01, -1.63354610e+01],\n",
       "       [-2.15832418e+02,  2.14874355e+02, -3.11033629e+02],\n",
       "       [ 9.87019408e-01,  3.34831928e-01,  5.79514461e-01],\n",
       "       [-4.53485962e+00,  5.61396254e+00, -7.27507263e+00],\n",
       "       [-1.34213207e+02,  1.34542148e+02, -1.96699050e+02],\n",
       "       [-4.25533112e+01,  4.38349827e+01, -6.50260423e+01],\n",
       "       [-2.14523893e+02,  2.14067190e+02, -3.12015729e+02],\n",
       "       [-2.15284795e+02,  2.15127586e+02, -3.11285806e+02],\n",
       "       [-1.74370713e+01,  1.93477209e+01, -2.69193430e+01],\n",
       "       [-2.55956447e+01,  2.73634708e+01, -3.86130836e+01],\n",
       "       [-2.14121511e+02,  2.13934678e+02, -3.11858232e+02],\n",
       "       [-4.37597022e+01,  4.52745254e+01, -6.70002287e+01],\n",
       "       [-2.80325341e+00,  4.72092222e+00, -8.13056986e+00],\n",
       "       [-6.52114234e+01,  6.55810856e+01, -9.61592246e+01],\n",
       "       [-1.40162144e+01,  1.49245090e+01, -2.26677906e+01],\n",
       "       [ 1.83589919e+00, -7.02892401e-01,  1.14071766e-01],\n",
       "       [-2.14063578e+02,  2.13913491e+02, -3.11928077e+02],\n",
       "       [-5.44566063e+01,  5.58319592e+01, -8.27421788e+01],\n",
       "       [-5.70241140e+01,  5.84262053e+01, -8.63658810e+01],\n",
       "       [-2.15440451e+02,  2.15097602e+02, -3.11237446e+02],\n",
       "       [-3.13959832e+01,  3.29330410e+01, -4.66933940e+01],\n",
       "       [-7.48203904e+01,  7.56623109e+01, -1.09199815e+02],\n",
       "       [-1.02372576e+02,  1.03661218e+02, -1.49814411e+02],\n",
       "       [-2.14711594e+02,  2.15102855e+02, -3.10932663e+02],\n",
       "       [-1.13833055e+02,  1.14975573e+02, -1.66199954e+02],\n",
       "       [-6.00977903e+00,  7.49184217e+00, -1.22733012e+01],\n",
       "       [ 2.56054375e+00, -1.03900546e+00,  1.09690133e-01],\n",
       "       [-1.15545947e+02,  1.15813678e+02, -1.69663289e+02],\n",
       "       [-2.14917070e+02,  2.13898595e+02, -3.11460939e+02],\n",
       "       [ 1.81818793e+00, -7.07019834e-01,  8.85054606e-02],\n",
       "       [-2.38247521e+01,  2.46018681e+01, -3.68026491e+01],\n",
       "       [-2.15271139e+02,  2.15167181e+02, -3.11040772e+02],\n",
       "       [-1.10917633e+02,  1.11774820e+02, -1.61162713e+02],\n",
       "       [-2.15163353e+02,  2.15086351e+02, -3.10723858e+02],\n",
       "       [-2.15528855e+02,  2.14268338e+02, -3.11510069e+02],\n",
       "       [-5.88704457e+01,  5.92610385e+01, -8.63287264e+01],\n",
       "       [-2.15402511e+02,  2.14187043e+02, -3.11158248e+02],\n",
       "       [-2.15035998e+02,  2.14518398e+02, -3.11395462e+02],\n",
       "       [-9.04080091e+01,  9.11489132e+01, -1.32208566e+02],\n",
       "       [-2.14865772e+02,  2.14376338e+02, -3.10875673e+02],\n",
       "       [-2.16136604e+02,  2.14364856e+02, -3.10332160e+02],\n",
       "       [-8.74828403e+01,  8.83017366e+01, -1.26902782e+02],\n",
       "       [-3.43022983e+01,  3.55010164e+01, -5.06892620e+01],\n",
       "       [-3.54729006e+01,  3.66148014e+01, -5.23918090e+01],\n",
       "       [-9.52521432e+01,  9.56182165e+01, -1.41452206e+02],\n",
       "       [-5.54388340e+00,  6.95889109e+00, -1.23808608e+01],\n",
       "       [ 2.69400717e+00, -7.82858711e-01, -7.36641298e-01],\n",
       "       [-1.31263061e+02,  1.31635363e+02, -1.93392187e+02],\n",
       "       [-8.75714473e+01,  8.68367092e+01, -1.25794264e+02],\n",
       "       [-9.55531005e+01,  9.47237817e+01, -1.37176107e+02],\n",
       "       [-1.02772363e+02,  1.01788965e+02, -1.47558991e+02],\n",
       "       [-2.15740183e+01,  2.13794668e+01, -3.09641837e+01],\n",
       "       [-2.24675610e+00,  4.40331393e+00, -8.38531999e+00],\n",
       "       [-8.93483677e+00,  1.08347130e+01, -1.80604634e+01],\n",
       "       [-1.59076411e+01,  1.76445958e+01, -2.80196859e+01],\n",
       "       [-9.81510298e+01,  9.97224068e+01, -1.46545841e+02],\n",
       "       [-6.21561578e+01,  6.37390246e+01, -9.39805894e+01],\n",
       "       [-2.32326732e+00,  4.50467963e+00, -7.96833134e+00],\n",
       "       [-4.48994600e+00,  6.62234620e+00, -1.10443571e+01],\n",
       "       [-9.86183517e+01,  9.92057242e+01, -1.44372331e+02],\n",
       "       [-8.18754360e+01,  8.26322104e+01, -1.20212998e+02],\n",
       "       [ 2.02431156e+00, -4.46218596e-01,  4.29952660e-01],\n",
       "       [-1.24669901e+02,  1.24702464e+02, -1.82277714e+02],\n",
       "       [-1.14241041e+01,  1.26554253e+01, -1.94081451e+01],\n",
       "       [ 2.06128995e+00, -6.77789730e-01,  2.72817531e-02],\n",
       "       [-7.62919474e+01,  7.67542220e+01, -1.12805112e+02],\n",
       "       [-3.76360175e+01,  3.80585569e+01, -5.72956817e+01],\n",
       "       [ 2.15180774e+00, -9.86755843e-01,  1.46786558e-02],\n",
       "       [-2.15643788e+02,  2.15039193e+02, -3.11090634e+02],\n",
       "       [-8.62422546e+01,  8.67974528e+01, -1.24898377e+02],\n",
       "       [-8.01977826e+01,  8.07392410e+01, -1.16152097e+02],\n",
       "       [-7.03940550e+00,  9.39051470e+00, -1.46073481e+01],\n",
       "       [-4.32890095e+01,  4.49153487e+01, -6.62981412e+01],\n",
       "       [-2.87193868e+01,  3.05215047e+01, -4.53142601e+01],\n",
       "       [-1.08023410e+01,  1.30517118e+01, -2.00677685e+01],\n",
       "       [-2.16369145e+02,  2.13438499e+02, -3.10840158e+02],\n",
       "       [-8.45244035e+01,  8.28164684e+01, -1.21477464e+02],\n",
       "       [-2.16426254e+02,  2.13351713e+02, -3.10823502e+02],\n",
       "       [-1.01238230e+02,  9.92772090e+01, -1.45424123e+02],\n",
       "       [-2.86313447e+01,  2.79801718e+01, -4.30620935e+01],\n",
       "       [-2.51740920e+01,  2.47006353e+01, -3.83104774e+01],\n",
       "       [-8.59403421e+01,  8.47466603e+01, -1.25635440e+02],\n",
       "       [-2.86758372e+01,  2.81068023e+01, -4.33186667e+01],\n",
       "       [-7.94780073e+01,  7.80478079e+01, -1.14893500e+02],\n",
       "       [-3.62408908e+01,  3.53615520e+01, -5.27226380e+01],\n",
       "       [-1.06343620e+02,  1.04643670e+02, -1.53487577e+02],\n",
       "       [-1.06918702e+02,  1.07545850e+02, -1.57908018e+02],\n",
       "       [-4.37866205e+01,  4.50894327e+01, -6.71193612e+01],\n",
       "       [-4.76826560e+00,  6.43793744e+00, -1.10045216e+01],\n",
       "       [-2.14876905e+02,  2.13817267e+02, -3.11782011e+02],\n",
       "       [-4.89738160e+01,  4.96606835e+01, -7.33352905e+01],\n",
       "       [-2.14834357e+02,  2.13765990e+02, -3.11629776e+02],\n",
       "       [-2.14888607e+02,  2.15018531e+02, -3.11324081e+02],\n",
       "       [-5.46407051e+01,  5.64923596e+01, -8.10230323e+01],\n",
       "       [-2.14648633e+02,  2.14907887e+02, -3.10723917e+02],\n",
       "       [-2.16078456e+02,  2.14756468e+02, -3.10882122e+02],\n",
       "       [-2.15841767e+02,  2.14710604e+02, -3.10374828e+02],\n",
       "       [-2.15938035e+02,  2.14655163e+02, -3.10477764e+02],\n",
       "       [-8.03310658e+01,  7.96409860e+01, -1.16688393e+02],\n",
       "       [-2.73234954e+00,  2.74265072e+00, -5.18512046e+00],\n",
       "       [-4.31035290e+00,  4.30143549e+00, -7.43430586e+00],\n",
       "       [-2.15413433e+02,  2.14100748e+02, -3.11106556e+02],\n",
       "       [-1.21555281e+01,  1.29765558e+01, -1.89942852e+01],\n",
       "       [-2.15251972e+02,  2.14060641e+02, -3.10747905e+02],\n",
       "       [-2.16429848e+02,  2.13172832e+02, -3.11250586e+02],\n",
       "       [-2.16508278e+02,  2.13063586e+02, -3.11241963e+02],\n",
       "       [-2.16508278e+02,  2.13063586e+02, -3.11241963e+02],\n",
       "       [-1.34019613e+02,  1.31355204e+02, -1.92780665e+02],\n",
       "       [-2.16571457e+02,  2.12975583e+02, -3.11235017e+02],\n",
       "       [-2.16575814e+02,  2.12969514e+02, -3.11234538e+02],\n",
       "       [-1.10527246e+02,  1.07830619e+02, -1.58878426e+02],\n",
       "       [-2.16656885e+02,  2.14208443e+02, -3.10851961e+02],\n",
       "       [-2.31225920e+01,  2.24529165e+01, -3.28852606e+01],\n",
       "       [-2.42704787e+01,  2.34341670e+01, -3.44326849e+01],\n",
       "       [-2.16405128e+02,  2.13815275e+02, -3.10847066e+02],\n",
       "       [-2.16413842e+02,  2.13803137e+02, -3.10846108e+02],\n",
       "       [-9.58223561e+01,  9.43471650e+01, -1.37662291e+02],\n",
       "       [-2.16437807e+02,  2.13769756e+02, -3.10843473e+02],\n",
       "       [-2.16314728e+02,  2.13198893e+02, -3.11180262e+02],\n",
       "       [-1.13712821e+02,  1.11515599e+02, -1.63800819e+02],\n",
       "       [-2.16380086e+02,  2.13107855e+02, -3.11173076e+02],\n",
       "       [-2.16369193e+02,  2.13123028e+02, -3.11174274e+02],\n",
       "       [-9.79471215e+01,  9.58055645e+01, -1.41099199e+02],\n",
       "       [-2.16554375e+02,  2.12865087e+02, -3.11153914e+02],\n",
       "       [-2.16479956e+02,  2.13103036e+02, -3.11245077e+02],\n",
       "       [-4.83095064e+01,  4.63935408e+01, -6.96526621e+01],\n",
       "       [-6.08644541e+01,  5.88317854e+01, -8.76812138e+01],\n",
       "       [-2.16446495e+02,  2.13055047e+02, -3.11113539e+02],\n",
       "       [-2.15148376e+02,  2.13374736e+02, -3.11933007e+02],\n",
       "       [-9.54163768e+01,  9.47856989e+01, -1.39993597e+02],\n",
       "       [-7.41823958e+01,  7.38998230e+01, -1.09282744e+02],\n",
       "       [-2.16676493e+02,  2.14181132e+02, -3.10849805e+02],\n",
       "       [-4.45653689e+01,  4.36720901e+01, -6.36655846e+01],\n",
       "       [-2.16677655e+02,  2.14161416e+02, -3.10823735e+02],\n",
       "       [-2.16343050e+02,  2.13159444e+02, -3.11177148e+02],\n",
       "       [-2.16349586e+02,  2.13150340e+02, -3.11176430e+02],\n",
       "       [-2.16371372e+02,  2.13119994e+02, -3.11174035e+02],\n",
       "       [-2.16371372e+02,  2.13119994e+02, -3.11174035e+02],\n",
       "       [-1.09821538e+02,  1.10604505e+02, -1.61784885e+02],\n",
       "       [-4.94273459e+01,  5.07556345e+01, -7.50364379e+01],\n",
       "       [-1.30906046e+00,  3.32399845e+00, -5.77193019e+00],\n",
       "       [-2.15175252e+02,  2.13569561e+02, -3.11752043e+02],\n",
       "       [-1.12593776e+02,  1.12373839e+02, -1.64705079e+02],\n",
       "       [-1.15856408e+02,  1.15566126e+02, -1.69362067e+02],\n",
       "       [-2.15986811e+02,  2.13110066e+02, -3.11328092e+02],\n",
       "       [-2.15993347e+02,  2.13100963e+02, -3.11327373e+02],\n",
       "       [-3.73718027e+01,  3.61794321e+01, -5.48171678e+01],\n",
       "       [-2.16809388e+02,  2.13996021e+02, -3.10835194e+02],\n",
       "       [-2.16787602e+02,  2.14026367e+02, -3.10837590e+02],\n",
       "       [-2.16700457e+02,  2.14147751e+02, -3.10847171e+02],\n",
       "       [-2.16730958e+02,  2.14105267e+02, -3.10843817e+02],\n",
       "       [-3.02995178e+01,  3.11742775e+01, -4.73566338e+01],\n",
       "       [-5.53753899e+01,  5.65926672e+01, -8.37240620e+01],\n",
       "       [-4.13547181e-01,  1.91177523e+00, -4.90578049e+00],\n",
       "       [-1.02923403e+02,  1.00361015e+02, -1.47999028e+02],\n",
       "       [-7.37169225e+01,  7.13788802e+01, -1.06022157e+02],\n",
       "       [-7.25799288e+01,  7.03824568e+01, -1.04473535e+02],\n",
       "       [-2.16506130e+02,  2.12986458e+02, -3.11127737e+02],\n",
       "       [-2.16421692e+02,  2.12990890e+02, -3.10975547e+02],\n",
       "       [-2.16547493e+02,  2.13008963e+02, -3.11237651e+02],\n",
       "       [-4.18845726e+01,  4.03484518e+01, -6.10985068e+01],\n",
       "       [-9.97438762e+01,  9.75358264e+01, -1.44108943e+02],\n",
       "       [-7.05112520e+01,  6.85901066e+01, -1.02134947e+02],\n",
       "       [-2.74418716e+01,  2.58917827e+01, -4.02597837e+01],\n",
       "       [-5.73699204e+00,  6.96527354e+00, -1.20845767e+01],\n",
       "       [-1.66063566e+01,  1.76637352e+01, -2.76753567e+01],\n",
       "       [-3.88908646e+01,  3.97157771e+01, -6.00103706e+01],\n",
       "       [-2.16821997e+02,  2.12626604e+02, -3.11207471e+02],\n",
       "       [-8.51865429e+01,  8.22363241e+01, -1.22166869e+02],\n",
       "       [-2.16756639e+02,  2.12717642e+02, -3.11214657e+02],\n",
       "       [-2.16633887e+02,  2.12713909e+02, -3.10978474e+02],\n",
       "       [-2.15895561e+02,  2.12802249e+02, -3.10749254e+02],\n",
       "       [-8.55750563e+01,  8.35314684e+01, -1.23765209e+02],\n",
       "       [-6.13285986e+01,  5.95091717e+01, -8.89417004e+01],\n",
       "       [ 6.90753415e-01, -1.70336717e+00,  3.78528780e-01],\n",
       "       [-2.16299478e+02,  2.13220136e+02, -3.11181939e+02],\n",
       "       [-6.75753251e+01,  6.58664558e+01, -9.75768197e+01],\n",
       "       [-4.63599469e+01,  4.48465669e+01, -6.71062200e+01],\n",
       "       [-2.14452583e+02,  2.13567440e+02, -3.12448714e+02],\n",
       "       [-9.10574166e+01,  9.13083457e+01, -1.35221713e+02],\n",
       "       [-7.15697267e+01,  7.20101876e+01, -1.07238969e+02],\n",
       "       [-2.16785423e+02,  2.14029402e+02, -3.10837829e+02],\n",
       "       [-4.01647164e+01,  3.89651602e+01, -5.71201733e+01],\n",
       "       [-2.43554444e+01,  2.33158175e+01, -3.44233433e+01],\n",
       "       [-2.16601100e+02,  2.13927520e+02, -3.10347103e+02],\n",
       "       [-2.23899954e+01,  2.14553497e+01, -3.29353397e+01],\n",
       "       [-2.07225294e+01,  1.95580680e+01, -3.07051724e+01],\n",
       "       [-5.34204777e+00,  4.46874091e+00, -8.41366662e+00],\n",
       "       [-3.84574490e+01,  3.72816420e+01, -5.59660232e+01],\n",
       "       [-2.16621141e+02,  2.12798878e+02, -3.11507440e+02],\n",
       "       [-8.44723373e+01,  8.21462761e+01, -1.21539994e+02],\n",
       "       [-1.04029472e+02,  1.01293014e+02, -1.49828936e+02],\n",
       "       [-5.05525690e+01,  4.83219627e+01, -7.30311921e+01],\n",
       "       [-2.16417161e+02,  2.14300568e+02, -3.11073223e+02],\n",
       "       [-2.16417161e+02,  2.14300568e+02, -3.11073223e+02],\n",
       "       [-1.04146571e+02,  1.02863501e+02, -1.49694144e+02],\n",
       "       [-2.16732674e+02,  2.12751022e+02, -3.11217291e+02],\n",
       "       [-1.04565302e+02,  1.01686212e+02, -1.50161590e+02],\n",
       "       [-1.14809430e+02,  1.12186535e+02, -1.65102136e+02],\n",
       "       [-1.03927502e+02,  1.01542549e+02, -1.49562262e+02],\n",
       "       [-2.14409011e+02,  2.13628132e+02, -3.12453504e+02],\n",
       "       [ 2.42972722e+00, -9.25591927e-01, -7.87456115e-01],\n",
       "       [-3.27628109e+01,  3.38470746e+01, -5.14069733e+01],\n",
       "       [-3.99228608e+01,  4.07509521e+01, -6.18484226e+01],\n",
       "       [-2.16380086e+02,  2.13107855e+02, -3.11173076e+02],\n",
       "       [-2.16380086e+02,  2.13107855e+02, -3.11173076e+02],\n",
       "       [-8.10291779e+01,  7.91203486e+01, -1.16850633e+02],\n",
       "       [-1.31631713e+02,  1.31712453e+02, -1.93335330e+02],\n",
       "       [-1.12905568e+02,  1.13213003e+02, -1.66315945e+02],\n",
       "       [-8.90976825e+00,  1.00559845e+01, -1.70277972e+01],\n",
       "       [-2.16765816e+02,  2.14056713e+02, -3.10839985e+02],\n",
       "       [-2.16621417e+02,  2.14246988e+02, -3.10840295e+02],\n",
       "       [-2.16639456e+02,  2.14232720e+02, -3.10853877e+02],\n",
       "       [-2.16630742e+02,  2.14244859e+02, -3.10854836e+02],\n",
       "       [-2.66964012e+01,  2.79893560e+01, -4.31984211e+01],\n",
       "       [-6.33037891e+01,  6.44061280e+01, -9.56267012e+01],\n",
       "       [-1.93982420e+01,  2.06461891e+01, -3.26720269e+01]])"
      ]
     },
     "execution_count": 15,
     "metadata": {},
     "output_type": "execute_result"
    }
   ],
   "source": [
    "pca_features"
   ]
  },
  {
   "cell_type": "code",
   "execution_count": 16,
   "metadata": {},
   "outputs": [
    {
     "data": {
      "text/plain": [
       "[]"
      ]
     },
     "execution_count": 16,
     "metadata": {},
     "output_type": "execute_result"
    },
    {
     "data": {
      "image/png": "[encoded data removed]",
      "text/plain": [
       "<Figure size 576x432 with 1 Axes>"
      ]
     },
     "metadata": {},
     "output_type": "display_data"
    }
   ],
   "source": [
    "xs=pca_features[:,0]\n",
    "ys=pca_features[:,1]\n",
    "zs=pca_features[:,2]\n",
    "\n",
    "fig = plt.figure(1, figsize=(8, 6))\n",
    "ax = Axes3D(fig, elev=-150, azim=110)\n",
    "ax.scatter(pca_features[:, 0], pca_features[:, 1], pca_features[:, 2], c=y,\n",
    "           cmap=plt.cm.Set1, edgecolor='k', s=40)\n",
    "ax.set_title(\"First three PCA directions\")\n",
    "ax.set_xlabel(\"1st eigenvector\")\n",
    "ax.w_xaxis.set_ticklabels([])\n",
    "ax.set_ylabel(\"2nd eigenvector\")\n",
    "ax.w_yaxis.set_ticklabels([])\n",
    "ax.set_zlabel(\"3rd eigenvector\")\n",
    "ax.w_zaxis.set_ticklabels([])"
   ]
  },
  {
   "cell_type": "code",
   "execution_count": 25,
   "metadata": {},
   "outputs": [
    {
     "data": {
      "text/plain": [
       "Index(['AREA', 'POÇO', 'ID_INTERVALO', 'ATRIB_MED1', 'ATRIB_MAX1',\n",
       "       'ATRIB_DIST1', 'DIFP', 'MGP1', 'MGP2', 'MGP3', 'MGP4', 'MGP5', 'MGP6',\n",
       "       'MGP7', 'MGP8', 'MGP9', 'MGP10', 'MGP11', 'MGP12', 'MGP13', 'MGP14',\n",
       "       'Perda30', 'PerdaAPI', 'PerdaPS', 'PERDA_MAX'],\n",
       "      dtype='object')"
      ]
     },
     "execution_count": 25,
     "metadata": {},
     "output_type": "execute_result"
    }
   ],
   "source": [
    "df.columns"
   ]
  },
  {
   "cell_type": "code",
   "execution_count": 26,
   "metadata": {},
   "outputs": [],
   "source": [
    "X=df[['ATRIB_MED1', 'ATRIB_MAX1',\n",
    "       'ATRIB_DIST1', 'DIFP', 'MGP1', 'MGP2', 'MGP3', 'MGP4', 'MGP5', 'MGP6',\n",
    "       'MGP7', 'MGP8', 'MGP9', 'MGP10', 'MGP11', 'MGP12', 'MGP13', 'MGP14']]"
   ]
  },
  {
   "cell_type": "code",
   "execution_count": 27,
   "metadata": {},
   "outputs": [],
   "source": [
    "y = df['Perda30']"
   ]
  },
  {
   "cell_type": "code",
   "execution_count": 28,
   "metadata": {},
   "outputs": [],
   "source": [
    "X_train, X_test, y_train, y_test = train_test_split(X, y, test_size=.20, random_state=21)"
   ]
  },
  {
   "cell_type": "markdown",
   "metadata": {},
   "source": [
    "<br>\n",
    "## Neural Network"
   ]
  },
  {
   "cell_type": "code",
   "execution_count": 60,
   "metadata": {},
   "outputs": [],
   "source": [
    "steps = [('scaler', StandardScaler()),('pca',PCA(n_components=10)) ,(('neural', MLPClassifier(solver='adam', alpha=1e-5, hidden_layer_sizes=(50, 32), random_state=1)))]\n",
    "pipeline = Pipeline(steps)"
   ]
  },
  {
   "cell_type": "markdown",
   "metadata": {},
   "source": [
    "hidden_layer_sizes=(n1, n2,..., nx) <br>\n",
    "n1 = number of neurons in hidden layer_1 <br>\n",
    "nx = number of neurons in hidden layer_x <br>"
   ]
  },
  {
   "cell_type": "code",
   "execution_count": 61,
   "metadata": {},
   "outputs": [
    {
     "name": "stderr",
     "output_type": "stream",
     "text": [
      "C:\\Users\\giova\\AppData\\Local\\Continuum\\anaconda3\\lib\\site-packages\\sklearn\\neural_network\\multilayer_perceptron.py:564: ConvergenceWarning: Stochastic Optimizer: Maximum iterations (200) reached and the optimization hasn't converged yet.\n",
      "  % self.max_iter, ConvergenceWarning)\n"
     ]
    }
   ],
   "source": [
    "neural_scaled = pipeline.fit(X_train, y_train)"
   ]
  },
  {
   "cell_type": "code",
   "execution_count": 62,
   "metadata": {},
   "outputs": [],
   "source": [
    "y_pred = pipeline.predict(X_test) "
   ]
  },
  {
   "cell_type": "code",
   "execution_count": 63,
   "metadata": {},
   "outputs": [
    {
     "data": {
      "text/plain": [
       "0.7457627118644068"
      ]
     },
     "execution_count": 63,
     "metadata": {},
     "output_type": "execute_result"
    }
   ],
   "source": [
    "accuracy_score(y_test, y_pred)"
   ]
  },
  {
   "cell_type": "code",
   "execution_count": 64,
   "metadata": {},
   "outputs": [],
   "source": [
    "y_pred_prob = pipeline.predict_proba(X_test)[:,1]"
   ]
  },
  {
   "cell_type": "code",
   "execution_count": 65,
   "metadata": {},
   "outputs": [],
   "source": [
    "#for i in range(len(y_pred)):\n",
    "#    print(y_pred_prob[i],y_pred[i])"
   ]
  },
  {
   "cell_type": "code",
   "execution_count": 66,
   "metadata": {},
   "outputs": [
    {
     "data": {
      "image/png": "[encoded data removed]",
      "text/plain": [
       "<Figure size 432x288 with 1 Axes>"
      ]
     },
     "metadata": {},
     "output_type": "display_data"
    }
   ],
   "source": [
    "# Generate ROC curve values: fpr, tpr, thresholds\n",
    "fpr, tpr, thresholds = roc_curve(y_test, y_pred_prob)\n",
    "\n",
    "# Plot ROC curve\n",
    "plt.plot([0, 1], [0, 1], 'k--')\n",
    "plt.plot(fpr, tpr)\n",
    "plt.xlabel('False Positive Rate')\n",
    "plt.ylabel('True Positive Rate')\n",
    "plt.title('ROC Curve')\n",
    "plt.show()"
   ]
  },
  {
   "cell_type": "code",
   "execution_count": 67,
   "metadata": {},
   "outputs": [
    {
     "data": {
      "text/plain": [
       "0.8095823095823096"
      ]
     },
     "execution_count": 67,
     "metadata": {},
     "output_type": "execute_result"
    }
   ],
   "source": [
    "roc_auc_score(y_test, y_pred_prob)"
   ]
  },
  {
   "cell_type": "code",
   "execution_count": 68,
   "metadata": {},
   "outputs": [
    {
     "data": {
      "text/plain": [
       "array([[35,  2],\n",
       "       [13,  9]], dtype=int64)"
      ]
     },
     "execution_count": 68,
     "metadata": {},
     "output_type": "execute_result"
    }
   ],
   "source": [
    "confusion_matrix(y_test,y_pred)"
   ]
  },
  {
   "cell_type": "code",
   "execution_count": 69,
   "metadata": {},
   "outputs": [
    {
     "name": "stdout",
     "output_type": "stream",
     "text": [
      "             precision    recall  f1-score   support\n",
      "\n",
      "          0       0.73      0.95      0.82        37\n",
      "          1       0.82      0.41      0.55        22\n",
      "\n",
      "avg / total       0.76      0.75      0.72        59\n",
      "\n"
     ]
    }
   ],
   "source": [
    "print(classification_report(y_test, y_pred))"
   ]
  },
  {
   "cell_type": "code",
   "execution_count": 58,
   "metadata": {},
   "outputs": [
    {
     "name": "stderr",
     "output_type": "stream",
     "text": [
      "C:\\Users\\giova\\AppData\\Local\\Continuum\\anaconda3\\lib\\site-packages\\sklearn\\neural_network\\multilayer_perceptron.py:564: ConvergenceWarning: Stochastic Optimizer: Maximum iterations (200) reached and the optimization hasn't converged yet.\n",
      "  % self.max_iter, ConvergenceWarning)\n",
      "C:\\Users\\giova\\AppData\\Local\\Continuum\\anaconda3\\lib\\site-packages\\sklearn\\neural_network\\multilayer_perceptron.py:564: ConvergenceWarning: Stochastic Optimizer: Maximum iterations (200) reached and the optimization hasn't converged yet.\n",
      "  % self.max_iter, ConvergenceWarning)\n",
      "C:\\Users\\giova\\AppData\\Local\\Continuum\\anaconda3\\lib\\site-packages\\sklearn\\neural_network\\multilayer_perceptron.py:564: ConvergenceWarning: Stochastic Optimizer: Maximum iterations (200) reached and the optimization hasn't converged yet.\n",
      "  % self.max_iter, ConvergenceWarning)\n",
      "C:\\Users\\giova\\AppData\\Local\\Continuum\\anaconda3\\lib\\site-packages\\sklearn\\neural_network\\multilayer_perceptron.py:564: ConvergenceWarning: Stochastic Optimizer: Maximum iterations (200) reached and the optimization hasn't converged yet.\n",
      "  % self.max_iter, ConvergenceWarning)\n",
      "C:\\Users\\giova\\AppData\\Local\\Continuum\\anaconda3\\lib\\site-packages\\sklearn\\neural_network\\multilayer_perceptron.py:564: ConvergenceWarning: Stochastic Optimizer: Maximum iterations (200) reached and the optimization hasn't converged yet.\n",
      "  % self.max_iter, ConvergenceWarning)\n",
      "C:\\Users\\giova\\AppData\\Local\\Continuum\\anaconda3\\lib\\site-packages\\sklearn\\neural_network\\multilayer_perceptron.py:564: ConvergenceWarning: Stochastic Optimizer: Maximum iterations (200) reached and the optimization hasn't converged yet.\n",
      "  % self.max_iter, ConvergenceWarning)\n",
      "C:\\Users\\giova\\AppData\\Local\\Continuum\\anaconda3\\lib\\site-packages\\sklearn\\neural_network\\multilayer_perceptron.py:564: ConvergenceWarning: Stochastic Optimizer: Maximum iterations (200) reached and the optimization hasn't converged yet.\n",
      "  % self.max_iter, ConvergenceWarning)\n",
      "C:\\Users\\giova\\AppData\\Local\\Continuum\\anaconda3\\lib\\site-packages\\sklearn\\neural_network\\multilayer_perceptron.py:564: ConvergenceWarning: Stochastic Optimizer: Maximum iterations (200) reached and the optimization hasn't converged yet.\n",
      "  % self.max_iter, ConvergenceWarning)\n",
      "C:\\Users\\giova\\AppData\\Local\\Continuum\\anaconda3\\lib\\site-packages\\sklearn\\neural_network\\multilayer_perceptron.py:564: ConvergenceWarning: Stochastic Optimizer: Maximum iterations (200) reached and the optimization hasn't converged yet.\n",
      "  % self.max_iter, ConvergenceWarning)\n",
      "C:\\Users\\giova\\AppData\\Local\\Continuum\\anaconda3\\lib\\site-packages\\sklearn\\neural_network\\multilayer_perceptron.py:564: ConvergenceWarning: Stochastic Optimizer: Maximum iterations (200) reached and the optimization hasn't converged yet.\n",
      "  % self.max_iter, ConvergenceWarning)\n"
     ]
    }
   ],
   "source": [
    "cv_scores = cross_val_score(pipeline, X, y, cv=10)"
   ]
  },
  {
   "cell_type": "code",
   "execution_count": 59,
   "metadata": {},
   "outputs": [
    {
     "name": "stdout",
     "output_type": "stream",
     "text": [
      "[0.76666667 0.63333333 0.56666667 0.8        0.63333333 0.6\n",
      " 0.75862069 0.78571429 0.71428571 0.78571429]\n",
      "Average 5-Fold CV Score: 0.7044334975369458\n"
     ]
    }
   ],
   "source": [
    "print(cv_scores)\n",
    "\n",
    "print(\"Average 5-Fold CV Score: {}\".format(np.mean(cv_scores)))\n"
   ]
  },
  {
   "cell_type": "code",
   "execution_count": null,
   "metadata": {},
   "outputs": [],
   "source": []
  }
 ],
 "metadata": {
  "kernelspec": {
   "display_name": "Python 3",
   "language": "python",
   "name": "python3"
  },
  "language_info": {
   "codemirror_mode": {
    "name": "ipython",
    "version": 3
   },
   "file_extension": ".py",
   "mimetype": "text/x-python",
   "name": "python",
   "nbconvert_exporter": "python",
   "pygments_lexer": "ipython3",
   "version": "3.6.5"
  }
 },
 "nbformat": 4,
 "nbformat_minor": 2
}
